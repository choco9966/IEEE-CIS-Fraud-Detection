{
 "cells": [
  {
   "cell_type": "code",
   "execution_count": 1,
   "metadata": {
    "ExecuteTime": {
     "end_time": "2019-09-25T13:55:42.516317Z",
     "start_time": "2019-09-25T13:55:36.774076Z"
    }
   },
   "outputs": [],
   "source": [
    "import warnings\n",
    "warnings.filterwarnings('ignore')\n",
    "\n",
    "import os\n",
    "import numpy as np\n",
    "import pandas as pd\n",
    "import matplotlib.pyplot as plt\n",
    "import seaborn as sns\n",
    "from tqdm import tqdm, tqdm_notebook, tqdm_pandas\n",
    "tqdm.pandas(tqdm_notebook)\n",
    "\n",
    "from sklearn.model_selection import StratifiedKFold, train_test_split, GroupKFold\n",
    "import lightgbm as lgb\n",
    "from sklearn.metrics import roc_auc_score\n",
    "from sklearn import preprocessing"
   ]
  },
  {
   "cell_type": "code",
   "execution_count": 2,
   "metadata": {
    "ExecuteTime": {
     "end_time": "2019-09-25T13:56:15.782511Z",
     "start_time": "2019-09-25T13:55:42.518310Z"
    }
   },
   "outputs": [],
   "source": [
    "train_transaction = pd.read_csv('../input/train_transaction.csv')\n",
    "train_identity = pd.read_csv('../input/train_identity.csv')\n",
    "\n",
    "test_transaction = pd.read_csv('../input/test_transaction.csv')\n",
    "test_identity = pd.read_csv('../input/test_identity.csv')"
   ]
  },
  {
   "cell_type": "code",
   "execution_count": 3,
   "metadata": {
    "ExecuteTime": {
     "end_time": "2019-09-25T13:56:32.114047Z",
     "start_time": "2019-09-25T13:56:15.784503Z"
    }
   },
   "outputs": [],
   "source": [
    "train_transaction = train_transaction.merge(train_identity, on=['TransactionID'],how='left')\n",
    "test_transaction = test_transaction.merge(test_identity, on=['TransactionID'],how='left')"
   ]
  },
  {
   "cell_type": "code",
   "execution_count": 4,
   "metadata": {
    "ExecuteTime": {
     "end_time": "2019-09-25T13:56:40.094772Z",
     "start_time": "2019-09-25T13:56:32.116049Z"
    }
   },
   "outputs": [],
   "source": [
    "all_data = pd.concat([train_transaction,test_transaction])"
   ]
  },
  {
   "cell_type": "code",
   "execution_count": 5,
   "metadata": {
    "ExecuteTime": {
     "end_time": "2019-09-25T13:56:40.104775Z",
     "start_time": "2019-09-25T13:56:40.096774Z"
    }
   },
   "outputs": [],
   "source": [
    "id_feature = [ c for c in all_data.columns if c.find('id_') !=-1]\n",
    "v_feature = [ c for c in all_data.columns if c.find('V') !=-1]\n",
    "card_feature = [ c for c in all_data.columns if c.find('card') !=-1]\n",
    "C_feature = [ c for c in all_data.columns if c.find('C') !=-1 and c != 'ProductCD']\n",
    "D_feature = [ c for c in all_data.columns if c.find('D') !=-1 and c not in ['ProductCD','TransactionID','TransactionDT','DeviceType','DeviceInfo']]\n",
    "M_feature = [ c for c in all_data.columns if c.find('M') !=-1]"
   ]
  },
  {
   "cell_type": "code",
   "execution_count": 6,
   "metadata": {
    "ExecuteTime": {
     "end_time": "2019-09-25T13:56:42.422285Z",
     "start_time": "2019-09-25T13:56:40.106775Z"
    }
   },
   "outputs": [],
   "source": [
    "# 청구자와 수납자의 mail domain이 같은지?\n",
    "all_data['email_check'] = np.where(all_data['P_emaildomain']==all_data['R_emaildomain'],1,0)\n",
    "# 모두 null인지\n",
    "all_data['email_check_nan_all'] = np.where((all_data['P_emaildomain'].isna())&(all_data['R_emaildomain'].isna()),1,0)\n",
    "# 하나만 null인지\n",
    "all_data['email_check_nan_any'] = np.where((all_data['P_emaildomain'].isna())|(all_data['R_emaildomain'].isna()),1,0)\n",
    "\n",
    "# 제공안된 email fillna\n",
    "all_data['P_emaildomain'] = all_data['P_emaildomain'].fillna('email_not_provided')\n",
    "all_data['R_emaildomain'] = all_data['R_emaildomain'].fillna('email_not_provided')\n",
    "\n",
    "all_data['P_emaildomain_Country'] = all_data['P_emaildomain'].apply(lambda x: x.split('.')[-1])\n",
    "all_data['P_emaildomain_Country'] = all_data['P_emaildomain_Country'].apply(lambda x: np.nan if x in ['email_not_provided', 'com', 'net', 'gmail', 'edu'] else x)\n",
    "all_data['R_emaildomain_Country'] = all_data['R_emaildomain'].apply(lambda x: x.split('.')[-1])\n",
    "all_data['R_emaildomain_Country'] = all_data['R_emaildomain_Country'].apply(lambda x: np.nan if x in ['email_not_provided', 'com', 'net', 'gmail', 'edu'] else x)\n",
    "\n",
    "all_data['P_emaildomain_prefix'] = all_data['P_emaildomain'].apply(lambda x: x.split('.')[0]) \n",
    "all_data['R_emaildomain_prefix'] = all_data['R_emaildomain'].apply(lambda x: x.split('.')[0])"
   ]
  },
  {
   "cell_type": "code",
   "execution_count": 7,
   "metadata": {
    "ExecuteTime": {
     "end_time": "2019-09-25T13:56:54.045789Z",
     "start_time": "2019-09-25T13:56:42.424278Z"
    }
   },
   "outputs": [],
   "source": [
    "M_feature_col = M_feature.copy()\n",
    "M_feature_col.remove('M4')\n",
    "\n",
    "all_data['M_not_null'] = all_data[M_feature_col].notnull().sum(axis=1)\n",
    "\n",
    "for m in M_feature_col:\n",
    "    all_data[m] = all_data[m].map({'T':1,'F':0})\n",
    "    \n",
    "all_data['M_sum'] = all_data[M_feature_col].sum(axis=1)\n",
    "all_data['collect_agree_ratio'] = all_data['M_sum'] / all_data['M_not_null']"
   ]
  },
  {
   "cell_type": "code",
   "execution_count": 8,
   "metadata": {
    "ExecuteTime": {
     "end_time": "2019-09-25T13:57:00.592212Z",
     "start_time": "2019-09-25T13:56:54.048790Z"
    }
   },
   "outputs": [
    {
     "name": "stdout",
     "output_type": "stream",
     "text": [
      "sm\n",
      "samsung\n",
      "huawei\n",
      "moto\n",
      "rv\n",
      "trident\n",
      "lg\n",
      "htc\n",
      "blade\n",
      "windows\n",
      "lenovo\n",
      "linux\n",
      "f3\n",
      "f5\n",
      "ios\n",
      "mac\n"
     ]
    }
   ],
   "source": [
    "all_data['DeviceInfo'] = all_data['DeviceInfo'].fillna('unknown_device').str.lower()\n",
    "\n",
    "all_data['DeviceInfo_c'] = all_data['DeviceInfo']\n",
    "\n",
    "device_match_dict = {\n",
    "    'sm':'samsung',\n",
    "    'samsung':'samsung',\n",
    "    'huawei':'huawei',\n",
    "    'moto':'moto',\n",
    "    'rv':'rv:',\n",
    "    'trident':'trident',\n",
    "    'lg':'lg',\n",
    "    'htc':'htc',\n",
    "    'blade':'blade',\n",
    "    'windows':'windows',\n",
    "    'lenovo':'lenovo',\n",
    "    'linux':'linux',\n",
    "    'f3':'f3',\n",
    "    'f5':'f5',\n",
    "    'ios':'apple',\n",
    "    'mac':'apple'\n",
    "}\n",
    "for dev_type_key, dev_type_value in device_match_dict.items():\n",
    "    print(dev_type_key)\n",
    "    all_data['DeviceInfo_c'] = all_data['DeviceInfo_c'].apply(lambda x: dev_type_value if x.find(dev_type_key)!=-1  else x)\n",
    "\n",
    "all_data['DeviceInfo_c'] = all_data['DeviceInfo_c'].apply(lambda x: 'other_d_type' if x not in device_match_dict.values() else x)"
   ]
  },
  {
   "cell_type": "code",
   "execution_count": 9,
   "metadata": {
    "ExecuteTime": {
     "end_time": "2019-09-25T13:57:07.784768Z",
     "start_time": "2019-09-25T13:57:00.594205Z"
    }
   },
   "outputs": [],
   "source": [
    "all_data['id_30'] = all_data['id_30'].fillna('unknown').str.lower()\n",
    "id_30_c_dict={'win':'windows','mac':'mac','ios':'ios','and':'android','linux':'linux'}\n",
    "all_data['id_30_c'] = all_data['id_30'] \n",
    "for k, v in id_30_c_dict.items():\n",
    "    all_data['id_30_c'] = all_data['id_30_c'].apply(lambda x: v if x.find(k)!=-1 else x)\n",
    "\n",
    "all_data['id_30_v'] = all_data['id_30'].apply(lambda x: ''.join([i for i in x if i.isdigit()]))\n",
    "all_data.loc[all_data['id_30']=='unknown','id_30_c'] = np.nan"
   ]
  },
  {
   "cell_type": "code",
   "execution_count": 10,
   "metadata": {
    "ExecuteTime": {
     "end_time": "2019-09-25T13:57:13.792066Z",
     "start_time": "2019-09-25T13:57:07.786768Z"
    }
   },
   "outputs": [],
   "source": [
    "all_data['id_31'] = all_data['id_31'].fillna('unknown').str.lower()\n",
    "all_data['id_31_c'] = all_data['id_31']\n",
    "br_list = ['safari','ie','chrome','edge','firefox','samsung','opera','google','android']\n",
    "for b in br_list:\n",
    "    all_data['id_31_c'] = all_data['id_31_c'].apply(lambda x: b if x.find(b)!=-1 else x)\n",
    "\n",
    "all_data.loc[all_data['id_31']=='unknown','id_31_c'] = np.nan\n",
    "all_data.loc[(~all_data['id_31_c'].isin(br_list+['other']))&(all_data['id_31_c'].notnull()),'id_31_c'] = 'other'\n",
    "all_data['is_mobile_browser'] = all_data['id_31'].apply(lambda x: 1 if x.find('mobile')!=-1 else 0)\n",
    "all_data['id_31_v'] = all_data['id_31'].apply(lambda x: ''.join([i for i in x if i.isdigit()]))"
   ]
  },
  {
   "cell_type": "code",
   "execution_count": 11,
   "metadata": {
    "ExecuteTime": {
     "end_time": "2019-09-25T13:57:15.096339Z",
     "start_time": "2019-09-25T13:57:13.793066Z"
    }
   },
   "outputs": [],
   "source": [
    "START_DATE = '2017-11-30'\n",
    "import datetime\n",
    "startdate = datetime.datetime.strptime(START_DATE, '%Y-%m-%d')\n",
    "all_data['TransactionDT'] = all_data['TransactionDT'].apply(lambda x: (startdate + datetime.timedelta(seconds = x)))\n",
    "\n",
    "all_data['dow'] = all_data['TransactionDT'].dt.dayofweek\n",
    "all_data['day'] = all_data['TransactionDT'].dt.day\n",
    "all_data['Transaction_hour'] = all_data['TransactionDT'].dt.hour"
   ]
  },
  {
   "cell_type": "code",
   "execution_count": 12,
   "metadata": {
    "ExecuteTime": {
     "end_time": "2019-09-25T13:57:27.295977Z",
     "start_time": "2019-09-25T13:57:15.098339Z"
    }
   },
   "outputs": [
    {
     "data": {
      "application/vnd.jupyter.widget-view+json": {
       "model_id": "f16db30bdc6446538f76d1f34408d73e",
       "version_major": 2,
       "version_minor": 0
      },
      "text/plain": [
       "HBox(children=(IntProgress(value=0, max=64), HTML(value='')))"
      ]
     },
     "metadata": {},
     "output_type": "display_data"
    },
    {
     "name": "stdout",
     "output_type": "stream",
     "text": [
      "\n"
     ]
    }
   ],
   "source": [
    "# encoding 해도 좋은 feature, category수가 많고, 개수에 따라 분포가 변함\n",
    "category_encoding = ['card1','card2','card3','card5',\n",
    "          'C1','C2','C3','C4','C5','C6','C7','C8','C9','C10','C11','C12','C13','C14',\n",
    "          'D1','D2','D3','D4','D5','D6','D7','D8','D9',\n",
    "          'addr1','addr2',\n",
    "          'dist1','dist2',\n",
    "          'P_emaildomain', 'R_emaildomain',\n",
    "          'id_01','id_02','id_03','id_04','id_05','id_06','id_07','id_08','id_09','id_10',\n",
    "          'id_11','id_13','id_14','id_17','id_18','id_19','id_20','id_21','id_22','id_24',\n",
    "          'id_25','id_26','id_30','id_31','id_32','id_33',\n",
    "          'DeviceInfo','DeviceInfo_c','id_30_c','id_30_v','id_31_v',\n",
    "         ]\n",
    "for col in tqdm_notebook(category_encoding):\n",
    "    fq_encode = all_data[col].value_counts().to_dict()   \n",
    "    all_data[col+'_fq_enc'] = all_data[col].map(fq_encode)"
   ]
  },
  {
   "cell_type": "code",
   "execution_count": 13,
   "metadata": {
    "ExecuteTime": {
     "end_time": "2019-09-25T13:57:27.302978Z",
     "start_time": "2019-09-25T13:57:27.296977Z"
    }
   },
   "outputs": [],
   "source": [
    "def fast_groupby(data, col1, col2, agg_type):\n",
    "    new_col_name = f'{col1}_{col2}_{agg_type}'\n",
    "    temp = data.groupby([col1])[col2].agg([agg_type]).reset_index().rename(columns={agg_type:new_col_name})\n",
    "    temp.index = list(temp[col1])\n",
    "    temp = temp[new_col_name].to_dict()\n",
    "    data[new_col_name] = data[col1].map(temp)\n",
    "    return data"
   ]
  },
  {
   "cell_type": "code",
   "execution_count": 14,
   "metadata": {
    "ExecuteTime": {
     "end_time": "2019-09-25T13:58:28.075632Z",
     "start_time": "2019-09-25T13:57:27.304979Z"
    }
   },
   "outputs": [
    {
     "data": {
      "application/vnd.jupyter.widget-view+json": {
       "model_id": "50d5a12ccc4a4399af72ce553ca6f4ec",
       "version_major": 2,
       "version_minor": 0
      },
      "text/plain": [
       "HBox(children=(IntProgress(value=0, max=7), HTML(value='')))"
      ]
     },
     "metadata": {},
     "output_type": "display_data"
    },
    {
     "name": "stdout",
     "output_type": "stream",
     "text": [
      "\n"
     ]
    }
   ],
   "source": [
    "########################### TransactionAmt\n",
    "\n",
    "# Let's add some kind of client uID based on cardID ad addr columns\n",
    "# The value will be very specific for each client so we need to remove it\n",
    "# from final feature. But we can use it for aggregations.\n",
    "all_data['uid'] = all_data['card1'].astype(str)+'_'+all_data['card2'].astype(str)\n",
    "all_data['uid2'] = all_data['uid'].astype(str)+'_'+all_data['card3'].astype(str)+'_'+all_data['card4'].astype(str)\n",
    "all_data['uid3'] = all_data['uid2'].astype(str)+'_'+all_data['addr1'].astype(str)+'_'+all_data['addr2'].astype(str)\n",
    "\n",
    "# For our model current TransactionAmt is a noise\n",
    "# https://www.kaggle.com/kyakovlev/ieee-check-noise\n",
    "# (even if features importances are telling contrariwise)\n",
    "# There are many unique values and model doesn't generalize well\n",
    "# Lets do some aggregations\n",
    "i_cols = ['card1','card2','card3','card5','uid','uid2','uid3']\n",
    "\n",
    "for col in tqdm_notebook(i_cols):\n",
    "    for agg_type in ['mean','std']:\n",
    "        all_data = fast_groupby(all_data, col, 'TransactionAmt', agg_type )"
   ]
  },
  {
   "cell_type": "code",
   "execution_count": 15,
   "metadata": {
    "ExecuteTime": {
     "end_time": "2019-09-25T13:58:28.264683Z",
     "start_time": "2019-09-25T13:58:28.077633Z"
    },
    "scrolled": true
   },
   "outputs": [],
   "source": [
    "all_data['ymd'] = all_data['TransactionDT'].dt.year*10000+all_data['TransactionDT'].dt.month*100 + all_data['TransactionDT'].dt.day"
   ]
  },
  {
   "cell_type": "code",
   "execution_count": 16,
   "metadata": {
    "ExecuteTime": {
     "end_time": "2019-09-25T13:58:32.309548Z",
     "start_time": "2019-09-25T13:58:28.266676Z"
    },
    "scrolled": true
   },
   "outputs": [],
   "source": [
    "all_data = fast_groupby(all_data,'ymd','TransactionDT','count')\n",
    "all_data = fast_groupby(all_data,'ymd','TransactionAmt','sum')"
   ]
  },
  {
   "cell_type": "code",
   "execution_count": 17,
   "metadata": {
    "ExecuteTime": {
     "end_time": "2019-09-25T13:59:37.825417Z",
     "start_time": "2019-09-25T13:58:32.311548Z"
    },
    "scrolled": false
   },
   "outputs": [],
   "source": [
    "uid3_product_cd_agg = all_data.groupby(['uid3','ProductCD'])['dow'].agg({'uid2_dayofweek_mean':'mean','uid2_dayofweek_std':'std'}).reset_index()\n",
    "all_data = all_data.merge(uid3_product_cd_agg, how='left', on = ['uid3','ProductCD'])"
   ]
  },
  {
   "cell_type": "code",
   "execution_count": 18,
   "metadata": {
    "ExecuteTime": {
     "end_time": "2019-09-25T13:59:38.860639Z",
     "start_time": "2019-09-25T13:59:37.827407Z"
    }
   },
   "outputs": [],
   "source": [
    "all_data['TransactionAmt_decimal_count'] = ((all_data['TransactionAmt'] - all_data['TransactionAmt'].astype(int))).astype(str).apply(lambda x: len(x.split('.')[1]))\n",
    "all_data['TransactionAmt_decimal'] = ((all_data['TransactionAmt'] - all_data['TransactionAmt'].astype(int)) * 1000).astype(int)"
   ]
  },
  {
   "cell_type": "code",
   "execution_count": 19,
   "metadata": {
    "ExecuteTime": {
     "end_time": "2019-09-25T14:00:43.466580Z",
     "start_time": "2019-09-25T13:59:38.862631Z"
    },
    "scrolled": true
   },
   "outputs": [],
   "source": [
    "def account_start_date(val):\n",
    "    if np.isnan(val) :\n",
    "        return np.NaN\n",
    "    else:\n",
    "        days=  int( str(val).split('.')[0])\n",
    "        return pd.Timedelta( str(days) +' days')\n",
    "    \n",
    "for i in ['D1', 'D2',  'D4', 'D8','D10', 'D15']:\n",
    "    all_data['account_start_day'] = all_data[i].apply(account_start_date)\n",
    "\n",
    "    # account_make_date 컴퓨터가 인식할 수 있도록 수치형으로 바꿔 줌. \n",
    "    all_data['account_make_date'] = (all_data['TransactionDT'] - all_data['account_start_day']).dt.date\n",
    "    all_data['account_make_date_{}'.format(i)] = (10000 * pd.to_datetime(all_data['account_make_date']).dt.year) + (100 * pd.to_datetime(all_data['account_make_date']).dt.month) + (1 * pd.to_datetime(all_data['account_make_date']).dt.day)\n",
    "\n",
    "del all_data['account_make_date']\n",
    "del all_data['account_start_day']"
   ]
  },
  {
   "cell_type": "code",
   "execution_count": 20,
   "metadata": {
    "ExecuteTime": {
     "end_time": "2019-09-25T14:01:57.032468Z",
     "start_time": "2019-09-25T14:00:43.468580Z"
    }
   },
   "outputs": [],
   "source": [
    "card1_d1_pcd_mean = all_data.groupby(['card1','account_make_date_D1','ProductCD'])['TransactionAmt'].agg({'card1_make_date_D1_productCD_Amt_mean':'mean','card1_make_date_D1_productCD_Amt_std':'std'}).reset_index()\n",
    "all_data = all_data.merge(card1_d1_pcd_mean, how='left', on = ['card1','account_make_date_D1','ProductCD'])"
   ]
  },
  {
   "cell_type": "code",
   "execution_count": 21,
   "metadata": {
    "ExecuteTime": {
     "end_time": "2019-09-25T14:01:57.362549Z",
     "start_time": "2019-09-25T14:01:57.034469Z"
    }
   },
   "outputs": [],
   "source": [
    "from sklearn.decomposition import LatentDirichletAllocation as LDA\n",
    "from sklearn.feature_extraction.text import CountVectorizer\n",
    "import gc\n",
    "\n",
    "def add_lda_feature(all_data, col1, col2):\n",
    "    n_comp = 5\n",
    "    print(\"add_lda_feature\", col1, col2, n_comp)\n",
    "    temp = all_data[[col1,col2]]\n",
    "    col1col2_dict = {}\n",
    "    def col1col2(row):\n",
    "        nonlocal col1, col2\n",
    "        if np.isnan(row[col1]):\n",
    "            return\n",
    "        if np.isnan(row[col2]):\n",
    "            return\n",
    "        col1col2_dict.setdefault(row[col1], []).append(str(row[col2]))\n",
    "    \n",
    "    temp.apply(lambda row:col1col2(row) , axis=1)\n",
    "    \n",
    "    col1_keys = list(col1col2_dict.keys())\n",
    "    col1col2_dict_as_sentence = [' '.join(col1col2_dict[c]) for c in col1_keys]\n",
    "    \n",
    "    _as_matrix = CountVectorizer().fit_transform(col1col2_dict_as_sentence)\n",
    "    \n",
    "    topics_of_col1 = LDA(n_components=n_comp, n_jobs=-1,random_state=0).fit_transform(_as_matrix)\n",
    "    \n",
    "    col1_frame = pd.DataFrame(col1col2_dict.keys(),columns=[col1])\n",
    "    topics_of_col1 = pd.DataFrame(topics_of_col1, columns=[f'{col1}_{col2}_LDA_{i}' for i in range(n_comp)])\n",
    "    col1_frame = pd.concat([col1_frame, topics_of_col1], axis=1)\n",
    "    \n",
    "    col1_frame.index = list(col1_frame[col1])\n",
    "    new_col_name=[f'{col1}_{col2}_LDA_{i}' for i in range(n_comp)]\n",
    "    for c in new_col_name:\n",
    "        print(c)\n",
    "        temp_df = col1_frame[c].to_dict()  \n",
    "        all_data[c] = all_data[col1].map(temp_df)\n",
    "    \n",
    "    #all_data = all_data.merge(col1_frame, on=[col1], how='left')\n",
    "    del col1col2_dict\n",
    "    del topics_of_col1\n",
    "    del _as_matrix\n",
    "    del col1_frame\n",
    "    #del topics_of_col1\n",
    "    gc.collect()\n",
    "    return all_data, new_col_name"
   ]
  },
  {
   "cell_type": "code",
   "execution_count": 22,
   "metadata": {
    "ExecuteTime": {
     "end_time": "2019-09-25T14:01:57.375542Z",
     "start_time": "2019-09-25T14:01:57.364552Z"
    }
   },
   "outputs": [],
   "source": [
    "from sklearn.decomposition import NMF\n",
    "\n",
    "def add_nmf_feature(all_data, col1, col2):\n",
    "    n_comp = 5\n",
    "    print(\"add_nmf_feature\", col1, col2, n_comp)\n",
    "    temp = all_data[[col1,col2]]\n",
    "    col1col2_dict = {}\n",
    "    def col1col2(row):\n",
    "        nonlocal col1, col2\n",
    "        if pd.isna(row[col1]):\n",
    "            return\n",
    "        if pd.isna(row[col2]):\n",
    "            return\n",
    "        col1col2_dict.setdefault(row[col1], []).append(str(row[col2]))\n",
    "    \n",
    "    temp.apply(lambda row:col1col2(row) , axis=1)\n",
    "    \n",
    "    col1_keys = list(col1col2_dict.keys())\n",
    "    col1col2_dict_as_sentence = [' '.join(col1col2_dict[c]) for c in col1_keys]\n",
    "    \n",
    "    _as_matrix = CountVectorizer().fit_transform(col1col2_dict_as_sentence)\n",
    "    \n",
    "    topics_of_col1 = LDA(n_components=n_comp, n_jobs=-1,random_state=0).fit_transform(_as_matrix)\n",
    "    \n",
    "    col1_frame = pd.DataFrame(col1col2_dict.keys(),columns=[col1])\n",
    "    topics_of_col1 = pd.DataFrame(topics_of_col1, columns=[f'{col1}_{col2}_NMF_{i}' for i in range(n_comp)])\n",
    "    col1_frame = pd.concat([col1_frame, topics_of_col1], axis=1)\n",
    "    \n",
    "    col1_frame.index = list(col1_frame[col1])\n",
    "    new_col_name=[f'{col1}_{col2}_NMF_{i}' for i in range(n_comp)]\n",
    "    for c in new_col_name:\n",
    "        print(c)\n",
    "        temp_df = col1_frame[c].to_dict()  \n",
    "        all_data[c] = all_data[col1].map(temp_df)\n",
    "    \n",
    "    #all_data = all_data.merge(col1_frame, on=[col1], how='left')\n",
    "    del col1col2_dict\n",
    "    del topics_of_col1\n",
    "    del _as_matrix\n",
    "    del col1_frame\n",
    "    #del topics_of_col1\n",
    "    gc.collect()\n",
    "    return all_data, new_col_name"
   ]
  },
  {
   "cell_type": "markdown",
   "metadata": {},
   "source": [
    "(0.9404788466588169, 0.9353552350432497, 0.9117537267548267, 0.9589567433316727)"
   ]
  },
  {
   "cell_type": "code",
   "execution_count": 23,
   "metadata": {
    "ExecuteTime": {
     "end_time": "2019-09-25T14:03:41.255883Z",
     "start_time": "2019-09-25T14:01:57.379551Z"
    },
    "scrolled": true
   },
   "outputs": [
    {
     "name": "stdout",
     "output_type": "stream",
     "text": [
      "add_lda_feature card1 addr1 5\n",
      "card1_addr1_LDA_0\n",
      "card1_addr1_LDA_1\n",
      "card1_addr1_LDA_2\n",
      "card1_addr1_LDA_3\n",
      "card1_addr1_LDA_4\n",
      "add_lda_feature card1 id_20 5\n",
      "card1_id_20_LDA_0\n",
      "card1_id_20_LDA_1\n",
      "card1_id_20_LDA_2\n",
      "card1_id_20_LDA_3\n",
      "card1_id_20_LDA_4\n"
     ]
    }
   ],
   "source": [
    "all_data,_ = add_lda_feature(all_data, 'card1','addr1')\n",
    "all_data,_ = add_lda_feature(all_data, 'card1','id_20')"
   ]
  },
  {
   "cell_type": "code",
   "execution_count": 24,
   "metadata": {
    "ExecuteTime": {
     "end_time": "2019-09-25T14:04:24.659506Z",
     "start_time": "2019-09-25T14:03:41.258883Z"
    },
    "scrolled": true
   },
   "outputs": [
    {
     "name": "stdout",
     "output_type": "stream",
     "text": [
      "add_nmf_feature card4 DeviceInfo_c 5\n",
      "card4_DeviceInfo_c_NMF_0\n",
      "card4_DeviceInfo_c_NMF_1\n",
      "card4_DeviceInfo_c_NMF_2\n",
      "card4_DeviceInfo_c_NMF_3\n",
      "card4_DeviceInfo_c_NMF_4\n"
     ]
    }
   ],
   "source": [
    "all_data,_ = add_nmf_feature(all_data, 'card4','DeviceInfo_c')"
   ]
  },
  {
   "cell_type": "code",
   "execution_count": 25,
   "metadata": {
    "ExecuteTime": {
     "end_time": "2019-09-25T14:04:24.670508Z",
     "start_time": "2019-09-25T14:04:24.661506Z"
    }
   },
   "outputs": [],
   "source": [
    "def category_combine_feature(all_data, c1, c2):\n",
    "    new_col_list = []\n",
    "    new_col = f'{c1}_{c2}_combine'\n",
    "    all_data[new_col] = all_data[c1].astype(str) + '_' + all_data[c2].astype(str)\n",
    "    all_data[new_col] = pd.factorize(all_data[new_col], sort=True)[0]\n",
    "    \n",
    "    new_col_freq = new_col + '_fq_enc_combine'\n",
    "    fq_encode = all_data[new_col].value_counts().to_dict()   \n",
    "    all_data[new_col_freq] = all_data[new_col].map(fq_encode)\n",
    "    \n",
    "    new_col_list.append(new_col)\n",
    "    new_col_list.append(new_col_freq)\n",
    "    \n",
    "    if new_col not in ['card1_card2_combine']: \n",
    "        for agg_type in ['mean','std']:\n",
    "            new_col_name = new_col+'_TransactionAmt_'+agg_type\n",
    "            #temp_df['TransactionAmt'] = temp_df['TransactionAmt'].astype(int)\n",
    "            temp_df = all_data.groupby([new_col])['TransactionAmt'].agg([agg_type]).reset_index().rename(\n",
    "                                                    columns={agg_type: new_col_name})\n",
    "\n",
    "            temp_df.index = list(temp_df[new_col])\n",
    "            temp_df = temp_df[new_col_name].to_dict()   \n",
    "\n",
    "            all_data[new_col_name] = all_data[new_col].map(temp_df)\n",
    "            new_col_list.append(new_col_name)\n",
    "    \n",
    "    print(new_col_list)\n",
    "    return all_data, new_col_list"
   ]
  },
  {
   "cell_type": "markdown",
   "metadata": {},
   "source": [
    "(0.9765178882384341, 0.9750723088222574, 0.9691847487013969, 0.9809598689431178)"
   ]
  },
  {
   "cell_type": "code",
   "execution_count": 26,
   "metadata": {
    "ExecuteTime": {
     "end_time": "2019-09-25T14:05:01.611410Z",
     "start_time": "2019-09-25T14:04:24.672509Z"
    },
    "scrolled": true
   },
   "outputs": [
    {
     "name": "stdout",
     "output_type": "stream",
     "text": [
      "addr1_id_32_combine\n",
      "['addr1_id_32_combine', 'addr1_id_32_combine_fq_enc_combine', 'addr1_id_32_combine_TransactionAmt_mean', 'addr1_id_32_combine_TransactionAmt_std']\n",
      "addr1_id_14_combine\n",
      "['addr1_id_14_combine', 'addr1_id_14_combine_fq_enc_combine', 'addr1_id_14_combine_TransactionAmt_mean', 'addr1_id_14_combine_TransactionAmt_std']\n",
      "addr1_id_19_combine\n",
      "['addr1_id_19_combine', 'addr1_id_19_combine_fq_enc_combine', 'addr1_id_19_combine_TransactionAmt_mean', 'addr1_id_19_combine_TransactionAmt_std']\n",
      "card1_card2_combine\n",
      "['card1_card2_combine', 'card1_card2_combine_fq_enc_combine']\n",
      "card1_addr1_combine\n",
      "['card1_addr1_combine', 'card1_addr1_combine_fq_enc_combine', 'card1_addr1_combine_TransactionAmt_mean', 'card1_addr1_combine_TransactionAmt_std']\n"
     ]
    }
   ],
   "source": [
    "for a in ['addr1']:\n",
    "    for i in ['id_32','id_14','id_19']:\n",
    "        new_col = f'{a}_{i}_combine'\n",
    "        if new_col in all_data.columns:\n",
    "            continue\n",
    "        print(new_col)\n",
    "        all_data, new_col_list = category_combine_feature(all_data,a,i)\n",
    "for c in ['card1']:\n",
    "    for i in ['card2','addr1']:\n",
    "        new_col = f'{c}_{i}_combine'\n",
    "        if new_col in all_data.columns:\n",
    "            continue\n",
    "        print(new_col)\n",
    "        all_data, new_col_list = category_combine_feature(all_data,c,i)\n",
    "        \n",
    "#all_data, new_col_list = category_combine_feature(all_data,'id_17','id_33')"
   ]
  },
  {
   "cell_type": "code",
   "execution_count": 27,
   "metadata": {
    "ExecuteTime": {
     "end_time": "2019-09-25T14:05:05.497250Z",
     "start_time": "2019-09-25T14:05:01.613410Z"
    }
   },
   "outputs": [],
   "source": [
    "all_data_temp = pd.concat([train_transaction,test_transaction])"
   ]
  },
  {
   "cell_type": "code",
   "execution_count": 28,
   "metadata": {
    "ExecuteTime": {
     "end_time": "2019-09-25T14:05:17.390866Z",
     "start_time": "2019-09-25T14:05:05.499250Z"
    }
   },
   "outputs": [],
   "source": [
    "all_data_temp['uid'] = all_data_temp['card1'].astype(str)+'_'+all_data_temp['card2'].astype(str)\n",
    "all_data_temp['uid2'] = all_data_temp['uid'].astype(str)+'_'+all_data_temp['card3'].astype(str)+'_'+all_data_temp['card4'].astype(str)\n",
    "all_data_temp['uid3'] = all_data_temp['uid2'].astype(str)+'_'+all_data_temp['addr1'].astype(str)+'_'+all_data_temp['addr2'].astype(str)\n",
    "all_data_temp['uid3_next_click'] = all_data_temp['TransactionDT'] - all_data_temp.groupby(['uid3'])['TransactionDT'].shift(-1)\n",
    "all_data_temp = all_data_temp.reset_index(drop=True)"
   ]
  },
  {
   "cell_type": "code",
   "execution_count": 29,
   "metadata": {
    "ExecuteTime": {
     "end_time": "2019-09-25T14:05:17.404873Z",
     "start_time": "2019-09-25T14:05:17.391865Z"
    },
    "scrolled": true
   },
   "outputs": [],
   "source": [
    "all_data['uid3_next_click'] = all_data_temp['uid3_next_click']"
   ]
  },
  {
   "cell_type": "code",
   "execution_count": 30,
   "metadata": {
    "ExecuteTime": {
     "end_time": "2019-09-25T14:06:42.968108Z",
     "start_time": "2019-09-25T14:05:17.406873Z"
    }
   },
   "outputs": [],
   "source": [
    "card1_pcd_mean = all_data.groupby(['card1','account_make_date_D2','ProductCD'])['TransactionAmt'].agg({'card1_make_date_D2_productCD_Amt_mean':'mean','card1_make_date_D2_productCD_Amt_std':'std'}).reset_index()\n",
    "all_data = all_data.merge(card1_pcd_mean, how='left', on = ['card1','account_make_date_D2','ProductCD'])"
   ]
  },
  {
   "cell_type": "code",
   "execution_count": 31,
   "metadata": {
    "ExecuteTime": {
     "end_time": "2019-09-25T14:08:12.812150Z",
     "start_time": "2019-09-25T14:06:42.969106Z"
    }
   },
   "outputs": [],
   "source": [
    "card1_pcd_mean = all_data.groupby(['card1','addr1','account_make_date_D1','ProductCD'])['TransactionAmt'].agg({'card1_addr1_make_date_D1_ProductCD_Amt_mean':'mean','card1_addr1_make_date_D1_ProductCD_Amt_std':'std'}).reset_index()\n",
    "all_data = all_data.merge(card1_pcd_mean, how='left', on = ['card1','addr1','ProductCD','account_make_date_D1'])"
   ]
  },
  {
   "cell_type": "code",
   "execution_count": 32,
   "metadata": {
    "ExecuteTime": {
     "end_time": "2019-09-25T14:09:42.515724Z",
     "start_time": "2019-09-25T14:08:12.813149Z"
    },
    "scrolled": true
   },
   "outputs": [],
   "source": [
    "card1_pcd_mean = all_data.groupby(['card1','id_20','account_make_date_D1','ProductCD'])['TransactionAmt'].agg({'card1_id_20_make_date_D1_ProductCD_Amt_mean':'mean','card1_id_20_make_date_D1_ProductCD_Amt_std':'std'}).reset_index()\n",
    "all_data = all_data.merge(card1_pcd_mean, how='left', on = ['card1','id_20','ProductCD','account_make_date_D1'])"
   ]
  },
  {
   "cell_type": "code",
   "execution_count": 33,
   "metadata": {
    "ExecuteTime": {
     "end_time": "2019-09-25T14:09:52.642195Z",
     "start_time": "2019-09-25T14:09:42.518715Z"
    }
   },
   "outputs": [],
   "source": [
    "for p in all_data['ProductCD'].unique():\n",
    "    all_data.loc[all_data['ProductCD']==p, 'ProductCD_Amt_expandmean'] = all_data.loc[all_data['ProductCD']==p, 'TransactionAmt'].cumsum()/np.arange(1,all_data.loc[all_data['ProductCD']==p, 'TransactionAmt'].shape[0]+1)"
   ]
  },
  {
   "cell_type": "code",
   "execution_count": 34,
   "metadata": {
    "ExecuteTime": {
     "end_time": "2019-09-25T14:09:53.900467Z",
     "start_time": "2019-09-25T14:09:52.644195Z"
    }
   },
   "outputs": [],
   "source": [
    "from sklearn.preprocessing import StandardScaler,MinMaxScaler\n",
    "for p in all_data['ProductCD'].unique():\n",
    "    mm = MinMaxScaler()\n",
    "    all_data.loc[all_data['ProductCD']==p, 'TransactionAmt'] = mm.fit_transform(all_data.loc[all_data['ProductCD']==p, 'TransactionAmt'].values.reshape(-1,1))"
   ]
  },
  {
   "cell_type": "code",
   "execution_count": 35,
   "metadata": {
    "ExecuteTime": {
     "end_time": "2019-09-25T14:14:13.530491Z",
     "start_time": "2019-09-25T14:09:53.902468Z"
    }
   },
   "outputs": [],
   "source": [
    "card1_pcd_mean = all_data.groupby(['card1','account_make_date_D1','ProductCD'])['dist1'].agg({'card1_make_date_D1_ProductCD_dist1_mean':'mean','card1_make_date_D1_ProductCD_dist1_std':'std'}).reset_index()\n",
    "\n",
    "all_data = all_data.merge(card1_pcd_mean, how='left', on = ['card1','ProductCD','account_make_date_D1'])\n",
    "\n",
    " \n",
    "\n",
    "card1_pcd_mean = all_data.groupby(['card1','addr1','account_make_date_D1','ProductCD'])['dist1'].agg({'card1_addr1_make_date_D1_ProductCD_dist1_mean':'mean','card1_addr1_make_date_D1_ProductCD_dist1_std':'std'}).reset_index()\n",
    "\n",
    "all_data = all_data.merge(card1_pcd_mean, how='left', on = ['card1','addr1','ProductCD','account_make_date_D1'])\n",
    "\n",
    " \n",
    "\n",
    "card1_pcd_mean = all_data.groupby(['card1','card2','account_make_date_D1','ProductCD'])['dist1'].agg({'card1_card2_make_date_D1_ProductCD_dist1_mean':'mean','card1_card2_make_date_D1_ProductCD_dist1_std':'std'}).reset_index()\n",
    "\n",
    "all_data = all_data.merge(card1_pcd_mean, how='left', on = ['card1','card2','ProductCD','account_make_date_D1'])"
   ]
  },
  {
   "cell_type": "code",
   "execution_count": 36,
   "metadata": {
    "ExecuteTime": {
     "end_time": "2019-09-25T14:15:39.451282Z",
     "start_time": "2019-09-25T14:14:13.531492Z"
    }
   },
   "outputs": [],
   "source": [
    "card1_pcd_mean = all_data.groupby(['id_02','ProductCD'])['TransactionAmt'].agg({'id_02_ProductCD_amt_mean':'mean'}).reset_index()\n",
    "\n",
    "all_data = all_data.merge(card1_pcd_mean, how='left', on = ['id_02','ProductCD'])"
   ]
  },
  {
   "cell_type": "code",
   "execution_count": 37,
   "metadata": {
    "ExecuteTime": {
     "end_time": "2019-09-25T14:17:04.730725Z",
     "start_time": "2019-09-25T14:15:39.454275Z"
    },
    "scrolled": true
   },
   "outputs": [],
   "source": [
    "card1_d1_pcd_mean = all_data.groupby(['card1','account_make_date_D1','ProductCD'])['Transaction_hour'].agg({'card1_make_date_D1_productCD_hour_mean':'mean'}).reset_index()\n",
    "all_data = all_data.merge(card1_d1_pcd_mean, how='left', on = ['card1','account_make_date_D1','ProductCD'])"
   ]
  },
  {
   "cell_type": "code",
   "execution_count": 38,
   "metadata": {
    "ExecuteTime": {
     "end_time": "2019-09-25T14:17:06.800158Z",
     "start_time": "2019-09-25T14:17:04.731719Z"
    }
   },
   "outputs": [],
   "source": [
    "all_data['card1_maked1_pcd'] = all_data['card1'].astype(str) + all_data['account_make_date_D1'].astype(str) + all_data['ProductCD'].astype(str)\n",
    "all_data['card1_maked1_pcd'] = pd.factorize(all_data['card1_maked1_pcd'])[0]\n",
    "new_col_freq = 'card1_maked1_pcd' + '_fq_enc_combine'\n",
    "fq_encode = all_data['card1_maked1_pcd'].value_counts().to_dict()   \n",
    "all_data[new_col_freq] = all_data['card1_maked1_pcd'].map(fq_encode)"
   ]
  },
  {
   "cell_type": "code",
   "execution_count": 101,
   "metadata": {
    "ExecuteTime": {
     "end_time": "2019-09-26T15:52:50.710011Z",
     "start_time": "2019-09-26T15:52:50.046875Z"
    }
   },
   "outputs": [],
   "source": [
    "for col in ['account_make_date_D1']:\n",
    "    new_col_freq = col + '_fq_enc_combine'\n",
    "    fq_encode = all_data[col].value_counts().to_dict()   \n",
    "    all_data[new_col_freq] = all_data[col].map(fq_encode)"
   ]
  },
  {
   "cell_type": "code",
   "execution_count": 145,
   "metadata": {
    "ExecuteTime": {
     "end_time": "2019-09-27T17:29:13.738327Z",
     "start_time": "2019-09-27T17:29:10.105563Z"
    }
   },
   "outputs": [],
   "source": [
    "all_data['d1_d2'] = all_data['account_make_date_D1'].astype(str) + '_' + all_data['account_make_date_D2'].astype(str) + '_' + all_data['ProductCD'].astype(str)\n",
    "\n",
    "all_data['same_d1_d2'] = 0\n",
    "\n",
    "all_data.loc[all_data['account_make_date_D1'] == all_data['account_make_date_D2'], 'same_d1_d2'] = 1\n",
    "fq_encode = all_data['d1_d2'].value_counts().to_dict()   \n",
    "all_data['d1_d2_fq_enc'] = all_data['d1_d2'].map(fq_encode)"
   ]
  },
  {
   "cell_type": "code",
   "execution_count": 146,
   "metadata": {
    "ExecuteTime": {
     "end_time": "2019-09-27T17:29:19.219219Z",
     "start_time": "2019-09-27T17:29:19.049635Z"
    }
   },
   "outputs": [],
   "source": [
    "object_col = []\n",
    "for col in all_data.columns:\n",
    "    if all_data[col].dtypes == 'object':\n",
    "        object_col.append(col)\n",
    "        \n",
    "for col in object_col:\n",
    "    all_data[col] = pd.factorize(all_data[col], sort=True)[0]"
   ]
  },
  {
   "cell_type": "code",
   "execution_count": 147,
   "metadata": {
    "ExecuteTime": {
     "end_time": "2019-09-27T17:29:32.490242Z",
     "start_time": "2019-09-27T17:29:23.797087Z"
    }
   },
   "outputs": [],
   "source": [
    "x_train = all_data.loc[all_data['isFraud'].notnull()]#.sample(frac=0.3,random_state=0).reset_index(drop=True)\n",
    "#x_train = x_train.loc[x_train['TransactionDT']>2500000].reset_index(drop=True) # like lb hist dist\n",
    "y_train = x_train.isFraud\n",
    "\n",
    "x_test = all_data.loc[all_data['isFraud'].isnull()].reset_index(drop=True)"
   ]
  },
  {
   "cell_type": "code",
   "execution_count": 148,
   "metadata": {
    "ExecuteTime": {
     "end_time": "2019-09-27T17:29:37.286219Z",
     "start_time": "2019-09-27T17:29:37.279217Z"
    }
   },
   "outputs": [],
   "source": [
    "def mean_encoding(train, test, col):\n",
    "    temp_dict = train.groupby([col])['isFraud'].agg(['mean']).reset_index().rename(\n",
    "                                                        columns={'mean': col+'_target_mean'})\n",
    "    temp_dict.index = temp_dict[col].values\n",
    "    temp_dict = temp_dict[col+'_target_mean'].to_dict()\n",
    "\n",
    "    train[col+'_target_mean'] = train[col].map(temp_dict)\n",
    "    test[col+'_target_mean']  = test[col].map(temp_dict)\n",
    "    return train, test"
   ]
  },
  {
   "cell_type": "code",
   "execution_count": 149,
   "metadata": {
    "ExecuteTime": {
     "end_time": "2019-09-27T17:29:44.342536Z",
     "start_time": "2019-09-27T17:29:41.737048Z"
    }
   },
   "outputs": [],
   "source": [
    "x_train, x_test = mean_encoding(x_train, x_test, 'ProductCD')\n",
    "x_train, x_test = mean_encoding(x_train, x_test, 'M4')"
   ]
  },
  {
   "cell_type": "code",
   "execution_count": 150,
   "metadata": {
    "ExecuteTime": {
     "end_time": "2019-09-27T17:29:49.075432Z",
     "start_time": "2019-09-27T17:29:49.069429Z"
    }
   },
   "outputs": [],
   "source": [
    "param = {\n",
    "        #'bagging_freq': 5,\n",
    "        #'bagging_fraction': 0.8,\n",
    "        'boost_from_average':'true',\n",
    "        'boost': 'gbdt',\n",
    "        'feature_fraction': 0.7,\n",
    "        'bagging_fraction': 0.7,\n",
    "        'learning_rate': 0.01,\n",
    "        'subsample_freq':1,\n",
    "        'max_bin':255,\n",
    "        'max_depth': -1,\n",
    "        'metric':'auc',\n",
    "        'num_leaves': 256,\n",
    "        'num_threads': 32,\n",
    "        'tree_learner': 'serial',\n",
    "        'objective': 'binary',\n",
    "        #'scale_pos_weight':97,\n",
    "        'verbosity': 1,\n",
    "        'seed':42\n",
    "        #'reg_lambda': 0.3,\n",
    "    }"
   ]
  },
  {
   "cell_type": "code",
   "execution_count": 151,
   "metadata": {
    "ExecuteTime": {
     "end_time": "2019-09-27T17:29:53.810381Z",
     "start_time": "2019-09-27T17:29:53.804379Z"
    }
   },
   "outputs": [],
   "source": [
    "def get_train_column(train, must_delete_col):\n",
    "    delete_col = must_delete_col.copy()\n",
    "    unique_col = []\n",
    "    for c in train.columns:\n",
    "        if train[c].fillna(-9999).nunique()<2:\n",
    "            unique_col.append(c)\n",
    "            \n",
    "    delete_col = delete_col + unique_col         \n",
    "    train_columns = [c for c in train.columns if c not in delete_col]\n",
    "    return train_columns, delete_col"
   ]
  },
  {
   "cell_type": "code",
   "execution_count": 159,
   "metadata": {
    "ExecuteTime": {
     "end_time": "2019-09-27T19:48:33.823405Z",
     "start_time": "2019-09-27T19:48:33.794407Z"
    }
   },
   "outputs": [
    {
     "name": "stdout",
     "output_type": "stream",
     "text": [
      "['V206', 'V210', 'V211', 'V212', 'V213', 'V214', 'V215', 'V216', 'V217', 'V218', 'V221', 'V222', 'V223', 'V224', 'V225', 'V227', 'V228', 'V231', 'V233', 'V234', 'V235', 'V236', 'V237', 'V238', 'V307', 'V308', 'V309', 'V310', 'V311', 'V312', 'V313', 'V314', 'V315', 'V317', 'V319', 'V320', 'V321', 'V322', 'V325', 'V326', 'V327', 'V328', 'V329', 'V330', 'V331', 'V333', 'V334', 'V335', 'V336', 'V337', 'V338', 'V171', 'V172', 'V173', 'V174', 'V175', 'V176', 'V177', 'V178', 'V179', 'V180', 'V181', 'V183', 'V184', 'V185', 'V186', 'V187', 'V188', 'V189', 'V191', 'V192', 'V193', 'V194', 'V195', 'V196', 'V197', 'V198', 'V199', 'V200', 'V201', 'V203', 'V69', 'V70', 'V71', 'V72', 'V73', 'V75', 'V76', 'V77', 'V78', 'V79', 'V80', 'V84', 'V85', 'V86', 'V87', 'V88', 'V89', 'V90', 'V91', 'V92', 'V93', 'V97', 'V98', 'V99', 'V100', 'V101', 'V102', 'V1', 'V2', 'V3', 'V4', 'V5', 'V7', 'V8', 'V9', 'V10', 'V11', 'V12', 'V13', 'V14', 'V15', 'V16', 'V18', 'V19', 'V21', 'V23', 'V25', 'V26', 'V29', 'V30', 'V31', 'V32', 'V33', 'V137', 'V138', 'V139', 'V140', 'V141', 'V142', 'V143', 'V144', 'V145', 'V146', 'V149', 'V150', 'V151', 'V152', 'V153', 'V154', 'V155', 'V156', 'V157', 'V158', 'V160', 'V161', 'V162', 'V163', 'V165', 'V166', 'V167', 'V168', 'V169', 'V103', 'V104', 'V105', 'V106', 'V108', 'V109', 'V110', 'V112', 'V113', 'V115', 'V116', 'V117', 'V118', 'V119', 'V120', 'V121', 'V122', 'V123', 'V124', 'V125', 'V126', 'V128', 'V131', 'V132', 'V133', 'V134', 'V36', 'V38', 'V39', 'V41', 'V42', 'V43', 'V44', 'V48', 'V50', 'V51', 'V54', 'V55', 'V58', 'V59', 'V61', 'V62', 'V63', 'V64', 'V65', 'V66', 'V68', 'V273', 'V274', 'V275', 'V276', 'V280', 'V281', 'V282', 'V283', 'V286', 'V288', 'V289', 'V291', 'V292', 'V293', 'V296', 'V301', 'V302', 'V303', 'V304', 'V305', 'V239', 'V243', 'V244', 'V246', 'V247', 'V248', 'V250', 'V251', 'V254', 'V255', 'V258', 'V259', 'V266', 'V267', 'V269', 'V272']\n"
     ]
    }
   ],
   "source": [
    "category_feature_dict = dict()\n",
    "delete_feature_dict = dict()\n",
    "w_type = [x_train['ProductCD'].value_counts().index[0]]\n",
    "other_type = list(x_train['ProductCD'].value_counts().index[1:].values)\n",
    "\n",
    "category_feature_dict[str(w_type)] = ['addr1','addr2','P_emaildomain']\n",
    "\n",
    "category_feature_dict[str(other_type)] = ['addr1','addr2','P_emaildomain','R_emaildomain','id_13','id_15', 'id_33', 'id_37', 'id_38','id_30_v','id_31_v']\n",
    "\n",
    "#import pickle\n",
    "#delete_v_feature = []\n",
    "#with open('noise_v_cols.pickle', 'rb') as file:\n",
    "#    delete_v_feature = pickle.load(file)\n",
    "#    print(delete_v_feature)\n",
    "#'same_d1_d2','d1_d2','d1_d2_fq_enc'    \n",
    "delete_feautre_list = ['DT_M','card1_addr1_maked1_pcd','card1_addr1_maked1_pcd_fq_enc_combine','C13_over_cf_sum','TransactionID','isFraud','TransactionDT','bank_type','uid','uid2','uid3','ymd','ym','is_D_max','addr1_null']\n",
    "delete_feature_dict[str(w_type)] =  delete_feautre_list +['P_emaildomain_Country','card1_TransactionAmt_std']#+ delete_v_feature #+ M_feature\n",
    "delete_feature_dict[str(other_type)] = delete_feautre_list"
   ]
  },
  {
   "cell_type": "code",
   "execution_count": 162,
   "metadata": {
    "ExecuteTime": {
     "end_time": "2019-09-27T20:45:28.100357Z",
     "start_time": "2019-09-27T20:13:55.347319Z"
    },
    "scrolled": true
   },
   "outputs": [
    {
     "name": "stdout",
     "output_type": "stream",
     "text": [
      "(439670, 606)\n",
      "326 ['C1', 'C11', 'C12', 'C13', 'C14', 'C2', 'C5', 'C6', 'C9', 'D1', 'D10', 'D11', 'D15', 'D2', 'D3', 'D4', 'D5', 'M1', 'M2', 'M3', 'M4', 'M5', 'M6', 'M7', 'M8', 'M9', 'P_emaildomain', 'TransactionAmt', 'V1', 'V10', 'V100', 'V101', 'V102', 'V103', 'V104', 'V105', 'V106', 'V107', 'V108', 'V109', 'V11', 'V110', 'V111', 'V112', 'V113', 'V114', 'V115', 'V116', 'V117', 'V118', 'V119', 'V12', 'V120', 'V121', 'V122', 'V123', 'V124', 'V125', 'V126', 'V127', 'V128', 'V129', 'V13', 'V130', 'V131', 'V132', 'V133', 'V134', 'V135', 'V136', 'V137', 'V14', 'V15', 'V16', 'V17', 'V18', 'V19', 'V2', 'V20', 'V21', 'V22', 'V23', 'V24', 'V25', 'V26', 'V27', 'V279', 'V28', 'V280', 'V281', 'V282', 'V283', 'V284', 'V285', 'V286', 'V287', 'V288', 'V289', 'V29', 'V290', 'V291', 'V292', 'V293', 'V294', 'V295', 'V296', 'V297', 'V298', 'V299', 'V3', 'V30', 'V300', 'V301', 'V302', 'V303', 'V304', 'V305', 'V306', 'V307', 'V308', 'V309', 'V31', 'V310', 'V311', 'V312', 'V313', 'V314', 'V315', 'V316', 'V317', 'V318', 'V319', 'V32', 'V320', 'V321', 'V33', 'V34', 'V35', 'V36', 'V37', 'V38', 'V39', 'V4', 'V40', 'V41', 'V42', 'V43', 'V44', 'V45', 'V46', 'V47', 'V48', 'V49', 'V5', 'V50', 'V51', 'V52', 'V53', 'V54', 'V55', 'V56', 'V57', 'V58', 'V59', 'V6', 'V60', 'V61', 'V62', 'V63', 'V64', 'V65', 'V66', 'V67', 'V68', 'V69', 'V7', 'V70', 'V71', 'V72', 'V73', 'V74', 'V75', 'V76', 'V77', 'V78', 'V79', 'V8', 'V80', 'V81', 'V82', 'V83', 'V84', 'V85', 'V86', 'V87', 'V88', 'V89', 'V9', 'V90', 'V91', 'V92', 'V93', 'V94', 'V95', 'V96', 'V97', 'V98', 'V99', 'addr1', 'addr2', 'card1', 'card2', 'card3', 'card4', 'card5', 'card6', 'dist1', 'email_check_nan_all', 'P_emaildomain_prefix', 'M_not_null', 'M_sum', 'collect_agree_ratio', 'dow', 'day', 'Transaction_hour', 'card1_fq_enc', 'card2_fq_enc', 'card3_fq_enc', 'card5_fq_enc', 'C1_fq_enc', 'C2_fq_enc', 'C5_fq_enc', 'C6_fq_enc', 'C9_fq_enc', 'C11_fq_enc', 'C12_fq_enc', 'C13_fq_enc', 'C14_fq_enc', 'D1_fq_enc', 'D2_fq_enc', 'D3_fq_enc', 'D4_fq_enc', 'D5_fq_enc', 'addr1_fq_enc', 'addr2_fq_enc', 'dist1_fq_enc', 'P_emaildomain_fq_enc', 'card1_TransactionAmt_mean', 'card2_TransactionAmt_mean', 'card2_TransactionAmt_std', 'card3_TransactionAmt_mean', 'card3_TransactionAmt_std', 'card5_TransactionAmt_mean', 'card5_TransactionAmt_std', 'uid_TransactionAmt_mean', 'uid_TransactionAmt_std', 'uid2_TransactionAmt_mean', 'uid2_TransactionAmt_std', 'uid3_TransactionAmt_mean', 'uid3_TransactionAmt_std', 'ymd_TransactionDT_count', 'ymd_TransactionAmt_sum', 'uid2_dayofweek_mean', 'uid2_dayofweek_std', 'TransactionAmt_decimal_count', 'TransactionAmt_decimal', 'account_make_date_D1', 'account_make_date_D2', 'account_make_date_D4', 'account_make_date_D10', 'account_make_date_D15', 'card1_make_date_D1_productCD_Amt_mean', 'card1_make_date_D1_productCD_Amt_std', 'card1_addr1_LDA_0', 'card1_addr1_LDA_1', 'card1_addr1_LDA_2', 'card1_addr1_LDA_3', 'card1_addr1_LDA_4', 'card1_id_20_LDA_0', 'card1_id_20_LDA_1', 'card1_id_20_LDA_2', 'card1_id_20_LDA_3', 'card1_id_20_LDA_4', 'card4_DeviceInfo_c_NMF_0', 'card4_DeviceInfo_c_NMF_1', 'card4_DeviceInfo_c_NMF_2', 'card4_DeviceInfo_c_NMF_3', 'card4_DeviceInfo_c_NMF_4', 'addr1_id_32_combine', 'addr1_id_32_combine_fq_enc_combine', 'addr1_id_32_combine_TransactionAmt_mean', 'addr1_id_32_combine_TransactionAmt_std', 'addr1_id_14_combine', 'addr1_id_14_combine_fq_enc_combine', 'addr1_id_14_combine_TransactionAmt_mean', 'addr1_id_14_combine_TransactionAmt_std', 'addr1_id_19_combine', 'addr1_id_19_combine_fq_enc_combine', 'addr1_id_19_combine_TransactionAmt_mean', 'addr1_id_19_combine_TransactionAmt_std', 'card1_card2_combine', 'card1_card2_combine_fq_enc_combine', 'card1_addr1_combine', 'card1_addr1_combine_fq_enc_combine', 'card1_addr1_combine_TransactionAmt_mean', 'card1_addr1_combine_TransactionAmt_std', 'uid3_next_click', 'card1_make_date_D2_productCD_Amt_mean', 'card1_make_date_D2_productCD_Amt_std', 'card1_addr1_make_date_D1_ProductCD_Amt_mean', 'card1_addr1_make_date_D1_ProductCD_Amt_std', 'ProductCD_Amt_expandmean', 'card1_make_date_D1_ProductCD_dist1_mean', 'card1_make_date_D1_ProductCD_dist1_std', 'card1_addr1_make_date_D1_ProductCD_dist1_mean', 'card1_addr1_make_date_D1_ProductCD_dist1_std', 'card1_card2_make_date_D1_ProductCD_dist1_mean', 'card1_card2_make_date_D1_ProductCD_dist1_std', 'card1_make_date_D1_productCD_hour_mean', 'card1_maked1_pcd', 'card1_maked1_pcd_fq_enc_combine', 'account_make_date_D1_fq_enc_combine', 'd1_d2', 'same_d1_d2', 'd1_d2_fq_enc', 'M4_target_mean']\n",
      "TYPE [4] - 1 FOLD Start\n"
     ]
    },
    {
     "name": "stderr",
     "output_type": "stream",
     "text": [
      "C:\\Users\\kimym\\Anaconda3\\lib\\site-packages\\lightgbm\\basic.py:1188: UserWarning: categorical_feature in Dataset is overridden.\n",
      "New categorical_feature is ['P_emaildomain', 'addr1', 'addr2']\n",
      "  'New categorical_feature is {}'.format(sorted(list(categorical_feature))))\n",
      "C:\\Users\\kimym\\Anaconda3\\lib\\site-packages\\lightgbm\\basic.py:1188: UserWarning: categorical_feature in Dataset is overridden.\n",
      "New categorical_feature is ['P_emaildomain', 'addr1', 'addr2']\n",
      "  'New categorical_feature is {}'.format(sorted(list(categorical_feature))))\n",
      "C:\\Users\\kimym\\Anaconda3\\lib\\site-packages\\lightgbm\\basic.py:742: UserWarning: categorical_feature in param dict is overridden.\n",
      "  warnings.warn('categorical_feature in param dict is overridden.')\n"
     ]
    },
    {
     "name": "stdout",
     "output_type": "stream",
     "text": [
      "Training until validation scores don't improve for 100 rounds.\n",
      "[500]\ttraining's auc: 0.999984\tvalid_1's auc: 0.969856\n",
      "[1000]\ttraining's auc: 1\tvalid_1's auc: 0.974137\n",
      "Early stopping, best iteration is:\n",
      "[1007]\ttraining's auc: 1\tvalid_1's auc: 0.974144\n",
      "1 FOLD Score:  0.9741435372150535\n",
      "TYPE [4] - 2 FOLD Start\n"
     ]
    },
    {
     "name": "stderr",
     "output_type": "stream",
     "text": [
      "C:\\Users\\kimym\\Anaconda3\\lib\\site-packages\\lightgbm\\basic.py:1188: UserWarning: categorical_feature in Dataset is overridden.\n",
      "New categorical_feature is ['P_emaildomain', 'addr1', 'addr2']\n",
      "  'New categorical_feature is {}'.format(sorted(list(categorical_feature))))\n",
      "C:\\Users\\kimym\\Anaconda3\\lib\\site-packages\\lightgbm\\basic.py:1188: UserWarning: categorical_feature in Dataset is overridden.\n",
      "New categorical_feature is ['P_emaildomain', 'addr1', 'addr2']\n",
      "  'New categorical_feature is {}'.format(sorted(list(categorical_feature))))\n",
      "C:\\Users\\kimym\\Anaconda3\\lib\\site-packages\\lightgbm\\basic.py:742: UserWarning: categorical_feature in param dict is overridden.\n",
      "  warnings.warn('categorical_feature in param dict is overridden.')\n"
     ]
    },
    {
     "name": "stdout",
     "output_type": "stream",
     "text": [
      "Training until validation scores don't improve for 100 rounds.\n",
      "[500]\ttraining's auc: 0.999981\tvalid_1's auc: 0.973296\n",
      "[1000]\ttraining's auc: 1\tvalid_1's auc: 0.978074\n",
      "Early stopping, best iteration is:\n",
      "[1053]\ttraining's auc: 1\tvalid_1's auc: 0.978302\n",
      "2 FOLD Score:  0.9783016434577088\n",
      "TYPE [4] - 3 FOLD Start\n"
     ]
    },
    {
     "name": "stderr",
     "output_type": "stream",
     "text": [
      "C:\\Users\\kimym\\Anaconda3\\lib\\site-packages\\lightgbm\\basic.py:1188: UserWarning: categorical_feature in Dataset is overridden.\n",
      "New categorical_feature is ['P_emaildomain', 'addr1', 'addr2']\n",
      "  'New categorical_feature is {}'.format(sorted(list(categorical_feature))))\n",
      "C:\\Users\\kimym\\Anaconda3\\lib\\site-packages\\lightgbm\\basic.py:1188: UserWarning: categorical_feature in Dataset is overridden.\n",
      "New categorical_feature is ['P_emaildomain', 'addr1', 'addr2']\n",
      "  'New categorical_feature is {}'.format(sorted(list(categorical_feature))))\n",
      "C:\\Users\\kimym\\Anaconda3\\lib\\site-packages\\lightgbm\\basic.py:742: UserWarning: categorical_feature in param dict is overridden.\n",
      "  warnings.warn('categorical_feature in param dict is overridden.')\n"
     ]
    },
    {
     "name": "stdout",
     "output_type": "stream",
     "text": [
      "Training until validation scores don't improve for 100 rounds.\n",
      "[500]\ttraining's auc: 0.999982\tvalid_1's auc: 0.969343\n",
      "[1000]\ttraining's auc: 1\tvalid_1's auc: 0.973303\n",
      "Early stopping, best iteration is:\n",
      "[1010]\ttraining's auc: 1\tvalid_1's auc: 0.973289\n",
      "3 FOLD Score:  0.9732891401542535\n",
      "TYPE [4] - 4 FOLD Start\n"
     ]
    },
    {
     "name": "stderr",
     "output_type": "stream",
     "text": [
      "C:\\Users\\kimym\\Anaconda3\\lib\\site-packages\\lightgbm\\basic.py:1188: UserWarning: categorical_feature in Dataset is overridden.\n",
      "New categorical_feature is ['P_emaildomain', 'addr1', 'addr2']\n",
      "  'New categorical_feature is {}'.format(sorted(list(categorical_feature))))\n",
      "C:\\Users\\kimym\\Anaconda3\\lib\\site-packages\\lightgbm\\basic.py:1188: UserWarning: categorical_feature in Dataset is overridden.\n",
      "New categorical_feature is ['P_emaildomain', 'addr1', 'addr2']\n",
      "  'New categorical_feature is {}'.format(sorted(list(categorical_feature))))\n",
      "C:\\Users\\kimym\\Anaconda3\\lib\\site-packages\\lightgbm\\basic.py:742: UserWarning: categorical_feature in param dict is overridden.\n",
      "  warnings.warn('categorical_feature in param dict is overridden.')\n"
     ]
    },
    {
     "name": "stdout",
     "output_type": "stream",
     "text": [
      "Training until validation scores don't improve for 100 rounds.\n",
      "[500]\ttraining's auc: 0.999985\tvalid_1's auc: 0.969103\n",
      "[1000]\ttraining's auc: 1\tvalid_1's auc: 0.973299\n",
      "Early stopping, best iteration is:\n",
      "[1175]\ttraining's auc: 1\tvalid_1's auc: 0.974003\n",
      "4 FOLD Score:  0.9740029971172902\n",
      "TYPE [4] - 5 FOLD Start\n"
     ]
    },
    {
     "name": "stderr",
     "output_type": "stream",
     "text": [
      "C:\\Users\\kimym\\Anaconda3\\lib\\site-packages\\lightgbm\\basic.py:1188: UserWarning: categorical_feature in Dataset is overridden.\n",
      "New categorical_feature is ['P_emaildomain', 'addr1', 'addr2']\n",
      "  'New categorical_feature is {}'.format(sorted(list(categorical_feature))))\n",
      "C:\\Users\\kimym\\Anaconda3\\lib\\site-packages\\lightgbm\\basic.py:1188: UserWarning: categorical_feature in Dataset is overridden.\n",
      "New categorical_feature is ['P_emaildomain', 'addr1', 'addr2']\n",
      "  'New categorical_feature is {}'.format(sorted(list(categorical_feature))))\n",
      "C:\\Users\\kimym\\Anaconda3\\lib\\site-packages\\lightgbm\\basic.py:742: UserWarning: categorical_feature in param dict is overridden.\n",
      "  warnings.warn('categorical_feature in param dict is overridden.')\n"
     ]
    },
    {
     "name": "stdout",
     "output_type": "stream",
     "text": [
      "Training until validation scores don't improve for 100 rounds.\n",
      "[500]\ttraining's auc: 0.999975\tvalid_1's auc: 0.971296\n",
      "[1000]\ttraining's auc: 0.999994\tvalid_1's auc: 0.97629\n",
      "Early stopping, best iteration is:\n",
      "[1076]\ttraining's auc: 0.999994\tvalid_1's auc: 0.976497\n",
      "5 FOLD Score:  0.9764970150021022\n",
      "Total CV:  0.9752468665892817\n",
      "Total CV2:  0.9750778226897338\n",
      "(150870, 606)\n",
      "564 ['C1', 'C10', 'C11', 'C12', 'C13', 'C14', 'C2', 'C3', 'C4', 'C6', 'C7', 'C8', 'D1', 'D10', 'D12', 'D13', 'D14', 'D15', 'D2', 'D3', 'D4', 'D5', 'D6', 'D7', 'D8', 'D9', 'DeviceInfo', 'DeviceType', 'M4', 'P_emaildomain', 'ProductCD', 'R_emaildomain', 'TransactionAmt', 'V100', 'V101', 'V102', 'V103', 'V104', 'V105', 'V106', 'V107', 'V108', 'V109', 'V110', 'V111', 'V112', 'V113', 'V114', 'V115', 'V116', 'V117', 'V118', 'V119', 'V12', 'V120', 'V121', 'V122', 'V123', 'V124', 'V125', 'V126', 'V127', 'V128', 'V129', 'V13', 'V130', 'V131', 'V132', 'V133', 'V134', 'V135', 'V136', 'V137', 'V138', 'V139', 'V14', 'V140', 'V141', 'V142', 'V143', 'V144', 'V145', 'V146', 'V147', 'V148', 'V149', 'V15', 'V150', 'V151', 'V152', 'V153', 'V154', 'V155', 'V156', 'V157', 'V158', 'V159', 'V16', 'V160', 'V161', 'V162', 'V163', 'V164', 'V165', 'V166', 'V167', 'V168', 'V169', 'V17', 'V170', 'V171', 'V172', 'V173', 'V174', 'V175', 'V176', 'V177', 'V178', 'V179', 'V18', 'V180', 'V181', 'V182', 'V183', 'V184', 'V185', 'V186', 'V187', 'V188', 'V189', 'V19', 'V190', 'V191', 'V192', 'V193', 'V194', 'V195', 'V196', 'V197', 'V198', 'V199', 'V20', 'V200', 'V201', 'V202', 'V203', 'V204', 'V205', 'V206', 'V207', 'V208', 'V209', 'V21', 'V210', 'V211', 'V212', 'V213', 'V214', 'V215', 'V216', 'V217', 'V218', 'V219', 'V22', 'V220', 'V221', 'V222', 'V223', 'V224', 'V225', 'V226', 'V227', 'V228', 'V229', 'V23', 'V230', 'V231', 'V232', 'V233', 'V234', 'V235', 'V236', 'V237', 'V238', 'V239', 'V24', 'V240', 'V241', 'V242', 'V243', 'V244', 'V245', 'V246', 'V247', 'V248', 'V249', 'V25', 'V250', 'V251', 'V252', 'V253', 'V254', 'V255', 'V256', 'V257', 'V258', 'V259', 'V26', 'V260', 'V261', 'V262', 'V263', 'V264', 'V265', 'V266', 'V267', 'V268', 'V269', 'V27', 'V270', 'V271', 'V272', 'V273', 'V274', 'V275', 'V276', 'V277', 'V278', 'V279', 'V28', 'V280', 'V281', 'V282', 'V283', 'V284', 'V285', 'V286', 'V287', 'V288', 'V289', 'V29', 'V290', 'V291', 'V292', 'V293', 'V294', 'V295', 'V296', 'V297', 'V298', 'V299', 'V30', 'V300', 'V301', 'V302', 'V303', 'V304', 'V305', 'V306', 'V307', 'V308', 'V309', 'V31', 'V310', 'V311', 'V312', 'V313', 'V314', 'V315', 'V316', 'V317', 'V318', 'V319', 'V32', 'V320', 'V321', 'V322', 'V323', 'V324', 'V325', 'V326', 'V327', 'V328', 'V329', 'V33', 'V330', 'V331', 'V332', 'V333', 'V334', 'V335', 'V336', 'V337', 'V338', 'V339', 'V34', 'V35', 'V36', 'V37', 'V38', 'V39', 'V40', 'V41', 'V42', 'V43', 'V44', 'V45', 'V46', 'V47', 'V48', 'V49', 'V50', 'V51', 'V52', 'V53', 'V54', 'V55', 'V56', 'V57', 'V58', 'V59', 'V60', 'V61', 'V62', 'V63', 'V64', 'V65', 'V66', 'V67', 'V68', 'V69', 'V70', 'V71', 'V72', 'V73', 'V74', 'V75', 'V76', 'V77', 'V78', 'V79', 'V80', 'V81', 'V82', 'V83', 'V84', 'V85', 'V86', 'V87', 'V88', 'V89', 'V90', 'V91', 'V92', 'V93', 'V94', 'V95', 'V96', 'V97', 'V98', 'V99', 'addr1', 'addr2', 'card1', 'card2', 'card3', 'card4', 'card5', 'card6', 'dist2', 'id_01', 'id_02', 'id_03', 'id_04', 'id_05', 'id_06', 'id_07', 'id_08', 'id_09', 'id_10', 'id_11', 'id_12', 'id_13', 'id_14', 'id_15', 'id_16', 'id_17', 'id_18', 'id_19', 'id_20', 'id_21', 'id_22', 'id_23', 'id_24', 'id_25', 'id_26', 'id_27', 'id_28', 'id_29', 'id_30', 'id_31', 'id_32', 'id_33', 'id_34', 'id_35', 'id_36', 'id_37', 'id_38', 'email_check', 'email_check_nan_all', 'email_check_nan_any', 'P_emaildomain_Country', 'R_emaildomain_Country', 'P_emaildomain_prefix', 'R_emaildomain_prefix', 'DeviceInfo_c', 'id_30_c', 'id_30_v', 'id_31_c', 'is_mobile_browser', 'id_31_v', 'dow', 'day', 'Transaction_hour', 'card1_fq_enc', 'card2_fq_enc', 'card3_fq_enc', 'card5_fq_enc', 'C1_fq_enc', 'C2_fq_enc', 'C3_fq_enc', 'C4_fq_enc', 'C6_fq_enc', 'C7_fq_enc', 'C8_fq_enc', 'C10_fq_enc', 'C11_fq_enc', 'C12_fq_enc', 'C13_fq_enc', 'C14_fq_enc', 'D1_fq_enc', 'D2_fq_enc', 'D3_fq_enc', 'D4_fq_enc', 'D5_fq_enc', 'D6_fq_enc', 'D7_fq_enc', 'D8_fq_enc', 'D9_fq_enc', 'addr1_fq_enc', 'addr2_fq_enc', 'dist2_fq_enc', 'P_emaildomain_fq_enc', 'R_emaildomain_fq_enc', 'id_01_fq_enc', 'id_02_fq_enc', 'id_03_fq_enc', 'id_04_fq_enc', 'id_05_fq_enc', 'id_06_fq_enc', 'id_07_fq_enc', 'id_08_fq_enc', 'id_09_fq_enc', 'id_10_fq_enc', 'id_11_fq_enc', 'id_13_fq_enc', 'id_14_fq_enc', 'id_17_fq_enc', 'id_18_fq_enc', 'id_19_fq_enc', 'id_20_fq_enc', 'id_21_fq_enc', 'id_22_fq_enc', 'id_24_fq_enc', 'id_25_fq_enc', 'id_26_fq_enc', 'id_30_fq_enc', 'id_31_fq_enc', 'id_32_fq_enc', 'id_33_fq_enc', 'DeviceInfo_fq_enc', 'DeviceInfo_c_fq_enc', 'id_30_c_fq_enc', 'id_30_v_fq_enc', 'id_31_v_fq_enc', 'card1_TransactionAmt_mean', 'card1_TransactionAmt_std', 'card2_TransactionAmt_mean', 'card2_TransactionAmt_std', 'card3_TransactionAmt_mean', 'card3_TransactionAmt_std', 'card5_TransactionAmt_mean', 'card5_TransactionAmt_std', 'uid_TransactionAmt_mean', 'uid_TransactionAmt_std', 'uid2_TransactionAmt_mean', 'uid2_TransactionAmt_std', 'uid3_TransactionAmt_mean', 'uid3_TransactionAmt_std', 'ymd_TransactionDT_count', 'ymd_TransactionAmt_sum', 'uid2_dayofweek_mean', 'uid2_dayofweek_std', 'TransactionAmt_decimal_count', 'TransactionAmt_decimal', 'account_make_date_D1', 'account_make_date_D2', 'account_make_date_D4', 'account_make_date_D8', 'account_make_date_D10', 'account_make_date_D15', 'card1_make_date_D1_productCD_Amt_mean', 'card1_make_date_D1_productCD_Amt_std', 'card1_addr1_LDA_0', 'card1_addr1_LDA_1', 'card1_addr1_LDA_2', 'card1_addr1_LDA_3', 'card1_addr1_LDA_4', 'card1_id_20_LDA_0', 'card1_id_20_LDA_1', 'card1_id_20_LDA_2', 'card1_id_20_LDA_3', 'card1_id_20_LDA_4', 'card4_DeviceInfo_c_NMF_0', 'card4_DeviceInfo_c_NMF_1', 'card4_DeviceInfo_c_NMF_2', 'card4_DeviceInfo_c_NMF_3', 'card4_DeviceInfo_c_NMF_4', 'addr1_id_32_combine', 'addr1_id_32_combine_fq_enc_combine', 'addr1_id_32_combine_TransactionAmt_mean', 'addr1_id_32_combine_TransactionAmt_std', 'addr1_id_14_combine', 'addr1_id_14_combine_fq_enc_combine', 'addr1_id_14_combine_TransactionAmt_mean', 'addr1_id_14_combine_TransactionAmt_std', 'addr1_id_19_combine', 'addr1_id_19_combine_fq_enc_combine', 'addr1_id_19_combine_TransactionAmt_mean', 'addr1_id_19_combine_TransactionAmt_std', 'card1_card2_combine', 'card1_card2_combine_fq_enc_combine', 'card1_addr1_combine', 'card1_addr1_combine_fq_enc_combine', 'card1_addr1_combine_TransactionAmt_mean', 'card1_addr1_combine_TransactionAmt_std', 'uid3_next_click', 'card1_make_date_D2_productCD_Amt_mean', 'card1_make_date_D2_productCD_Amt_std', 'card1_addr1_make_date_D1_ProductCD_Amt_mean', 'card1_addr1_make_date_D1_ProductCD_Amt_std', 'card1_id_20_make_date_D1_ProductCD_Amt_mean', 'card1_id_20_make_date_D1_ProductCD_Amt_std', 'ProductCD_Amt_expandmean', 'id_02_ProductCD_amt_mean', 'card1_make_date_D1_productCD_hour_mean', 'card1_maked1_pcd', 'card1_maked1_pcd_fq_enc_combine', 'account_make_date_D1_fq_enc_combine', 'd1_d2', 'same_d1_d2', 'd1_d2_fq_enc', 'ProductCD_target_mean', 'M4_target_mean']\n",
      "TYPE [0, 2, 1, 3] - 1 FOLD Start\n"
     ]
    },
    {
     "name": "stderr",
     "output_type": "stream",
     "text": [
      "C:\\Users\\kimym\\Anaconda3\\lib\\site-packages\\lightgbm\\basic.py:1188: UserWarning: categorical_feature in Dataset is overridden.\n",
      "New categorical_feature is ['P_emaildomain', 'R_emaildomain', 'addr1', 'addr2', 'id_13', 'id_15', 'id_30_v', 'id_31_v', 'id_33', 'id_37', 'id_38']\n",
      "  'New categorical_feature is {}'.format(sorted(list(categorical_feature))))\n",
      "C:\\Users\\kimym\\Anaconda3\\lib\\site-packages\\lightgbm\\basic.py:1188: UserWarning: categorical_feature in Dataset is overridden.\n",
      "New categorical_feature is ['P_emaildomain', 'R_emaildomain', 'addr1', 'addr2', 'id_13', 'id_15', 'id_30_v', 'id_31_v', 'id_33', 'id_37', 'id_38']\n",
      "  'New categorical_feature is {}'.format(sorted(list(categorical_feature))))\n",
      "C:\\Users\\kimym\\Anaconda3\\lib\\site-packages\\lightgbm\\basic.py:742: UserWarning: categorical_feature in param dict is overridden.\n",
      "  warnings.warn('categorical_feature in param dict is overridden.')\n"
     ]
    },
    {
     "name": "stdout",
     "output_type": "stream",
     "text": [
      "Training until validation scores don't improve for 100 rounds.\n",
      "[500]\ttraining's auc: 0.999823\tvalid_1's auc: 0.975522\n",
      "Early stopping, best iteration is:\n",
      "[879]\ttraining's auc: 1\tvalid_1's auc: 0.97895\n",
      "1 FOLD Score:  0.9789497220666014\n",
      "TYPE [0, 2, 1, 3] - 2 FOLD Start\n"
     ]
    },
    {
     "name": "stderr",
     "output_type": "stream",
     "text": [
      "C:\\Users\\kimym\\Anaconda3\\lib\\site-packages\\lightgbm\\basic.py:1188: UserWarning: categorical_feature in Dataset is overridden.\n",
      "New categorical_feature is ['P_emaildomain', 'R_emaildomain', 'addr1', 'addr2', 'id_13', 'id_15', 'id_30_v', 'id_31_v', 'id_33', 'id_37', 'id_38']\n",
      "  'New categorical_feature is {}'.format(sorted(list(categorical_feature))))\n",
      "C:\\Users\\kimym\\Anaconda3\\lib\\site-packages\\lightgbm\\basic.py:1188: UserWarning: categorical_feature in Dataset is overridden.\n",
      "New categorical_feature is ['P_emaildomain', 'R_emaildomain', 'addr1', 'addr2', 'id_13', 'id_15', 'id_30_v', 'id_31_v', 'id_33', 'id_37', 'id_38']\n",
      "  'New categorical_feature is {}'.format(sorted(list(categorical_feature))))\n",
      "C:\\Users\\kimym\\Anaconda3\\lib\\site-packages\\lightgbm\\basic.py:742: UserWarning: categorical_feature in param dict is overridden.\n",
      "  warnings.warn('categorical_feature in param dict is overridden.')\n"
     ]
    },
    {
     "name": "stdout",
     "output_type": "stream",
     "text": [
      "Training until validation scores don't improve for 100 rounds.\n",
      "[500]\ttraining's auc: 0.999831\tvalid_1's auc: 0.981335\n",
      "[1000]\ttraining's auc: 1\tvalid_1's auc: 0.984667\n",
      "Early stopping, best iteration is:\n",
      "[956]\ttraining's auc: 1\tvalid_1's auc: 0.9845\n",
      "2 FOLD Score:  0.9844996775646017\n",
      "TYPE [0, 2, 1, 3] - 3 FOLD Start\n"
     ]
    },
    {
     "name": "stderr",
     "output_type": "stream",
     "text": [
      "C:\\Users\\kimym\\Anaconda3\\lib\\site-packages\\lightgbm\\basic.py:1188: UserWarning: categorical_feature in Dataset is overridden.\n",
      "New categorical_feature is ['P_emaildomain', 'R_emaildomain', 'addr1', 'addr2', 'id_13', 'id_15', 'id_30_v', 'id_31_v', 'id_33', 'id_37', 'id_38']\n",
      "  'New categorical_feature is {}'.format(sorted(list(categorical_feature))))\n",
      "C:\\Users\\kimym\\Anaconda3\\lib\\site-packages\\lightgbm\\basic.py:1188: UserWarning: categorical_feature in Dataset is overridden.\n",
      "New categorical_feature is ['P_emaildomain', 'R_emaildomain', 'addr1', 'addr2', 'id_13', 'id_15', 'id_30_v', 'id_31_v', 'id_33', 'id_37', 'id_38']\n",
      "  'New categorical_feature is {}'.format(sorted(list(categorical_feature))))\n",
      "C:\\Users\\kimym\\Anaconda3\\lib\\site-packages\\lightgbm\\basic.py:742: UserWarning: categorical_feature in param dict is overridden.\n",
      "  warnings.warn('categorical_feature in param dict is overridden.')\n"
     ]
    },
    {
     "name": "stdout",
     "output_type": "stream",
     "text": [
      "Training until validation scores don't improve for 100 rounds.\n",
      "[500]\ttraining's auc: 0.999809\tvalid_1's auc: 0.981434\n",
      "[1000]\ttraining's auc: 1\tvalid_1's auc: 0.985122\n",
      "Early stopping, best iteration is:\n",
      "[1026]\ttraining's auc: 1\tvalid_1's auc: 0.985174\n",
      "3 FOLD Score:  0.9851737929484757\n",
      "TYPE [0, 2, 1, 3] - 4 FOLD Start\n"
     ]
    },
    {
     "name": "stderr",
     "output_type": "stream",
     "text": [
      "C:\\Users\\kimym\\Anaconda3\\lib\\site-packages\\lightgbm\\basic.py:1188: UserWarning: categorical_feature in Dataset is overridden.\n",
      "New categorical_feature is ['P_emaildomain', 'R_emaildomain', 'addr1', 'addr2', 'id_13', 'id_15', 'id_30_v', 'id_31_v', 'id_33', 'id_37', 'id_38']\n",
      "  'New categorical_feature is {}'.format(sorted(list(categorical_feature))))\n",
      "C:\\Users\\kimym\\Anaconda3\\lib\\site-packages\\lightgbm\\basic.py:1188: UserWarning: categorical_feature in Dataset is overridden.\n",
      "New categorical_feature is ['P_emaildomain', 'R_emaildomain', 'addr1', 'addr2', 'id_13', 'id_15', 'id_30_v', 'id_31_v', 'id_33', 'id_37', 'id_38']\n",
      "  'New categorical_feature is {}'.format(sorted(list(categorical_feature))))\n",
      "C:\\Users\\kimym\\Anaconda3\\lib\\site-packages\\lightgbm\\basic.py:742: UserWarning: categorical_feature in param dict is overridden.\n",
      "  warnings.warn('categorical_feature in param dict is overridden.')\n"
     ]
    },
    {
     "name": "stdout",
     "output_type": "stream",
     "text": [
      "Training until validation scores don't improve for 100 rounds.\n",
      "[500]\ttraining's auc: 0.999814\tvalid_1's auc: 0.979077\n",
      "Early stopping, best iteration is:\n",
      "[862]\ttraining's auc: 1\tvalid_1's auc: 0.981684\n",
      "4 FOLD Score:  0.9816837033539042\n",
      "TYPE [0, 2, 1, 3] - 5 FOLD Start\n"
     ]
    },
    {
     "name": "stderr",
     "output_type": "stream",
     "text": [
      "C:\\Users\\kimym\\Anaconda3\\lib\\site-packages\\lightgbm\\basic.py:1188: UserWarning: categorical_feature in Dataset is overridden.\n",
      "New categorical_feature is ['P_emaildomain', 'R_emaildomain', 'addr1', 'addr2', 'id_13', 'id_15', 'id_30_v', 'id_31_v', 'id_33', 'id_37', 'id_38']\n",
      "  'New categorical_feature is {}'.format(sorted(list(categorical_feature))))\n",
      "C:\\Users\\kimym\\Anaconda3\\lib\\site-packages\\lightgbm\\basic.py:1188: UserWarning: categorical_feature in Dataset is overridden.\n",
      "New categorical_feature is ['P_emaildomain', 'R_emaildomain', 'addr1', 'addr2', 'id_13', 'id_15', 'id_30_v', 'id_31_v', 'id_33', 'id_37', 'id_38']\n",
      "  'New categorical_feature is {}'.format(sorted(list(categorical_feature))))\n",
      "C:\\Users\\kimym\\Anaconda3\\lib\\site-packages\\lightgbm\\basic.py:742: UserWarning: categorical_feature in param dict is overridden.\n",
      "  warnings.warn('categorical_feature in param dict is overridden.')\n"
     ]
    },
    {
     "name": "stdout",
     "output_type": "stream",
     "text": [
      "Training until validation scores don't improve for 100 rounds.\n",
      "[500]\ttraining's auc: 0.999806\tvalid_1's auc: 0.98346\n",
      "[1000]\ttraining's auc: 1\tvalid_1's auc: 0.986538\n",
      "Early stopping, best iteration is:\n",
      "[926]\ttraining's auc: 1\tvalid_1's auc: 0.986337\n",
      "5 FOLD Score:  0.9863365521772796\n",
      "Total CV:  0.9833286896221725\n",
      "Total CV2:  0.9833307486712161\n"
     ]
    }
   ],
   "source": [
    "#must_del_col_list = ['DT_M','card1_addr1_maked1_pcd','card1_addr1_maked1_pcd_fq_enc_combine','C13_over_cf_sum','TransactionID','isFraud','TransactionDT','bank_type','uid','uid2','uid3','ymd','ym','is_D_max','addr1_null'] + delete_v_feature #+ M_feature\n",
    "\n",
    "debug = False\n",
    "oof_train = np.zeros(len(x_train))\n",
    "oof_test = np.zeros(len(x_test))\n",
    "NFOLD =5\n",
    "SEED = 42\n",
    "\n",
    "w_type = [x_train['ProductCD'].value_counts().index[0]]\n",
    "other_type = list(x_train['ProductCD'].value_counts().index[1:].values)\n",
    "product_type = list()\n",
    "product_type.append(w_type)\n",
    "product_type.append(other_type)\n",
    "\n",
    "feature_importance_df = pd.DataFrame()\n",
    "cv_list ={}\n",
    "for p_type in product_type:\n",
    "    x_train_type = x_train.loc[x_train['ProductCD'].isin(p_type)]\n",
    "    y_train_type = x_train_type['isFraud']\n",
    "    x_test_type = x_test.loc[x_test['ProductCD'].isin(p_type)]\n",
    "    \n",
    "    category_feature = category_feature_dict[str(p_type)].copy()\n",
    "    must_del_col_list = delete_feature_dict[str(p_type)].copy()\n",
    "    #param = org_param.copy()#lgbm_param_dict[str(p_type)]\n",
    "    \n",
    "    #must_del_col_list_temp = must_del_col_list.copy()\n",
    "    #must_del_col_list_temp = must_del_col_list_temp + cat_combinefeature_dict[str(p_type)] \n",
    "    train_columns, _ = get_train_column(x_train_type, must_del_col_list)\n",
    "    print(x_train_type.shape)\n",
    "    print(len(train_columns), train_columns)\n",
    "    kfold = StratifiedKFold(n_splits=NFOLD, shuffle=True, random_state=SEED)\n",
    "    #split_groups = x_train_type['DT_M']\n",
    "    #kfold = GroupKFold(n_splits=6)\n",
    "    oof_train_type = np.zeros((x_train_type.shape[0],))\n",
    "    oof_test_type = np.zeros((x_test_type.shape[0],))\n",
    "    feature_importance_type = pd.DataFrame()\n",
    "    type_score = 0\n",
    "    for i, (train_index, cross_index) in enumerate(kfold.split(x_train_type,y_train_type),1):\n",
    "        print(f\"TYPE {p_type} - {i} FOLD Start\")\n",
    "        x_tr = x_train_type.iloc[train_index][train_columns]\n",
    "        x_cr = x_train_type.iloc[cross_index][train_columns]\n",
    "        y_tr = y_train_type.iloc[train_index]\n",
    "        y_cr = y_train_type.iloc[cross_index]\n",
    "        dtrain = lgb.Dataset(x_tr, label=y_tr, silent=True)\n",
    "        dcross = lgb.Dataset(x_cr, label=y_cr, silent=True)\n",
    "\n",
    "        clf = lgb.train(param, train_set=dtrain, num_boost_round=15000, valid_sets=[dtrain, dcross], \n",
    "                         early_stopping_rounds=100, verbose_eval=500, categorical_feature=category_feature)\n",
    "        \n",
    "        oof_train_type[cross_index] = clf.predict(x_cr)\n",
    "        oof_test_type += clf.predict(x_test_type[train_columns])/NFOLD\n",
    "        \n",
    "        feature_importance = pd.DataFrame()\n",
    "        feature_importance[\"Feature\"] = x_tr.columns\n",
    "        feature_importance[\"Importance\"] = clf.feature_importance()\n",
    "        feature_importance[\"FOLD\"] = i\n",
    "        feature_importance_type = pd.concat([feature_importance_type, feature_importance])\n",
    "        cv_score = roc_auc_score(y_cr, oof_train_type[cross_index])\n",
    "        type_score += cv_score / NFOLD\n",
    "        print(f\"{i} FOLD Score: \", cv_score)\n",
    "        if debug is True:\n",
    "            break\n",
    "        \n",
    "    print(\"Total CV: \", type_score)\n",
    "    print(\"Total CV2: \", roc_auc_score(y_train_type, oof_train_type))\n",
    "    cv_list[str(p_type)] = roc_auc_score(y_train_type, oof_train_type)\n",
    "    oof_train[x_train_type.index] = oof_train_type\n",
    "    oof_test[x_test_type.index] = oof_test_type\n",
    "    feature_importance_type[\"TYPE\"] = str(p_type)\n",
    "    feature_importance_df = pd.concat([feature_importance_df, feature_importance_type])"
   ]
  },
  {
   "cell_type": "code",
   "execution_count": 136,
   "metadata": {
    "ExecuteTime": {
     "end_time": "2019-09-26T23:24:17.033050Z",
     "start_time": "2019-09-26T23:24:14.349470Z"
    }
   },
   "outputs": [],
   "source": [
    "pd.DataFrame(oof_train,columns=[f'train_seed_{SEED}']).to_csv(f'../oof/goss_oof_train_seed_{SEED}.csv',index=False)\n",
    "pd.DataFrame(oof_test,columns=[f'test_seed_{SEED}']).to_csv(f'../oof/goss_oof_test_seed_{SEED}.csv',index=False)"
   ]
  },
  {
   "cell_type": "code",
   "execution_count": 160,
   "metadata": {
    "ExecuteTime": {
     "end_time": "2019-09-27T19:48:55.151070Z",
     "start_time": "2019-09-27T19:48:54.799951Z"
    }
   },
   "outputs": [
    {
     "name": "stdout",
     "output_type": "stream",
     "text": [
      "0.9807238125970722\n",
      "0.9787469534092774\n",
      "{'[4]': 0.9742083722231305, '[0, 2, 1, 3]': 0.9832855345954242}\n"
     ]
    }
   ],
   "source": [
    "#card1_addr1 addr1_id_32 card1 card2 addr1_id_19 addr1_id_14\n",
    "print(roc_auc_score(y_train, oof_train))\n",
    "print(np.mean([c for c in cv_list.values()]))\n",
    "print(cv_list)"
   ]
  },
  {
   "cell_type": "code",
   "execution_count": 133,
   "metadata": {
    "ExecuteTime": {
     "end_time": "2019-09-26T23:17:33.562158Z",
     "start_time": "2019-09-26T23:17:33.300112Z"
    }
   },
   "outputs": [
    {
     "name": "stdout",
     "output_type": "stream",
     "text": [
      "0.9822726367443497\n",
      "0.9802833773631142\n",
      "{'[4]': 0.9768916615473957, '[0, 2, 1, 3]': 0.9836750931788327}\n"
     ]
    }
   ],
   "source": [
    "#card1_addr1 addr1_id_32 card1 card2 addr1_id_19 addr1_id_14\n",
    "print(roc_auc_score(y_train, oof_train))\n",
    "print(np.mean([c for c in cv_list.values()]))\n",
    "print(cv_list)"
   ]
  },
  {
   "cell_type": "code",
   "execution_count": 154,
   "metadata": {
    "ExecuteTime": {
     "end_time": "2019-09-27T18:12:13.147817Z",
     "start_time": "2019-09-27T18:12:12.850743Z"
    }
   },
   "outputs": [
    {
     "name": "stdout",
     "output_type": "stream",
     "text": [
      "0.9810973144554898\n",
      "0.979067892895541\n",
      "{'[4]': 0.9748050371198658, '[0, 2, 1, 3]': 0.9833307486712161}\n"
     ]
    }
   ],
   "source": [
    "#card1_addr1 addr1_id_32 card1 card2 addr1_id_19 addr1_id_14\n",
    "print(roc_auc_score(y_train, oof_train))\n",
    "print(np.mean([c for c in cv_list.values()]))\n",
    "print(cv_list)"
   ]
  },
  {
   "cell_type": "code",
   "execution_count": 134,
   "metadata": {
    "ExecuteTime": {
     "end_time": "2019-09-26T23:17:59.700578Z",
     "start_time": "2019-09-26T23:17:59.671582Z"
    },
    "scrolled": true
   },
   "outputs": [
    {
     "data": {
      "text/html": [
       "<div>\n",
       "<style scoped>\n",
       "    .dataframe tbody tr th:only-of-type {\n",
       "        vertical-align: middle;\n",
       "    }\n",
       "\n",
       "    .dataframe tbody tr th {\n",
       "        vertical-align: top;\n",
       "    }\n",
       "\n",
       "    .dataframe thead th {\n",
       "        text-align: right;\n",
       "    }\n",
       "</style>\n",
       "<table border=\"1\" class=\"dataframe\">\n",
       "  <thead>\n",
       "    <tr style=\"text-align: right;\">\n",
       "      <th></th>\n",
       "      <th>Feature</th>\n",
       "      <th>Importance</th>\n",
       "    </tr>\n",
       "  </thead>\n",
       "  <tbody>\n",
       "    <tr>\n",
       "      <th>460</th>\n",
       "      <td>card1_addr1_make_date_D1_ProductCD_dist1_mean</td>\n",
       "      <td>5910.2</td>\n",
       "    </tr>\n",
       "    <tr>\n",
       "      <th>477</th>\n",
       "      <td>card1_make_date_D1_productCD_Amt_std</td>\n",
       "      <td>5408.6</td>\n",
       "    </tr>\n",
       "    <tr>\n",
       "      <th>478</th>\n",
       "      <td>card1_make_date_D1_productCD_hour_mean</td>\n",
       "      <td>5259.3</td>\n",
       "    </tr>\n",
       "    <tr>\n",
       "      <th>426</th>\n",
       "      <td>account_make_date_D1_fq_enc_combine</td>\n",
       "      <td>4829.9</td>\n",
       "    </tr>\n",
       "    <tr>\n",
       "      <th>430</th>\n",
       "      <td>addr1</td>\n",
       "      <td>4770.7</td>\n",
       "    </tr>\n",
       "    <tr>\n",
       "      <th>474</th>\n",
       "      <td>card1_make_date_D1_ProductCD_dist1_mean</td>\n",
       "      <td>4731.8</td>\n",
       "    </tr>\n",
       "    <tr>\n",
       "      <th>476</th>\n",
       "      <td>card1_make_date_D1_productCD_Amt_mean</td>\n",
       "      <td>4581.4</td>\n",
       "    </tr>\n",
       "    <tr>\n",
       "      <th>459</th>\n",
       "      <td>card1_addr1_make_date_D1_ProductCD_Amt_std</td>\n",
       "      <td>4230.1</td>\n",
       "    </tr>\n",
       "    <tr>\n",
       "      <th>514</th>\n",
       "      <td>id_02</td>\n",
       "      <td>4146.6</td>\n",
       "    </tr>\n",
       "    <tr>\n",
       "      <th>80</th>\n",
       "      <td>TransactionAmt</td>\n",
       "      <td>3944.5</td>\n",
       "    </tr>\n",
       "    <tr>\n",
       "      <th>475</th>\n",
       "      <td>card1_make_date_D1_ProductCD_dist1_std</td>\n",
       "      <td>3839.6</td>\n",
       "    </tr>\n",
       "    <tr>\n",
       "      <th>464</th>\n",
       "      <td>card1_card2_make_date_D1_ProductCD_dist1_mean</td>\n",
       "      <td>3833.4</td>\n",
       "    </tr>\n",
       "    <tr>\n",
       "      <th>588</th>\n",
       "      <td>uid2_dayofweek_std</td>\n",
       "      <td>3778.8</td>\n",
       "    </tr>\n",
       "    <tr>\n",
       "      <th>425</th>\n",
       "      <td>account_make_date_D15</td>\n",
       "      <td>3776.8</td>\n",
       "    </tr>\n",
       "    <tr>\n",
       "      <th>461</th>\n",
       "      <td>card1_addr1_make_date_D1_ProductCD_dist1_std</td>\n",
       "      <td>3709.2</td>\n",
       "    </tr>\n",
       "    <tr>\n",
       "      <th>428</th>\n",
       "      <td>account_make_date_D4</td>\n",
       "      <td>3659.2</td>\n",
       "    </tr>\n",
       "    <tr>\n",
       "      <th>458</th>\n",
       "      <td>card1_addr1_make_date_D1_ProductCD_Amt_mean</td>\n",
       "      <td>3645.8</td>\n",
       "    </tr>\n",
       "    <tr>\n",
       "      <th>472</th>\n",
       "      <td>card1_id_20_make_date_D1_ProductCD_Amt_mean</td>\n",
       "      <td>3622.2</td>\n",
       "    </tr>\n",
       "    <tr>\n",
       "      <th>423</th>\n",
       "      <td>account_make_date_D1</td>\n",
       "      <td>3346.5</td>\n",
       "    </tr>\n",
       "    <tr>\n",
       "      <th>473</th>\n",
       "      <td>card1_id_20_make_date_D1_ProductCD_Amt_std</td>\n",
       "      <td>3268.2</td>\n",
       "    </tr>\n",
       "    <tr>\n",
       "      <th>74</th>\n",
       "      <td>ProductCD_Amt_expandmean</td>\n",
       "      <td>3265.1</td>\n",
       "    </tr>\n",
       "    <tr>\n",
       "      <th>481</th>\n",
       "      <td>card1_maked1_pcd</td>\n",
       "      <td>3233.0</td>\n",
       "    </tr>\n",
       "    <tr>\n",
       "      <th>482</th>\n",
       "      <td>card1_maked1_pcd_fq_enc_combine</td>\n",
       "      <td>3178.4</td>\n",
       "    </tr>\n",
       "    <tr>\n",
       "      <th>548</th>\n",
       "      <td>id_20</td>\n",
       "      <td>3134.6</td>\n",
       "    </tr>\n",
       "    <tr>\n",
       "      <th>515</th>\n",
       "      <td>id_02_ProductCD_amt_mean</td>\n",
       "      <td>3098.2</td>\n",
       "    </tr>\n",
       "    <tr>\n",
       "      <th>591</th>\n",
       "      <td>uid3_next_click</td>\n",
       "      <td>3054.3</td>\n",
       "    </tr>\n",
       "    <tr>\n",
       "      <th>587</th>\n",
       "      <td>uid2_dayofweek_mean</td>\n",
       "      <td>3053.3</td>\n",
       "    </tr>\n",
       "    <tr>\n",
       "      <th>468</th>\n",
       "      <td>card1_id_20_LDA_1</td>\n",
       "      <td>3051.3</td>\n",
       "    </tr>\n",
       "    <tr>\n",
       "      <th>465</th>\n",
       "      <td>card1_card2_make_date_D1_ProductCD_dist1_std</td>\n",
       "      <td>2987.0</td>\n",
       "    </tr>\n",
       "    <tr>\n",
       "      <th>471</th>\n",
       "      <td>card1_id_20_LDA_4</td>\n",
       "      <td>2880.0</td>\n",
       "    </tr>\n",
       "    <tr>\n",
       "      <th>...</th>\n",
       "      <td>...</td>\n",
       "      <td>...</td>\n",
       "    </tr>\n",
       "    <tr>\n",
       "      <th>99</th>\n",
       "      <td>V112</td>\n",
       "      <td>4.3</td>\n",
       "    </tr>\n",
       "    <tr>\n",
       "      <th>318</th>\n",
       "      <td>V31</td>\n",
       "      <td>3.7</td>\n",
       "    </tr>\n",
       "    <tr>\n",
       "      <th>207</th>\n",
       "      <td>V21</td>\n",
       "      <td>3.7</td>\n",
       "    </tr>\n",
       "    <tr>\n",
       "      <th>84</th>\n",
       "      <td>V1</td>\n",
       "      <td>3.4</td>\n",
       "    </tr>\n",
       "    <tr>\n",
       "      <th>369</th>\n",
       "      <td>V50</td>\n",
       "      <td>2.9</td>\n",
       "    </tr>\n",
       "    <tr>\n",
       "      <th>335</th>\n",
       "      <td>V325</td>\n",
       "      <td>1.8</td>\n",
       "    </tr>\n",
       "    <tr>\n",
       "      <th>129</th>\n",
       "      <td>V14</td>\n",
       "      <td>1.6</td>\n",
       "    </tr>\n",
       "    <tr>\n",
       "      <th>552</th>\n",
       "      <td>id_22</td>\n",
       "      <td>1.4</td>\n",
       "    </tr>\n",
       "    <tr>\n",
       "      <th>241</th>\n",
       "      <td>V240</td>\n",
       "      <td>1.4</td>\n",
       "    </tr>\n",
       "    <tr>\n",
       "      <th>110</th>\n",
       "      <td>V122</td>\n",
       "      <td>1.3</td>\n",
       "    </tr>\n",
       "    <tr>\n",
       "      <th>109</th>\n",
       "      <td>V121</td>\n",
       "      <td>1.1</td>\n",
       "    </tr>\n",
       "    <tr>\n",
       "      <th>105</th>\n",
       "      <td>V118</td>\n",
       "      <td>0.8</td>\n",
       "    </tr>\n",
       "    <tr>\n",
       "      <th>359</th>\n",
       "      <td>V41</td>\n",
       "      <td>0.7</td>\n",
       "    </tr>\n",
       "    <tr>\n",
       "      <th>273</th>\n",
       "      <td>V27</td>\n",
       "      <td>0.6</td>\n",
       "    </tr>\n",
       "    <tr>\n",
       "      <th>100</th>\n",
       "      <td>V113</td>\n",
       "      <td>0.4</td>\n",
       "    </tr>\n",
       "    <tr>\n",
       "      <th>108</th>\n",
       "      <td>V120</td>\n",
       "      <td>0.3</td>\n",
       "    </tr>\n",
       "    <tr>\n",
       "      <th>385</th>\n",
       "      <td>V65</td>\n",
       "      <td>0.2</td>\n",
       "    </tr>\n",
       "    <tr>\n",
       "      <th>410</th>\n",
       "      <td>V88</td>\n",
       "      <td>0.2</td>\n",
       "    </tr>\n",
       "    <tr>\n",
       "      <th>580</th>\n",
       "      <td>id_35</td>\n",
       "      <td>0.2</td>\n",
       "    </tr>\n",
       "    <tr>\n",
       "      <th>411</th>\n",
       "      <td>V89</td>\n",
       "      <td>0.1</td>\n",
       "    </tr>\n",
       "    <tr>\n",
       "      <th>388</th>\n",
       "      <td>V68</td>\n",
       "      <td>0.0</td>\n",
       "    </tr>\n",
       "    <tr>\n",
       "      <th>242</th>\n",
       "      <td>V241</td>\n",
       "      <td>0.0</td>\n",
       "    </tr>\n",
       "    <tr>\n",
       "      <th>106</th>\n",
       "      <td>V119</td>\n",
       "      <td>0.0</td>\n",
       "    </tr>\n",
       "    <tr>\n",
       "      <th>284</th>\n",
       "      <td>V28</td>\n",
       "      <td>0.0</td>\n",
       "    </tr>\n",
       "    <tr>\n",
       "      <th>104</th>\n",
       "      <td>V117</td>\n",
       "      <td>0.0</td>\n",
       "    </tr>\n",
       "    <tr>\n",
       "      <th>444</th>\n",
       "      <td>addr2</td>\n",
       "      <td>0.0</td>\n",
       "    </tr>\n",
       "    <tr>\n",
       "      <th>561</th>\n",
       "      <td>id_27</td>\n",
       "      <td>0.0</td>\n",
       "    </tr>\n",
       "    <tr>\n",
       "      <th>313</th>\n",
       "      <td>V305</td>\n",
       "      <td>0.0</td>\n",
       "    </tr>\n",
       "    <tr>\n",
       "      <th>93</th>\n",
       "      <td>V107</td>\n",
       "      <td>0.0</td>\n",
       "    </tr>\n",
       "    <tr>\n",
       "      <th>553</th>\n",
       "      <td>id_22_fq_enc</td>\n",
       "      <td>0.0</td>\n",
       "    </tr>\n",
       "  </tbody>\n",
       "</table>\n",
       "<p>596 rows × 2 columns</p>\n",
       "</div>"
      ],
      "text/plain": [
       "                                           Feature  Importance\n",
       "460  card1_addr1_make_date_D1_ProductCD_dist1_mean      5910.2\n",
       "477           card1_make_date_D1_productCD_Amt_std      5408.6\n",
       "478         card1_make_date_D1_productCD_hour_mean      5259.3\n",
       "426            account_make_date_D1_fq_enc_combine      4829.9\n",
       "430                                          addr1      4770.7\n",
       "474        card1_make_date_D1_ProductCD_dist1_mean      4731.8\n",
       "476          card1_make_date_D1_productCD_Amt_mean      4581.4\n",
       "459     card1_addr1_make_date_D1_ProductCD_Amt_std      4230.1\n",
       "514                                          id_02      4146.6\n",
       "80                                  TransactionAmt      3944.5\n",
       "475         card1_make_date_D1_ProductCD_dist1_std      3839.6\n",
       "464  card1_card2_make_date_D1_ProductCD_dist1_mean      3833.4\n",
       "588                             uid2_dayofweek_std      3778.8\n",
       "425                          account_make_date_D15      3776.8\n",
       "461   card1_addr1_make_date_D1_ProductCD_dist1_std      3709.2\n",
       "428                           account_make_date_D4      3659.2\n",
       "458    card1_addr1_make_date_D1_ProductCD_Amt_mean      3645.8\n",
       "472    card1_id_20_make_date_D1_ProductCD_Amt_mean      3622.2\n",
       "423                           account_make_date_D1      3346.5\n",
       "473     card1_id_20_make_date_D1_ProductCD_Amt_std      3268.2\n",
       "74                        ProductCD_Amt_expandmean      3265.1\n",
       "481                               card1_maked1_pcd      3233.0\n",
       "482                card1_maked1_pcd_fq_enc_combine      3178.4\n",
       "548                                          id_20      3134.6\n",
       "515                       id_02_ProductCD_amt_mean      3098.2\n",
       "591                                uid3_next_click      3054.3\n",
       "587                            uid2_dayofweek_mean      3053.3\n",
       "468                              card1_id_20_LDA_1      3051.3\n",
       "465   card1_card2_make_date_D1_ProductCD_dist1_std      2987.0\n",
       "471                              card1_id_20_LDA_4      2880.0\n",
       "..                                             ...         ...\n",
       "99                                            V112         4.3\n",
       "318                                            V31         3.7\n",
       "207                                            V21         3.7\n",
       "84                                              V1         3.4\n",
       "369                                            V50         2.9\n",
       "335                                           V325         1.8\n",
       "129                                            V14         1.6\n",
       "552                                          id_22         1.4\n",
       "241                                           V240         1.4\n",
       "110                                           V122         1.3\n",
       "109                                           V121         1.1\n",
       "105                                           V118         0.8\n",
       "359                                            V41         0.7\n",
       "273                                            V27         0.6\n",
       "100                                           V113         0.4\n",
       "108                                           V120         0.3\n",
       "385                                            V65         0.2\n",
       "410                                            V88         0.2\n",
       "580                                          id_35         0.2\n",
       "411                                            V89         0.1\n",
       "388                                            V68         0.0\n",
       "242                                           V241         0.0\n",
       "106                                           V119         0.0\n",
       "284                                            V28         0.0\n",
       "104                                           V117         0.0\n",
       "444                                          addr2         0.0\n",
       "561                                          id_27         0.0\n",
       "313                                           V305         0.0\n",
       "93                                            V107         0.0\n",
       "553                                   id_22_fq_enc         0.0\n",
       "\n",
       "[596 rows x 2 columns]"
      ]
     },
     "execution_count": 134,
     "metadata": {},
     "output_type": "execute_result"
    }
   ],
   "source": [
    "fi = feature_importance_df.groupby(['Feature'])['Importance'].mean().reset_index()\n",
    "\n",
    "fi = fi.sort_values('Importance',ascending=False)\n",
    "fi.to_csv('../importance/goss.csv',index=False)\n",
    "fi"
   ]
  },
  {
   "cell_type": "code",
   "execution_count": 135,
   "metadata": {
    "ExecuteTime": {
     "end_time": "2019-09-26T23:18:10.685920Z",
     "start_time": "2019-09-26T23:18:08.722496Z"
    }
   },
   "outputs": [],
   "source": [
    "sub = pd.read_csv('../input/sample_submission.csv')\n",
    "sub['isFraud'] = oof_test\n",
    "sub.to_csv('../output/goss.csv',index=False)"
   ]
  },
  {
   "cell_type": "markdown",
   "metadata": {},
   "source": [
    "#### Seed Sampling"
   ]
  },
  {
   "cell_type": "code",
   "execution_count": 137,
   "metadata": {
    "ExecuteTime": {
     "end_time": "2019-09-27T04:05:46.476414Z",
     "start_time": "2019-09-26T23:24:41.340078Z"
    },
    "scrolled": true
   },
   "outputs": [
    {
     "name": "stdout",
     "output_type": "stream",
     "text": [
      "0\n",
      "(439670, 603)\n",
      "325 ['C1', 'C11', 'C12', 'C13', 'C14', 'C2', 'C5', 'C6', 'C9', 'D1', 'D10', 'D11', 'D15', 'D2', 'D3', 'D4', 'D5', 'M1', 'M2', 'M3', 'M4', 'M5', 'M6', 'M7', 'M8', 'M9', 'P_emaildomain', 'TransactionAmt', 'V1', 'V10', 'V100', 'V101', 'V102', 'V103', 'V104', 'V105', 'V106', 'V107', 'V108', 'V109', 'V11', 'V110', 'V111', 'V112', 'V113', 'V114', 'V115', 'V116', 'V117', 'V118', 'V119', 'V12', 'V120', 'V121', 'V122', 'V123', 'V124', 'V125', 'V126', 'V127', 'V128', 'V129', 'V13', 'V130', 'V131', 'V132', 'V133', 'V134', 'V135', 'V136', 'V137', 'V14', 'V15', 'V16', 'V17', 'V18', 'V19', 'V2', 'V20', 'V21', 'V22', 'V23', 'V24', 'V25', 'V26', 'V27', 'V279', 'V28', 'V280', 'V281', 'V282', 'V283', 'V284', 'V285', 'V286', 'V287', 'V288', 'V289', 'V29', 'V290', 'V291', 'V292', 'V293', 'V294', 'V295', 'V296', 'V297', 'V298', 'V299', 'V3', 'V30', 'V300', 'V301', 'V302', 'V303', 'V304', 'V305', 'V306', 'V307', 'V308', 'V309', 'V31', 'V310', 'V311', 'V312', 'V313', 'V314', 'V315', 'V316', 'V317', 'V318', 'V319', 'V32', 'V320', 'V321', 'V33', 'V34', 'V35', 'V36', 'V37', 'V38', 'V39', 'V4', 'V40', 'V41', 'V42', 'V43', 'V44', 'V45', 'V46', 'V47', 'V48', 'V49', 'V5', 'V50', 'V51', 'V52', 'V53', 'V54', 'V55', 'V56', 'V57', 'V58', 'V59', 'V6', 'V60', 'V61', 'V62', 'V63', 'V64', 'V65', 'V66', 'V67', 'V68', 'V69', 'V7', 'V70', 'V71', 'V72', 'V73', 'V74', 'V75', 'V76', 'V77', 'V78', 'V79', 'V8', 'V80', 'V81', 'V82', 'V83', 'V84', 'V85', 'V86', 'V87', 'V88', 'V89', 'V9', 'V90', 'V91', 'V92', 'V93', 'V94', 'V95', 'V96', 'V97', 'V98', 'V99', 'addr1', 'addr2', 'card1', 'card2', 'card3', 'card4', 'card5', 'card6', 'dist1', 'email_check_nan_all', 'P_emaildomain_Country', 'P_emaildomain_prefix', 'M_not_null', 'M_sum', 'collect_agree_ratio', 'dow', 'day', 'Transaction_hour', 'card1_fq_enc', 'card2_fq_enc', 'card3_fq_enc', 'card5_fq_enc', 'C1_fq_enc', 'C2_fq_enc', 'C5_fq_enc', 'C6_fq_enc', 'C9_fq_enc', 'C11_fq_enc', 'C12_fq_enc', 'C13_fq_enc', 'C14_fq_enc', 'D1_fq_enc', 'D2_fq_enc', 'D3_fq_enc', 'D4_fq_enc', 'D5_fq_enc', 'addr1_fq_enc', 'addr2_fq_enc', 'dist1_fq_enc', 'P_emaildomain_fq_enc', 'card1_TransactionAmt_mean', 'card1_TransactionAmt_std', 'card2_TransactionAmt_mean', 'card2_TransactionAmt_std', 'card3_TransactionAmt_mean', 'card3_TransactionAmt_std', 'card5_TransactionAmt_mean', 'card5_TransactionAmt_std', 'uid_TransactionAmt_mean', 'uid_TransactionAmt_std', 'uid2_TransactionAmt_mean', 'uid2_TransactionAmt_std', 'uid3_TransactionAmt_mean', 'uid3_TransactionAmt_std', 'ymd_TransactionDT_count', 'ymd_TransactionAmt_sum', 'uid2_dayofweek_mean', 'uid2_dayofweek_std', 'TransactionAmt_decimal_count', 'TransactionAmt_decimal', 'account_make_date_D1', 'account_make_date_D2', 'account_make_date_D4', 'account_make_date_D10', 'account_make_date_D15', 'card1_make_date_D1_productCD_Amt_mean', 'card1_make_date_D1_productCD_Amt_std', 'card1_addr1_LDA_0', 'card1_addr1_LDA_1', 'card1_addr1_LDA_2', 'card1_addr1_LDA_3', 'card1_addr1_LDA_4', 'card1_id_20_LDA_0', 'card1_id_20_LDA_1', 'card1_id_20_LDA_2', 'card1_id_20_LDA_3', 'card1_id_20_LDA_4', 'card4_DeviceInfo_c_NMF_0', 'card4_DeviceInfo_c_NMF_1', 'card4_DeviceInfo_c_NMF_2', 'card4_DeviceInfo_c_NMF_3', 'card4_DeviceInfo_c_NMF_4', 'addr1_id_32_combine', 'addr1_id_32_combine_fq_enc_combine', 'addr1_id_32_combine_TransactionAmt_mean', 'addr1_id_32_combine_TransactionAmt_std', 'addr1_id_14_combine', 'addr1_id_14_combine_fq_enc_combine', 'addr1_id_14_combine_TransactionAmt_mean', 'addr1_id_14_combine_TransactionAmt_std', 'addr1_id_19_combine', 'addr1_id_19_combine_fq_enc_combine', 'addr1_id_19_combine_TransactionAmt_mean', 'addr1_id_19_combine_TransactionAmt_std', 'card1_card2_combine', 'card1_card2_combine_fq_enc_combine', 'card1_addr1_combine', 'card1_addr1_combine_fq_enc_combine', 'card1_addr1_combine_TransactionAmt_mean', 'card1_addr1_combine_TransactionAmt_std', 'uid3_next_click', 'card1_make_date_D2_productCD_Amt_mean', 'card1_make_date_D2_productCD_Amt_std', 'card1_addr1_make_date_D1_ProductCD_Amt_mean', 'card1_addr1_make_date_D1_ProductCD_Amt_std', 'ProductCD_Amt_expandmean', 'card1_make_date_D1_ProductCD_dist1_mean', 'card1_make_date_D1_ProductCD_dist1_std', 'card1_addr1_make_date_D1_ProductCD_dist1_mean', 'card1_addr1_make_date_D1_ProductCD_dist1_std', 'card1_card2_make_date_D1_ProductCD_dist1_mean', 'card1_card2_make_date_D1_ProductCD_dist1_std', 'card1_make_date_D1_productCD_hour_mean', 'card1_maked1_pcd', 'card1_maked1_pcd_fq_enc_combine', 'account_make_date_D1_fq_enc_combine', 'M4_target_mean']\n",
      "TYPE [4] - 1 FOLD Start\n"
     ]
    },
    {
     "name": "stderr",
     "output_type": "stream",
     "text": [
      "C:\\Users\\kimym\\Anaconda3\\lib\\site-packages\\lightgbm\\basic.py:1188: UserWarning: categorical_feature in Dataset is overridden.\n",
      "New categorical_feature is ['P_emaildomain', 'addr1', 'addr2']\n",
      "  'New categorical_feature is {}'.format(sorted(list(categorical_feature))))\n",
      "C:\\Users\\kimym\\Anaconda3\\lib\\site-packages\\lightgbm\\basic.py:1188: UserWarning: categorical_feature in Dataset is overridden.\n",
      "New categorical_feature is ['P_emaildomain', 'addr1', 'addr2']\n",
      "  'New categorical_feature is {}'.format(sorted(list(categorical_feature))))\n",
      "C:\\Users\\kimym\\Anaconda3\\lib\\site-packages\\lightgbm\\basic.py:742: UserWarning: categorical_feature in param dict is overridden.\n",
      "  warnings.warn('categorical_feature in param dict is overridden.')\n"
     ]
    },
    {
     "name": "stdout",
     "output_type": "stream",
     "text": [
      "Training until validation scores don't improve for 100 rounds.\n",
      "[500]\ttraining's auc: 0.999878\tvalid_1's auc: 0.970224\n",
      "[1000]\ttraining's auc: 1\tvalid_1's auc: 0.975926\n",
      "Early stopping, best iteration is:\n",
      "[1120]\ttraining's auc: 1\tvalid_1's auc: 0.976306\n",
      "1 FOLD Score:  0.9763061914627875\n",
      "TYPE [4] - 2 FOLD Start\n"
     ]
    },
    {
     "name": "stderr",
     "output_type": "stream",
     "text": [
      "C:\\Users\\kimym\\Anaconda3\\lib\\site-packages\\lightgbm\\basic.py:1188: UserWarning: categorical_feature in Dataset is overridden.\n",
      "New categorical_feature is ['P_emaildomain', 'addr1', 'addr2']\n",
      "  'New categorical_feature is {}'.format(sorted(list(categorical_feature))))\n",
      "C:\\Users\\kimym\\Anaconda3\\lib\\site-packages\\lightgbm\\basic.py:1188: UserWarning: categorical_feature in Dataset is overridden.\n",
      "New categorical_feature is ['P_emaildomain', 'addr1', 'addr2']\n",
      "  'New categorical_feature is {}'.format(sorted(list(categorical_feature))))\n",
      "C:\\Users\\kimym\\Anaconda3\\lib\\site-packages\\lightgbm\\basic.py:742: UserWarning: categorical_feature in param dict is overridden.\n",
      "  warnings.warn('categorical_feature in param dict is overridden.')\n"
     ]
    },
    {
     "name": "stdout",
     "output_type": "stream",
     "text": [
      "Training until validation scores don't improve for 100 rounds.\n",
      "[500]\ttraining's auc: 0.999896\tvalid_1's auc: 0.973842\n",
      "[1000]\ttraining's auc: 1\tvalid_1's auc: 0.979371\n",
      "Early stopping, best iteration is:\n",
      "[1025]\ttraining's auc: 1\tvalid_1's auc: 0.979423\n",
      "2 FOLD Score:  0.9794231875775066\n",
      "TYPE [4] - 3 FOLD Start\n"
     ]
    },
    {
     "name": "stderr",
     "output_type": "stream",
     "text": [
      "C:\\Users\\kimym\\Anaconda3\\lib\\site-packages\\lightgbm\\basic.py:1188: UserWarning: categorical_feature in Dataset is overridden.\n",
      "New categorical_feature is ['P_emaildomain', 'addr1', 'addr2']\n",
      "  'New categorical_feature is {}'.format(sorted(list(categorical_feature))))\n",
      "C:\\Users\\kimym\\Anaconda3\\lib\\site-packages\\lightgbm\\basic.py:1188: UserWarning: categorical_feature in Dataset is overridden.\n",
      "New categorical_feature is ['P_emaildomain', 'addr1', 'addr2']\n",
      "  'New categorical_feature is {}'.format(sorted(list(categorical_feature))))\n",
      "C:\\Users\\kimym\\Anaconda3\\lib\\site-packages\\lightgbm\\basic.py:742: UserWarning: categorical_feature in param dict is overridden.\n",
      "  warnings.warn('categorical_feature in param dict is overridden.')\n"
     ]
    },
    {
     "name": "stdout",
     "output_type": "stream",
     "text": [
      "Training until validation scores don't improve for 100 rounds.\n",
      "[500]\ttraining's auc: 0.999884\tvalid_1's auc: 0.971387\n",
      "[1000]\ttraining's auc: 1\tvalid_1's auc: 0.975739\n",
      "Early stopping, best iteration is:\n",
      "[1083]\ttraining's auc: 1\tvalid_1's auc: 0.976018\n",
      "3 FOLD Score:  0.9760177619125641\n",
      "TYPE [4] - 4 FOLD Start\n"
     ]
    },
    {
     "name": "stderr",
     "output_type": "stream",
     "text": [
      "C:\\Users\\kimym\\Anaconda3\\lib\\site-packages\\lightgbm\\basic.py:1188: UserWarning: categorical_feature in Dataset is overridden.\n",
      "New categorical_feature is ['P_emaildomain', 'addr1', 'addr2']\n",
      "  'New categorical_feature is {}'.format(sorted(list(categorical_feature))))\n",
      "C:\\Users\\kimym\\Anaconda3\\lib\\site-packages\\lightgbm\\basic.py:1188: UserWarning: categorical_feature in Dataset is overridden.\n",
      "New categorical_feature is ['P_emaildomain', 'addr1', 'addr2']\n",
      "  'New categorical_feature is {}'.format(sorted(list(categorical_feature))))\n",
      "C:\\Users\\kimym\\Anaconda3\\lib\\site-packages\\lightgbm\\basic.py:742: UserWarning: categorical_feature in param dict is overridden.\n",
      "  warnings.warn('categorical_feature in param dict is overridden.')\n"
     ]
    },
    {
     "name": "stdout",
     "output_type": "stream",
     "text": [
      "Training until validation scores don't improve for 100 rounds.\n",
      "[500]\ttraining's auc: 0.999898\tvalid_1's auc: 0.970423\n",
      "[1000]\ttraining's auc: 1\tvalid_1's auc: 0.976125\n",
      "Early stopping, best iteration is:\n",
      "[1099]\ttraining's auc: 1\tvalid_1's auc: 0.976308\n",
      "4 FOLD Score:  0.9763081618448514\n",
      "TYPE [4] - 5 FOLD Start\n"
     ]
    },
    {
     "name": "stderr",
     "output_type": "stream",
     "text": [
      "C:\\Users\\kimym\\Anaconda3\\lib\\site-packages\\lightgbm\\basic.py:1188: UserWarning: categorical_feature in Dataset is overridden.\n",
      "New categorical_feature is ['P_emaildomain', 'addr1', 'addr2']\n",
      "  'New categorical_feature is {}'.format(sorted(list(categorical_feature))))\n",
      "C:\\Users\\kimym\\Anaconda3\\lib\\site-packages\\lightgbm\\basic.py:1188: UserWarning: categorical_feature in Dataset is overridden.\n",
      "New categorical_feature is ['P_emaildomain', 'addr1', 'addr2']\n",
      "  'New categorical_feature is {}'.format(sorted(list(categorical_feature))))\n",
      "C:\\Users\\kimym\\Anaconda3\\lib\\site-packages\\lightgbm\\basic.py:742: UserWarning: categorical_feature in param dict is overridden.\n",
      "  warnings.warn('categorical_feature in param dict is overridden.')\n"
     ]
    },
    {
     "name": "stdout",
     "output_type": "stream",
     "text": [
      "Training until validation scores don't improve for 100 rounds.\n",
      "[500]\ttraining's auc: 0.99988\tvalid_1's auc: 0.971861\n",
      "[1000]\ttraining's auc: 1\tvalid_1's auc: 0.97765\n",
      "Early stopping, best iteration is:\n",
      "[1105]\ttraining's auc: 1\tvalid_1's auc: 0.978092\n",
      "5 FOLD Score:  0.9780920137919943\n",
      "Total CV:  0.9772294633179408\n",
      "Total CV2:  0.9771489918595836\n",
      "(150870, 603)\n",
      "561 ['C1', 'C10', 'C11', 'C12', 'C13', 'C14', 'C2', 'C3', 'C4', 'C6', 'C7', 'C8', 'D1', 'D10', 'D12', 'D13', 'D14', 'D15', 'D2', 'D3', 'D4', 'D5', 'D6', 'D7', 'D8', 'D9', 'DeviceInfo', 'DeviceType', 'M4', 'P_emaildomain', 'ProductCD', 'R_emaildomain', 'TransactionAmt', 'V100', 'V101', 'V102', 'V103', 'V104', 'V105', 'V106', 'V107', 'V108', 'V109', 'V110', 'V111', 'V112', 'V113', 'V114', 'V115', 'V116', 'V117', 'V118', 'V119', 'V12', 'V120', 'V121', 'V122', 'V123', 'V124', 'V125', 'V126', 'V127', 'V128', 'V129', 'V13', 'V130', 'V131', 'V132', 'V133', 'V134', 'V135', 'V136', 'V137', 'V138', 'V139', 'V14', 'V140', 'V141', 'V142', 'V143', 'V144', 'V145', 'V146', 'V147', 'V148', 'V149', 'V15', 'V150', 'V151', 'V152', 'V153', 'V154', 'V155', 'V156', 'V157', 'V158', 'V159', 'V16', 'V160', 'V161', 'V162', 'V163', 'V164', 'V165', 'V166', 'V167', 'V168', 'V169', 'V17', 'V170', 'V171', 'V172', 'V173', 'V174', 'V175', 'V176', 'V177', 'V178', 'V179', 'V18', 'V180', 'V181', 'V182', 'V183', 'V184', 'V185', 'V186', 'V187', 'V188', 'V189', 'V19', 'V190', 'V191', 'V192', 'V193', 'V194', 'V195', 'V196', 'V197', 'V198', 'V199', 'V20', 'V200', 'V201', 'V202', 'V203', 'V204', 'V205', 'V206', 'V207', 'V208', 'V209', 'V21', 'V210', 'V211', 'V212', 'V213', 'V214', 'V215', 'V216', 'V217', 'V218', 'V219', 'V22', 'V220', 'V221', 'V222', 'V223', 'V224', 'V225', 'V226', 'V227', 'V228', 'V229', 'V23', 'V230', 'V231', 'V232', 'V233', 'V234', 'V235', 'V236', 'V237', 'V238', 'V239', 'V24', 'V240', 'V241', 'V242', 'V243', 'V244', 'V245', 'V246', 'V247', 'V248', 'V249', 'V25', 'V250', 'V251', 'V252', 'V253', 'V254', 'V255', 'V256', 'V257', 'V258', 'V259', 'V26', 'V260', 'V261', 'V262', 'V263', 'V264', 'V265', 'V266', 'V267', 'V268', 'V269', 'V27', 'V270', 'V271', 'V272', 'V273', 'V274', 'V275', 'V276', 'V277', 'V278', 'V279', 'V28', 'V280', 'V281', 'V282', 'V283', 'V284', 'V285', 'V286', 'V287', 'V288', 'V289', 'V29', 'V290', 'V291', 'V292', 'V293', 'V294', 'V295', 'V296', 'V297', 'V298', 'V299', 'V30', 'V300', 'V301', 'V302', 'V303', 'V304', 'V305', 'V306', 'V307', 'V308', 'V309', 'V31', 'V310', 'V311', 'V312', 'V313', 'V314', 'V315', 'V316', 'V317', 'V318', 'V319', 'V32', 'V320', 'V321', 'V322', 'V323', 'V324', 'V325', 'V326', 'V327', 'V328', 'V329', 'V33', 'V330', 'V331', 'V332', 'V333', 'V334', 'V335', 'V336', 'V337', 'V338', 'V339', 'V34', 'V35', 'V36', 'V37', 'V38', 'V39', 'V40', 'V41', 'V42', 'V43', 'V44', 'V45', 'V46', 'V47', 'V48', 'V49', 'V50', 'V51', 'V52', 'V53', 'V54', 'V55', 'V56', 'V57', 'V58', 'V59', 'V60', 'V61', 'V62', 'V63', 'V64', 'V65', 'V66', 'V67', 'V68', 'V69', 'V70', 'V71', 'V72', 'V73', 'V74', 'V75', 'V76', 'V77', 'V78', 'V79', 'V80', 'V81', 'V82', 'V83', 'V84', 'V85', 'V86', 'V87', 'V88', 'V89', 'V90', 'V91', 'V92', 'V93', 'V94', 'V95', 'V96', 'V97', 'V98', 'V99', 'addr1', 'addr2', 'card1', 'card2', 'card3', 'card4', 'card5', 'card6', 'dist2', 'id_01', 'id_02', 'id_03', 'id_04', 'id_05', 'id_06', 'id_07', 'id_08', 'id_09', 'id_10', 'id_11', 'id_12', 'id_13', 'id_14', 'id_15', 'id_16', 'id_17', 'id_18', 'id_19', 'id_20', 'id_21', 'id_22', 'id_23', 'id_24', 'id_25', 'id_26', 'id_27', 'id_28', 'id_29', 'id_30', 'id_31', 'id_32', 'id_33', 'id_34', 'id_35', 'id_36', 'id_37', 'id_38', 'email_check', 'email_check_nan_all', 'email_check_nan_any', 'P_emaildomain_Country', 'R_emaildomain_Country', 'P_emaildomain_prefix', 'R_emaildomain_prefix', 'DeviceInfo_c', 'id_30_c', 'id_30_v', 'id_31_c', 'is_mobile_browser', 'id_31_v', 'dow', 'day', 'Transaction_hour', 'card1_fq_enc', 'card2_fq_enc', 'card3_fq_enc', 'card5_fq_enc', 'C1_fq_enc', 'C2_fq_enc', 'C3_fq_enc', 'C4_fq_enc', 'C6_fq_enc', 'C7_fq_enc', 'C8_fq_enc', 'C10_fq_enc', 'C11_fq_enc', 'C12_fq_enc', 'C13_fq_enc', 'C14_fq_enc', 'D1_fq_enc', 'D2_fq_enc', 'D3_fq_enc', 'D4_fq_enc', 'D5_fq_enc', 'D6_fq_enc', 'D7_fq_enc', 'D8_fq_enc', 'D9_fq_enc', 'addr1_fq_enc', 'addr2_fq_enc', 'dist2_fq_enc', 'P_emaildomain_fq_enc', 'R_emaildomain_fq_enc', 'id_01_fq_enc', 'id_02_fq_enc', 'id_03_fq_enc', 'id_04_fq_enc', 'id_05_fq_enc', 'id_06_fq_enc', 'id_07_fq_enc', 'id_08_fq_enc', 'id_09_fq_enc', 'id_10_fq_enc', 'id_11_fq_enc', 'id_13_fq_enc', 'id_14_fq_enc', 'id_17_fq_enc', 'id_18_fq_enc', 'id_19_fq_enc', 'id_20_fq_enc', 'id_21_fq_enc', 'id_22_fq_enc', 'id_24_fq_enc', 'id_25_fq_enc', 'id_26_fq_enc', 'id_30_fq_enc', 'id_31_fq_enc', 'id_32_fq_enc', 'id_33_fq_enc', 'DeviceInfo_fq_enc', 'DeviceInfo_c_fq_enc', 'id_30_c_fq_enc', 'id_30_v_fq_enc', 'id_31_v_fq_enc', 'card1_TransactionAmt_mean', 'card1_TransactionAmt_std', 'card2_TransactionAmt_mean', 'card2_TransactionAmt_std', 'card3_TransactionAmt_mean', 'card3_TransactionAmt_std', 'card5_TransactionAmt_mean', 'card5_TransactionAmt_std', 'uid_TransactionAmt_mean', 'uid_TransactionAmt_std', 'uid2_TransactionAmt_mean', 'uid2_TransactionAmt_std', 'uid3_TransactionAmt_mean', 'uid3_TransactionAmt_std', 'ymd_TransactionDT_count', 'ymd_TransactionAmt_sum', 'uid2_dayofweek_mean', 'uid2_dayofweek_std', 'TransactionAmt_decimal_count', 'TransactionAmt_decimal', 'account_make_date_D1', 'account_make_date_D2', 'account_make_date_D4', 'account_make_date_D8', 'account_make_date_D10', 'account_make_date_D15', 'card1_make_date_D1_productCD_Amt_mean', 'card1_make_date_D1_productCD_Amt_std', 'card1_addr1_LDA_0', 'card1_addr1_LDA_1', 'card1_addr1_LDA_2', 'card1_addr1_LDA_3', 'card1_addr1_LDA_4', 'card1_id_20_LDA_0', 'card1_id_20_LDA_1', 'card1_id_20_LDA_2', 'card1_id_20_LDA_3', 'card1_id_20_LDA_4', 'card4_DeviceInfo_c_NMF_0', 'card4_DeviceInfo_c_NMF_1', 'card4_DeviceInfo_c_NMF_2', 'card4_DeviceInfo_c_NMF_3', 'card4_DeviceInfo_c_NMF_4', 'addr1_id_32_combine', 'addr1_id_32_combine_fq_enc_combine', 'addr1_id_32_combine_TransactionAmt_mean', 'addr1_id_32_combine_TransactionAmt_std', 'addr1_id_14_combine', 'addr1_id_14_combine_fq_enc_combine', 'addr1_id_14_combine_TransactionAmt_mean', 'addr1_id_14_combine_TransactionAmt_std', 'addr1_id_19_combine', 'addr1_id_19_combine_fq_enc_combine', 'addr1_id_19_combine_TransactionAmt_mean', 'addr1_id_19_combine_TransactionAmt_std', 'card1_card2_combine', 'card1_card2_combine_fq_enc_combine', 'card1_addr1_combine', 'card1_addr1_combine_fq_enc_combine', 'card1_addr1_combine_TransactionAmt_mean', 'card1_addr1_combine_TransactionAmt_std', 'uid3_next_click', 'card1_make_date_D2_productCD_Amt_mean', 'card1_make_date_D2_productCD_Amt_std', 'card1_addr1_make_date_D1_ProductCD_Amt_mean', 'card1_addr1_make_date_D1_ProductCD_Amt_std', 'card1_id_20_make_date_D1_ProductCD_Amt_mean', 'card1_id_20_make_date_D1_ProductCD_Amt_std', 'ProductCD_Amt_expandmean', 'id_02_ProductCD_amt_mean', 'card1_make_date_D1_productCD_hour_mean', 'card1_maked1_pcd', 'card1_maked1_pcd_fq_enc_combine', 'account_make_date_D1_fq_enc_combine', 'ProductCD_target_mean', 'M4_target_mean']\n",
      "TYPE [0, 2, 1, 3] - 1 FOLD Start\n"
     ]
    },
    {
     "name": "stderr",
     "output_type": "stream",
     "text": [
      "C:\\Users\\kimym\\Anaconda3\\lib\\site-packages\\lightgbm\\basic.py:1188: UserWarning: categorical_feature in Dataset is overridden.\n",
      "New categorical_feature is ['P_emaildomain', 'R_emaildomain', 'addr1', 'addr2', 'id_13', 'id_15', 'id_30_v', 'id_31_v', 'id_33', 'id_37', 'id_38']\n",
      "  'New categorical_feature is {}'.format(sorted(list(categorical_feature))))\n",
      "C:\\Users\\kimym\\Anaconda3\\lib\\site-packages\\lightgbm\\basic.py:1188: UserWarning: categorical_feature in Dataset is overridden.\n",
      "New categorical_feature is ['P_emaildomain', 'R_emaildomain', 'addr1', 'addr2', 'id_13', 'id_15', 'id_30_v', 'id_31_v', 'id_33', 'id_37', 'id_38']\n",
      "  'New categorical_feature is {}'.format(sorted(list(categorical_feature))))\n",
      "C:\\Users\\kimym\\Anaconda3\\lib\\site-packages\\lightgbm\\basic.py:742: UserWarning: categorical_feature in param dict is overridden.\n",
      "  warnings.warn('categorical_feature in param dict is overridden.')\n"
     ]
    },
    {
     "name": "stdout",
     "output_type": "stream",
     "text": [
      "Training until validation scores don't improve for 100 rounds.\n",
      "[500]\ttraining's auc: 0.999554\tvalid_1's auc: 0.975725\n",
      "[1000]\ttraining's auc: 1\tvalid_1's auc: 0.979892\n",
      "Early stopping, best iteration is:\n",
      "[943]\ttraining's auc: 1\tvalid_1's auc: 0.979628\n",
      "1 FOLD Score:  0.9796284516511878\n",
      "TYPE [0, 2, 1, 3] - 2 FOLD Start\n"
     ]
    },
    {
     "name": "stderr",
     "output_type": "stream",
     "text": [
      "C:\\Users\\kimym\\Anaconda3\\lib\\site-packages\\lightgbm\\basic.py:1188: UserWarning: categorical_feature in Dataset is overridden.\n",
      "New categorical_feature is ['P_emaildomain', 'R_emaildomain', 'addr1', 'addr2', 'id_13', 'id_15', 'id_30_v', 'id_31_v', 'id_33', 'id_37', 'id_38']\n",
      "  'New categorical_feature is {}'.format(sorted(list(categorical_feature))))\n",
      "C:\\Users\\kimym\\Anaconda3\\lib\\site-packages\\lightgbm\\basic.py:1188: UserWarning: categorical_feature in Dataset is overridden.\n",
      "New categorical_feature is ['P_emaildomain', 'R_emaildomain', 'addr1', 'addr2', 'id_13', 'id_15', 'id_30_v', 'id_31_v', 'id_33', 'id_37', 'id_38']\n",
      "  'New categorical_feature is {}'.format(sorted(list(categorical_feature))))\n",
      "C:\\Users\\kimym\\Anaconda3\\lib\\site-packages\\lightgbm\\basic.py:742: UserWarning: categorical_feature in param dict is overridden.\n",
      "  warnings.warn('categorical_feature in param dict is overridden.')\n"
     ]
    },
    {
     "name": "stdout",
     "output_type": "stream",
     "text": [
      "Training until validation scores don't improve for 100 rounds.\n",
      "[500]\ttraining's auc: 0.999579\tvalid_1's auc: 0.981407\n",
      "[1000]\ttraining's auc: 1\tvalid_1's auc: 0.984512\n",
      "Early stopping, best iteration is:\n",
      "[934]\ttraining's auc: 1\tvalid_1's auc: 0.984355\n",
      "2 FOLD Score:  0.9843548523474733\n",
      "TYPE [0, 2, 1, 3] - 3 FOLD Start\n"
     ]
    },
    {
     "name": "stderr",
     "output_type": "stream",
     "text": [
      "C:\\Users\\kimym\\Anaconda3\\lib\\site-packages\\lightgbm\\basic.py:1188: UserWarning: categorical_feature in Dataset is overridden.\n",
      "New categorical_feature is ['P_emaildomain', 'R_emaildomain', 'addr1', 'addr2', 'id_13', 'id_15', 'id_30_v', 'id_31_v', 'id_33', 'id_37', 'id_38']\n",
      "  'New categorical_feature is {}'.format(sorted(list(categorical_feature))))\n",
      "C:\\Users\\kimym\\Anaconda3\\lib\\site-packages\\lightgbm\\basic.py:1188: UserWarning: categorical_feature in Dataset is overridden.\n",
      "New categorical_feature is ['P_emaildomain', 'R_emaildomain', 'addr1', 'addr2', 'id_13', 'id_15', 'id_30_v', 'id_31_v', 'id_33', 'id_37', 'id_38']\n",
      "  'New categorical_feature is {}'.format(sorted(list(categorical_feature))))\n",
      "C:\\Users\\kimym\\Anaconda3\\lib\\site-packages\\lightgbm\\basic.py:742: UserWarning: categorical_feature in param dict is overridden.\n",
      "  warnings.warn('categorical_feature in param dict is overridden.')\n"
     ]
    },
    {
     "name": "stdout",
     "output_type": "stream",
     "text": [
      "Training until validation scores don't improve for 100 rounds.\n",
      "[500]\ttraining's auc: 0.999566\tvalid_1's auc: 0.981247\n",
      "[1000]\ttraining's auc: 1\tvalid_1's auc: 0.984923\n",
      "Early stopping, best iteration is:\n",
      "[949]\ttraining's auc: 1\tvalid_1's auc: 0.984739\n",
      "3 FOLD Score:  0.9847390869038083\n",
      "TYPE [0, 2, 1, 3] - 4 FOLD Start\n"
     ]
    },
    {
     "name": "stderr",
     "output_type": "stream",
     "text": [
      "C:\\Users\\kimym\\Anaconda3\\lib\\site-packages\\lightgbm\\basic.py:1188: UserWarning: categorical_feature in Dataset is overridden.\n",
      "New categorical_feature is ['P_emaildomain', 'R_emaildomain', 'addr1', 'addr2', 'id_13', 'id_15', 'id_30_v', 'id_31_v', 'id_33', 'id_37', 'id_38']\n",
      "  'New categorical_feature is {}'.format(sorted(list(categorical_feature))))\n",
      "C:\\Users\\kimym\\Anaconda3\\lib\\site-packages\\lightgbm\\basic.py:1188: UserWarning: categorical_feature in Dataset is overridden.\n",
      "New categorical_feature is ['P_emaildomain', 'R_emaildomain', 'addr1', 'addr2', 'id_13', 'id_15', 'id_30_v', 'id_31_v', 'id_33', 'id_37', 'id_38']\n",
      "  'New categorical_feature is {}'.format(sorted(list(categorical_feature))))\n",
      "C:\\Users\\kimym\\Anaconda3\\lib\\site-packages\\lightgbm\\basic.py:742: UserWarning: categorical_feature in param dict is overridden.\n",
      "  warnings.warn('categorical_feature in param dict is overridden.')\n"
     ]
    },
    {
     "name": "stdout",
     "output_type": "stream",
     "text": [
      "Training until validation scores don't improve for 100 rounds.\n",
      "[500]\ttraining's auc: 0.999584\tvalid_1's auc: 0.979134\n",
      "[1000]\ttraining's auc: 1\tvalid_1's auc: 0.982757\n",
      "Early stopping, best iteration is:\n",
      "[907]\ttraining's auc: 1\tvalid_1's auc: 0.98239\n",
      "4 FOLD Score:  0.9823898741230943\n",
      "TYPE [0, 2, 1, 3] - 5 FOLD Start\n"
     ]
    },
    {
     "name": "stderr",
     "output_type": "stream",
     "text": [
      "C:\\Users\\kimym\\Anaconda3\\lib\\site-packages\\lightgbm\\basic.py:1188: UserWarning: categorical_feature in Dataset is overridden.\n",
      "New categorical_feature is ['P_emaildomain', 'R_emaildomain', 'addr1', 'addr2', 'id_13', 'id_15', 'id_30_v', 'id_31_v', 'id_33', 'id_37', 'id_38']\n",
      "  'New categorical_feature is {}'.format(sorted(list(categorical_feature))))\n",
      "C:\\Users\\kimym\\Anaconda3\\lib\\site-packages\\lightgbm\\basic.py:1188: UserWarning: categorical_feature in Dataset is overridden.\n",
      "New categorical_feature is ['P_emaildomain', 'R_emaildomain', 'addr1', 'addr2', 'id_13', 'id_15', 'id_30_v', 'id_31_v', 'id_33', 'id_37', 'id_38']\n",
      "  'New categorical_feature is {}'.format(sorted(list(categorical_feature))))\n",
      "C:\\Users\\kimym\\Anaconda3\\lib\\site-packages\\lightgbm\\basic.py:742: UserWarning: categorical_feature in param dict is overridden.\n",
      "  warnings.warn('categorical_feature in param dict is overridden.')\n"
     ]
    },
    {
     "name": "stdout",
     "output_type": "stream",
     "text": [
      "Training until validation scores don't improve for 100 rounds.\n",
      "[500]\ttraining's auc: 0.999536\tvalid_1's auc: 0.983554\n",
      "[1000]\ttraining's auc: 1\tvalid_1's auc: 0.986658\n",
      "Early stopping, best iteration is:\n",
      "[991]\ttraining's auc: 1\tvalid_1's auc: 0.986634\n",
      "5 FOLD Score:  0.9866342246861969\n",
      "Total CV:  0.9835492979423521\n",
      "Total CV2:  0.9835519754968378\n",
      "1\n",
      "(439670, 603)\n",
      "325 ['C1', 'C11', 'C12', 'C13', 'C14', 'C2', 'C5', 'C6', 'C9', 'D1', 'D10', 'D11', 'D15', 'D2', 'D3', 'D4', 'D5', 'M1', 'M2', 'M3', 'M4', 'M5', 'M6', 'M7', 'M8', 'M9', 'P_emaildomain', 'TransactionAmt', 'V1', 'V10', 'V100', 'V101', 'V102', 'V103', 'V104', 'V105', 'V106', 'V107', 'V108', 'V109', 'V11', 'V110', 'V111', 'V112', 'V113', 'V114', 'V115', 'V116', 'V117', 'V118', 'V119', 'V12', 'V120', 'V121', 'V122', 'V123', 'V124', 'V125', 'V126', 'V127', 'V128', 'V129', 'V13', 'V130', 'V131', 'V132', 'V133', 'V134', 'V135', 'V136', 'V137', 'V14', 'V15', 'V16', 'V17', 'V18', 'V19', 'V2', 'V20', 'V21', 'V22', 'V23', 'V24', 'V25', 'V26', 'V27', 'V279', 'V28', 'V280', 'V281', 'V282', 'V283', 'V284', 'V285', 'V286', 'V287', 'V288', 'V289', 'V29', 'V290', 'V291', 'V292', 'V293', 'V294', 'V295', 'V296', 'V297', 'V298', 'V299', 'V3', 'V30', 'V300', 'V301', 'V302', 'V303', 'V304', 'V305', 'V306', 'V307', 'V308', 'V309', 'V31', 'V310', 'V311', 'V312', 'V313', 'V314', 'V315', 'V316', 'V317', 'V318', 'V319', 'V32', 'V320', 'V321', 'V33', 'V34', 'V35', 'V36', 'V37', 'V38', 'V39', 'V4', 'V40', 'V41', 'V42', 'V43', 'V44', 'V45', 'V46', 'V47', 'V48', 'V49', 'V5', 'V50', 'V51', 'V52', 'V53', 'V54', 'V55', 'V56', 'V57', 'V58', 'V59', 'V6', 'V60', 'V61', 'V62', 'V63', 'V64', 'V65', 'V66', 'V67', 'V68', 'V69', 'V7', 'V70', 'V71', 'V72', 'V73', 'V74', 'V75', 'V76', 'V77', 'V78', 'V79', 'V8', 'V80', 'V81', 'V82', 'V83', 'V84', 'V85', 'V86', 'V87', 'V88', 'V89', 'V9', 'V90', 'V91', 'V92', 'V93', 'V94', 'V95', 'V96', 'V97', 'V98', 'V99', 'addr1', 'addr2', 'card1', 'card2', 'card3', 'card4', 'card5', 'card6', 'dist1', 'email_check_nan_all', 'P_emaildomain_Country', 'P_emaildomain_prefix', 'M_not_null', 'M_sum', 'collect_agree_ratio', 'dow', 'day', 'Transaction_hour', 'card1_fq_enc', 'card2_fq_enc', 'card3_fq_enc', 'card5_fq_enc', 'C1_fq_enc', 'C2_fq_enc', 'C5_fq_enc', 'C6_fq_enc', 'C9_fq_enc', 'C11_fq_enc', 'C12_fq_enc', 'C13_fq_enc', 'C14_fq_enc', 'D1_fq_enc', 'D2_fq_enc', 'D3_fq_enc', 'D4_fq_enc', 'D5_fq_enc', 'addr1_fq_enc', 'addr2_fq_enc', 'dist1_fq_enc', 'P_emaildomain_fq_enc', 'card1_TransactionAmt_mean', 'card1_TransactionAmt_std', 'card2_TransactionAmt_mean', 'card2_TransactionAmt_std', 'card3_TransactionAmt_mean', 'card3_TransactionAmt_std', 'card5_TransactionAmt_mean', 'card5_TransactionAmt_std', 'uid_TransactionAmt_mean', 'uid_TransactionAmt_std', 'uid2_TransactionAmt_mean', 'uid2_TransactionAmt_std', 'uid3_TransactionAmt_mean', 'uid3_TransactionAmt_std', 'ymd_TransactionDT_count', 'ymd_TransactionAmt_sum', 'uid2_dayofweek_mean', 'uid2_dayofweek_std', 'TransactionAmt_decimal_count', 'TransactionAmt_decimal', 'account_make_date_D1', 'account_make_date_D2', 'account_make_date_D4', 'account_make_date_D10', 'account_make_date_D15', 'card1_make_date_D1_productCD_Amt_mean', 'card1_make_date_D1_productCD_Amt_std', 'card1_addr1_LDA_0', 'card1_addr1_LDA_1', 'card1_addr1_LDA_2', 'card1_addr1_LDA_3', 'card1_addr1_LDA_4', 'card1_id_20_LDA_0', 'card1_id_20_LDA_1', 'card1_id_20_LDA_2', 'card1_id_20_LDA_3', 'card1_id_20_LDA_4', 'card4_DeviceInfo_c_NMF_0', 'card4_DeviceInfo_c_NMF_1', 'card4_DeviceInfo_c_NMF_2', 'card4_DeviceInfo_c_NMF_3', 'card4_DeviceInfo_c_NMF_4', 'addr1_id_32_combine', 'addr1_id_32_combine_fq_enc_combine', 'addr1_id_32_combine_TransactionAmt_mean', 'addr1_id_32_combine_TransactionAmt_std', 'addr1_id_14_combine', 'addr1_id_14_combine_fq_enc_combine', 'addr1_id_14_combine_TransactionAmt_mean', 'addr1_id_14_combine_TransactionAmt_std', 'addr1_id_19_combine', 'addr1_id_19_combine_fq_enc_combine', 'addr1_id_19_combine_TransactionAmt_mean', 'addr1_id_19_combine_TransactionAmt_std', 'card1_card2_combine', 'card1_card2_combine_fq_enc_combine', 'card1_addr1_combine', 'card1_addr1_combine_fq_enc_combine', 'card1_addr1_combine_TransactionAmt_mean', 'card1_addr1_combine_TransactionAmt_std', 'uid3_next_click', 'card1_make_date_D2_productCD_Amt_mean', 'card1_make_date_D2_productCD_Amt_std', 'card1_addr1_make_date_D1_ProductCD_Amt_mean', 'card1_addr1_make_date_D1_ProductCD_Amt_std', 'ProductCD_Amt_expandmean', 'card1_make_date_D1_ProductCD_dist1_mean', 'card1_make_date_D1_ProductCD_dist1_std', 'card1_addr1_make_date_D1_ProductCD_dist1_mean', 'card1_addr1_make_date_D1_ProductCD_dist1_std', 'card1_card2_make_date_D1_ProductCD_dist1_mean', 'card1_card2_make_date_D1_ProductCD_dist1_std', 'card1_make_date_D1_productCD_hour_mean', 'card1_maked1_pcd', 'card1_maked1_pcd_fq_enc_combine', 'account_make_date_D1_fq_enc_combine', 'M4_target_mean']\n",
      "TYPE [4] - 1 FOLD Start\n"
     ]
    },
    {
     "name": "stderr",
     "output_type": "stream",
     "text": [
      "C:\\Users\\kimym\\Anaconda3\\lib\\site-packages\\lightgbm\\basic.py:1188: UserWarning: categorical_feature in Dataset is overridden.\n",
      "New categorical_feature is ['P_emaildomain', 'addr1', 'addr2']\n",
      "  'New categorical_feature is {}'.format(sorted(list(categorical_feature))))\n",
      "C:\\Users\\kimym\\Anaconda3\\lib\\site-packages\\lightgbm\\basic.py:1188: UserWarning: categorical_feature in Dataset is overridden.\n",
      "New categorical_feature is ['P_emaildomain', 'addr1', 'addr2']\n",
      "  'New categorical_feature is {}'.format(sorted(list(categorical_feature))))\n",
      "C:\\Users\\kimym\\Anaconda3\\lib\\site-packages\\lightgbm\\basic.py:742: UserWarning: categorical_feature in param dict is overridden.\n",
      "  warnings.warn('categorical_feature in param dict is overridden.')\n"
     ]
    },
    {
     "name": "stdout",
     "output_type": "stream",
     "text": [
      "Training until validation scores don't improve for 100 rounds.\n",
      "[500]\ttraining's auc: 0.999869\tvalid_1's auc: 0.970065\n",
      "[1000]\ttraining's auc: 1\tvalid_1's auc: 0.975188\n",
      "Early stopping, best iteration is:\n",
      "[1120]\ttraining's auc: 1\tvalid_1's auc: 0.975726\n",
      "1 FOLD Score:  0.9757260907316705\n",
      "TYPE [4] - 2 FOLD Start\n"
     ]
    },
    {
     "name": "stderr",
     "output_type": "stream",
     "text": [
      "C:\\Users\\kimym\\Anaconda3\\lib\\site-packages\\lightgbm\\basic.py:1188: UserWarning: categorical_feature in Dataset is overridden.\n",
      "New categorical_feature is ['P_emaildomain', 'addr1', 'addr2']\n",
      "  'New categorical_feature is {}'.format(sorted(list(categorical_feature))))\n",
      "C:\\Users\\kimym\\Anaconda3\\lib\\site-packages\\lightgbm\\basic.py:1188: UserWarning: categorical_feature in Dataset is overridden.\n",
      "New categorical_feature is ['P_emaildomain', 'addr1', 'addr2']\n",
      "  'New categorical_feature is {}'.format(sorted(list(categorical_feature))))\n",
      "C:\\Users\\kimym\\Anaconda3\\lib\\site-packages\\lightgbm\\basic.py:742: UserWarning: categorical_feature in param dict is overridden.\n",
      "  warnings.warn('categorical_feature in param dict is overridden.')\n"
     ]
    },
    {
     "name": "stdout",
     "output_type": "stream",
     "text": [
      "Training until validation scores don't improve for 100 rounds.\n",
      "[500]\ttraining's auc: 0.999894\tvalid_1's auc: 0.973857\n",
      "[1000]\ttraining's auc: 1\tvalid_1's auc: 0.97916\n",
      "Early stopping, best iteration is:\n",
      "[1012]\ttraining's auc: 1\tvalid_1's auc: 0.979181\n",
      "2 FOLD Score:  0.9791812555796364\n",
      "TYPE [4] - 3 FOLD Start\n"
     ]
    },
    {
     "name": "stderr",
     "output_type": "stream",
     "text": [
      "C:\\Users\\kimym\\Anaconda3\\lib\\site-packages\\lightgbm\\basic.py:1188: UserWarning: categorical_feature in Dataset is overridden.\n",
      "New categorical_feature is ['P_emaildomain', 'addr1', 'addr2']\n",
      "  'New categorical_feature is {}'.format(sorted(list(categorical_feature))))\n",
      "C:\\Users\\kimym\\Anaconda3\\lib\\site-packages\\lightgbm\\basic.py:1188: UserWarning: categorical_feature in Dataset is overridden.\n",
      "New categorical_feature is ['P_emaildomain', 'addr1', 'addr2']\n",
      "  'New categorical_feature is {}'.format(sorted(list(categorical_feature))))\n",
      "C:\\Users\\kimym\\Anaconda3\\lib\\site-packages\\lightgbm\\basic.py:742: UserWarning: categorical_feature in param dict is overridden.\n",
      "  warnings.warn('categorical_feature in param dict is overridden.')\n"
     ]
    },
    {
     "name": "stdout",
     "output_type": "stream",
     "text": [
      "Training until validation scores don't improve for 100 rounds.\n",
      "[500]\ttraining's auc: 0.999881\tvalid_1's auc: 0.971256\n",
      "[1000]\ttraining's auc: 1\tvalid_1's auc: 0.975524\n",
      "Early stopping, best iteration is:\n",
      "[1072]\ttraining's auc: 1\tvalid_1's auc: 0.975834\n",
      "3 FOLD Score:  0.9758341790955534\n",
      "TYPE [4] - 4 FOLD Start\n"
     ]
    },
    {
     "name": "stderr",
     "output_type": "stream",
     "text": [
      "C:\\Users\\kimym\\Anaconda3\\lib\\site-packages\\lightgbm\\basic.py:1188: UserWarning: categorical_feature in Dataset is overridden.\n",
      "New categorical_feature is ['P_emaildomain', 'addr1', 'addr2']\n",
      "  'New categorical_feature is {}'.format(sorted(list(categorical_feature))))\n",
      "C:\\Users\\kimym\\Anaconda3\\lib\\site-packages\\lightgbm\\basic.py:1188: UserWarning: categorical_feature in Dataset is overridden.\n",
      "New categorical_feature is ['P_emaildomain', 'addr1', 'addr2']\n",
      "  'New categorical_feature is {}'.format(sorted(list(categorical_feature))))\n",
      "C:\\Users\\kimym\\Anaconda3\\lib\\site-packages\\lightgbm\\basic.py:742: UserWarning: categorical_feature in param dict is overridden.\n",
      "  warnings.warn('categorical_feature in param dict is overridden.')\n"
     ]
    },
    {
     "name": "stdout",
     "output_type": "stream",
     "text": [
      "Training until validation scores don't improve for 100 rounds.\n",
      "[500]\ttraining's auc: 0.999899\tvalid_1's auc: 0.970444\n",
      "[1000]\ttraining's auc: 1\tvalid_1's auc: 0.976007\n",
      "Early stopping, best iteration is:\n",
      "[1075]\ttraining's auc: 1\tvalid_1's auc: 0.976194\n",
      "4 FOLD Score:  0.9761942977895774\n",
      "TYPE [4] - 5 FOLD Start\n"
     ]
    },
    {
     "name": "stderr",
     "output_type": "stream",
     "text": [
      "C:\\Users\\kimym\\Anaconda3\\lib\\site-packages\\lightgbm\\basic.py:1188: UserWarning: categorical_feature in Dataset is overridden.\n",
      "New categorical_feature is ['P_emaildomain', 'addr1', 'addr2']\n",
      "  'New categorical_feature is {}'.format(sorted(list(categorical_feature))))\n",
      "C:\\Users\\kimym\\Anaconda3\\lib\\site-packages\\lightgbm\\basic.py:1188: UserWarning: categorical_feature in Dataset is overridden.\n",
      "New categorical_feature is ['P_emaildomain', 'addr1', 'addr2']\n",
      "  'New categorical_feature is {}'.format(sorted(list(categorical_feature))))\n",
      "C:\\Users\\kimym\\Anaconda3\\lib\\site-packages\\lightgbm\\basic.py:742: UserWarning: categorical_feature in param dict is overridden.\n",
      "  warnings.warn('categorical_feature in param dict is overridden.')\n"
     ]
    },
    {
     "name": "stdout",
     "output_type": "stream",
     "text": [
      "Training until validation scores don't improve for 100 rounds.\n",
      "[500]\ttraining's auc: 0.999872\tvalid_1's auc: 0.971615\n",
      "[1000]\ttraining's auc: 1\tvalid_1's auc: 0.977766\n",
      "Early stopping, best iteration is:\n",
      "[1111]\ttraining's auc: 1\tvalid_1's auc: 0.978329\n",
      "5 FOLD Score:  0.9783294448873809\n",
      "Total CV:  0.9770530536167638\n",
      "Total CV2:  0.9769459383579838\n",
      "(150870, 603)\n",
      "561 ['C1', 'C10', 'C11', 'C12', 'C13', 'C14', 'C2', 'C3', 'C4', 'C6', 'C7', 'C8', 'D1', 'D10', 'D12', 'D13', 'D14', 'D15', 'D2', 'D3', 'D4', 'D5', 'D6', 'D7', 'D8', 'D9', 'DeviceInfo', 'DeviceType', 'M4', 'P_emaildomain', 'ProductCD', 'R_emaildomain', 'TransactionAmt', 'V100', 'V101', 'V102', 'V103', 'V104', 'V105', 'V106', 'V107', 'V108', 'V109', 'V110', 'V111', 'V112', 'V113', 'V114', 'V115', 'V116', 'V117', 'V118', 'V119', 'V12', 'V120', 'V121', 'V122', 'V123', 'V124', 'V125', 'V126', 'V127', 'V128', 'V129', 'V13', 'V130', 'V131', 'V132', 'V133', 'V134', 'V135', 'V136', 'V137', 'V138', 'V139', 'V14', 'V140', 'V141', 'V142', 'V143', 'V144', 'V145', 'V146', 'V147', 'V148', 'V149', 'V15', 'V150', 'V151', 'V152', 'V153', 'V154', 'V155', 'V156', 'V157', 'V158', 'V159', 'V16', 'V160', 'V161', 'V162', 'V163', 'V164', 'V165', 'V166', 'V167', 'V168', 'V169', 'V17', 'V170', 'V171', 'V172', 'V173', 'V174', 'V175', 'V176', 'V177', 'V178', 'V179', 'V18', 'V180', 'V181', 'V182', 'V183', 'V184', 'V185', 'V186', 'V187', 'V188', 'V189', 'V19', 'V190', 'V191', 'V192', 'V193', 'V194', 'V195', 'V196', 'V197', 'V198', 'V199', 'V20', 'V200', 'V201', 'V202', 'V203', 'V204', 'V205', 'V206', 'V207', 'V208', 'V209', 'V21', 'V210', 'V211', 'V212', 'V213', 'V214', 'V215', 'V216', 'V217', 'V218', 'V219', 'V22', 'V220', 'V221', 'V222', 'V223', 'V224', 'V225', 'V226', 'V227', 'V228', 'V229', 'V23', 'V230', 'V231', 'V232', 'V233', 'V234', 'V235', 'V236', 'V237', 'V238', 'V239', 'V24', 'V240', 'V241', 'V242', 'V243', 'V244', 'V245', 'V246', 'V247', 'V248', 'V249', 'V25', 'V250', 'V251', 'V252', 'V253', 'V254', 'V255', 'V256', 'V257', 'V258', 'V259', 'V26', 'V260', 'V261', 'V262', 'V263', 'V264', 'V265', 'V266', 'V267', 'V268', 'V269', 'V27', 'V270', 'V271', 'V272', 'V273', 'V274', 'V275', 'V276', 'V277', 'V278', 'V279', 'V28', 'V280', 'V281', 'V282', 'V283', 'V284', 'V285', 'V286', 'V287', 'V288', 'V289', 'V29', 'V290', 'V291', 'V292', 'V293', 'V294', 'V295', 'V296', 'V297', 'V298', 'V299', 'V30', 'V300', 'V301', 'V302', 'V303', 'V304', 'V305', 'V306', 'V307', 'V308', 'V309', 'V31', 'V310', 'V311', 'V312', 'V313', 'V314', 'V315', 'V316', 'V317', 'V318', 'V319', 'V32', 'V320', 'V321', 'V322', 'V323', 'V324', 'V325', 'V326', 'V327', 'V328', 'V329', 'V33', 'V330', 'V331', 'V332', 'V333', 'V334', 'V335', 'V336', 'V337', 'V338', 'V339', 'V34', 'V35', 'V36', 'V37', 'V38', 'V39', 'V40', 'V41', 'V42', 'V43', 'V44', 'V45', 'V46', 'V47', 'V48', 'V49', 'V50', 'V51', 'V52', 'V53', 'V54', 'V55', 'V56', 'V57', 'V58', 'V59', 'V60', 'V61', 'V62', 'V63', 'V64', 'V65', 'V66', 'V67', 'V68', 'V69', 'V70', 'V71', 'V72', 'V73', 'V74', 'V75', 'V76', 'V77', 'V78', 'V79', 'V80', 'V81', 'V82', 'V83', 'V84', 'V85', 'V86', 'V87', 'V88', 'V89', 'V90', 'V91', 'V92', 'V93', 'V94', 'V95', 'V96', 'V97', 'V98', 'V99', 'addr1', 'addr2', 'card1', 'card2', 'card3', 'card4', 'card5', 'card6', 'dist2', 'id_01', 'id_02', 'id_03', 'id_04', 'id_05', 'id_06', 'id_07', 'id_08', 'id_09', 'id_10', 'id_11', 'id_12', 'id_13', 'id_14', 'id_15', 'id_16', 'id_17', 'id_18', 'id_19', 'id_20', 'id_21', 'id_22', 'id_23', 'id_24', 'id_25', 'id_26', 'id_27', 'id_28', 'id_29', 'id_30', 'id_31', 'id_32', 'id_33', 'id_34', 'id_35', 'id_36', 'id_37', 'id_38', 'email_check', 'email_check_nan_all', 'email_check_nan_any', 'P_emaildomain_Country', 'R_emaildomain_Country', 'P_emaildomain_prefix', 'R_emaildomain_prefix', 'DeviceInfo_c', 'id_30_c', 'id_30_v', 'id_31_c', 'is_mobile_browser', 'id_31_v', 'dow', 'day', 'Transaction_hour', 'card1_fq_enc', 'card2_fq_enc', 'card3_fq_enc', 'card5_fq_enc', 'C1_fq_enc', 'C2_fq_enc', 'C3_fq_enc', 'C4_fq_enc', 'C6_fq_enc', 'C7_fq_enc', 'C8_fq_enc', 'C10_fq_enc', 'C11_fq_enc', 'C12_fq_enc', 'C13_fq_enc', 'C14_fq_enc', 'D1_fq_enc', 'D2_fq_enc', 'D3_fq_enc', 'D4_fq_enc', 'D5_fq_enc', 'D6_fq_enc', 'D7_fq_enc', 'D8_fq_enc', 'D9_fq_enc', 'addr1_fq_enc', 'addr2_fq_enc', 'dist2_fq_enc', 'P_emaildomain_fq_enc', 'R_emaildomain_fq_enc', 'id_01_fq_enc', 'id_02_fq_enc', 'id_03_fq_enc', 'id_04_fq_enc', 'id_05_fq_enc', 'id_06_fq_enc', 'id_07_fq_enc', 'id_08_fq_enc', 'id_09_fq_enc', 'id_10_fq_enc', 'id_11_fq_enc', 'id_13_fq_enc', 'id_14_fq_enc', 'id_17_fq_enc', 'id_18_fq_enc', 'id_19_fq_enc', 'id_20_fq_enc', 'id_21_fq_enc', 'id_22_fq_enc', 'id_24_fq_enc', 'id_25_fq_enc', 'id_26_fq_enc', 'id_30_fq_enc', 'id_31_fq_enc', 'id_32_fq_enc', 'id_33_fq_enc', 'DeviceInfo_fq_enc', 'DeviceInfo_c_fq_enc', 'id_30_c_fq_enc', 'id_30_v_fq_enc', 'id_31_v_fq_enc', 'card1_TransactionAmt_mean', 'card1_TransactionAmt_std', 'card2_TransactionAmt_mean', 'card2_TransactionAmt_std', 'card3_TransactionAmt_mean', 'card3_TransactionAmt_std', 'card5_TransactionAmt_mean', 'card5_TransactionAmt_std', 'uid_TransactionAmt_mean', 'uid_TransactionAmt_std', 'uid2_TransactionAmt_mean', 'uid2_TransactionAmt_std', 'uid3_TransactionAmt_mean', 'uid3_TransactionAmt_std', 'ymd_TransactionDT_count', 'ymd_TransactionAmt_sum', 'uid2_dayofweek_mean', 'uid2_dayofweek_std', 'TransactionAmt_decimal_count', 'TransactionAmt_decimal', 'account_make_date_D1', 'account_make_date_D2', 'account_make_date_D4', 'account_make_date_D8', 'account_make_date_D10', 'account_make_date_D15', 'card1_make_date_D1_productCD_Amt_mean', 'card1_make_date_D1_productCD_Amt_std', 'card1_addr1_LDA_0', 'card1_addr1_LDA_1', 'card1_addr1_LDA_2', 'card1_addr1_LDA_3', 'card1_addr1_LDA_4', 'card1_id_20_LDA_0', 'card1_id_20_LDA_1', 'card1_id_20_LDA_2', 'card1_id_20_LDA_3', 'card1_id_20_LDA_4', 'card4_DeviceInfo_c_NMF_0', 'card4_DeviceInfo_c_NMF_1', 'card4_DeviceInfo_c_NMF_2', 'card4_DeviceInfo_c_NMF_3', 'card4_DeviceInfo_c_NMF_4', 'addr1_id_32_combine', 'addr1_id_32_combine_fq_enc_combine', 'addr1_id_32_combine_TransactionAmt_mean', 'addr1_id_32_combine_TransactionAmt_std', 'addr1_id_14_combine', 'addr1_id_14_combine_fq_enc_combine', 'addr1_id_14_combine_TransactionAmt_mean', 'addr1_id_14_combine_TransactionAmt_std', 'addr1_id_19_combine', 'addr1_id_19_combine_fq_enc_combine', 'addr1_id_19_combine_TransactionAmt_mean', 'addr1_id_19_combine_TransactionAmt_std', 'card1_card2_combine', 'card1_card2_combine_fq_enc_combine', 'card1_addr1_combine', 'card1_addr1_combine_fq_enc_combine', 'card1_addr1_combine_TransactionAmt_mean', 'card1_addr1_combine_TransactionAmt_std', 'uid3_next_click', 'card1_make_date_D2_productCD_Amt_mean', 'card1_make_date_D2_productCD_Amt_std', 'card1_addr1_make_date_D1_ProductCD_Amt_mean', 'card1_addr1_make_date_D1_ProductCD_Amt_std', 'card1_id_20_make_date_D1_ProductCD_Amt_mean', 'card1_id_20_make_date_D1_ProductCD_Amt_std', 'ProductCD_Amt_expandmean', 'id_02_ProductCD_amt_mean', 'card1_make_date_D1_productCD_hour_mean', 'card1_maked1_pcd', 'card1_maked1_pcd_fq_enc_combine', 'account_make_date_D1_fq_enc_combine', 'ProductCD_target_mean', 'M4_target_mean']\n",
      "TYPE [0, 2, 1, 3] - 1 FOLD Start\n"
     ]
    },
    {
     "name": "stderr",
     "output_type": "stream",
     "text": [
      "C:\\Users\\kimym\\Anaconda3\\lib\\site-packages\\lightgbm\\basic.py:1188: UserWarning: categorical_feature in Dataset is overridden.\n",
      "New categorical_feature is ['P_emaildomain', 'R_emaildomain', 'addr1', 'addr2', 'id_13', 'id_15', 'id_30_v', 'id_31_v', 'id_33', 'id_37', 'id_38']\n",
      "  'New categorical_feature is {}'.format(sorted(list(categorical_feature))))\n",
      "C:\\Users\\kimym\\Anaconda3\\lib\\site-packages\\lightgbm\\basic.py:1188: UserWarning: categorical_feature in Dataset is overridden.\n",
      "New categorical_feature is ['P_emaildomain', 'R_emaildomain', 'addr1', 'addr2', 'id_13', 'id_15', 'id_30_v', 'id_31_v', 'id_33', 'id_37', 'id_38']\n",
      "  'New categorical_feature is {}'.format(sorted(list(categorical_feature))))\n",
      "C:\\Users\\kimym\\Anaconda3\\lib\\site-packages\\lightgbm\\basic.py:742: UserWarning: categorical_feature in param dict is overridden.\n",
      "  warnings.warn('categorical_feature in param dict is overridden.')\n"
     ]
    },
    {
     "name": "stdout",
     "output_type": "stream",
     "text": [
      "Training until validation scores don't improve for 100 rounds.\n",
      "[500]\ttraining's auc: 0.999573\tvalid_1's auc: 0.975567\n",
      "[1000]\ttraining's auc: 1\tvalid_1's auc: 0.979609\n",
      "Early stopping, best iteration is:\n",
      "[931]\ttraining's auc: 1\tvalid_1's auc: 0.97938\n",
      "1 FOLD Score:  0.9793803884364912\n",
      "TYPE [0, 2, 1, 3] - 2 FOLD Start\n"
     ]
    },
    {
     "name": "stderr",
     "output_type": "stream",
     "text": [
      "C:\\Users\\kimym\\Anaconda3\\lib\\site-packages\\lightgbm\\basic.py:1188: UserWarning: categorical_feature in Dataset is overridden.\n",
      "New categorical_feature is ['P_emaildomain', 'R_emaildomain', 'addr1', 'addr2', 'id_13', 'id_15', 'id_30_v', 'id_31_v', 'id_33', 'id_37', 'id_38']\n",
      "  'New categorical_feature is {}'.format(sorted(list(categorical_feature))))\n",
      "C:\\Users\\kimym\\Anaconda3\\lib\\site-packages\\lightgbm\\basic.py:1188: UserWarning: categorical_feature in Dataset is overridden.\n",
      "New categorical_feature is ['P_emaildomain', 'R_emaildomain', 'addr1', 'addr2', 'id_13', 'id_15', 'id_30_v', 'id_31_v', 'id_33', 'id_37', 'id_38']\n",
      "  'New categorical_feature is {}'.format(sorted(list(categorical_feature))))\n",
      "C:\\Users\\kimym\\Anaconda3\\lib\\site-packages\\lightgbm\\basic.py:742: UserWarning: categorical_feature in param dict is overridden.\n",
      "  warnings.warn('categorical_feature in param dict is overridden.')\n"
     ]
    },
    {
     "name": "stdout",
     "output_type": "stream",
     "text": [
      "Training until validation scores don't improve for 100 rounds.\n",
      "[500]\ttraining's auc: 0.999587\tvalid_1's auc: 0.981577\n",
      "[1000]\ttraining's auc: 1\tvalid_1's auc: 0.984959\n",
      "Early stopping, best iteration is:\n",
      "[941]\ttraining's auc: 1\tvalid_1's auc: 0.984765\n",
      "2 FOLD Score:  0.9847648755918514\n",
      "TYPE [0, 2, 1, 3] - 3 FOLD Start\n"
     ]
    },
    {
     "name": "stderr",
     "output_type": "stream",
     "text": [
      "C:\\Users\\kimym\\Anaconda3\\lib\\site-packages\\lightgbm\\basic.py:1188: UserWarning: categorical_feature in Dataset is overridden.\n",
      "New categorical_feature is ['P_emaildomain', 'R_emaildomain', 'addr1', 'addr2', 'id_13', 'id_15', 'id_30_v', 'id_31_v', 'id_33', 'id_37', 'id_38']\n",
      "  'New categorical_feature is {}'.format(sorted(list(categorical_feature))))\n",
      "C:\\Users\\kimym\\Anaconda3\\lib\\site-packages\\lightgbm\\basic.py:1188: UserWarning: categorical_feature in Dataset is overridden.\n",
      "New categorical_feature is ['P_emaildomain', 'R_emaildomain', 'addr1', 'addr2', 'id_13', 'id_15', 'id_30_v', 'id_31_v', 'id_33', 'id_37', 'id_38']\n",
      "  'New categorical_feature is {}'.format(sorted(list(categorical_feature))))\n",
      "C:\\Users\\kimym\\Anaconda3\\lib\\site-packages\\lightgbm\\basic.py:742: UserWarning: categorical_feature in param dict is overridden.\n",
      "  warnings.warn('categorical_feature in param dict is overridden.')\n"
     ]
    },
    {
     "name": "stdout",
     "output_type": "stream",
     "text": [
      "Training until validation scores don't improve for 100 rounds.\n",
      "[500]\ttraining's auc: 0.999577\tvalid_1's auc: 0.981519\n",
      "[1000]\ttraining's auc: 1\tvalid_1's auc: 0.985176\n",
      "Early stopping, best iteration is:\n",
      "[976]\ttraining's auc: 1\tvalid_1's auc: 0.985077\n",
      "3 FOLD Score:  0.9850767359385029\n",
      "TYPE [0, 2, 1, 3] - 4 FOLD Start\n"
     ]
    },
    {
     "name": "stderr",
     "output_type": "stream",
     "text": [
      "C:\\Users\\kimym\\Anaconda3\\lib\\site-packages\\lightgbm\\basic.py:1188: UserWarning: categorical_feature in Dataset is overridden.\n",
      "New categorical_feature is ['P_emaildomain', 'R_emaildomain', 'addr1', 'addr2', 'id_13', 'id_15', 'id_30_v', 'id_31_v', 'id_33', 'id_37', 'id_38']\n",
      "  'New categorical_feature is {}'.format(sorted(list(categorical_feature))))\n",
      "C:\\Users\\kimym\\Anaconda3\\lib\\site-packages\\lightgbm\\basic.py:1188: UserWarning: categorical_feature in Dataset is overridden.\n",
      "New categorical_feature is ['P_emaildomain', 'R_emaildomain', 'addr1', 'addr2', 'id_13', 'id_15', 'id_30_v', 'id_31_v', 'id_33', 'id_37', 'id_38']\n",
      "  'New categorical_feature is {}'.format(sorted(list(categorical_feature))))\n",
      "C:\\Users\\kimym\\Anaconda3\\lib\\site-packages\\lightgbm\\basic.py:742: UserWarning: categorical_feature in param dict is overridden.\n",
      "  warnings.warn('categorical_feature in param dict is overridden.')\n"
     ]
    },
    {
     "name": "stdout",
     "output_type": "stream",
     "text": [
      "Training until validation scores don't improve for 100 rounds.\n",
      "[500]\ttraining's auc: 0.999588\tvalid_1's auc: 0.978944\n",
      "[1000]\ttraining's auc: 1\tvalid_1's auc: 0.982461\n",
      "Early stopping, best iteration is:\n",
      "[932]\ttraining's auc: 1\tvalid_1's auc: 0.982281\n",
      "4 FOLD Score:  0.9822810209770779\n",
      "TYPE [0, 2, 1, 3] - 5 FOLD Start\n"
     ]
    },
    {
     "name": "stderr",
     "output_type": "stream",
     "text": [
      "C:\\Users\\kimym\\Anaconda3\\lib\\site-packages\\lightgbm\\basic.py:1188: UserWarning: categorical_feature in Dataset is overridden.\n",
      "New categorical_feature is ['P_emaildomain', 'R_emaildomain', 'addr1', 'addr2', 'id_13', 'id_15', 'id_30_v', 'id_31_v', 'id_33', 'id_37', 'id_38']\n",
      "  'New categorical_feature is {}'.format(sorted(list(categorical_feature))))\n",
      "C:\\Users\\kimym\\Anaconda3\\lib\\site-packages\\lightgbm\\basic.py:1188: UserWarning: categorical_feature in Dataset is overridden.\n",
      "New categorical_feature is ['P_emaildomain', 'R_emaildomain', 'addr1', 'addr2', 'id_13', 'id_15', 'id_30_v', 'id_31_v', 'id_33', 'id_37', 'id_38']\n",
      "  'New categorical_feature is {}'.format(sorted(list(categorical_feature))))\n",
      "C:\\Users\\kimym\\Anaconda3\\lib\\site-packages\\lightgbm\\basic.py:742: UserWarning: categorical_feature in param dict is overridden.\n",
      "  warnings.warn('categorical_feature in param dict is overridden.')\n"
     ]
    },
    {
     "name": "stdout",
     "output_type": "stream",
     "text": [
      "Training until validation scores don't improve for 100 rounds.\n",
      "[500]\ttraining's auc: 0.999556\tvalid_1's auc: 0.983306\n",
      "[1000]\ttraining's auc: 1\tvalid_1's auc: 0.986577\n",
      "Early stopping, best iteration is:\n",
      "[1002]\ttraining's auc: 1\tvalid_1's auc: 0.986584\n",
      "5 FOLD Score:  0.9865844077197552\n",
      "Total CV:  0.9836174857327358\n",
      "Total CV2:  0.9836461178790353\n",
      "2\n",
      "(439670, 603)\n",
      "325 ['C1', 'C11', 'C12', 'C13', 'C14', 'C2', 'C5', 'C6', 'C9', 'D1', 'D10', 'D11', 'D15', 'D2', 'D3', 'D4', 'D5', 'M1', 'M2', 'M3', 'M4', 'M5', 'M6', 'M7', 'M8', 'M9', 'P_emaildomain', 'TransactionAmt', 'V1', 'V10', 'V100', 'V101', 'V102', 'V103', 'V104', 'V105', 'V106', 'V107', 'V108', 'V109', 'V11', 'V110', 'V111', 'V112', 'V113', 'V114', 'V115', 'V116', 'V117', 'V118', 'V119', 'V12', 'V120', 'V121', 'V122', 'V123', 'V124', 'V125', 'V126', 'V127', 'V128', 'V129', 'V13', 'V130', 'V131', 'V132', 'V133', 'V134', 'V135', 'V136', 'V137', 'V14', 'V15', 'V16', 'V17', 'V18', 'V19', 'V2', 'V20', 'V21', 'V22', 'V23', 'V24', 'V25', 'V26', 'V27', 'V279', 'V28', 'V280', 'V281', 'V282', 'V283', 'V284', 'V285', 'V286', 'V287', 'V288', 'V289', 'V29', 'V290', 'V291', 'V292', 'V293', 'V294', 'V295', 'V296', 'V297', 'V298', 'V299', 'V3', 'V30', 'V300', 'V301', 'V302', 'V303', 'V304', 'V305', 'V306', 'V307', 'V308', 'V309', 'V31', 'V310', 'V311', 'V312', 'V313', 'V314', 'V315', 'V316', 'V317', 'V318', 'V319', 'V32', 'V320', 'V321', 'V33', 'V34', 'V35', 'V36', 'V37', 'V38', 'V39', 'V4', 'V40', 'V41', 'V42', 'V43', 'V44', 'V45', 'V46', 'V47', 'V48', 'V49', 'V5', 'V50', 'V51', 'V52', 'V53', 'V54', 'V55', 'V56', 'V57', 'V58', 'V59', 'V6', 'V60', 'V61', 'V62', 'V63', 'V64', 'V65', 'V66', 'V67', 'V68', 'V69', 'V7', 'V70', 'V71', 'V72', 'V73', 'V74', 'V75', 'V76', 'V77', 'V78', 'V79', 'V8', 'V80', 'V81', 'V82', 'V83', 'V84', 'V85', 'V86', 'V87', 'V88', 'V89', 'V9', 'V90', 'V91', 'V92', 'V93', 'V94', 'V95', 'V96', 'V97', 'V98', 'V99', 'addr1', 'addr2', 'card1', 'card2', 'card3', 'card4', 'card5', 'card6', 'dist1', 'email_check_nan_all', 'P_emaildomain_Country', 'P_emaildomain_prefix', 'M_not_null', 'M_sum', 'collect_agree_ratio', 'dow', 'day', 'Transaction_hour', 'card1_fq_enc', 'card2_fq_enc', 'card3_fq_enc', 'card5_fq_enc', 'C1_fq_enc', 'C2_fq_enc', 'C5_fq_enc', 'C6_fq_enc', 'C9_fq_enc', 'C11_fq_enc', 'C12_fq_enc', 'C13_fq_enc', 'C14_fq_enc', 'D1_fq_enc', 'D2_fq_enc', 'D3_fq_enc', 'D4_fq_enc', 'D5_fq_enc', 'addr1_fq_enc', 'addr2_fq_enc', 'dist1_fq_enc', 'P_emaildomain_fq_enc', 'card1_TransactionAmt_mean', 'card1_TransactionAmt_std', 'card2_TransactionAmt_mean', 'card2_TransactionAmt_std', 'card3_TransactionAmt_mean', 'card3_TransactionAmt_std', 'card5_TransactionAmt_mean', 'card5_TransactionAmt_std', 'uid_TransactionAmt_mean', 'uid_TransactionAmt_std', 'uid2_TransactionAmt_mean', 'uid2_TransactionAmt_std', 'uid3_TransactionAmt_mean', 'uid3_TransactionAmt_std', 'ymd_TransactionDT_count', 'ymd_TransactionAmt_sum', 'uid2_dayofweek_mean', 'uid2_dayofweek_std', 'TransactionAmt_decimal_count', 'TransactionAmt_decimal', 'account_make_date_D1', 'account_make_date_D2', 'account_make_date_D4', 'account_make_date_D10', 'account_make_date_D15', 'card1_make_date_D1_productCD_Amt_mean', 'card1_make_date_D1_productCD_Amt_std', 'card1_addr1_LDA_0', 'card1_addr1_LDA_1', 'card1_addr1_LDA_2', 'card1_addr1_LDA_3', 'card1_addr1_LDA_4', 'card1_id_20_LDA_0', 'card1_id_20_LDA_1', 'card1_id_20_LDA_2', 'card1_id_20_LDA_3', 'card1_id_20_LDA_4', 'card4_DeviceInfo_c_NMF_0', 'card4_DeviceInfo_c_NMF_1', 'card4_DeviceInfo_c_NMF_2', 'card4_DeviceInfo_c_NMF_3', 'card4_DeviceInfo_c_NMF_4', 'addr1_id_32_combine', 'addr1_id_32_combine_fq_enc_combine', 'addr1_id_32_combine_TransactionAmt_mean', 'addr1_id_32_combine_TransactionAmt_std', 'addr1_id_14_combine', 'addr1_id_14_combine_fq_enc_combine', 'addr1_id_14_combine_TransactionAmt_mean', 'addr1_id_14_combine_TransactionAmt_std', 'addr1_id_19_combine', 'addr1_id_19_combine_fq_enc_combine', 'addr1_id_19_combine_TransactionAmt_mean', 'addr1_id_19_combine_TransactionAmt_std', 'card1_card2_combine', 'card1_card2_combine_fq_enc_combine', 'card1_addr1_combine', 'card1_addr1_combine_fq_enc_combine', 'card1_addr1_combine_TransactionAmt_mean', 'card1_addr1_combine_TransactionAmt_std', 'uid3_next_click', 'card1_make_date_D2_productCD_Amt_mean', 'card1_make_date_D2_productCD_Amt_std', 'card1_addr1_make_date_D1_ProductCD_Amt_mean', 'card1_addr1_make_date_D1_ProductCD_Amt_std', 'ProductCD_Amt_expandmean', 'card1_make_date_D1_ProductCD_dist1_mean', 'card1_make_date_D1_ProductCD_dist1_std', 'card1_addr1_make_date_D1_ProductCD_dist1_mean', 'card1_addr1_make_date_D1_ProductCD_dist1_std', 'card1_card2_make_date_D1_ProductCD_dist1_mean', 'card1_card2_make_date_D1_ProductCD_dist1_std', 'card1_make_date_D1_productCD_hour_mean', 'card1_maked1_pcd', 'card1_maked1_pcd_fq_enc_combine', 'account_make_date_D1_fq_enc_combine', 'M4_target_mean']\n",
      "TYPE [4] - 1 FOLD Start\n"
     ]
    },
    {
     "name": "stderr",
     "output_type": "stream",
     "text": [
      "C:\\Users\\kimym\\Anaconda3\\lib\\site-packages\\lightgbm\\basic.py:1188: UserWarning: categorical_feature in Dataset is overridden.\n",
      "New categorical_feature is ['P_emaildomain', 'addr1', 'addr2']\n",
      "  'New categorical_feature is {}'.format(sorted(list(categorical_feature))))\n",
      "C:\\Users\\kimym\\Anaconda3\\lib\\site-packages\\lightgbm\\basic.py:1188: UserWarning: categorical_feature in Dataset is overridden.\n",
      "New categorical_feature is ['P_emaildomain', 'addr1', 'addr2']\n",
      "  'New categorical_feature is {}'.format(sorted(list(categorical_feature))))\n",
      "C:\\Users\\kimym\\Anaconda3\\lib\\site-packages\\lightgbm\\basic.py:742: UserWarning: categorical_feature in param dict is overridden.\n",
      "  warnings.warn('categorical_feature in param dict is overridden.')\n"
     ]
    },
    {
     "name": "stdout",
     "output_type": "stream",
     "text": [
      "Training until validation scores don't improve for 100 rounds.\n",
      "[500]\ttraining's auc: 0.999874\tvalid_1's auc: 0.970806\n",
      "[1000]\ttraining's auc: 1\tvalid_1's auc: 0.975683\n",
      "Early stopping, best iteration is:\n",
      "[1064]\ttraining's auc: 1\tvalid_1's auc: 0.975979\n",
      "1 FOLD Score:  0.9759791822996589\n",
      "TYPE [4] - 2 FOLD Start\n"
     ]
    },
    {
     "name": "stderr",
     "output_type": "stream",
     "text": [
      "C:\\Users\\kimym\\Anaconda3\\lib\\site-packages\\lightgbm\\basic.py:1188: UserWarning: categorical_feature in Dataset is overridden.\n",
      "New categorical_feature is ['P_emaildomain', 'addr1', 'addr2']\n",
      "  'New categorical_feature is {}'.format(sorted(list(categorical_feature))))\n",
      "C:\\Users\\kimym\\Anaconda3\\lib\\site-packages\\lightgbm\\basic.py:1188: UserWarning: categorical_feature in Dataset is overridden.\n",
      "New categorical_feature is ['P_emaildomain', 'addr1', 'addr2']\n",
      "  'New categorical_feature is {}'.format(sorted(list(categorical_feature))))\n",
      "C:\\Users\\kimym\\Anaconda3\\lib\\site-packages\\lightgbm\\basic.py:742: UserWarning: categorical_feature in param dict is overridden.\n",
      "  warnings.warn('categorical_feature in param dict is overridden.')\n"
     ]
    },
    {
     "name": "stdout",
     "output_type": "stream",
     "text": [
      "Training until validation scores don't improve for 100 rounds.\n",
      "[500]\ttraining's auc: 0.999883\tvalid_1's auc: 0.973415\n",
      "[1000]\ttraining's auc: 1\tvalid_1's auc: 0.978855\n",
      "Early stopping, best iteration is:\n",
      "[1065]\ttraining's auc: 1\tvalid_1's auc: 0.979052\n",
      "2 FOLD Score:  0.9790523593465718\n",
      "TYPE [4] - 3 FOLD Start\n"
     ]
    },
    {
     "name": "stderr",
     "output_type": "stream",
     "text": [
      "C:\\Users\\kimym\\Anaconda3\\lib\\site-packages\\lightgbm\\basic.py:1188: UserWarning: categorical_feature in Dataset is overridden.\n",
      "New categorical_feature is ['P_emaildomain', 'addr1', 'addr2']\n",
      "  'New categorical_feature is {}'.format(sorted(list(categorical_feature))))\n",
      "C:\\Users\\kimym\\Anaconda3\\lib\\site-packages\\lightgbm\\basic.py:1188: UserWarning: categorical_feature in Dataset is overridden.\n",
      "New categorical_feature is ['P_emaildomain', 'addr1', 'addr2']\n",
      "  'New categorical_feature is {}'.format(sorted(list(categorical_feature))))\n",
      "C:\\Users\\kimym\\Anaconda3\\lib\\site-packages\\lightgbm\\basic.py:742: UserWarning: categorical_feature in param dict is overridden.\n",
      "  warnings.warn('categorical_feature in param dict is overridden.')\n"
     ]
    },
    {
     "name": "stdout",
     "output_type": "stream",
     "text": [
      "Training until validation scores don't improve for 100 rounds.\n",
      "[500]\ttraining's auc: 0.99987\tvalid_1's auc: 0.970687\n",
      "[1000]\ttraining's auc: 1\tvalid_1's auc: 0.975169\n",
      "Early stopping, best iteration is:\n",
      "[1107]\ttraining's auc: 1\tvalid_1's auc: 0.975624\n",
      "3 FOLD Score:  0.9756240909835666\n",
      "TYPE [4] - 4 FOLD Start\n"
     ]
    },
    {
     "name": "stderr",
     "output_type": "stream",
     "text": [
      "C:\\Users\\kimym\\Anaconda3\\lib\\site-packages\\lightgbm\\basic.py:1188: UserWarning: categorical_feature in Dataset is overridden.\n",
      "New categorical_feature is ['P_emaildomain', 'addr1', 'addr2']\n",
      "  'New categorical_feature is {}'.format(sorted(list(categorical_feature))))\n",
      "C:\\Users\\kimym\\Anaconda3\\lib\\site-packages\\lightgbm\\basic.py:1188: UserWarning: categorical_feature in Dataset is overridden.\n",
      "New categorical_feature is ['P_emaildomain', 'addr1', 'addr2']\n",
      "  'New categorical_feature is {}'.format(sorted(list(categorical_feature))))\n",
      "C:\\Users\\kimym\\Anaconda3\\lib\\site-packages\\lightgbm\\basic.py:742: UserWarning: categorical_feature in param dict is overridden.\n",
      "  warnings.warn('categorical_feature in param dict is overridden.')\n"
     ]
    },
    {
     "name": "stdout",
     "output_type": "stream",
     "text": [
      "Training until validation scores don't improve for 100 rounds.\n",
      "[500]\ttraining's auc: 0.999898\tvalid_1's auc: 0.969659\n",
      "[1000]\ttraining's auc: 1\tvalid_1's auc: 0.975508\n",
      "Early stopping, best iteration is:\n",
      "[1071]\ttraining's auc: 1\tvalid_1's auc: 0.975714\n",
      "4 FOLD Score:  0.9757136951875547\n",
      "TYPE [4] - 5 FOLD Start\n"
     ]
    },
    {
     "name": "stderr",
     "output_type": "stream",
     "text": [
      "C:\\Users\\kimym\\Anaconda3\\lib\\site-packages\\lightgbm\\basic.py:1188: UserWarning: categorical_feature in Dataset is overridden.\n",
      "New categorical_feature is ['P_emaildomain', 'addr1', 'addr2']\n",
      "  'New categorical_feature is {}'.format(sorted(list(categorical_feature))))\n",
      "C:\\Users\\kimym\\Anaconda3\\lib\\site-packages\\lightgbm\\basic.py:1188: UserWarning: categorical_feature in Dataset is overridden.\n",
      "New categorical_feature is ['P_emaildomain', 'addr1', 'addr2']\n",
      "  'New categorical_feature is {}'.format(sorted(list(categorical_feature))))\n",
      "C:\\Users\\kimym\\Anaconda3\\lib\\site-packages\\lightgbm\\basic.py:742: UserWarning: categorical_feature in param dict is overridden.\n",
      "  warnings.warn('categorical_feature in param dict is overridden.')\n"
     ]
    },
    {
     "name": "stdout",
     "output_type": "stream",
     "text": [
      "Training until validation scores don't improve for 100 rounds.\n",
      "[500]\ttraining's auc: 0.999854\tvalid_1's auc: 0.971689\n",
      "[1000]\ttraining's auc: 1\tvalid_1's auc: 0.977134\n",
      "Early stopping, best iteration is:\n",
      "[1110]\ttraining's auc: 1\tvalid_1's auc: 0.977807\n",
      "5 FOLD Score:  0.9778074279785006\n",
      "Total CV:  0.9768353511591705\n",
      "Total CV2:  0.9767963040338773\n",
      "(150870, 603)\n",
      "561 ['C1', 'C10', 'C11', 'C12', 'C13', 'C14', 'C2', 'C3', 'C4', 'C6', 'C7', 'C8', 'D1', 'D10', 'D12', 'D13', 'D14', 'D15', 'D2', 'D3', 'D4', 'D5', 'D6', 'D7', 'D8', 'D9', 'DeviceInfo', 'DeviceType', 'M4', 'P_emaildomain', 'ProductCD', 'R_emaildomain', 'TransactionAmt', 'V100', 'V101', 'V102', 'V103', 'V104', 'V105', 'V106', 'V107', 'V108', 'V109', 'V110', 'V111', 'V112', 'V113', 'V114', 'V115', 'V116', 'V117', 'V118', 'V119', 'V12', 'V120', 'V121', 'V122', 'V123', 'V124', 'V125', 'V126', 'V127', 'V128', 'V129', 'V13', 'V130', 'V131', 'V132', 'V133', 'V134', 'V135', 'V136', 'V137', 'V138', 'V139', 'V14', 'V140', 'V141', 'V142', 'V143', 'V144', 'V145', 'V146', 'V147', 'V148', 'V149', 'V15', 'V150', 'V151', 'V152', 'V153', 'V154', 'V155', 'V156', 'V157', 'V158', 'V159', 'V16', 'V160', 'V161', 'V162', 'V163', 'V164', 'V165', 'V166', 'V167', 'V168', 'V169', 'V17', 'V170', 'V171', 'V172', 'V173', 'V174', 'V175', 'V176', 'V177', 'V178', 'V179', 'V18', 'V180', 'V181', 'V182', 'V183', 'V184', 'V185', 'V186', 'V187', 'V188', 'V189', 'V19', 'V190', 'V191', 'V192', 'V193', 'V194', 'V195', 'V196', 'V197', 'V198', 'V199', 'V20', 'V200', 'V201', 'V202', 'V203', 'V204', 'V205', 'V206', 'V207', 'V208', 'V209', 'V21', 'V210', 'V211', 'V212', 'V213', 'V214', 'V215', 'V216', 'V217', 'V218', 'V219', 'V22', 'V220', 'V221', 'V222', 'V223', 'V224', 'V225', 'V226', 'V227', 'V228', 'V229', 'V23', 'V230', 'V231', 'V232', 'V233', 'V234', 'V235', 'V236', 'V237', 'V238', 'V239', 'V24', 'V240', 'V241', 'V242', 'V243', 'V244', 'V245', 'V246', 'V247', 'V248', 'V249', 'V25', 'V250', 'V251', 'V252', 'V253', 'V254', 'V255', 'V256', 'V257', 'V258', 'V259', 'V26', 'V260', 'V261', 'V262', 'V263', 'V264', 'V265', 'V266', 'V267', 'V268', 'V269', 'V27', 'V270', 'V271', 'V272', 'V273', 'V274', 'V275', 'V276', 'V277', 'V278', 'V279', 'V28', 'V280', 'V281', 'V282', 'V283', 'V284', 'V285', 'V286', 'V287', 'V288', 'V289', 'V29', 'V290', 'V291', 'V292', 'V293', 'V294', 'V295', 'V296', 'V297', 'V298', 'V299', 'V30', 'V300', 'V301', 'V302', 'V303', 'V304', 'V305', 'V306', 'V307', 'V308', 'V309', 'V31', 'V310', 'V311', 'V312', 'V313', 'V314', 'V315', 'V316', 'V317', 'V318', 'V319', 'V32', 'V320', 'V321', 'V322', 'V323', 'V324', 'V325', 'V326', 'V327', 'V328', 'V329', 'V33', 'V330', 'V331', 'V332', 'V333', 'V334', 'V335', 'V336', 'V337', 'V338', 'V339', 'V34', 'V35', 'V36', 'V37', 'V38', 'V39', 'V40', 'V41', 'V42', 'V43', 'V44', 'V45', 'V46', 'V47', 'V48', 'V49', 'V50', 'V51', 'V52', 'V53', 'V54', 'V55', 'V56', 'V57', 'V58', 'V59', 'V60', 'V61', 'V62', 'V63', 'V64', 'V65', 'V66', 'V67', 'V68', 'V69', 'V70', 'V71', 'V72', 'V73', 'V74', 'V75', 'V76', 'V77', 'V78', 'V79', 'V80', 'V81', 'V82', 'V83', 'V84', 'V85', 'V86', 'V87', 'V88', 'V89', 'V90', 'V91', 'V92', 'V93', 'V94', 'V95', 'V96', 'V97', 'V98', 'V99', 'addr1', 'addr2', 'card1', 'card2', 'card3', 'card4', 'card5', 'card6', 'dist2', 'id_01', 'id_02', 'id_03', 'id_04', 'id_05', 'id_06', 'id_07', 'id_08', 'id_09', 'id_10', 'id_11', 'id_12', 'id_13', 'id_14', 'id_15', 'id_16', 'id_17', 'id_18', 'id_19', 'id_20', 'id_21', 'id_22', 'id_23', 'id_24', 'id_25', 'id_26', 'id_27', 'id_28', 'id_29', 'id_30', 'id_31', 'id_32', 'id_33', 'id_34', 'id_35', 'id_36', 'id_37', 'id_38', 'email_check', 'email_check_nan_all', 'email_check_nan_any', 'P_emaildomain_Country', 'R_emaildomain_Country', 'P_emaildomain_prefix', 'R_emaildomain_prefix', 'DeviceInfo_c', 'id_30_c', 'id_30_v', 'id_31_c', 'is_mobile_browser', 'id_31_v', 'dow', 'day', 'Transaction_hour', 'card1_fq_enc', 'card2_fq_enc', 'card3_fq_enc', 'card5_fq_enc', 'C1_fq_enc', 'C2_fq_enc', 'C3_fq_enc', 'C4_fq_enc', 'C6_fq_enc', 'C7_fq_enc', 'C8_fq_enc', 'C10_fq_enc', 'C11_fq_enc', 'C12_fq_enc', 'C13_fq_enc', 'C14_fq_enc', 'D1_fq_enc', 'D2_fq_enc', 'D3_fq_enc', 'D4_fq_enc', 'D5_fq_enc', 'D6_fq_enc', 'D7_fq_enc', 'D8_fq_enc', 'D9_fq_enc', 'addr1_fq_enc', 'addr2_fq_enc', 'dist2_fq_enc', 'P_emaildomain_fq_enc', 'R_emaildomain_fq_enc', 'id_01_fq_enc', 'id_02_fq_enc', 'id_03_fq_enc', 'id_04_fq_enc', 'id_05_fq_enc', 'id_06_fq_enc', 'id_07_fq_enc', 'id_08_fq_enc', 'id_09_fq_enc', 'id_10_fq_enc', 'id_11_fq_enc', 'id_13_fq_enc', 'id_14_fq_enc', 'id_17_fq_enc', 'id_18_fq_enc', 'id_19_fq_enc', 'id_20_fq_enc', 'id_21_fq_enc', 'id_22_fq_enc', 'id_24_fq_enc', 'id_25_fq_enc', 'id_26_fq_enc', 'id_30_fq_enc', 'id_31_fq_enc', 'id_32_fq_enc', 'id_33_fq_enc', 'DeviceInfo_fq_enc', 'DeviceInfo_c_fq_enc', 'id_30_c_fq_enc', 'id_30_v_fq_enc', 'id_31_v_fq_enc', 'card1_TransactionAmt_mean', 'card1_TransactionAmt_std', 'card2_TransactionAmt_mean', 'card2_TransactionAmt_std', 'card3_TransactionAmt_mean', 'card3_TransactionAmt_std', 'card5_TransactionAmt_mean', 'card5_TransactionAmt_std', 'uid_TransactionAmt_mean', 'uid_TransactionAmt_std', 'uid2_TransactionAmt_mean', 'uid2_TransactionAmt_std', 'uid3_TransactionAmt_mean', 'uid3_TransactionAmt_std', 'ymd_TransactionDT_count', 'ymd_TransactionAmt_sum', 'uid2_dayofweek_mean', 'uid2_dayofweek_std', 'TransactionAmt_decimal_count', 'TransactionAmt_decimal', 'account_make_date_D1', 'account_make_date_D2', 'account_make_date_D4', 'account_make_date_D8', 'account_make_date_D10', 'account_make_date_D15', 'card1_make_date_D1_productCD_Amt_mean', 'card1_make_date_D1_productCD_Amt_std', 'card1_addr1_LDA_0', 'card1_addr1_LDA_1', 'card1_addr1_LDA_2', 'card1_addr1_LDA_3', 'card1_addr1_LDA_4', 'card1_id_20_LDA_0', 'card1_id_20_LDA_1', 'card1_id_20_LDA_2', 'card1_id_20_LDA_3', 'card1_id_20_LDA_4', 'card4_DeviceInfo_c_NMF_0', 'card4_DeviceInfo_c_NMF_1', 'card4_DeviceInfo_c_NMF_2', 'card4_DeviceInfo_c_NMF_3', 'card4_DeviceInfo_c_NMF_4', 'addr1_id_32_combine', 'addr1_id_32_combine_fq_enc_combine', 'addr1_id_32_combine_TransactionAmt_mean', 'addr1_id_32_combine_TransactionAmt_std', 'addr1_id_14_combine', 'addr1_id_14_combine_fq_enc_combine', 'addr1_id_14_combine_TransactionAmt_mean', 'addr1_id_14_combine_TransactionAmt_std', 'addr1_id_19_combine', 'addr1_id_19_combine_fq_enc_combine', 'addr1_id_19_combine_TransactionAmt_mean', 'addr1_id_19_combine_TransactionAmt_std', 'card1_card2_combine', 'card1_card2_combine_fq_enc_combine', 'card1_addr1_combine', 'card1_addr1_combine_fq_enc_combine', 'card1_addr1_combine_TransactionAmt_mean', 'card1_addr1_combine_TransactionAmt_std', 'uid3_next_click', 'card1_make_date_D2_productCD_Amt_mean', 'card1_make_date_D2_productCD_Amt_std', 'card1_addr1_make_date_D1_ProductCD_Amt_mean', 'card1_addr1_make_date_D1_ProductCD_Amt_std', 'card1_id_20_make_date_D1_ProductCD_Amt_mean', 'card1_id_20_make_date_D1_ProductCD_Amt_std', 'ProductCD_Amt_expandmean', 'id_02_ProductCD_amt_mean', 'card1_make_date_D1_productCD_hour_mean', 'card1_maked1_pcd', 'card1_maked1_pcd_fq_enc_combine', 'account_make_date_D1_fq_enc_combine', 'ProductCD_target_mean', 'M4_target_mean']\n",
      "TYPE [0, 2, 1, 3] - 1 FOLD Start\n"
     ]
    },
    {
     "name": "stderr",
     "output_type": "stream",
     "text": [
      "C:\\Users\\kimym\\Anaconda3\\lib\\site-packages\\lightgbm\\basic.py:1188: UserWarning: categorical_feature in Dataset is overridden.\n",
      "New categorical_feature is ['P_emaildomain', 'R_emaildomain', 'addr1', 'addr2', 'id_13', 'id_15', 'id_30_v', 'id_31_v', 'id_33', 'id_37', 'id_38']\n",
      "  'New categorical_feature is {}'.format(sorted(list(categorical_feature))))\n",
      "C:\\Users\\kimym\\Anaconda3\\lib\\site-packages\\lightgbm\\basic.py:1188: UserWarning: categorical_feature in Dataset is overridden.\n",
      "New categorical_feature is ['P_emaildomain', 'R_emaildomain', 'addr1', 'addr2', 'id_13', 'id_15', 'id_30_v', 'id_31_v', 'id_33', 'id_37', 'id_38']\n",
      "  'New categorical_feature is {}'.format(sorted(list(categorical_feature))))\n",
      "C:\\Users\\kimym\\Anaconda3\\lib\\site-packages\\lightgbm\\basic.py:742: UserWarning: categorical_feature in param dict is overridden.\n",
      "  warnings.warn('categorical_feature in param dict is overridden.')\n"
     ]
    },
    {
     "name": "stdout",
     "output_type": "stream",
     "text": [
      "Training until validation scores don't improve for 100 rounds.\n",
      "[500]\ttraining's auc: 0.99956\tvalid_1's auc: 0.976096\n",
      "[1000]\ttraining's auc: 1\tvalid_1's auc: 0.980138\n",
      "Early stopping, best iteration is:\n",
      "[947]\ttraining's auc: 1\tvalid_1's auc: 0.979963\n",
      "1 FOLD Score:  0.9799629553198692\n",
      "TYPE [0, 2, 1, 3] - 2 FOLD Start\n"
     ]
    },
    {
     "name": "stderr",
     "output_type": "stream",
     "text": [
      "C:\\Users\\kimym\\Anaconda3\\lib\\site-packages\\lightgbm\\basic.py:1188: UserWarning: categorical_feature in Dataset is overridden.\n",
      "New categorical_feature is ['P_emaildomain', 'R_emaildomain', 'addr1', 'addr2', 'id_13', 'id_15', 'id_30_v', 'id_31_v', 'id_33', 'id_37', 'id_38']\n",
      "  'New categorical_feature is {}'.format(sorted(list(categorical_feature))))\n",
      "C:\\Users\\kimym\\Anaconda3\\lib\\site-packages\\lightgbm\\basic.py:1188: UserWarning: categorical_feature in Dataset is overridden.\n",
      "New categorical_feature is ['P_emaildomain', 'R_emaildomain', 'addr1', 'addr2', 'id_13', 'id_15', 'id_30_v', 'id_31_v', 'id_33', 'id_37', 'id_38']\n",
      "  'New categorical_feature is {}'.format(sorted(list(categorical_feature))))\n",
      "C:\\Users\\kimym\\Anaconda3\\lib\\site-packages\\lightgbm\\basic.py:742: UserWarning: categorical_feature in param dict is overridden.\n",
      "  warnings.warn('categorical_feature in param dict is overridden.')\n"
     ]
    },
    {
     "name": "stdout",
     "output_type": "stream",
     "text": [
      "Training until validation scores don't improve for 100 rounds.\n",
      "[500]\ttraining's auc: 0.999594\tvalid_1's auc: 0.981487\n",
      "[1000]\ttraining's auc: 1\tvalid_1's auc: 0.984832\n",
      "Early stopping, best iteration is:\n",
      "[934]\ttraining's auc: 1\tvalid_1's auc: 0.984624\n",
      "2 FOLD Score:  0.984623536993059\n",
      "TYPE [0, 2, 1, 3] - 3 FOLD Start\n"
     ]
    },
    {
     "name": "stderr",
     "output_type": "stream",
     "text": [
      "C:\\Users\\kimym\\Anaconda3\\lib\\site-packages\\lightgbm\\basic.py:1188: UserWarning: categorical_feature in Dataset is overridden.\n",
      "New categorical_feature is ['P_emaildomain', 'R_emaildomain', 'addr1', 'addr2', 'id_13', 'id_15', 'id_30_v', 'id_31_v', 'id_33', 'id_37', 'id_38']\n",
      "  'New categorical_feature is {}'.format(sorted(list(categorical_feature))))\n",
      "C:\\Users\\kimym\\Anaconda3\\lib\\site-packages\\lightgbm\\basic.py:1188: UserWarning: categorical_feature in Dataset is overridden.\n",
      "New categorical_feature is ['P_emaildomain', 'R_emaildomain', 'addr1', 'addr2', 'id_13', 'id_15', 'id_30_v', 'id_31_v', 'id_33', 'id_37', 'id_38']\n",
      "  'New categorical_feature is {}'.format(sorted(list(categorical_feature))))\n",
      "C:\\Users\\kimym\\Anaconda3\\lib\\site-packages\\lightgbm\\basic.py:742: UserWarning: categorical_feature in param dict is overridden.\n",
      "  warnings.warn('categorical_feature in param dict is overridden.')\n"
     ]
    },
    {
     "name": "stdout",
     "output_type": "stream",
     "text": [
      "Training until validation scores don't improve for 100 rounds.\n",
      "[500]\ttraining's auc: 0.999576\tvalid_1's auc: 0.981245\n",
      "[1000]\ttraining's auc: 1\tvalid_1's auc: 0.984732\n",
      "Early stopping, best iteration is:\n",
      "[981]\ttraining's auc: 1\tvalid_1's auc: 0.984641\n",
      "3 FOLD Score:  0.9846413079948849\n",
      "TYPE [0, 2, 1, 3] - 4 FOLD Start\n"
     ]
    },
    {
     "name": "stderr",
     "output_type": "stream",
     "text": [
      "C:\\Users\\kimym\\Anaconda3\\lib\\site-packages\\lightgbm\\basic.py:1188: UserWarning: categorical_feature in Dataset is overridden.\n",
      "New categorical_feature is ['P_emaildomain', 'R_emaildomain', 'addr1', 'addr2', 'id_13', 'id_15', 'id_30_v', 'id_31_v', 'id_33', 'id_37', 'id_38']\n",
      "  'New categorical_feature is {}'.format(sorted(list(categorical_feature))))\n",
      "C:\\Users\\kimym\\Anaconda3\\lib\\site-packages\\lightgbm\\basic.py:1188: UserWarning: categorical_feature in Dataset is overridden.\n",
      "New categorical_feature is ['P_emaildomain', 'R_emaildomain', 'addr1', 'addr2', 'id_13', 'id_15', 'id_30_v', 'id_31_v', 'id_33', 'id_37', 'id_38']\n",
      "  'New categorical_feature is {}'.format(sorted(list(categorical_feature))))\n",
      "C:\\Users\\kimym\\Anaconda3\\lib\\site-packages\\lightgbm\\basic.py:742: UserWarning: categorical_feature in param dict is overridden.\n",
      "  warnings.warn('categorical_feature in param dict is overridden.')\n"
     ]
    },
    {
     "name": "stdout",
     "output_type": "stream",
     "text": [
      "Training until validation scores don't improve for 100 rounds.\n",
      "[500]\ttraining's auc: 0.999599\tvalid_1's auc: 0.979342\n",
      "[1000]\ttraining's auc: 1\tvalid_1's auc: 0.982926\n",
      "Early stopping, best iteration is:\n",
      "[916]\ttraining's auc: 1\tvalid_1's auc: 0.982684\n",
      "4 FOLD Score:  0.9826841785016497\n",
      "TYPE [0, 2, 1, 3] - 5 FOLD Start\n"
     ]
    },
    {
     "name": "stderr",
     "output_type": "stream",
     "text": [
      "C:\\Users\\kimym\\Anaconda3\\lib\\site-packages\\lightgbm\\basic.py:1188: UserWarning: categorical_feature in Dataset is overridden.\n",
      "New categorical_feature is ['P_emaildomain', 'R_emaildomain', 'addr1', 'addr2', 'id_13', 'id_15', 'id_30_v', 'id_31_v', 'id_33', 'id_37', 'id_38']\n",
      "  'New categorical_feature is {}'.format(sorted(list(categorical_feature))))\n",
      "C:\\Users\\kimym\\Anaconda3\\lib\\site-packages\\lightgbm\\basic.py:1188: UserWarning: categorical_feature in Dataset is overridden.\n",
      "New categorical_feature is ['P_emaildomain', 'R_emaildomain', 'addr1', 'addr2', 'id_13', 'id_15', 'id_30_v', 'id_31_v', 'id_33', 'id_37', 'id_38']\n",
      "  'New categorical_feature is {}'.format(sorted(list(categorical_feature))))\n",
      "C:\\Users\\kimym\\Anaconda3\\lib\\site-packages\\lightgbm\\basic.py:742: UserWarning: categorical_feature in param dict is overridden.\n",
      "  warnings.warn('categorical_feature in param dict is overridden.')\n"
     ]
    },
    {
     "name": "stdout",
     "output_type": "stream",
     "text": [
      "Training until validation scores don't improve for 100 rounds.\n",
      "[500]\ttraining's auc: 0.999523\tvalid_1's auc: 0.98366\n",
      "[1000]\ttraining's auc: 1\tvalid_1's auc: 0.986778\n",
      "Early stopping, best iteration is:\n",
      "[998]\ttraining's auc: 1\tvalid_1's auc: 0.98678\n",
      "5 FOLD Score:  0.9867801413775389\n",
      "Total CV:  0.9837384240374003\n",
      "Total CV2:  0.9837400562704034\n",
      "3\n",
      "(439670, 603)\n",
      "325 ['C1', 'C11', 'C12', 'C13', 'C14', 'C2', 'C5', 'C6', 'C9', 'D1', 'D10', 'D11', 'D15', 'D2', 'D3', 'D4', 'D5', 'M1', 'M2', 'M3', 'M4', 'M5', 'M6', 'M7', 'M8', 'M9', 'P_emaildomain', 'TransactionAmt', 'V1', 'V10', 'V100', 'V101', 'V102', 'V103', 'V104', 'V105', 'V106', 'V107', 'V108', 'V109', 'V11', 'V110', 'V111', 'V112', 'V113', 'V114', 'V115', 'V116', 'V117', 'V118', 'V119', 'V12', 'V120', 'V121', 'V122', 'V123', 'V124', 'V125', 'V126', 'V127', 'V128', 'V129', 'V13', 'V130', 'V131', 'V132', 'V133', 'V134', 'V135', 'V136', 'V137', 'V14', 'V15', 'V16', 'V17', 'V18', 'V19', 'V2', 'V20', 'V21', 'V22', 'V23', 'V24', 'V25', 'V26', 'V27', 'V279', 'V28', 'V280', 'V281', 'V282', 'V283', 'V284', 'V285', 'V286', 'V287', 'V288', 'V289', 'V29', 'V290', 'V291', 'V292', 'V293', 'V294', 'V295', 'V296', 'V297', 'V298', 'V299', 'V3', 'V30', 'V300', 'V301', 'V302', 'V303', 'V304', 'V305', 'V306', 'V307', 'V308', 'V309', 'V31', 'V310', 'V311', 'V312', 'V313', 'V314', 'V315', 'V316', 'V317', 'V318', 'V319', 'V32', 'V320', 'V321', 'V33', 'V34', 'V35', 'V36', 'V37', 'V38', 'V39', 'V4', 'V40', 'V41', 'V42', 'V43', 'V44', 'V45', 'V46', 'V47', 'V48', 'V49', 'V5', 'V50', 'V51', 'V52', 'V53', 'V54', 'V55', 'V56', 'V57', 'V58', 'V59', 'V6', 'V60', 'V61', 'V62', 'V63', 'V64', 'V65', 'V66', 'V67', 'V68', 'V69', 'V7', 'V70', 'V71', 'V72', 'V73', 'V74', 'V75', 'V76', 'V77', 'V78', 'V79', 'V8', 'V80', 'V81', 'V82', 'V83', 'V84', 'V85', 'V86', 'V87', 'V88', 'V89', 'V9', 'V90', 'V91', 'V92', 'V93', 'V94', 'V95', 'V96', 'V97', 'V98', 'V99', 'addr1', 'addr2', 'card1', 'card2', 'card3', 'card4', 'card5', 'card6', 'dist1', 'email_check_nan_all', 'P_emaildomain_Country', 'P_emaildomain_prefix', 'M_not_null', 'M_sum', 'collect_agree_ratio', 'dow', 'day', 'Transaction_hour', 'card1_fq_enc', 'card2_fq_enc', 'card3_fq_enc', 'card5_fq_enc', 'C1_fq_enc', 'C2_fq_enc', 'C5_fq_enc', 'C6_fq_enc', 'C9_fq_enc', 'C11_fq_enc', 'C12_fq_enc', 'C13_fq_enc', 'C14_fq_enc', 'D1_fq_enc', 'D2_fq_enc', 'D3_fq_enc', 'D4_fq_enc', 'D5_fq_enc', 'addr1_fq_enc', 'addr2_fq_enc', 'dist1_fq_enc', 'P_emaildomain_fq_enc', 'card1_TransactionAmt_mean', 'card1_TransactionAmt_std', 'card2_TransactionAmt_mean', 'card2_TransactionAmt_std', 'card3_TransactionAmt_mean', 'card3_TransactionAmt_std', 'card5_TransactionAmt_mean', 'card5_TransactionAmt_std', 'uid_TransactionAmt_mean', 'uid_TransactionAmt_std', 'uid2_TransactionAmt_mean', 'uid2_TransactionAmt_std', 'uid3_TransactionAmt_mean', 'uid3_TransactionAmt_std', 'ymd_TransactionDT_count', 'ymd_TransactionAmt_sum', 'uid2_dayofweek_mean', 'uid2_dayofweek_std', 'TransactionAmt_decimal_count', 'TransactionAmt_decimal', 'account_make_date_D1', 'account_make_date_D2', 'account_make_date_D4', 'account_make_date_D10', 'account_make_date_D15', 'card1_make_date_D1_productCD_Amt_mean', 'card1_make_date_D1_productCD_Amt_std', 'card1_addr1_LDA_0', 'card1_addr1_LDA_1', 'card1_addr1_LDA_2', 'card1_addr1_LDA_3', 'card1_addr1_LDA_4', 'card1_id_20_LDA_0', 'card1_id_20_LDA_1', 'card1_id_20_LDA_2', 'card1_id_20_LDA_3', 'card1_id_20_LDA_4', 'card4_DeviceInfo_c_NMF_0', 'card4_DeviceInfo_c_NMF_1', 'card4_DeviceInfo_c_NMF_2', 'card4_DeviceInfo_c_NMF_3', 'card4_DeviceInfo_c_NMF_4', 'addr1_id_32_combine', 'addr1_id_32_combine_fq_enc_combine', 'addr1_id_32_combine_TransactionAmt_mean', 'addr1_id_32_combine_TransactionAmt_std', 'addr1_id_14_combine', 'addr1_id_14_combine_fq_enc_combine', 'addr1_id_14_combine_TransactionAmt_mean', 'addr1_id_14_combine_TransactionAmt_std', 'addr1_id_19_combine', 'addr1_id_19_combine_fq_enc_combine', 'addr1_id_19_combine_TransactionAmt_mean', 'addr1_id_19_combine_TransactionAmt_std', 'card1_card2_combine', 'card1_card2_combine_fq_enc_combine', 'card1_addr1_combine', 'card1_addr1_combine_fq_enc_combine', 'card1_addr1_combine_TransactionAmt_mean', 'card1_addr1_combine_TransactionAmt_std', 'uid3_next_click', 'card1_make_date_D2_productCD_Amt_mean', 'card1_make_date_D2_productCD_Amt_std', 'card1_addr1_make_date_D1_ProductCD_Amt_mean', 'card1_addr1_make_date_D1_ProductCD_Amt_std', 'ProductCD_Amt_expandmean', 'card1_make_date_D1_ProductCD_dist1_mean', 'card1_make_date_D1_ProductCD_dist1_std', 'card1_addr1_make_date_D1_ProductCD_dist1_mean', 'card1_addr1_make_date_D1_ProductCD_dist1_std', 'card1_card2_make_date_D1_ProductCD_dist1_mean', 'card1_card2_make_date_D1_ProductCD_dist1_std', 'card1_make_date_D1_productCD_hour_mean', 'card1_maked1_pcd', 'card1_maked1_pcd_fq_enc_combine', 'account_make_date_D1_fq_enc_combine', 'M4_target_mean']\n",
      "TYPE [4] - 1 FOLD Start\n"
     ]
    },
    {
     "name": "stderr",
     "output_type": "stream",
     "text": [
      "C:\\Users\\kimym\\Anaconda3\\lib\\site-packages\\lightgbm\\basic.py:1188: UserWarning: categorical_feature in Dataset is overridden.\n",
      "New categorical_feature is ['P_emaildomain', 'addr1', 'addr2']\n",
      "  'New categorical_feature is {}'.format(sorted(list(categorical_feature))))\n",
      "C:\\Users\\kimym\\Anaconda3\\lib\\site-packages\\lightgbm\\basic.py:1188: UserWarning: categorical_feature in Dataset is overridden.\n",
      "New categorical_feature is ['P_emaildomain', 'addr1', 'addr2']\n",
      "  'New categorical_feature is {}'.format(sorted(list(categorical_feature))))\n",
      "C:\\Users\\kimym\\Anaconda3\\lib\\site-packages\\lightgbm\\basic.py:742: UserWarning: categorical_feature in param dict is overridden.\n",
      "  warnings.warn('categorical_feature in param dict is overridden.')\n"
     ]
    },
    {
     "name": "stdout",
     "output_type": "stream",
     "text": [
      "Training until validation scores don't improve for 100 rounds.\n",
      "[500]\ttraining's auc: 0.999884\tvalid_1's auc: 0.970798\n",
      "[1000]\ttraining's auc: 1\tvalid_1's auc: 0.976003\n",
      "Early stopping, best iteration is:\n",
      "[1062]\ttraining's auc: 1\tvalid_1's auc: 0.976316\n",
      "1 FOLD Score:  0.976315716692591\n",
      "TYPE [4] - 2 FOLD Start\n"
     ]
    },
    {
     "name": "stderr",
     "output_type": "stream",
     "text": [
      "C:\\Users\\kimym\\Anaconda3\\lib\\site-packages\\lightgbm\\basic.py:1188: UserWarning: categorical_feature in Dataset is overridden.\n",
      "New categorical_feature is ['P_emaildomain', 'addr1', 'addr2']\n",
      "  'New categorical_feature is {}'.format(sorted(list(categorical_feature))))\n",
      "C:\\Users\\kimym\\Anaconda3\\lib\\site-packages\\lightgbm\\basic.py:1188: UserWarning: categorical_feature in Dataset is overridden.\n",
      "New categorical_feature is ['P_emaildomain', 'addr1', 'addr2']\n",
      "  'New categorical_feature is {}'.format(sorted(list(categorical_feature))))\n",
      "C:\\Users\\kimym\\Anaconda3\\lib\\site-packages\\lightgbm\\basic.py:742: UserWarning: categorical_feature in param dict is overridden.\n",
      "  warnings.warn('categorical_feature in param dict is overridden.')\n"
     ]
    },
    {
     "name": "stdout",
     "output_type": "stream",
     "text": [
      "Training until validation scores don't improve for 100 rounds.\n",
      "[500]\ttraining's auc: 0.999883\tvalid_1's auc: 0.974466\n",
      "[1000]\ttraining's auc: 1\tvalid_1's auc: 0.979116\n",
      "Early stopping, best iteration is:\n",
      "[1055]\ttraining's auc: 1\tvalid_1's auc: 0.979285\n",
      "2 FOLD Score:  0.979285083084005\n",
      "TYPE [4] - 3 FOLD Start\n"
     ]
    },
    {
     "name": "stderr",
     "output_type": "stream",
     "text": [
      "C:\\Users\\kimym\\Anaconda3\\lib\\site-packages\\lightgbm\\basic.py:1188: UserWarning: categorical_feature in Dataset is overridden.\n",
      "New categorical_feature is ['P_emaildomain', 'addr1', 'addr2']\n",
      "  'New categorical_feature is {}'.format(sorted(list(categorical_feature))))\n",
      "C:\\Users\\kimym\\Anaconda3\\lib\\site-packages\\lightgbm\\basic.py:1188: UserWarning: categorical_feature in Dataset is overridden.\n",
      "New categorical_feature is ['P_emaildomain', 'addr1', 'addr2']\n",
      "  'New categorical_feature is {}'.format(sorted(list(categorical_feature))))\n",
      "C:\\Users\\kimym\\Anaconda3\\lib\\site-packages\\lightgbm\\basic.py:742: UserWarning: categorical_feature in param dict is overridden.\n",
      "  warnings.warn('categorical_feature in param dict is overridden.')\n"
     ]
    },
    {
     "name": "stdout",
     "output_type": "stream",
     "text": [
      "Training until validation scores don't improve for 100 rounds.\n",
      "[500]\ttraining's auc: 0.999885\tvalid_1's auc: 0.971113\n",
      "[1000]\ttraining's auc: 1\tvalid_1's auc: 0.975745\n",
      "Early stopping, best iteration is:\n",
      "[1098]\ttraining's auc: 1\tvalid_1's auc: 0.976073\n",
      "3 FOLD Score:  0.9760725779168962\n",
      "TYPE [4] - 4 FOLD Start\n"
     ]
    },
    {
     "name": "stderr",
     "output_type": "stream",
     "text": [
      "C:\\Users\\kimym\\Anaconda3\\lib\\site-packages\\lightgbm\\basic.py:1188: UserWarning: categorical_feature in Dataset is overridden.\n",
      "New categorical_feature is ['P_emaildomain', 'addr1', 'addr2']\n",
      "  'New categorical_feature is {}'.format(sorted(list(categorical_feature))))\n",
      "C:\\Users\\kimym\\Anaconda3\\lib\\site-packages\\lightgbm\\basic.py:1188: UserWarning: categorical_feature in Dataset is overridden.\n",
      "New categorical_feature is ['P_emaildomain', 'addr1', 'addr2']\n",
      "  'New categorical_feature is {}'.format(sorted(list(categorical_feature))))\n",
      "C:\\Users\\kimym\\Anaconda3\\lib\\site-packages\\lightgbm\\basic.py:742: UserWarning: categorical_feature in param dict is overridden.\n",
      "  warnings.warn('categorical_feature in param dict is overridden.')\n"
     ]
    },
    {
     "name": "stdout",
     "output_type": "stream",
     "text": [
      "Training until validation scores don't improve for 100 rounds.\n",
      "[500]\ttraining's auc: 0.999901\tvalid_1's auc: 0.970279\n",
      "[1000]\ttraining's auc: 1\tvalid_1's auc: 0.975335\n",
      "Early stopping, best iteration is:\n",
      "[1145]\ttraining's auc: 1\tvalid_1's auc: 0.975773\n",
      "4 FOLD Score:  0.9757726008760724\n",
      "TYPE [4] - 5 FOLD Start\n"
     ]
    },
    {
     "name": "stderr",
     "output_type": "stream",
     "text": [
      "C:\\Users\\kimym\\Anaconda3\\lib\\site-packages\\lightgbm\\basic.py:1188: UserWarning: categorical_feature in Dataset is overridden.\n",
      "New categorical_feature is ['P_emaildomain', 'addr1', 'addr2']\n",
      "  'New categorical_feature is {}'.format(sorted(list(categorical_feature))))\n",
      "C:\\Users\\kimym\\Anaconda3\\lib\\site-packages\\lightgbm\\basic.py:1188: UserWarning: categorical_feature in Dataset is overridden.\n",
      "New categorical_feature is ['P_emaildomain', 'addr1', 'addr2']\n",
      "  'New categorical_feature is {}'.format(sorted(list(categorical_feature))))\n",
      "C:\\Users\\kimym\\Anaconda3\\lib\\site-packages\\lightgbm\\basic.py:742: UserWarning: categorical_feature in param dict is overridden.\n",
      "  warnings.warn('categorical_feature in param dict is overridden.')\n"
     ]
    },
    {
     "name": "stdout",
     "output_type": "stream",
     "text": [
      "Training until validation scores don't improve for 100 rounds.\n",
      "[500]\ttraining's auc: 0.999862\tvalid_1's auc: 0.971917\n",
      "[1000]\ttraining's auc: 1\tvalid_1's auc: 0.977725\n",
      "Early stopping, best iteration is:\n",
      "[1078]\ttraining's auc: 1\tvalid_1's auc: 0.978054\n",
      "5 FOLD Score:  0.9780535480251026\n",
      "Total CV:  0.9770999053189335\n",
      "Total CV2:  0.9770250435560799\n",
      "(150870, 603)\n",
      "561 ['C1', 'C10', 'C11', 'C12', 'C13', 'C14', 'C2', 'C3', 'C4', 'C6', 'C7', 'C8', 'D1', 'D10', 'D12', 'D13', 'D14', 'D15', 'D2', 'D3', 'D4', 'D5', 'D6', 'D7', 'D8', 'D9', 'DeviceInfo', 'DeviceType', 'M4', 'P_emaildomain', 'ProductCD', 'R_emaildomain', 'TransactionAmt', 'V100', 'V101', 'V102', 'V103', 'V104', 'V105', 'V106', 'V107', 'V108', 'V109', 'V110', 'V111', 'V112', 'V113', 'V114', 'V115', 'V116', 'V117', 'V118', 'V119', 'V12', 'V120', 'V121', 'V122', 'V123', 'V124', 'V125', 'V126', 'V127', 'V128', 'V129', 'V13', 'V130', 'V131', 'V132', 'V133', 'V134', 'V135', 'V136', 'V137', 'V138', 'V139', 'V14', 'V140', 'V141', 'V142', 'V143', 'V144', 'V145', 'V146', 'V147', 'V148', 'V149', 'V15', 'V150', 'V151', 'V152', 'V153', 'V154', 'V155', 'V156', 'V157', 'V158', 'V159', 'V16', 'V160', 'V161', 'V162', 'V163', 'V164', 'V165', 'V166', 'V167', 'V168', 'V169', 'V17', 'V170', 'V171', 'V172', 'V173', 'V174', 'V175', 'V176', 'V177', 'V178', 'V179', 'V18', 'V180', 'V181', 'V182', 'V183', 'V184', 'V185', 'V186', 'V187', 'V188', 'V189', 'V19', 'V190', 'V191', 'V192', 'V193', 'V194', 'V195', 'V196', 'V197', 'V198', 'V199', 'V20', 'V200', 'V201', 'V202', 'V203', 'V204', 'V205', 'V206', 'V207', 'V208', 'V209', 'V21', 'V210', 'V211', 'V212', 'V213', 'V214', 'V215', 'V216', 'V217', 'V218', 'V219', 'V22', 'V220', 'V221', 'V222', 'V223', 'V224', 'V225', 'V226', 'V227', 'V228', 'V229', 'V23', 'V230', 'V231', 'V232', 'V233', 'V234', 'V235', 'V236', 'V237', 'V238', 'V239', 'V24', 'V240', 'V241', 'V242', 'V243', 'V244', 'V245', 'V246', 'V247', 'V248', 'V249', 'V25', 'V250', 'V251', 'V252', 'V253', 'V254', 'V255', 'V256', 'V257', 'V258', 'V259', 'V26', 'V260', 'V261', 'V262', 'V263', 'V264', 'V265', 'V266', 'V267', 'V268', 'V269', 'V27', 'V270', 'V271', 'V272', 'V273', 'V274', 'V275', 'V276', 'V277', 'V278', 'V279', 'V28', 'V280', 'V281', 'V282', 'V283', 'V284', 'V285', 'V286', 'V287', 'V288', 'V289', 'V29', 'V290', 'V291', 'V292', 'V293', 'V294', 'V295', 'V296', 'V297', 'V298', 'V299', 'V30', 'V300', 'V301', 'V302', 'V303', 'V304', 'V305', 'V306', 'V307', 'V308', 'V309', 'V31', 'V310', 'V311', 'V312', 'V313', 'V314', 'V315', 'V316', 'V317', 'V318', 'V319', 'V32', 'V320', 'V321', 'V322', 'V323', 'V324', 'V325', 'V326', 'V327', 'V328', 'V329', 'V33', 'V330', 'V331', 'V332', 'V333', 'V334', 'V335', 'V336', 'V337', 'V338', 'V339', 'V34', 'V35', 'V36', 'V37', 'V38', 'V39', 'V40', 'V41', 'V42', 'V43', 'V44', 'V45', 'V46', 'V47', 'V48', 'V49', 'V50', 'V51', 'V52', 'V53', 'V54', 'V55', 'V56', 'V57', 'V58', 'V59', 'V60', 'V61', 'V62', 'V63', 'V64', 'V65', 'V66', 'V67', 'V68', 'V69', 'V70', 'V71', 'V72', 'V73', 'V74', 'V75', 'V76', 'V77', 'V78', 'V79', 'V80', 'V81', 'V82', 'V83', 'V84', 'V85', 'V86', 'V87', 'V88', 'V89', 'V90', 'V91', 'V92', 'V93', 'V94', 'V95', 'V96', 'V97', 'V98', 'V99', 'addr1', 'addr2', 'card1', 'card2', 'card3', 'card4', 'card5', 'card6', 'dist2', 'id_01', 'id_02', 'id_03', 'id_04', 'id_05', 'id_06', 'id_07', 'id_08', 'id_09', 'id_10', 'id_11', 'id_12', 'id_13', 'id_14', 'id_15', 'id_16', 'id_17', 'id_18', 'id_19', 'id_20', 'id_21', 'id_22', 'id_23', 'id_24', 'id_25', 'id_26', 'id_27', 'id_28', 'id_29', 'id_30', 'id_31', 'id_32', 'id_33', 'id_34', 'id_35', 'id_36', 'id_37', 'id_38', 'email_check', 'email_check_nan_all', 'email_check_nan_any', 'P_emaildomain_Country', 'R_emaildomain_Country', 'P_emaildomain_prefix', 'R_emaildomain_prefix', 'DeviceInfo_c', 'id_30_c', 'id_30_v', 'id_31_c', 'is_mobile_browser', 'id_31_v', 'dow', 'day', 'Transaction_hour', 'card1_fq_enc', 'card2_fq_enc', 'card3_fq_enc', 'card5_fq_enc', 'C1_fq_enc', 'C2_fq_enc', 'C3_fq_enc', 'C4_fq_enc', 'C6_fq_enc', 'C7_fq_enc', 'C8_fq_enc', 'C10_fq_enc', 'C11_fq_enc', 'C12_fq_enc', 'C13_fq_enc', 'C14_fq_enc', 'D1_fq_enc', 'D2_fq_enc', 'D3_fq_enc', 'D4_fq_enc', 'D5_fq_enc', 'D6_fq_enc', 'D7_fq_enc', 'D8_fq_enc', 'D9_fq_enc', 'addr1_fq_enc', 'addr2_fq_enc', 'dist2_fq_enc', 'P_emaildomain_fq_enc', 'R_emaildomain_fq_enc', 'id_01_fq_enc', 'id_02_fq_enc', 'id_03_fq_enc', 'id_04_fq_enc', 'id_05_fq_enc', 'id_06_fq_enc', 'id_07_fq_enc', 'id_08_fq_enc', 'id_09_fq_enc', 'id_10_fq_enc', 'id_11_fq_enc', 'id_13_fq_enc', 'id_14_fq_enc', 'id_17_fq_enc', 'id_18_fq_enc', 'id_19_fq_enc', 'id_20_fq_enc', 'id_21_fq_enc', 'id_22_fq_enc', 'id_24_fq_enc', 'id_25_fq_enc', 'id_26_fq_enc', 'id_30_fq_enc', 'id_31_fq_enc', 'id_32_fq_enc', 'id_33_fq_enc', 'DeviceInfo_fq_enc', 'DeviceInfo_c_fq_enc', 'id_30_c_fq_enc', 'id_30_v_fq_enc', 'id_31_v_fq_enc', 'card1_TransactionAmt_mean', 'card1_TransactionAmt_std', 'card2_TransactionAmt_mean', 'card2_TransactionAmt_std', 'card3_TransactionAmt_mean', 'card3_TransactionAmt_std', 'card5_TransactionAmt_mean', 'card5_TransactionAmt_std', 'uid_TransactionAmt_mean', 'uid_TransactionAmt_std', 'uid2_TransactionAmt_mean', 'uid2_TransactionAmt_std', 'uid3_TransactionAmt_mean', 'uid3_TransactionAmt_std', 'ymd_TransactionDT_count', 'ymd_TransactionAmt_sum', 'uid2_dayofweek_mean', 'uid2_dayofweek_std', 'TransactionAmt_decimal_count', 'TransactionAmt_decimal', 'account_make_date_D1', 'account_make_date_D2', 'account_make_date_D4', 'account_make_date_D8', 'account_make_date_D10', 'account_make_date_D15', 'card1_make_date_D1_productCD_Amt_mean', 'card1_make_date_D1_productCD_Amt_std', 'card1_addr1_LDA_0', 'card1_addr1_LDA_1', 'card1_addr1_LDA_2', 'card1_addr1_LDA_3', 'card1_addr1_LDA_4', 'card1_id_20_LDA_0', 'card1_id_20_LDA_1', 'card1_id_20_LDA_2', 'card1_id_20_LDA_3', 'card1_id_20_LDA_4', 'card4_DeviceInfo_c_NMF_0', 'card4_DeviceInfo_c_NMF_1', 'card4_DeviceInfo_c_NMF_2', 'card4_DeviceInfo_c_NMF_3', 'card4_DeviceInfo_c_NMF_4', 'addr1_id_32_combine', 'addr1_id_32_combine_fq_enc_combine', 'addr1_id_32_combine_TransactionAmt_mean', 'addr1_id_32_combine_TransactionAmt_std', 'addr1_id_14_combine', 'addr1_id_14_combine_fq_enc_combine', 'addr1_id_14_combine_TransactionAmt_mean', 'addr1_id_14_combine_TransactionAmt_std', 'addr1_id_19_combine', 'addr1_id_19_combine_fq_enc_combine', 'addr1_id_19_combine_TransactionAmt_mean', 'addr1_id_19_combine_TransactionAmt_std', 'card1_card2_combine', 'card1_card2_combine_fq_enc_combine', 'card1_addr1_combine', 'card1_addr1_combine_fq_enc_combine', 'card1_addr1_combine_TransactionAmt_mean', 'card1_addr1_combine_TransactionAmt_std', 'uid3_next_click', 'card1_make_date_D2_productCD_Amt_mean', 'card1_make_date_D2_productCD_Amt_std', 'card1_addr1_make_date_D1_ProductCD_Amt_mean', 'card1_addr1_make_date_D1_ProductCD_Amt_std', 'card1_id_20_make_date_D1_ProductCD_Amt_mean', 'card1_id_20_make_date_D1_ProductCD_Amt_std', 'ProductCD_Amt_expandmean', 'id_02_ProductCD_amt_mean', 'card1_make_date_D1_productCD_hour_mean', 'card1_maked1_pcd', 'card1_maked1_pcd_fq_enc_combine', 'account_make_date_D1_fq_enc_combine', 'ProductCD_target_mean', 'M4_target_mean']\n",
      "TYPE [0, 2, 1, 3] - 1 FOLD Start\n"
     ]
    },
    {
     "name": "stderr",
     "output_type": "stream",
     "text": [
      "C:\\Users\\kimym\\Anaconda3\\lib\\site-packages\\lightgbm\\basic.py:1188: UserWarning: categorical_feature in Dataset is overridden.\n",
      "New categorical_feature is ['P_emaildomain', 'R_emaildomain', 'addr1', 'addr2', 'id_13', 'id_15', 'id_30_v', 'id_31_v', 'id_33', 'id_37', 'id_38']\n",
      "  'New categorical_feature is {}'.format(sorted(list(categorical_feature))))\n",
      "C:\\Users\\kimym\\Anaconda3\\lib\\site-packages\\lightgbm\\basic.py:1188: UserWarning: categorical_feature in Dataset is overridden.\n",
      "New categorical_feature is ['P_emaildomain', 'R_emaildomain', 'addr1', 'addr2', 'id_13', 'id_15', 'id_30_v', 'id_31_v', 'id_33', 'id_37', 'id_38']\n",
      "  'New categorical_feature is {}'.format(sorted(list(categorical_feature))))\n",
      "C:\\Users\\kimym\\Anaconda3\\lib\\site-packages\\lightgbm\\basic.py:742: UserWarning: categorical_feature in param dict is overridden.\n",
      "  warnings.warn('categorical_feature in param dict is overridden.')\n"
     ]
    },
    {
     "name": "stdout",
     "output_type": "stream",
     "text": [
      "Training until validation scores don't improve for 100 rounds.\n",
      "[500]\ttraining's auc: 0.999583\tvalid_1's auc: 0.975784\n",
      "[1000]\ttraining's auc: 1\tvalid_1's auc: 0.979907\n",
      "Early stopping, best iteration is:\n",
      "[952]\ttraining's auc: 1\tvalid_1's auc: 0.979732\n",
      "1 FOLD Score:  0.9797316641335581\n",
      "TYPE [0, 2, 1, 3] - 2 FOLD Start\n"
     ]
    },
    {
     "name": "stderr",
     "output_type": "stream",
     "text": [
      "C:\\Users\\kimym\\Anaconda3\\lib\\site-packages\\lightgbm\\basic.py:1188: UserWarning: categorical_feature in Dataset is overridden.\n",
      "New categorical_feature is ['P_emaildomain', 'R_emaildomain', 'addr1', 'addr2', 'id_13', 'id_15', 'id_30_v', 'id_31_v', 'id_33', 'id_37', 'id_38']\n",
      "  'New categorical_feature is {}'.format(sorted(list(categorical_feature))))\n",
      "C:\\Users\\kimym\\Anaconda3\\lib\\site-packages\\lightgbm\\basic.py:1188: UserWarning: categorical_feature in Dataset is overridden.\n",
      "New categorical_feature is ['P_emaildomain', 'R_emaildomain', 'addr1', 'addr2', 'id_13', 'id_15', 'id_30_v', 'id_31_v', 'id_33', 'id_37', 'id_38']\n",
      "  'New categorical_feature is {}'.format(sorted(list(categorical_feature))))\n",
      "C:\\Users\\kimym\\Anaconda3\\lib\\site-packages\\lightgbm\\basic.py:742: UserWarning: categorical_feature in param dict is overridden.\n",
      "  warnings.warn('categorical_feature in param dict is overridden.')\n"
     ]
    },
    {
     "name": "stdout",
     "output_type": "stream",
     "text": [
      "Training until validation scores don't improve for 100 rounds.\n",
      "[500]\ttraining's auc: 0.999592\tvalid_1's auc: 0.981558\n",
      "[1000]\ttraining's auc: 1\tvalid_1's auc: 0.984677\n",
      "Early stopping, best iteration is:\n",
      "[953]\ttraining's auc: 1\tvalid_1's auc: 0.9845\n",
      "2 FOLD Score:  0.984500476261313\n",
      "TYPE [0, 2, 1, 3] - 3 FOLD Start\n"
     ]
    },
    {
     "name": "stderr",
     "output_type": "stream",
     "text": [
      "C:\\Users\\kimym\\Anaconda3\\lib\\site-packages\\lightgbm\\basic.py:1188: UserWarning: categorical_feature in Dataset is overridden.\n",
      "New categorical_feature is ['P_emaildomain', 'R_emaildomain', 'addr1', 'addr2', 'id_13', 'id_15', 'id_30_v', 'id_31_v', 'id_33', 'id_37', 'id_38']\n",
      "  'New categorical_feature is {}'.format(sorted(list(categorical_feature))))\n",
      "C:\\Users\\kimym\\Anaconda3\\lib\\site-packages\\lightgbm\\basic.py:1188: UserWarning: categorical_feature in Dataset is overridden.\n",
      "New categorical_feature is ['P_emaildomain', 'R_emaildomain', 'addr1', 'addr2', 'id_13', 'id_15', 'id_30_v', 'id_31_v', 'id_33', 'id_37', 'id_38']\n",
      "  'New categorical_feature is {}'.format(sorted(list(categorical_feature))))\n",
      "C:\\Users\\kimym\\Anaconda3\\lib\\site-packages\\lightgbm\\basic.py:742: UserWarning: categorical_feature in param dict is overridden.\n",
      "  warnings.warn('categorical_feature in param dict is overridden.')\n"
     ]
    },
    {
     "name": "stdout",
     "output_type": "stream",
     "text": [
      "Training until validation scores don't improve for 100 rounds.\n",
      "[500]\ttraining's auc: 0.999573\tvalid_1's auc: 0.981593\n",
      "[1000]\ttraining's auc: 1\tvalid_1's auc: 0.984972\n",
      "Early stopping, best iteration is:\n",
      "[983]\ttraining's auc: 1\tvalid_1's auc: 0.984879\n",
      "3 FOLD Score:  0.9848790585024605\n",
      "TYPE [0, 2, 1, 3] - 4 FOLD Start\n"
     ]
    },
    {
     "name": "stderr",
     "output_type": "stream",
     "text": [
      "C:\\Users\\kimym\\Anaconda3\\lib\\site-packages\\lightgbm\\basic.py:1188: UserWarning: categorical_feature in Dataset is overridden.\n",
      "New categorical_feature is ['P_emaildomain', 'R_emaildomain', 'addr1', 'addr2', 'id_13', 'id_15', 'id_30_v', 'id_31_v', 'id_33', 'id_37', 'id_38']\n",
      "  'New categorical_feature is {}'.format(sorted(list(categorical_feature))))\n",
      "C:\\Users\\kimym\\Anaconda3\\lib\\site-packages\\lightgbm\\basic.py:1188: UserWarning: categorical_feature in Dataset is overridden.\n",
      "New categorical_feature is ['P_emaildomain', 'R_emaildomain', 'addr1', 'addr2', 'id_13', 'id_15', 'id_30_v', 'id_31_v', 'id_33', 'id_37', 'id_38']\n",
      "  'New categorical_feature is {}'.format(sorted(list(categorical_feature))))\n",
      "C:\\Users\\kimym\\Anaconda3\\lib\\site-packages\\lightgbm\\basic.py:742: UserWarning: categorical_feature in param dict is overridden.\n",
      "  warnings.warn('categorical_feature in param dict is overridden.')\n"
     ]
    },
    {
     "name": "stdout",
     "output_type": "stream",
     "text": [
      "Training until validation scores don't improve for 100 rounds.\n",
      "[500]\ttraining's auc: 0.999612\tvalid_1's auc: 0.979087\n",
      "[1000]\ttraining's auc: 1\tvalid_1's auc: 0.98248\n",
      "Early stopping, best iteration is:\n",
      "[919]\ttraining's auc: 1\tvalid_1's auc: 0.982299\n",
      "4 FOLD Score:  0.9822993602823331\n",
      "TYPE [0, 2, 1, 3] - 5 FOLD Start\n"
     ]
    },
    {
     "name": "stderr",
     "output_type": "stream",
     "text": [
      "C:\\Users\\kimym\\Anaconda3\\lib\\site-packages\\lightgbm\\basic.py:1188: UserWarning: categorical_feature in Dataset is overridden.\n",
      "New categorical_feature is ['P_emaildomain', 'R_emaildomain', 'addr1', 'addr2', 'id_13', 'id_15', 'id_30_v', 'id_31_v', 'id_33', 'id_37', 'id_38']\n",
      "  'New categorical_feature is {}'.format(sorted(list(categorical_feature))))\n",
      "C:\\Users\\kimym\\Anaconda3\\lib\\site-packages\\lightgbm\\basic.py:1188: UserWarning: categorical_feature in Dataset is overridden.\n",
      "New categorical_feature is ['P_emaildomain', 'R_emaildomain', 'addr1', 'addr2', 'id_13', 'id_15', 'id_30_v', 'id_31_v', 'id_33', 'id_37', 'id_38']\n",
      "  'New categorical_feature is {}'.format(sorted(list(categorical_feature))))\n",
      "C:\\Users\\kimym\\Anaconda3\\lib\\site-packages\\lightgbm\\basic.py:742: UserWarning: categorical_feature in param dict is overridden.\n",
      "  warnings.warn('categorical_feature in param dict is overridden.')\n"
     ]
    },
    {
     "name": "stdout",
     "output_type": "stream",
     "text": [
      "Training until validation scores don't improve for 100 rounds.\n",
      "[500]\ttraining's auc: 0.99953\tvalid_1's auc: 0.983749\n",
      "[1000]\ttraining's auc: 1\tvalid_1's auc: 0.986996\n",
      "Early stopping, best iteration is:\n",
      "[982]\ttraining's auc: 1\tvalid_1's auc: 0.986933\n",
      "5 FOLD Score:  0.9869333877089159\n",
      "Total CV:  0.9836687893777162\n",
      "Total CV2:  0.983666775022663\n",
      "4\n",
      "(439670, 603)\n",
      "325 ['C1', 'C11', 'C12', 'C13', 'C14', 'C2', 'C5', 'C6', 'C9', 'D1', 'D10', 'D11', 'D15', 'D2', 'D3', 'D4', 'D5', 'M1', 'M2', 'M3', 'M4', 'M5', 'M6', 'M7', 'M8', 'M9', 'P_emaildomain', 'TransactionAmt', 'V1', 'V10', 'V100', 'V101', 'V102', 'V103', 'V104', 'V105', 'V106', 'V107', 'V108', 'V109', 'V11', 'V110', 'V111', 'V112', 'V113', 'V114', 'V115', 'V116', 'V117', 'V118', 'V119', 'V12', 'V120', 'V121', 'V122', 'V123', 'V124', 'V125', 'V126', 'V127', 'V128', 'V129', 'V13', 'V130', 'V131', 'V132', 'V133', 'V134', 'V135', 'V136', 'V137', 'V14', 'V15', 'V16', 'V17', 'V18', 'V19', 'V2', 'V20', 'V21', 'V22', 'V23', 'V24', 'V25', 'V26', 'V27', 'V279', 'V28', 'V280', 'V281', 'V282', 'V283', 'V284', 'V285', 'V286', 'V287', 'V288', 'V289', 'V29', 'V290', 'V291', 'V292', 'V293', 'V294', 'V295', 'V296', 'V297', 'V298', 'V299', 'V3', 'V30', 'V300', 'V301', 'V302', 'V303', 'V304', 'V305', 'V306', 'V307', 'V308', 'V309', 'V31', 'V310', 'V311', 'V312', 'V313', 'V314', 'V315', 'V316', 'V317', 'V318', 'V319', 'V32', 'V320', 'V321', 'V33', 'V34', 'V35', 'V36', 'V37', 'V38', 'V39', 'V4', 'V40', 'V41', 'V42', 'V43', 'V44', 'V45', 'V46', 'V47', 'V48', 'V49', 'V5', 'V50', 'V51', 'V52', 'V53', 'V54', 'V55', 'V56', 'V57', 'V58', 'V59', 'V6', 'V60', 'V61', 'V62', 'V63', 'V64', 'V65', 'V66', 'V67', 'V68', 'V69', 'V7', 'V70', 'V71', 'V72', 'V73', 'V74', 'V75', 'V76', 'V77', 'V78', 'V79', 'V8', 'V80', 'V81', 'V82', 'V83', 'V84', 'V85', 'V86', 'V87', 'V88', 'V89', 'V9', 'V90', 'V91', 'V92', 'V93', 'V94', 'V95', 'V96', 'V97', 'V98', 'V99', 'addr1', 'addr2', 'card1', 'card2', 'card3', 'card4', 'card5', 'card6', 'dist1', 'email_check_nan_all', 'P_emaildomain_Country', 'P_emaildomain_prefix', 'M_not_null', 'M_sum', 'collect_agree_ratio', 'dow', 'day', 'Transaction_hour', 'card1_fq_enc', 'card2_fq_enc', 'card3_fq_enc', 'card5_fq_enc', 'C1_fq_enc', 'C2_fq_enc', 'C5_fq_enc', 'C6_fq_enc', 'C9_fq_enc', 'C11_fq_enc', 'C12_fq_enc', 'C13_fq_enc', 'C14_fq_enc', 'D1_fq_enc', 'D2_fq_enc', 'D3_fq_enc', 'D4_fq_enc', 'D5_fq_enc', 'addr1_fq_enc', 'addr2_fq_enc', 'dist1_fq_enc', 'P_emaildomain_fq_enc', 'card1_TransactionAmt_mean', 'card1_TransactionAmt_std', 'card2_TransactionAmt_mean', 'card2_TransactionAmt_std', 'card3_TransactionAmt_mean', 'card3_TransactionAmt_std', 'card5_TransactionAmt_mean', 'card5_TransactionAmt_std', 'uid_TransactionAmt_mean', 'uid_TransactionAmt_std', 'uid2_TransactionAmt_mean', 'uid2_TransactionAmt_std', 'uid3_TransactionAmt_mean', 'uid3_TransactionAmt_std', 'ymd_TransactionDT_count', 'ymd_TransactionAmt_sum', 'uid2_dayofweek_mean', 'uid2_dayofweek_std', 'TransactionAmt_decimal_count', 'TransactionAmt_decimal', 'account_make_date_D1', 'account_make_date_D2', 'account_make_date_D4', 'account_make_date_D10', 'account_make_date_D15', 'card1_make_date_D1_productCD_Amt_mean', 'card1_make_date_D1_productCD_Amt_std', 'card1_addr1_LDA_0', 'card1_addr1_LDA_1', 'card1_addr1_LDA_2', 'card1_addr1_LDA_3', 'card1_addr1_LDA_4', 'card1_id_20_LDA_0', 'card1_id_20_LDA_1', 'card1_id_20_LDA_2', 'card1_id_20_LDA_3', 'card1_id_20_LDA_4', 'card4_DeviceInfo_c_NMF_0', 'card4_DeviceInfo_c_NMF_1', 'card4_DeviceInfo_c_NMF_2', 'card4_DeviceInfo_c_NMF_3', 'card4_DeviceInfo_c_NMF_4', 'addr1_id_32_combine', 'addr1_id_32_combine_fq_enc_combine', 'addr1_id_32_combine_TransactionAmt_mean', 'addr1_id_32_combine_TransactionAmt_std', 'addr1_id_14_combine', 'addr1_id_14_combine_fq_enc_combine', 'addr1_id_14_combine_TransactionAmt_mean', 'addr1_id_14_combine_TransactionAmt_std', 'addr1_id_19_combine', 'addr1_id_19_combine_fq_enc_combine', 'addr1_id_19_combine_TransactionAmt_mean', 'addr1_id_19_combine_TransactionAmt_std', 'card1_card2_combine', 'card1_card2_combine_fq_enc_combine', 'card1_addr1_combine', 'card1_addr1_combine_fq_enc_combine', 'card1_addr1_combine_TransactionAmt_mean', 'card1_addr1_combine_TransactionAmt_std', 'uid3_next_click', 'card1_make_date_D2_productCD_Amt_mean', 'card1_make_date_D2_productCD_Amt_std', 'card1_addr1_make_date_D1_ProductCD_Amt_mean', 'card1_addr1_make_date_D1_ProductCD_Amt_std', 'ProductCD_Amt_expandmean', 'card1_make_date_D1_ProductCD_dist1_mean', 'card1_make_date_D1_ProductCD_dist1_std', 'card1_addr1_make_date_D1_ProductCD_dist1_mean', 'card1_addr1_make_date_D1_ProductCD_dist1_std', 'card1_card2_make_date_D1_ProductCD_dist1_mean', 'card1_card2_make_date_D1_ProductCD_dist1_std', 'card1_make_date_D1_productCD_hour_mean', 'card1_maked1_pcd', 'card1_maked1_pcd_fq_enc_combine', 'account_make_date_D1_fq_enc_combine', 'M4_target_mean']\n",
      "TYPE [4] - 1 FOLD Start\n"
     ]
    },
    {
     "name": "stderr",
     "output_type": "stream",
     "text": [
      "C:\\Users\\kimym\\Anaconda3\\lib\\site-packages\\lightgbm\\basic.py:1188: UserWarning: categorical_feature in Dataset is overridden.\n",
      "New categorical_feature is ['P_emaildomain', 'addr1', 'addr2']\n",
      "  'New categorical_feature is {}'.format(sorted(list(categorical_feature))))\n",
      "C:\\Users\\kimym\\Anaconda3\\lib\\site-packages\\lightgbm\\basic.py:1188: UserWarning: categorical_feature in Dataset is overridden.\n",
      "New categorical_feature is ['P_emaildomain', 'addr1', 'addr2']\n",
      "  'New categorical_feature is {}'.format(sorted(list(categorical_feature))))\n",
      "C:\\Users\\kimym\\Anaconda3\\lib\\site-packages\\lightgbm\\basic.py:742: UserWarning: categorical_feature in param dict is overridden.\n",
      "  warnings.warn('categorical_feature in param dict is overridden.')\n"
     ]
    },
    {
     "name": "stdout",
     "output_type": "stream",
     "text": [
      "Training until validation scores don't improve for 100 rounds.\n",
      "[500]\ttraining's auc: 0.999874\tvalid_1's auc: 0.97064\n",
      "[1000]\ttraining's auc: 1\tvalid_1's auc: 0.975609\n",
      "Early stopping, best iteration is:\n",
      "[1097]\ttraining's auc: 1\tvalid_1's auc: 0.975933\n",
      "1 FOLD Score:  0.9759328826941936\n",
      "TYPE [4] - 2 FOLD Start\n"
     ]
    },
    {
     "name": "stderr",
     "output_type": "stream",
     "text": [
      "C:\\Users\\kimym\\Anaconda3\\lib\\site-packages\\lightgbm\\basic.py:1188: UserWarning: categorical_feature in Dataset is overridden.\n",
      "New categorical_feature is ['P_emaildomain', 'addr1', 'addr2']\n",
      "  'New categorical_feature is {}'.format(sorted(list(categorical_feature))))\n",
      "C:\\Users\\kimym\\Anaconda3\\lib\\site-packages\\lightgbm\\basic.py:1188: UserWarning: categorical_feature in Dataset is overridden.\n",
      "New categorical_feature is ['P_emaildomain', 'addr1', 'addr2']\n",
      "  'New categorical_feature is {}'.format(sorted(list(categorical_feature))))\n",
      "C:\\Users\\kimym\\Anaconda3\\lib\\site-packages\\lightgbm\\basic.py:742: UserWarning: categorical_feature in param dict is overridden.\n",
      "  warnings.warn('categorical_feature in param dict is overridden.')\n"
     ]
    },
    {
     "name": "stdout",
     "output_type": "stream",
     "text": [
      "Training until validation scores don't improve for 100 rounds.\n",
      "[500]\ttraining's auc: 0.999904\tvalid_1's auc: 0.973757\n",
      "[1000]\ttraining's auc: 1\tvalid_1's auc: 0.978906\n",
      "Early stopping, best iteration is:\n",
      "[1034]\ttraining's auc: 1\tvalid_1's auc: 0.979\n",
      "2 FOLD Score:  0.9789998599671427\n",
      "TYPE [4] - 3 FOLD Start\n"
     ]
    },
    {
     "name": "stderr",
     "output_type": "stream",
     "text": [
      "C:\\Users\\kimym\\Anaconda3\\lib\\site-packages\\lightgbm\\basic.py:1188: UserWarning: categorical_feature in Dataset is overridden.\n",
      "New categorical_feature is ['P_emaildomain', 'addr1', 'addr2']\n",
      "  'New categorical_feature is {}'.format(sorted(list(categorical_feature))))\n",
      "C:\\Users\\kimym\\Anaconda3\\lib\\site-packages\\lightgbm\\basic.py:1188: UserWarning: categorical_feature in Dataset is overridden.\n",
      "New categorical_feature is ['P_emaildomain', 'addr1', 'addr2']\n",
      "  'New categorical_feature is {}'.format(sorted(list(categorical_feature))))\n",
      "C:\\Users\\kimym\\Anaconda3\\lib\\site-packages\\lightgbm\\basic.py:742: UserWarning: categorical_feature in param dict is overridden.\n",
      "  warnings.warn('categorical_feature in param dict is overridden.')\n"
     ]
    },
    {
     "name": "stdout",
     "output_type": "stream",
     "text": [
      "Training until validation scores don't improve for 100 rounds.\n",
      "[500]\ttraining's auc: 0.999878\tvalid_1's auc: 0.970942\n",
      "[1000]\ttraining's auc: 1\tvalid_1's auc: 0.975693\n",
      "Early stopping, best iteration is:\n",
      "[1052]\ttraining's auc: 1\tvalid_1's auc: 0.975937\n",
      "3 FOLD Score:  0.9759370424180491\n",
      "TYPE [4] - 4 FOLD Start\n"
     ]
    },
    {
     "name": "stderr",
     "output_type": "stream",
     "text": [
      "C:\\Users\\kimym\\Anaconda3\\lib\\site-packages\\lightgbm\\basic.py:1188: UserWarning: categorical_feature in Dataset is overridden.\n",
      "New categorical_feature is ['P_emaildomain', 'addr1', 'addr2']\n",
      "  'New categorical_feature is {}'.format(sorted(list(categorical_feature))))\n",
      "C:\\Users\\kimym\\Anaconda3\\lib\\site-packages\\lightgbm\\basic.py:1188: UserWarning: categorical_feature in Dataset is overridden.\n",
      "New categorical_feature is ['P_emaildomain', 'addr1', 'addr2']\n",
      "  'New categorical_feature is {}'.format(sorted(list(categorical_feature))))\n",
      "C:\\Users\\kimym\\Anaconda3\\lib\\site-packages\\lightgbm\\basic.py:742: UserWarning: categorical_feature in param dict is overridden.\n",
      "  warnings.warn('categorical_feature in param dict is overridden.')\n"
     ]
    },
    {
     "name": "stdout",
     "output_type": "stream",
     "text": [
      "Training until validation scores don't improve for 100 rounds.\n",
      "[500]\ttraining's auc: 0.999901\tvalid_1's auc: 0.969688\n",
      "[1000]\ttraining's auc: 1\tvalid_1's auc: 0.975538\n",
      "Early stopping, best iteration is:\n",
      "[1099]\ttraining's auc: 1\tvalid_1's auc: 0.975985\n",
      "4 FOLD Score:  0.9759854327002346\n",
      "TYPE [4] - 5 FOLD Start\n"
     ]
    },
    {
     "name": "stderr",
     "output_type": "stream",
     "text": [
      "C:\\Users\\kimym\\Anaconda3\\lib\\site-packages\\lightgbm\\basic.py:1188: UserWarning: categorical_feature in Dataset is overridden.\n",
      "New categorical_feature is ['P_emaildomain', 'addr1', 'addr2']\n",
      "  'New categorical_feature is {}'.format(sorted(list(categorical_feature))))\n",
      "C:\\Users\\kimym\\Anaconda3\\lib\\site-packages\\lightgbm\\basic.py:1188: UserWarning: categorical_feature in Dataset is overridden.\n",
      "New categorical_feature is ['P_emaildomain', 'addr1', 'addr2']\n",
      "  'New categorical_feature is {}'.format(sorted(list(categorical_feature))))\n",
      "C:\\Users\\kimym\\Anaconda3\\lib\\site-packages\\lightgbm\\basic.py:742: UserWarning: categorical_feature in param dict is overridden.\n",
      "  warnings.warn('categorical_feature in param dict is overridden.')\n"
     ]
    },
    {
     "name": "stdout",
     "output_type": "stream",
     "text": [
      "Training until validation scores don't improve for 100 rounds.\n",
      "[500]\ttraining's auc: 0.99986\tvalid_1's auc: 0.971447\n",
      "[1000]\ttraining's auc: 1\tvalid_1's auc: 0.977216\n",
      "Early stopping, best iteration is:\n",
      "[1064]\ttraining's auc: 1\tvalid_1's auc: 0.977559\n",
      "5 FOLD Score:  0.9775586339103997\n",
      "Total CV:  0.976882770338004\n",
      "Total CV2:  0.9768323551704292\n",
      "(150870, 603)\n",
      "561 ['C1', 'C10', 'C11', 'C12', 'C13', 'C14', 'C2', 'C3', 'C4', 'C6', 'C7', 'C8', 'D1', 'D10', 'D12', 'D13', 'D14', 'D15', 'D2', 'D3', 'D4', 'D5', 'D6', 'D7', 'D8', 'D9', 'DeviceInfo', 'DeviceType', 'M4', 'P_emaildomain', 'ProductCD', 'R_emaildomain', 'TransactionAmt', 'V100', 'V101', 'V102', 'V103', 'V104', 'V105', 'V106', 'V107', 'V108', 'V109', 'V110', 'V111', 'V112', 'V113', 'V114', 'V115', 'V116', 'V117', 'V118', 'V119', 'V12', 'V120', 'V121', 'V122', 'V123', 'V124', 'V125', 'V126', 'V127', 'V128', 'V129', 'V13', 'V130', 'V131', 'V132', 'V133', 'V134', 'V135', 'V136', 'V137', 'V138', 'V139', 'V14', 'V140', 'V141', 'V142', 'V143', 'V144', 'V145', 'V146', 'V147', 'V148', 'V149', 'V15', 'V150', 'V151', 'V152', 'V153', 'V154', 'V155', 'V156', 'V157', 'V158', 'V159', 'V16', 'V160', 'V161', 'V162', 'V163', 'V164', 'V165', 'V166', 'V167', 'V168', 'V169', 'V17', 'V170', 'V171', 'V172', 'V173', 'V174', 'V175', 'V176', 'V177', 'V178', 'V179', 'V18', 'V180', 'V181', 'V182', 'V183', 'V184', 'V185', 'V186', 'V187', 'V188', 'V189', 'V19', 'V190', 'V191', 'V192', 'V193', 'V194', 'V195', 'V196', 'V197', 'V198', 'V199', 'V20', 'V200', 'V201', 'V202', 'V203', 'V204', 'V205', 'V206', 'V207', 'V208', 'V209', 'V21', 'V210', 'V211', 'V212', 'V213', 'V214', 'V215', 'V216', 'V217', 'V218', 'V219', 'V22', 'V220', 'V221', 'V222', 'V223', 'V224', 'V225', 'V226', 'V227', 'V228', 'V229', 'V23', 'V230', 'V231', 'V232', 'V233', 'V234', 'V235', 'V236', 'V237', 'V238', 'V239', 'V24', 'V240', 'V241', 'V242', 'V243', 'V244', 'V245', 'V246', 'V247', 'V248', 'V249', 'V25', 'V250', 'V251', 'V252', 'V253', 'V254', 'V255', 'V256', 'V257', 'V258', 'V259', 'V26', 'V260', 'V261', 'V262', 'V263', 'V264', 'V265', 'V266', 'V267', 'V268', 'V269', 'V27', 'V270', 'V271', 'V272', 'V273', 'V274', 'V275', 'V276', 'V277', 'V278', 'V279', 'V28', 'V280', 'V281', 'V282', 'V283', 'V284', 'V285', 'V286', 'V287', 'V288', 'V289', 'V29', 'V290', 'V291', 'V292', 'V293', 'V294', 'V295', 'V296', 'V297', 'V298', 'V299', 'V30', 'V300', 'V301', 'V302', 'V303', 'V304', 'V305', 'V306', 'V307', 'V308', 'V309', 'V31', 'V310', 'V311', 'V312', 'V313', 'V314', 'V315', 'V316', 'V317', 'V318', 'V319', 'V32', 'V320', 'V321', 'V322', 'V323', 'V324', 'V325', 'V326', 'V327', 'V328', 'V329', 'V33', 'V330', 'V331', 'V332', 'V333', 'V334', 'V335', 'V336', 'V337', 'V338', 'V339', 'V34', 'V35', 'V36', 'V37', 'V38', 'V39', 'V40', 'V41', 'V42', 'V43', 'V44', 'V45', 'V46', 'V47', 'V48', 'V49', 'V50', 'V51', 'V52', 'V53', 'V54', 'V55', 'V56', 'V57', 'V58', 'V59', 'V60', 'V61', 'V62', 'V63', 'V64', 'V65', 'V66', 'V67', 'V68', 'V69', 'V70', 'V71', 'V72', 'V73', 'V74', 'V75', 'V76', 'V77', 'V78', 'V79', 'V80', 'V81', 'V82', 'V83', 'V84', 'V85', 'V86', 'V87', 'V88', 'V89', 'V90', 'V91', 'V92', 'V93', 'V94', 'V95', 'V96', 'V97', 'V98', 'V99', 'addr1', 'addr2', 'card1', 'card2', 'card3', 'card4', 'card5', 'card6', 'dist2', 'id_01', 'id_02', 'id_03', 'id_04', 'id_05', 'id_06', 'id_07', 'id_08', 'id_09', 'id_10', 'id_11', 'id_12', 'id_13', 'id_14', 'id_15', 'id_16', 'id_17', 'id_18', 'id_19', 'id_20', 'id_21', 'id_22', 'id_23', 'id_24', 'id_25', 'id_26', 'id_27', 'id_28', 'id_29', 'id_30', 'id_31', 'id_32', 'id_33', 'id_34', 'id_35', 'id_36', 'id_37', 'id_38', 'email_check', 'email_check_nan_all', 'email_check_nan_any', 'P_emaildomain_Country', 'R_emaildomain_Country', 'P_emaildomain_prefix', 'R_emaildomain_prefix', 'DeviceInfo_c', 'id_30_c', 'id_30_v', 'id_31_c', 'is_mobile_browser', 'id_31_v', 'dow', 'day', 'Transaction_hour', 'card1_fq_enc', 'card2_fq_enc', 'card3_fq_enc', 'card5_fq_enc', 'C1_fq_enc', 'C2_fq_enc', 'C3_fq_enc', 'C4_fq_enc', 'C6_fq_enc', 'C7_fq_enc', 'C8_fq_enc', 'C10_fq_enc', 'C11_fq_enc', 'C12_fq_enc', 'C13_fq_enc', 'C14_fq_enc', 'D1_fq_enc', 'D2_fq_enc', 'D3_fq_enc', 'D4_fq_enc', 'D5_fq_enc', 'D6_fq_enc', 'D7_fq_enc', 'D8_fq_enc', 'D9_fq_enc', 'addr1_fq_enc', 'addr2_fq_enc', 'dist2_fq_enc', 'P_emaildomain_fq_enc', 'R_emaildomain_fq_enc', 'id_01_fq_enc', 'id_02_fq_enc', 'id_03_fq_enc', 'id_04_fq_enc', 'id_05_fq_enc', 'id_06_fq_enc', 'id_07_fq_enc', 'id_08_fq_enc', 'id_09_fq_enc', 'id_10_fq_enc', 'id_11_fq_enc', 'id_13_fq_enc', 'id_14_fq_enc', 'id_17_fq_enc', 'id_18_fq_enc', 'id_19_fq_enc', 'id_20_fq_enc', 'id_21_fq_enc', 'id_22_fq_enc', 'id_24_fq_enc', 'id_25_fq_enc', 'id_26_fq_enc', 'id_30_fq_enc', 'id_31_fq_enc', 'id_32_fq_enc', 'id_33_fq_enc', 'DeviceInfo_fq_enc', 'DeviceInfo_c_fq_enc', 'id_30_c_fq_enc', 'id_30_v_fq_enc', 'id_31_v_fq_enc', 'card1_TransactionAmt_mean', 'card1_TransactionAmt_std', 'card2_TransactionAmt_mean', 'card2_TransactionAmt_std', 'card3_TransactionAmt_mean', 'card3_TransactionAmt_std', 'card5_TransactionAmt_mean', 'card5_TransactionAmt_std', 'uid_TransactionAmt_mean', 'uid_TransactionAmt_std', 'uid2_TransactionAmt_mean', 'uid2_TransactionAmt_std', 'uid3_TransactionAmt_mean', 'uid3_TransactionAmt_std', 'ymd_TransactionDT_count', 'ymd_TransactionAmt_sum', 'uid2_dayofweek_mean', 'uid2_dayofweek_std', 'TransactionAmt_decimal_count', 'TransactionAmt_decimal', 'account_make_date_D1', 'account_make_date_D2', 'account_make_date_D4', 'account_make_date_D8', 'account_make_date_D10', 'account_make_date_D15', 'card1_make_date_D1_productCD_Amt_mean', 'card1_make_date_D1_productCD_Amt_std', 'card1_addr1_LDA_0', 'card1_addr1_LDA_1', 'card1_addr1_LDA_2', 'card1_addr1_LDA_3', 'card1_addr1_LDA_4', 'card1_id_20_LDA_0', 'card1_id_20_LDA_1', 'card1_id_20_LDA_2', 'card1_id_20_LDA_3', 'card1_id_20_LDA_4', 'card4_DeviceInfo_c_NMF_0', 'card4_DeviceInfo_c_NMF_1', 'card4_DeviceInfo_c_NMF_2', 'card4_DeviceInfo_c_NMF_3', 'card4_DeviceInfo_c_NMF_4', 'addr1_id_32_combine', 'addr1_id_32_combine_fq_enc_combine', 'addr1_id_32_combine_TransactionAmt_mean', 'addr1_id_32_combine_TransactionAmt_std', 'addr1_id_14_combine', 'addr1_id_14_combine_fq_enc_combine', 'addr1_id_14_combine_TransactionAmt_mean', 'addr1_id_14_combine_TransactionAmt_std', 'addr1_id_19_combine', 'addr1_id_19_combine_fq_enc_combine', 'addr1_id_19_combine_TransactionAmt_mean', 'addr1_id_19_combine_TransactionAmt_std', 'card1_card2_combine', 'card1_card2_combine_fq_enc_combine', 'card1_addr1_combine', 'card1_addr1_combine_fq_enc_combine', 'card1_addr1_combine_TransactionAmt_mean', 'card1_addr1_combine_TransactionAmt_std', 'uid3_next_click', 'card1_make_date_D2_productCD_Amt_mean', 'card1_make_date_D2_productCD_Amt_std', 'card1_addr1_make_date_D1_ProductCD_Amt_mean', 'card1_addr1_make_date_D1_ProductCD_Amt_std', 'card1_id_20_make_date_D1_ProductCD_Amt_mean', 'card1_id_20_make_date_D1_ProductCD_Amt_std', 'ProductCD_Amt_expandmean', 'id_02_ProductCD_amt_mean', 'card1_make_date_D1_productCD_hour_mean', 'card1_maked1_pcd', 'card1_maked1_pcd_fq_enc_combine', 'account_make_date_D1_fq_enc_combine', 'ProductCD_target_mean', 'M4_target_mean']\n",
      "TYPE [0, 2, 1, 3] - 1 FOLD Start\n"
     ]
    },
    {
     "name": "stderr",
     "output_type": "stream",
     "text": [
      "C:\\Users\\kimym\\Anaconda3\\lib\\site-packages\\lightgbm\\basic.py:1188: UserWarning: categorical_feature in Dataset is overridden.\n",
      "New categorical_feature is ['P_emaildomain', 'R_emaildomain', 'addr1', 'addr2', 'id_13', 'id_15', 'id_30_v', 'id_31_v', 'id_33', 'id_37', 'id_38']\n",
      "  'New categorical_feature is {}'.format(sorted(list(categorical_feature))))\n",
      "C:\\Users\\kimym\\Anaconda3\\lib\\site-packages\\lightgbm\\basic.py:1188: UserWarning: categorical_feature in Dataset is overridden.\n",
      "New categorical_feature is ['P_emaildomain', 'R_emaildomain', 'addr1', 'addr2', 'id_13', 'id_15', 'id_30_v', 'id_31_v', 'id_33', 'id_37', 'id_38']\n",
      "  'New categorical_feature is {}'.format(sorted(list(categorical_feature))))\n",
      "C:\\Users\\kimym\\Anaconda3\\lib\\site-packages\\lightgbm\\basic.py:742: UserWarning: categorical_feature in param dict is overridden.\n",
      "  warnings.warn('categorical_feature in param dict is overridden.')\n"
     ]
    },
    {
     "name": "stdout",
     "output_type": "stream",
     "text": [
      "Training until validation scores don't improve for 100 rounds.\n",
      "[500]\ttraining's auc: 0.999572\tvalid_1's auc: 0.975695\n",
      "[1000]\ttraining's auc: 1\tvalid_1's auc: 0.979705\n",
      "Early stopping, best iteration is:\n",
      "[928]\ttraining's auc: 1\tvalid_1's auc: 0.979426\n",
      "1 FOLD Score:  0.9794260968215409\n",
      "TYPE [0, 2, 1, 3] - 2 FOLD Start\n"
     ]
    },
    {
     "name": "stderr",
     "output_type": "stream",
     "text": [
      "C:\\Users\\kimym\\Anaconda3\\lib\\site-packages\\lightgbm\\basic.py:1188: UserWarning: categorical_feature in Dataset is overridden.\n",
      "New categorical_feature is ['P_emaildomain', 'R_emaildomain', 'addr1', 'addr2', 'id_13', 'id_15', 'id_30_v', 'id_31_v', 'id_33', 'id_37', 'id_38']\n",
      "  'New categorical_feature is {}'.format(sorted(list(categorical_feature))))\n",
      "C:\\Users\\kimym\\Anaconda3\\lib\\site-packages\\lightgbm\\basic.py:1188: UserWarning: categorical_feature in Dataset is overridden.\n",
      "New categorical_feature is ['P_emaildomain', 'R_emaildomain', 'addr1', 'addr2', 'id_13', 'id_15', 'id_30_v', 'id_31_v', 'id_33', 'id_37', 'id_38']\n",
      "  'New categorical_feature is {}'.format(sorted(list(categorical_feature))))\n",
      "C:\\Users\\kimym\\Anaconda3\\lib\\site-packages\\lightgbm\\basic.py:742: UserWarning: categorical_feature in param dict is overridden.\n",
      "  warnings.warn('categorical_feature in param dict is overridden.')\n"
     ]
    },
    {
     "name": "stdout",
     "output_type": "stream",
     "text": [
      "Training until validation scores don't improve for 100 rounds.\n",
      "[500]\ttraining's auc: 0.99962\tvalid_1's auc: 0.981498\n",
      "[1000]\ttraining's auc: 1\tvalid_1's auc: 0.984853\n",
      "Early stopping, best iteration is:\n",
      "[938]\ttraining's auc: 1\tvalid_1's auc: 0.984638\n",
      "2 FOLD Score:  0.9846377906574451\n",
      "TYPE [0, 2, 1, 3] - 3 FOLD Start\n"
     ]
    },
    {
     "name": "stderr",
     "output_type": "stream",
     "text": [
      "C:\\Users\\kimym\\Anaconda3\\lib\\site-packages\\lightgbm\\basic.py:1188: UserWarning: categorical_feature in Dataset is overridden.\n",
      "New categorical_feature is ['P_emaildomain', 'R_emaildomain', 'addr1', 'addr2', 'id_13', 'id_15', 'id_30_v', 'id_31_v', 'id_33', 'id_37', 'id_38']\n",
      "  'New categorical_feature is {}'.format(sorted(list(categorical_feature))))\n",
      "C:\\Users\\kimym\\Anaconda3\\lib\\site-packages\\lightgbm\\basic.py:1188: UserWarning: categorical_feature in Dataset is overridden.\n",
      "New categorical_feature is ['P_emaildomain', 'R_emaildomain', 'addr1', 'addr2', 'id_13', 'id_15', 'id_30_v', 'id_31_v', 'id_33', 'id_37', 'id_38']\n",
      "  'New categorical_feature is {}'.format(sorted(list(categorical_feature))))\n",
      "C:\\Users\\kimym\\Anaconda3\\lib\\site-packages\\lightgbm\\basic.py:742: UserWarning: categorical_feature in param dict is overridden.\n",
      "  warnings.warn('categorical_feature in param dict is overridden.')\n"
     ]
    },
    {
     "name": "stdout",
     "output_type": "stream",
     "text": [
      "Training until validation scores don't improve for 100 rounds.\n",
      "[500]\ttraining's auc: 0.999591\tvalid_1's auc: 0.980962\n",
      "[1000]\ttraining's auc: 1\tvalid_1's auc: 0.98478\n",
      "Early stopping, best iteration is:\n",
      "[982]\ttraining's auc: 1\tvalid_1's auc: 0.984723\n",
      "3 FOLD Score:  0.9847232051268956\n",
      "TYPE [0, 2, 1, 3] - 4 FOLD Start\n"
     ]
    },
    {
     "name": "stderr",
     "output_type": "stream",
     "text": [
      "C:\\Users\\kimym\\Anaconda3\\lib\\site-packages\\lightgbm\\basic.py:1188: UserWarning: categorical_feature in Dataset is overridden.\n",
      "New categorical_feature is ['P_emaildomain', 'R_emaildomain', 'addr1', 'addr2', 'id_13', 'id_15', 'id_30_v', 'id_31_v', 'id_33', 'id_37', 'id_38']\n",
      "  'New categorical_feature is {}'.format(sorted(list(categorical_feature))))\n",
      "C:\\Users\\kimym\\Anaconda3\\lib\\site-packages\\lightgbm\\basic.py:1188: UserWarning: categorical_feature in Dataset is overridden.\n",
      "New categorical_feature is ['P_emaildomain', 'R_emaildomain', 'addr1', 'addr2', 'id_13', 'id_15', 'id_30_v', 'id_31_v', 'id_33', 'id_37', 'id_38']\n",
      "  'New categorical_feature is {}'.format(sorted(list(categorical_feature))))\n",
      "C:\\Users\\kimym\\Anaconda3\\lib\\site-packages\\lightgbm\\basic.py:742: UserWarning: categorical_feature in param dict is overridden.\n",
      "  warnings.warn('categorical_feature in param dict is overridden.')\n"
     ]
    },
    {
     "name": "stdout",
     "output_type": "stream",
     "text": [
      "Training until validation scores don't improve for 100 rounds.\n",
      "[500]\ttraining's auc: 0.999597\tvalid_1's auc: 0.978786\n",
      "[1000]\ttraining's auc: 1\tvalid_1's auc: 0.982604\n",
      "Early stopping, best iteration is:\n",
      "[905]\ttraining's auc: 1\tvalid_1's auc: 0.982308\n",
      "4 FOLD Score:  0.9823077773169058\n",
      "TYPE [0, 2, 1, 3] - 5 FOLD Start\n"
     ]
    },
    {
     "name": "stderr",
     "output_type": "stream",
     "text": [
      "C:\\Users\\kimym\\Anaconda3\\lib\\site-packages\\lightgbm\\basic.py:1188: UserWarning: categorical_feature in Dataset is overridden.\n",
      "New categorical_feature is ['P_emaildomain', 'R_emaildomain', 'addr1', 'addr2', 'id_13', 'id_15', 'id_30_v', 'id_31_v', 'id_33', 'id_37', 'id_38']\n",
      "  'New categorical_feature is {}'.format(sorted(list(categorical_feature))))\n",
      "C:\\Users\\kimym\\Anaconda3\\lib\\site-packages\\lightgbm\\basic.py:1188: UserWarning: categorical_feature in Dataset is overridden.\n",
      "New categorical_feature is ['P_emaildomain', 'R_emaildomain', 'addr1', 'addr2', 'id_13', 'id_15', 'id_30_v', 'id_31_v', 'id_33', 'id_37', 'id_38']\n",
      "  'New categorical_feature is {}'.format(sorted(list(categorical_feature))))\n",
      "C:\\Users\\kimym\\Anaconda3\\lib\\site-packages\\lightgbm\\basic.py:742: UserWarning: categorical_feature in param dict is overridden.\n",
      "  warnings.warn('categorical_feature in param dict is overridden.')\n"
     ]
    },
    {
     "name": "stdout",
     "output_type": "stream",
     "text": [
      "Training until validation scores don't improve for 100 rounds.\n",
      "[500]\ttraining's auc: 0.999531\tvalid_1's auc: 0.983501\n",
      "[1000]\ttraining's auc: 1\tvalid_1's auc: 0.986655\n",
      "Early stopping, best iteration is:\n",
      "[976]\ttraining's auc: 1\tvalid_1's auc: 0.986592\n",
      "5 FOLD Score:  0.9865917219936683\n",
      "Total CV:  0.9835373183832912\n",
      "Total CV2:  0.9835493100985911\n",
      "5\n",
      "(439670, 603)\n",
      "325 ['C1', 'C11', 'C12', 'C13', 'C14', 'C2', 'C5', 'C6', 'C9', 'D1', 'D10', 'D11', 'D15', 'D2', 'D3', 'D4', 'D5', 'M1', 'M2', 'M3', 'M4', 'M5', 'M6', 'M7', 'M8', 'M9', 'P_emaildomain', 'TransactionAmt', 'V1', 'V10', 'V100', 'V101', 'V102', 'V103', 'V104', 'V105', 'V106', 'V107', 'V108', 'V109', 'V11', 'V110', 'V111', 'V112', 'V113', 'V114', 'V115', 'V116', 'V117', 'V118', 'V119', 'V12', 'V120', 'V121', 'V122', 'V123', 'V124', 'V125', 'V126', 'V127', 'V128', 'V129', 'V13', 'V130', 'V131', 'V132', 'V133', 'V134', 'V135', 'V136', 'V137', 'V14', 'V15', 'V16', 'V17', 'V18', 'V19', 'V2', 'V20', 'V21', 'V22', 'V23', 'V24', 'V25', 'V26', 'V27', 'V279', 'V28', 'V280', 'V281', 'V282', 'V283', 'V284', 'V285', 'V286', 'V287', 'V288', 'V289', 'V29', 'V290', 'V291', 'V292', 'V293', 'V294', 'V295', 'V296', 'V297', 'V298', 'V299', 'V3', 'V30', 'V300', 'V301', 'V302', 'V303', 'V304', 'V305', 'V306', 'V307', 'V308', 'V309', 'V31', 'V310', 'V311', 'V312', 'V313', 'V314', 'V315', 'V316', 'V317', 'V318', 'V319', 'V32', 'V320', 'V321', 'V33', 'V34', 'V35', 'V36', 'V37', 'V38', 'V39', 'V4', 'V40', 'V41', 'V42', 'V43', 'V44', 'V45', 'V46', 'V47', 'V48', 'V49', 'V5', 'V50', 'V51', 'V52', 'V53', 'V54', 'V55', 'V56', 'V57', 'V58', 'V59', 'V6', 'V60', 'V61', 'V62', 'V63', 'V64', 'V65', 'V66', 'V67', 'V68', 'V69', 'V7', 'V70', 'V71', 'V72', 'V73', 'V74', 'V75', 'V76', 'V77', 'V78', 'V79', 'V8', 'V80', 'V81', 'V82', 'V83', 'V84', 'V85', 'V86', 'V87', 'V88', 'V89', 'V9', 'V90', 'V91', 'V92', 'V93', 'V94', 'V95', 'V96', 'V97', 'V98', 'V99', 'addr1', 'addr2', 'card1', 'card2', 'card3', 'card4', 'card5', 'card6', 'dist1', 'email_check_nan_all', 'P_emaildomain_Country', 'P_emaildomain_prefix', 'M_not_null', 'M_sum', 'collect_agree_ratio', 'dow', 'day', 'Transaction_hour', 'card1_fq_enc', 'card2_fq_enc', 'card3_fq_enc', 'card5_fq_enc', 'C1_fq_enc', 'C2_fq_enc', 'C5_fq_enc', 'C6_fq_enc', 'C9_fq_enc', 'C11_fq_enc', 'C12_fq_enc', 'C13_fq_enc', 'C14_fq_enc', 'D1_fq_enc', 'D2_fq_enc', 'D3_fq_enc', 'D4_fq_enc', 'D5_fq_enc', 'addr1_fq_enc', 'addr2_fq_enc', 'dist1_fq_enc', 'P_emaildomain_fq_enc', 'card1_TransactionAmt_mean', 'card1_TransactionAmt_std', 'card2_TransactionAmt_mean', 'card2_TransactionAmt_std', 'card3_TransactionAmt_mean', 'card3_TransactionAmt_std', 'card5_TransactionAmt_mean', 'card5_TransactionAmt_std', 'uid_TransactionAmt_mean', 'uid_TransactionAmt_std', 'uid2_TransactionAmt_mean', 'uid2_TransactionAmt_std', 'uid3_TransactionAmt_mean', 'uid3_TransactionAmt_std', 'ymd_TransactionDT_count', 'ymd_TransactionAmt_sum', 'uid2_dayofweek_mean', 'uid2_dayofweek_std', 'TransactionAmt_decimal_count', 'TransactionAmt_decimal', 'account_make_date_D1', 'account_make_date_D2', 'account_make_date_D4', 'account_make_date_D10', 'account_make_date_D15', 'card1_make_date_D1_productCD_Amt_mean', 'card1_make_date_D1_productCD_Amt_std', 'card1_addr1_LDA_0', 'card1_addr1_LDA_1', 'card1_addr1_LDA_2', 'card1_addr1_LDA_3', 'card1_addr1_LDA_4', 'card1_id_20_LDA_0', 'card1_id_20_LDA_1', 'card1_id_20_LDA_2', 'card1_id_20_LDA_3', 'card1_id_20_LDA_4', 'card4_DeviceInfo_c_NMF_0', 'card4_DeviceInfo_c_NMF_1', 'card4_DeviceInfo_c_NMF_2', 'card4_DeviceInfo_c_NMF_3', 'card4_DeviceInfo_c_NMF_4', 'addr1_id_32_combine', 'addr1_id_32_combine_fq_enc_combine', 'addr1_id_32_combine_TransactionAmt_mean', 'addr1_id_32_combine_TransactionAmt_std', 'addr1_id_14_combine', 'addr1_id_14_combine_fq_enc_combine', 'addr1_id_14_combine_TransactionAmt_mean', 'addr1_id_14_combine_TransactionAmt_std', 'addr1_id_19_combine', 'addr1_id_19_combine_fq_enc_combine', 'addr1_id_19_combine_TransactionAmt_mean', 'addr1_id_19_combine_TransactionAmt_std', 'card1_card2_combine', 'card1_card2_combine_fq_enc_combine', 'card1_addr1_combine', 'card1_addr1_combine_fq_enc_combine', 'card1_addr1_combine_TransactionAmt_mean', 'card1_addr1_combine_TransactionAmt_std', 'uid3_next_click', 'card1_make_date_D2_productCD_Amt_mean', 'card1_make_date_D2_productCD_Amt_std', 'card1_addr1_make_date_D1_ProductCD_Amt_mean', 'card1_addr1_make_date_D1_ProductCD_Amt_std', 'ProductCD_Amt_expandmean', 'card1_make_date_D1_ProductCD_dist1_mean', 'card1_make_date_D1_ProductCD_dist1_std', 'card1_addr1_make_date_D1_ProductCD_dist1_mean', 'card1_addr1_make_date_D1_ProductCD_dist1_std', 'card1_card2_make_date_D1_ProductCD_dist1_mean', 'card1_card2_make_date_D1_ProductCD_dist1_std', 'card1_make_date_D1_productCD_hour_mean', 'card1_maked1_pcd', 'card1_maked1_pcd_fq_enc_combine', 'account_make_date_D1_fq_enc_combine', 'M4_target_mean']\n",
      "TYPE [4] - 1 FOLD Start\n"
     ]
    },
    {
     "name": "stderr",
     "output_type": "stream",
     "text": [
      "C:\\Users\\kimym\\Anaconda3\\lib\\site-packages\\lightgbm\\basic.py:1188: UserWarning: categorical_feature in Dataset is overridden.\n",
      "New categorical_feature is ['P_emaildomain', 'addr1', 'addr2']\n",
      "  'New categorical_feature is {}'.format(sorted(list(categorical_feature))))\n",
      "C:\\Users\\kimym\\Anaconda3\\lib\\site-packages\\lightgbm\\basic.py:1188: UserWarning: categorical_feature in Dataset is overridden.\n",
      "New categorical_feature is ['P_emaildomain', 'addr1', 'addr2']\n",
      "  'New categorical_feature is {}'.format(sorted(list(categorical_feature))))\n",
      "C:\\Users\\kimym\\Anaconda3\\lib\\site-packages\\lightgbm\\basic.py:742: UserWarning: categorical_feature in param dict is overridden.\n",
      "  warnings.warn('categorical_feature in param dict is overridden.')\n"
     ]
    },
    {
     "name": "stdout",
     "output_type": "stream",
     "text": [
      "Training until validation scores don't improve for 100 rounds.\n",
      "[500]\ttraining's auc: 0.999881\tvalid_1's auc: 0.970288\n",
      "[1000]\ttraining's auc: 1\tvalid_1's auc: 0.975547\n",
      "Early stopping, best iteration is:\n",
      "[1047]\ttraining's auc: 1\tvalid_1's auc: 0.975664\n",
      "1 FOLD Score:  0.9756644096919369\n",
      "TYPE [4] - 2 FOLD Start\n"
     ]
    },
    {
     "name": "stderr",
     "output_type": "stream",
     "text": [
      "C:\\Users\\kimym\\Anaconda3\\lib\\site-packages\\lightgbm\\basic.py:1188: UserWarning: categorical_feature in Dataset is overridden.\n",
      "New categorical_feature is ['P_emaildomain', 'addr1', 'addr2']\n",
      "  'New categorical_feature is {}'.format(sorted(list(categorical_feature))))\n",
      "C:\\Users\\kimym\\Anaconda3\\lib\\site-packages\\lightgbm\\basic.py:1188: UserWarning: categorical_feature in Dataset is overridden.\n",
      "New categorical_feature is ['P_emaildomain', 'addr1', 'addr2']\n",
      "  'New categorical_feature is {}'.format(sorted(list(categorical_feature))))\n",
      "C:\\Users\\kimym\\Anaconda3\\lib\\site-packages\\lightgbm\\basic.py:742: UserWarning: categorical_feature in param dict is overridden.\n",
      "  warnings.warn('categorical_feature in param dict is overridden.')\n"
     ]
    },
    {
     "name": "stdout",
     "output_type": "stream",
     "text": [
      "Training until validation scores don't improve for 100 rounds.\n",
      "[500]\ttraining's auc: 0.999893\tvalid_1's auc: 0.973673\n",
      "[1000]\ttraining's auc: 1\tvalid_1's auc: 0.979145\n",
      "Early stopping, best iteration is:\n",
      "[1018]\ttraining's auc: 1\tvalid_1's auc: 0.97925\n",
      "2 FOLD Score:  0.9792502237031365\n",
      "TYPE [4] - 3 FOLD Start\n"
     ]
    },
    {
     "name": "stderr",
     "output_type": "stream",
     "text": [
      "C:\\Users\\kimym\\Anaconda3\\lib\\site-packages\\lightgbm\\basic.py:1188: UserWarning: categorical_feature in Dataset is overridden.\n",
      "New categorical_feature is ['P_emaildomain', 'addr1', 'addr2']\n",
      "  'New categorical_feature is {}'.format(sorted(list(categorical_feature))))\n",
      "C:\\Users\\kimym\\Anaconda3\\lib\\site-packages\\lightgbm\\basic.py:1188: UserWarning: categorical_feature in Dataset is overridden.\n",
      "New categorical_feature is ['P_emaildomain', 'addr1', 'addr2']\n",
      "  'New categorical_feature is {}'.format(sorted(list(categorical_feature))))\n",
      "C:\\Users\\kimym\\Anaconda3\\lib\\site-packages\\lightgbm\\basic.py:742: UserWarning: categorical_feature in param dict is overridden.\n",
      "  warnings.warn('categorical_feature in param dict is overridden.')\n"
     ]
    },
    {
     "name": "stdout",
     "output_type": "stream",
     "text": [
      "Training until validation scores don't improve for 100 rounds.\n",
      "[500]\ttraining's auc: 0.999874\tvalid_1's auc: 0.970797\n",
      "[1000]\ttraining's auc: 1\tvalid_1's auc: 0.975379\n",
      "Early stopping, best iteration is:\n",
      "[1051]\ttraining's auc: 1\tvalid_1's auc: 0.975582\n",
      "3 FOLD Score:  0.9755820617133344\n",
      "TYPE [4] - 4 FOLD Start\n"
     ]
    },
    {
     "name": "stderr",
     "output_type": "stream",
     "text": [
      "C:\\Users\\kimym\\Anaconda3\\lib\\site-packages\\lightgbm\\basic.py:1188: UserWarning: categorical_feature in Dataset is overridden.\n",
      "New categorical_feature is ['P_emaildomain', 'addr1', 'addr2']\n",
      "  'New categorical_feature is {}'.format(sorted(list(categorical_feature))))\n",
      "C:\\Users\\kimym\\Anaconda3\\lib\\site-packages\\lightgbm\\basic.py:1188: UserWarning: categorical_feature in Dataset is overridden.\n",
      "New categorical_feature is ['P_emaildomain', 'addr1', 'addr2']\n",
      "  'New categorical_feature is {}'.format(sorted(list(categorical_feature))))\n",
      "C:\\Users\\kimym\\Anaconda3\\lib\\site-packages\\lightgbm\\basic.py:742: UserWarning: categorical_feature in param dict is overridden.\n",
      "  warnings.warn('categorical_feature in param dict is overridden.')\n"
     ]
    },
    {
     "name": "stdout",
     "output_type": "stream",
     "text": [
      "Training until validation scores don't improve for 100 rounds.\n",
      "[500]\ttraining's auc: 0.999893\tvalid_1's auc: 0.970256\n",
      "[1000]\ttraining's auc: 1\tvalid_1's auc: 0.975759\n",
      "Early stopping, best iteration is:\n",
      "[1128]\ttraining's auc: 1\tvalid_1's auc: 0.976373\n",
      "4 FOLD Score:  0.9763730791102815\n",
      "TYPE [4] - 5 FOLD Start\n"
     ]
    },
    {
     "name": "stderr",
     "output_type": "stream",
     "text": [
      "C:\\Users\\kimym\\Anaconda3\\lib\\site-packages\\lightgbm\\basic.py:1188: UserWarning: categorical_feature in Dataset is overridden.\n",
      "New categorical_feature is ['P_emaildomain', 'addr1', 'addr2']\n",
      "  'New categorical_feature is {}'.format(sorted(list(categorical_feature))))\n",
      "C:\\Users\\kimym\\Anaconda3\\lib\\site-packages\\lightgbm\\basic.py:1188: UserWarning: categorical_feature in Dataset is overridden.\n",
      "New categorical_feature is ['P_emaildomain', 'addr1', 'addr2']\n",
      "  'New categorical_feature is {}'.format(sorted(list(categorical_feature))))\n",
      "C:\\Users\\kimym\\Anaconda3\\lib\\site-packages\\lightgbm\\basic.py:742: UserWarning: categorical_feature in param dict is overridden.\n",
      "  warnings.warn('categorical_feature in param dict is overridden.')\n"
     ]
    },
    {
     "name": "stdout",
     "output_type": "stream",
     "text": [
      "Training until validation scores don't improve for 100 rounds.\n",
      "[500]\ttraining's auc: 0.999855\tvalid_1's auc: 0.971718\n",
      "[1000]\ttraining's auc: 1\tvalid_1's auc: 0.977855\n",
      "Early stopping, best iteration is:\n",
      "[1065]\ttraining's auc: 1\tvalid_1's auc: 0.978207\n",
      "5 FOLD Score:  0.9782071974299351\n",
      "Total CV:  0.9770153943297248\n",
      "Total CV2:  0.9769420377194444\n",
      "(150870, 603)\n",
      "561 ['C1', 'C10', 'C11', 'C12', 'C13', 'C14', 'C2', 'C3', 'C4', 'C6', 'C7', 'C8', 'D1', 'D10', 'D12', 'D13', 'D14', 'D15', 'D2', 'D3', 'D4', 'D5', 'D6', 'D7', 'D8', 'D9', 'DeviceInfo', 'DeviceType', 'M4', 'P_emaildomain', 'ProductCD', 'R_emaildomain', 'TransactionAmt', 'V100', 'V101', 'V102', 'V103', 'V104', 'V105', 'V106', 'V107', 'V108', 'V109', 'V110', 'V111', 'V112', 'V113', 'V114', 'V115', 'V116', 'V117', 'V118', 'V119', 'V12', 'V120', 'V121', 'V122', 'V123', 'V124', 'V125', 'V126', 'V127', 'V128', 'V129', 'V13', 'V130', 'V131', 'V132', 'V133', 'V134', 'V135', 'V136', 'V137', 'V138', 'V139', 'V14', 'V140', 'V141', 'V142', 'V143', 'V144', 'V145', 'V146', 'V147', 'V148', 'V149', 'V15', 'V150', 'V151', 'V152', 'V153', 'V154', 'V155', 'V156', 'V157', 'V158', 'V159', 'V16', 'V160', 'V161', 'V162', 'V163', 'V164', 'V165', 'V166', 'V167', 'V168', 'V169', 'V17', 'V170', 'V171', 'V172', 'V173', 'V174', 'V175', 'V176', 'V177', 'V178', 'V179', 'V18', 'V180', 'V181', 'V182', 'V183', 'V184', 'V185', 'V186', 'V187', 'V188', 'V189', 'V19', 'V190', 'V191', 'V192', 'V193', 'V194', 'V195', 'V196', 'V197', 'V198', 'V199', 'V20', 'V200', 'V201', 'V202', 'V203', 'V204', 'V205', 'V206', 'V207', 'V208', 'V209', 'V21', 'V210', 'V211', 'V212', 'V213', 'V214', 'V215', 'V216', 'V217', 'V218', 'V219', 'V22', 'V220', 'V221', 'V222', 'V223', 'V224', 'V225', 'V226', 'V227', 'V228', 'V229', 'V23', 'V230', 'V231', 'V232', 'V233', 'V234', 'V235', 'V236', 'V237', 'V238', 'V239', 'V24', 'V240', 'V241', 'V242', 'V243', 'V244', 'V245', 'V246', 'V247', 'V248', 'V249', 'V25', 'V250', 'V251', 'V252', 'V253', 'V254', 'V255', 'V256', 'V257', 'V258', 'V259', 'V26', 'V260', 'V261', 'V262', 'V263', 'V264', 'V265', 'V266', 'V267', 'V268', 'V269', 'V27', 'V270', 'V271', 'V272', 'V273', 'V274', 'V275', 'V276', 'V277', 'V278', 'V279', 'V28', 'V280', 'V281', 'V282', 'V283', 'V284', 'V285', 'V286', 'V287', 'V288', 'V289', 'V29', 'V290', 'V291', 'V292', 'V293', 'V294', 'V295', 'V296', 'V297', 'V298', 'V299', 'V30', 'V300', 'V301', 'V302', 'V303', 'V304', 'V305', 'V306', 'V307', 'V308', 'V309', 'V31', 'V310', 'V311', 'V312', 'V313', 'V314', 'V315', 'V316', 'V317', 'V318', 'V319', 'V32', 'V320', 'V321', 'V322', 'V323', 'V324', 'V325', 'V326', 'V327', 'V328', 'V329', 'V33', 'V330', 'V331', 'V332', 'V333', 'V334', 'V335', 'V336', 'V337', 'V338', 'V339', 'V34', 'V35', 'V36', 'V37', 'V38', 'V39', 'V40', 'V41', 'V42', 'V43', 'V44', 'V45', 'V46', 'V47', 'V48', 'V49', 'V50', 'V51', 'V52', 'V53', 'V54', 'V55', 'V56', 'V57', 'V58', 'V59', 'V60', 'V61', 'V62', 'V63', 'V64', 'V65', 'V66', 'V67', 'V68', 'V69', 'V70', 'V71', 'V72', 'V73', 'V74', 'V75', 'V76', 'V77', 'V78', 'V79', 'V80', 'V81', 'V82', 'V83', 'V84', 'V85', 'V86', 'V87', 'V88', 'V89', 'V90', 'V91', 'V92', 'V93', 'V94', 'V95', 'V96', 'V97', 'V98', 'V99', 'addr1', 'addr2', 'card1', 'card2', 'card3', 'card4', 'card5', 'card6', 'dist2', 'id_01', 'id_02', 'id_03', 'id_04', 'id_05', 'id_06', 'id_07', 'id_08', 'id_09', 'id_10', 'id_11', 'id_12', 'id_13', 'id_14', 'id_15', 'id_16', 'id_17', 'id_18', 'id_19', 'id_20', 'id_21', 'id_22', 'id_23', 'id_24', 'id_25', 'id_26', 'id_27', 'id_28', 'id_29', 'id_30', 'id_31', 'id_32', 'id_33', 'id_34', 'id_35', 'id_36', 'id_37', 'id_38', 'email_check', 'email_check_nan_all', 'email_check_nan_any', 'P_emaildomain_Country', 'R_emaildomain_Country', 'P_emaildomain_prefix', 'R_emaildomain_prefix', 'DeviceInfo_c', 'id_30_c', 'id_30_v', 'id_31_c', 'is_mobile_browser', 'id_31_v', 'dow', 'day', 'Transaction_hour', 'card1_fq_enc', 'card2_fq_enc', 'card3_fq_enc', 'card5_fq_enc', 'C1_fq_enc', 'C2_fq_enc', 'C3_fq_enc', 'C4_fq_enc', 'C6_fq_enc', 'C7_fq_enc', 'C8_fq_enc', 'C10_fq_enc', 'C11_fq_enc', 'C12_fq_enc', 'C13_fq_enc', 'C14_fq_enc', 'D1_fq_enc', 'D2_fq_enc', 'D3_fq_enc', 'D4_fq_enc', 'D5_fq_enc', 'D6_fq_enc', 'D7_fq_enc', 'D8_fq_enc', 'D9_fq_enc', 'addr1_fq_enc', 'addr2_fq_enc', 'dist2_fq_enc', 'P_emaildomain_fq_enc', 'R_emaildomain_fq_enc', 'id_01_fq_enc', 'id_02_fq_enc', 'id_03_fq_enc', 'id_04_fq_enc', 'id_05_fq_enc', 'id_06_fq_enc', 'id_07_fq_enc', 'id_08_fq_enc', 'id_09_fq_enc', 'id_10_fq_enc', 'id_11_fq_enc', 'id_13_fq_enc', 'id_14_fq_enc', 'id_17_fq_enc', 'id_18_fq_enc', 'id_19_fq_enc', 'id_20_fq_enc', 'id_21_fq_enc', 'id_22_fq_enc', 'id_24_fq_enc', 'id_25_fq_enc', 'id_26_fq_enc', 'id_30_fq_enc', 'id_31_fq_enc', 'id_32_fq_enc', 'id_33_fq_enc', 'DeviceInfo_fq_enc', 'DeviceInfo_c_fq_enc', 'id_30_c_fq_enc', 'id_30_v_fq_enc', 'id_31_v_fq_enc', 'card1_TransactionAmt_mean', 'card1_TransactionAmt_std', 'card2_TransactionAmt_mean', 'card2_TransactionAmt_std', 'card3_TransactionAmt_mean', 'card3_TransactionAmt_std', 'card5_TransactionAmt_mean', 'card5_TransactionAmt_std', 'uid_TransactionAmt_mean', 'uid_TransactionAmt_std', 'uid2_TransactionAmt_mean', 'uid2_TransactionAmt_std', 'uid3_TransactionAmt_mean', 'uid3_TransactionAmt_std', 'ymd_TransactionDT_count', 'ymd_TransactionAmt_sum', 'uid2_dayofweek_mean', 'uid2_dayofweek_std', 'TransactionAmt_decimal_count', 'TransactionAmt_decimal', 'account_make_date_D1', 'account_make_date_D2', 'account_make_date_D4', 'account_make_date_D8', 'account_make_date_D10', 'account_make_date_D15', 'card1_make_date_D1_productCD_Amt_mean', 'card1_make_date_D1_productCD_Amt_std', 'card1_addr1_LDA_0', 'card1_addr1_LDA_1', 'card1_addr1_LDA_2', 'card1_addr1_LDA_3', 'card1_addr1_LDA_4', 'card1_id_20_LDA_0', 'card1_id_20_LDA_1', 'card1_id_20_LDA_2', 'card1_id_20_LDA_3', 'card1_id_20_LDA_4', 'card4_DeviceInfo_c_NMF_0', 'card4_DeviceInfo_c_NMF_1', 'card4_DeviceInfo_c_NMF_2', 'card4_DeviceInfo_c_NMF_3', 'card4_DeviceInfo_c_NMF_4', 'addr1_id_32_combine', 'addr1_id_32_combine_fq_enc_combine', 'addr1_id_32_combine_TransactionAmt_mean', 'addr1_id_32_combine_TransactionAmt_std', 'addr1_id_14_combine', 'addr1_id_14_combine_fq_enc_combine', 'addr1_id_14_combine_TransactionAmt_mean', 'addr1_id_14_combine_TransactionAmt_std', 'addr1_id_19_combine', 'addr1_id_19_combine_fq_enc_combine', 'addr1_id_19_combine_TransactionAmt_mean', 'addr1_id_19_combine_TransactionAmt_std', 'card1_card2_combine', 'card1_card2_combine_fq_enc_combine', 'card1_addr1_combine', 'card1_addr1_combine_fq_enc_combine', 'card1_addr1_combine_TransactionAmt_mean', 'card1_addr1_combine_TransactionAmt_std', 'uid3_next_click', 'card1_make_date_D2_productCD_Amt_mean', 'card1_make_date_D2_productCD_Amt_std', 'card1_addr1_make_date_D1_ProductCD_Amt_mean', 'card1_addr1_make_date_D1_ProductCD_Amt_std', 'card1_id_20_make_date_D1_ProductCD_Amt_mean', 'card1_id_20_make_date_D1_ProductCD_Amt_std', 'ProductCD_Amt_expandmean', 'id_02_ProductCD_amt_mean', 'card1_make_date_D1_productCD_hour_mean', 'card1_maked1_pcd', 'card1_maked1_pcd_fq_enc_combine', 'account_make_date_D1_fq_enc_combine', 'ProductCD_target_mean', 'M4_target_mean']\n",
      "TYPE [0, 2, 1, 3] - 1 FOLD Start\n"
     ]
    },
    {
     "name": "stderr",
     "output_type": "stream",
     "text": [
      "C:\\Users\\kimym\\Anaconda3\\lib\\site-packages\\lightgbm\\basic.py:1188: UserWarning: categorical_feature in Dataset is overridden.\n",
      "New categorical_feature is ['P_emaildomain', 'R_emaildomain', 'addr1', 'addr2', 'id_13', 'id_15', 'id_30_v', 'id_31_v', 'id_33', 'id_37', 'id_38']\n",
      "  'New categorical_feature is {}'.format(sorted(list(categorical_feature))))\n",
      "C:\\Users\\kimym\\Anaconda3\\lib\\site-packages\\lightgbm\\basic.py:1188: UserWarning: categorical_feature in Dataset is overridden.\n",
      "New categorical_feature is ['P_emaildomain', 'R_emaildomain', 'addr1', 'addr2', 'id_13', 'id_15', 'id_30_v', 'id_31_v', 'id_33', 'id_37', 'id_38']\n",
      "  'New categorical_feature is {}'.format(sorted(list(categorical_feature))))\n",
      "C:\\Users\\kimym\\Anaconda3\\lib\\site-packages\\lightgbm\\basic.py:742: UserWarning: categorical_feature in param dict is overridden.\n",
      "  warnings.warn('categorical_feature in param dict is overridden.')\n"
     ]
    },
    {
     "name": "stdout",
     "output_type": "stream",
     "text": [
      "Training until validation scores don't improve for 100 rounds.\n",
      "[500]\ttraining's auc: 0.999538\tvalid_1's auc: 0.975708\n",
      "[1000]\ttraining's auc: 1\tvalid_1's auc: 0.979847\n",
      "Early stopping, best iteration is:\n",
      "[935]\ttraining's auc: 1\tvalid_1's auc: 0.979614\n",
      "1 FOLD Score:  0.9796137377288499\n",
      "TYPE [0, 2, 1, 3] - 2 FOLD Start\n"
     ]
    },
    {
     "name": "stderr",
     "output_type": "stream",
     "text": [
      "C:\\Users\\kimym\\Anaconda3\\lib\\site-packages\\lightgbm\\basic.py:1188: UserWarning: categorical_feature in Dataset is overridden.\n",
      "New categorical_feature is ['P_emaildomain', 'R_emaildomain', 'addr1', 'addr2', 'id_13', 'id_15', 'id_30_v', 'id_31_v', 'id_33', 'id_37', 'id_38']\n",
      "  'New categorical_feature is {}'.format(sorted(list(categorical_feature))))\n",
      "C:\\Users\\kimym\\Anaconda3\\lib\\site-packages\\lightgbm\\basic.py:1188: UserWarning: categorical_feature in Dataset is overridden.\n",
      "New categorical_feature is ['P_emaildomain', 'R_emaildomain', 'addr1', 'addr2', 'id_13', 'id_15', 'id_30_v', 'id_31_v', 'id_33', 'id_37', 'id_38']\n",
      "  'New categorical_feature is {}'.format(sorted(list(categorical_feature))))\n",
      "C:\\Users\\kimym\\Anaconda3\\lib\\site-packages\\lightgbm\\basic.py:742: UserWarning: categorical_feature in param dict is overridden.\n",
      "  warnings.warn('categorical_feature in param dict is overridden.')\n"
     ]
    },
    {
     "name": "stdout",
     "output_type": "stream",
     "text": [
      "Training until validation scores don't improve for 100 rounds.\n",
      "[500]\ttraining's auc: 0.999589\tvalid_1's auc: 0.981104\n",
      "[1000]\ttraining's auc: 1\tvalid_1's auc: 0.984331\n",
      "Early stopping, best iteration is:\n",
      "[926]\ttraining's auc: 1\tvalid_1's auc: 0.984073\n",
      "2 FOLD Score:  0.984072927767943\n",
      "TYPE [0, 2, 1, 3] - 3 FOLD Start\n"
     ]
    },
    {
     "name": "stderr",
     "output_type": "stream",
     "text": [
      "C:\\Users\\kimym\\Anaconda3\\lib\\site-packages\\lightgbm\\basic.py:1188: UserWarning: categorical_feature in Dataset is overridden.\n",
      "New categorical_feature is ['P_emaildomain', 'R_emaildomain', 'addr1', 'addr2', 'id_13', 'id_15', 'id_30_v', 'id_31_v', 'id_33', 'id_37', 'id_38']\n",
      "  'New categorical_feature is {}'.format(sorted(list(categorical_feature))))\n",
      "C:\\Users\\kimym\\Anaconda3\\lib\\site-packages\\lightgbm\\basic.py:1188: UserWarning: categorical_feature in Dataset is overridden.\n",
      "New categorical_feature is ['P_emaildomain', 'R_emaildomain', 'addr1', 'addr2', 'id_13', 'id_15', 'id_30_v', 'id_31_v', 'id_33', 'id_37', 'id_38']\n",
      "  'New categorical_feature is {}'.format(sorted(list(categorical_feature))))\n",
      "C:\\Users\\kimym\\Anaconda3\\lib\\site-packages\\lightgbm\\basic.py:742: UserWarning: categorical_feature in param dict is overridden.\n",
      "  warnings.warn('categorical_feature in param dict is overridden.')\n"
     ]
    },
    {
     "name": "stdout",
     "output_type": "stream",
     "text": [
      "Training until validation scores don't improve for 100 rounds.\n",
      "[500]\ttraining's auc: 0.999584\tvalid_1's auc: 0.981369\n",
      "[1000]\ttraining's auc: 1\tvalid_1's auc: 0.985057\n",
      "Early stopping, best iteration is:\n",
      "[962]\ttraining's auc: 1\tvalid_1's auc: 0.985001\n",
      "3 FOLD Score:  0.9850007061554096\n",
      "TYPE [0, 2, 1, 3] - 4 FOLD Start\n"
     ]
    },
    {
     "name": "stderr",
     "output_type": "stream",
     "text": [
      "C:\\Users\\kimym\\Anaconda3\\lib\\site-packages\\lightgbm\\basic.py:1188: UserWarning: categorical_feature in Dataset is overridden.\n",
      "New categorical_feature is ['P_emaildomain', 'R_emaildomain', 'addr1', 'addr2', 'id_13', 'id_15', 'id_30_v', 'id_31_v', 'id_33', 'id_37', 'id_38']\n",
      "  'New categorical_feature is {}'.format(sorted(list(categorical_feature))))\n",
      "C:\\Users\\kimym\\Anaconda3\\lib\\site-packages\\lightgbm\\basic.py:1188: UserWarning: categorical_feature in Dataset is overridden.\n",
      "New categorical_feature is ['P_emaildomain', 'R_emaildomain', 'addr1', 'addr2', 'id_13', 'id_15', 'id_30_v', 'id_31_v', 'id_33', 'id_37', 'id_38']\n",
      "  'New categorical_feature is {}'.format(sorted(list(categorical_feature))))\n",
      "C:\\Users\\kimym\\Anaconda3\\lib\\site-packages\\lightgbm\\basic.py:742: UserWarning: categorical_feature in param dict is overridden.\n",
      "  warnings.warn('categorical_feature in param dict is overridden.')\n"
     ]
    },
    {
     "name": "stdout",
     "output_type": "stream",
     "text": [
      "Training until validation scores don't improve for 100 rounds.\n",
      "[500]\ttraining's auc: 0.999609\tvalid_1's auc: 0.979\n",
      "[1000]\ttraining's auc: 1\tvalid_1's auc: 0.982413\n",
      "Early stopping, best iteration is:\n",
      "[917]\ttraining's auc: 1\tvalid_1's auc: 0.98218\n",
      "4 FOLD Score:  0.982179571135193\n",
      "TYPE [0, 2, 1, 3] - 5 FOLD Start\n"
     ]
    },
    {
     "name": "stderr",
     "output_type": "stream",
     "text": [
      "C:\\Users\\kimym\\Anaconda3\\lib\\site-packages\\lightgbm\\basic.py:1188: UserWarning: categorical_feature in Dataset is overridden.\n",
      "New categorical_feature is ['P_emaildomain', 'R_emaildomain', 'addr1', 'addr2', 'id_13', 'id_15', 'id_30_v', 'id_31_v', 'id_33', 'id_37', 'id_38']\n",
      "  'New categorical_feature is {}'.format(sorted(list(categorical_feature))))\n",
      "C:\\Users\\kimym\\Anaconda3\\lib\\site-packages\\lightgbm\\basic.py:1188: UserWarning: categorical_feature in Dataset is overridden.\n",
      "New categorical_feature is ['P_emaildomain', 'R_emaildomain', 'addr1', 'addr2', 'id_13', 'id_15', 'id_30_v', 'id_31_v', 'id_33', 'id_37', 'id_38']\n",
      "  'New categorical_feature is {}'.format(sorted(list(categorical_feature))))\n",
      "C:\\Users\\kimym\\Anaconda3\\lib\\site-packages\\lightgbm\\basic.py:742: UserWarning: categorical_feature in param dict is overridden.\n",
      "  warnings.warn('categorical_feature in param dict is overridden.')\n"
     ]
    },
    {
     "name": "stdout",
     "output_type": "stream",
     "text": [
      "Training until validation scores don't improve for 100 rounds.\n",
      "[500]\ttraining's auc: 0.999547\tvalid_1's auc: 0.983469\n",
      "[1000]\ttraining's auc: 1\tvalid_1's auc: 0.986738\n",
      "Early stopping, best iteration is:\n",
      "[988]\ttraining's auc: 1\tvalid_1's auc: 0.986684\n",
      "5 FOLD Score:  0.9866840570187603\n",
      "Total CV:  0.9835101999612311\n",
      "Total CV2:  0.9835234057209783\n",
      "6\n",
      "(439670, 603)\n",
      "325 ['C1', 'C11', 'C12', 'C13', 'C14', 'C2', 'C5', 'C6', 'C9', 'D1', 'D10', 'D11', 'D15', 'D2', 'D3', 'D4', 'D5', 'M1', 'M2', 'M3', 'M4', 'M5', 'M6', 'M7', 'M8', 'M9', 'P_emaildomain', 'TransactionAmt', 'V1', 'V10', 'V100', 'V101', 'V102', 'V103', 'V104', 'V105', 'V106', 'V107', 'V108', 'V109', 'V11', 'V110', 'V111', 'V112', 'V113', 'V114', 'V115', 'V116', 'V117', 'V118', 'V119', 'V12', 'V120', 'V121', 'V122', 'V123', 'V124', 'V125', 'V126', 'V127', 'V128', 'V129', 'V13', 'V130', 'V131', 'V132', 'V133', 'V134', 'V135', 'V136', 'V137', 'V14', 'V15', 'V16', 'V17', 'V18', 'V19', 'V2', 'V20', 'V21', 'V22', 'V23', 'V24', 'V25', 'V26', 'V27', 'V279', 'V28', 'V280', 'V281', 'V282', 'V283', 'V284', 'V285', 'V286', 'V287', 'V288', 'V289', 'V29', 'V290', 'V291', 'V292', 'V293', 'V294', 'V295', 'V296', 'V297', 'V298', 'V299', 'V3', 'V30', 'V300', 'V301', 'V302', 'V303', 'V304', 'V305', 'V306', 'V307', 'V308', 'V309', 'V31', 'V310', 'V311', 'V312', 'V313', 'V314', 'V315', 'V316', 'V317', 'V318', 'V319', 'V32', 'V320', 'V321', 'V33', 'V34', 'V35', 'V36', 'V37', 'V38', 'V39', 'V4', 'V40', 'V41', 'V42', 'V43', 'V44', 'V45', 'V46', 'V47', 'V48', 'V49', 'V5', 'V50', 'V51', 'V52', 'V53', 'V54', 'V55', 'V56', 'V57', 'V58', 'V59', 'V6', 'V60', 'V61', 'V62', 'V63', 'V64', 'V65', 'V66', 'V67', 'V68', 'V69', 'V7', 'V70', 'V71', 'V72', 'V73', 'V74', 'V75', 'V76', 'V77', 'V78', 'V79', 'V8', 'V80', 'V81', 'V82', 'V83', 'V84', 'V85', 'V86', 'V87', 'V88', 'V89', 'V9', 'V90', 'V91', 'V92', 'V93', 'V94', 'V95', 'V96', 'V97', 'V98', 'V99', 'addr1', 'addr2', 'card1', 'card2', 'card3', 'card4', 'card5', 'card6', 'dist1', 'email_check_nan_all', 'P_emaildomain_Country', 'P_emaildomain_prefix', 'M_not_null', 'M_sum', 'collect_agree_ratio', 'dow', 'day', 'Transaction_hour', 'card1_fq_enc', 'card2_fq_enc', 'card3_fq_enc', 'card5_fq_enc', 'C1_fq_enc', 'C2_fq_enc', 'C5_fq_enc', 'C6_fq_enc', 'C9_fq_enc', 'C11_fq_enc', 'C12_fq_enc', 'C13_fq_enc', 'C14_fq_enc', 'D1_fq_enc', 'D2_fq_enc', 'D3_fq_enc', 'D4_fq_enc', 'D5_fq_enc', 'addr1_fq_enc', 'addr2_fq_enc', 'dist1_fq_enc', 'P_emaildomain_fq_enc', 'card1_TransactionAmt_mean', 'card1_TransactionAmt_std', 'card2_TransactionAmt_mean', 'card2_TransactionAmt_std', 'card3_TransactionAmt_mean', 'card3_TransactionAmt_std', 'card5_TransactionAmt_mean', 'card5_TransactionAmt_std', 'uid_TransactionAmt_mean', 'uid_TransactionAmt_std', 'uid2_TransactionAmt_mean', 'uid2_TransactionAmt_std', 'uid3_TransactionAmt_mean', 'uid3_TransactionAmt_std', 'ymd_TransactionDT_count', 'ymd_TransactionAmt_sum', 'uid2_dayofweek_mean', 'uid2_dayofweek_std', 'TransactionAmt_decimal_count', 'TransactionAmt_decimal', 'account_make_date_D1', 'account_make_date_D2', 'account_make_date_D4', 'account_make_date_D10', 'account_make_date_D15', 'card1_make_date_D1_productCD_Amt_mean', 'card1_make_date_D1_productCD_Amt_std', 'card1_addr1_LDA_0', 'card1_addr1_LDA_1', 'card1_addr1_LDA_2', 'card1_addr1_LDA_3', 'card1_addr1_LDA_4', 'card1_id_20_LDA_0', 'card1_id_20_LDA_1', 'card1_id_20_LDA_2', 'card1_id_20_LDA_3', 'card1_id_20_LDA_4', 'card4_DeviceInfo_c_NMF_0', 'card4_DeviceInfo_c_NMF_1', 'card4_DeviceInfo_c_NMF_2', 'card4_DeviceInfo_c_NMF_3', 'card4_DeviceInfo_c_NMF_4', 'addr1_id_32_combine', 'addr1_id_32_combine_fq_enc_combine', 'addr1_id_32_combine_TransactionAmt_mean', 'addr1_id_32_combine_TransactionAmt_std', 'addr1_id_14_combine', 'addr1_id_14_combine_fq_enc_combine', 'addr1_id_14_combine_TransactionAmt_mean', 'addr1_id_14_combine_TransactionAmt_std', 'addr1_id_19_combine', 'addr1_id_19_combine_fq_enc_combine', 'addr1_id_19_combine_TransactionAmt_mean', 'addr1_id_19_combine_TransactionAmt_std', 'card1_card2_combine', 'card1_card2_combine_fq_enc_combine', 'card1_addr1_combine', 'card1_addr1_combine_fq_enc_combine', 'card1_addr1_combine_TransactionAmt_mean', 'card1_addr1_combine_TransactionAmt_std', 'uid3_next_click', 'card1_make_date_D2_productCD_Amt_mean', 'card1_make_date_D2_productCD_Amt_std', 'card1_addr1_make_date_D1_ProductCD_Amt_mean', 'card1_addr1_make_date_D1_ProductCD_Amt_std', 'ProductCD_Amt_expandmean', 'card1_make_date_D1_ProductCD_dist1_mean', 'card1_make_date_D1_ProductCD_dist1_std', 'card1_addr1_make_date_D1_ProductCD_dist1_mean', 'card1_addr1_make_date_D1_ProductCD_dist1_std', 'card1_card2_make_date_D1_ProductCD_dist1_mean', 'card1_card2_make_date_D1_ProductCD_dist1_std', 'card1_make_date_D1_productCD_hour_mean', 'card1_maked1_pcd', 'card1_maked1_pcd_fq_enc_combine', 'account_make_date_D1_fq_enc_combine', 'M4_target_mean']\n",
      "TYPE [4] - 1 FOLD Start\n"
     ]
    },
    {
     "name": "stderr",
     "output_type": "stream",
     "text": [
      "C:\\Users\\kimym\\Anaconda3\\lib\\site-packages\\lightgbm\\basic.py:1188: UserWarning: categorical_feature in Dataset is overridden.\n",
      "New categorical_feature is ['P_emaildomain', 'addr1', 'addr2']\n",
      "  'New categorical_feature is {}'.format(sorted(list(categorical_feature))))\n",
      "C:\\Users\\kimym\\Anaconda3\\lib\\site-packages\\lightgbm\\basic.py:1188: UserWarning: categorical_feature in Dataset is overridden.\n",
      "New categorical_feature is ['P_emaildomain', 'addr1', 'addr2']\n",
      "  'New categorical_feature is {}'.format(sorted(list(categorical_feature))))\n",
      "C:\\Users\\kimym\\Anaconda3\\lib\\site-packages\\lightgbm\\basic.py:742: UserWarning: categorical_feature in param dict is overridden.\n",
      "  warnings.warn('categorical_feature in param dict is overridden.')\n"
     ]
    },
    {
     "name": "stdout",
     "output_type": "stream",
     "text": [
      "Training until validation scores don't improve for 100 rounds.\n",
      "[500]\ttraining's auc: 0.999874\tvalid_1's auc: 0.970441\n",
      "[1000]\ttraining's auc: 1\tvalid_1's auc: 0.975697\n",
      "Early stopping, best iteration is:\n",
      "[1082]\ttraining's auc: 1\tvalid_1's auc: 0.976017\n",
      "1 FOLD Score:  0.9760170114392186\n",
      "TYPE [4] - 2 FOLD Start\n"
     ]
    },
    {
     "name": "stderr",
     "output_type": "stream",
     "text": [
      "C:\\Users\\kimym\\Anaconda3\\lib\\site-packages\\lightgbm\\basic.py:1188: UserWarning: categorical_feature in Dataset is overridden.\n",
      "New categorical_feature is ['P_emaildomain', 'addr1', 'addr2']\n",
      "  'New categorical_feature is {}'.format(sorted(list(categorical_feature))))\n",
      "C:\\Users\\kimym\\Anaconda3\\lib\\site-packages\\lightgbm\\basic.py:1188: UserWarning: categorical_feature in Dataset is overridden.\n",
      "New categorical_feature is ['P_emaildomain', 'addr1', 'addr2']\n",
      "  'New categorical_feature is {}'.format(sorted(list(categorical_feature))))\n",
      "C:\\Users\\kimym\\Anaconda3\\lib\\site-packages\\lightgbm\\basic.py:742: UserWarning: categorical_feature in param dict is overridden.\n",
      "  warnings.warn('categorical_feature in param dict is overridden.')\n"
     ]
    },
    {
     "name": "stdout",
     "output_type": "stream",
     "text": [
      "Training until validation scores don't improve for 100 rounds.\n",
      "[500]\ttraining's auc: 0.999887\tvalid_1's auc: 0.973731\n",
      "[1000]\ttraining's auc: 1\tvalid_1's auc: 0.978892\n",
      "Early stopping, best iteration is:\n",
      "[1021]\ttraining's auc: 1\tvalid_1's auc: 0.979021\n",
      "2 FOLD Score:  0.9790214602295038\n",
      "TYPE [4] - 3 FOLD Start\n"
     ]
    },
    {
     "name": "stderr",
     "output_type": "stream",
     "text": [
      "C:\\Users\\kimym\\Anaconda3\\lib\\site-packages\\lightgbm\\basic.py:1188: UserWarning: categorical_feature in Dataset is overridden.\n",
      "New categorical_feature is ['P_emaildomain', 'addr1', 'addr2']\n",
      "  'New categorical_feature is {}'.format(sorted(list(categorical_feature))))\n",
      "C:\\Users\\kimym\\Anaconda3\\lib\\site-packages\\lightgbm\\basic.py:1188: UserWarning: categorical_feature in Dataset is overridden.\n",
      "New categorical_feature is ['P_emaildomain', 'addr1', 'addr2']\n",
      "  'New categorical_feature is {}'.format(sorted(list(categorical_feature))))\n",
      "C:\\Users\\kimym\\Anaconda3\\lib\\site-packages\\lightgbm\\basic.py:742: UserWarning: categorical_feature in param dict is overridden.\n",
      "  warnings.warn('categorical_feature in param dict is overridden.')\n"
     ]
    },
    {
     "name": "stdout",
     "output_type": "stream",
     "text": [
      "Training until validation scores don't improve for 100 rounds.\n",
      "[500]\ttraining's auc: 0.999881\tvalid_1's auc: 0.970207\n",
      "[1000]\ttraining's auc: 1\tvalid_1's auc: 0.975243\n",
      "Early stopping, best iteration is:\n",
      "[1110]\ttraining's auc: 1\tvalid_1's auc: 0.975788\n",
      "3 FOLD Score:  0.9757879177787117\n",
      "TYPE [4] - 4 FOLD Start\n"
     ]
    },
    {
     "name": "stderr",
     "output_type": "stream",
     "text": [
      "C:\\Users\\kimym\\Anaconda3\\lib\\site-packages\\lightgbm\\basic.py:1188: UserWarning: categorical_feature in Dataset is overridden.\n",
      "New categorical_feature is ['P_emaildomain', 'addr1', 'addr2']\n",
      "  'New categorical_feature is {}'.format(sorted(list(categorical_feature))))\n",
      "C:\\Users\\kimym\\Anaconda3\\lib\\site-packages\\lightgbm\\basic.py:1188: UserWarning: categorical_feature in Dataset is overridden.\n",
      "New categorical_feature is ['P_emaildomain', 'addr1', 'addr2']\n",
      "  'New categorical_feature is {}'.format(sorted(list(categorical_feature))))\n",
      "C:\\Users\\kimym\\Anaconda3\\lib\\site-packages\\lightgbm\\basic.py:742: UserWarning: categorical_feature in param dict is overridden.\n",
      "  warnings.warn('categorical_feature in param dict is overridden.')\n"
     ]
    },
    {
     "name": "stdout",
     "output_type": "stream",
     "text": [
      "Training until validation scores don't improve for 100 rounds.\n",
      "[500]\ttraining's auc: 0.999909\tvalid_1's auc: 0.969818\n",
      "[1000]\ttraining's auc: 1\tvalid_1's auc: 0.975322\n",
      "Early stopping, best iteration is:\n",
      "[1083]\ttraining's auc: 1\tvalid_1's auc: 0.975657\n",
      "4 FOLD Score:  0.975656581971378\n",
      "TYPE [4] - 5 FOLD Start\n"
     ]
    },
    {
     "name": "stderr",
     "output_type": "stream",
     "text": [
      "C:\\Users\\kimym\\Anaconda3\\lib\\site-packages\\lightgbm\\basic.py:1188: UserWarning: categorical_feature in Dataset is overridden.\n",
      "New categorical_feature is ['P_emaildomain', 'addr1', 'addr2']\n",
      "  'New categorical_feature is {}'.format(sorted(list(categorical_feature))))\n",
      "C:\\Users\\kimym\\Anaconda3\\lib\\site-packages\\lightgbm\\basic.py:1188: UserWarning: categorical_feature in Dataset is overridden.\n",
      "New categorical_feature is ['P_emaildomain', 'addr1', 'addr2']\n",
      "  'New categorical_feature is {}'.format(sorted(list(categorical_feature))))\n",
      "C:\\Users\\kimym\\Anaconda3\\lib\\site-packages\\lightgbm\\basic.py:742: UserWarning: categorical_feature in param dict is overridden.\n",
      "  warnings.warn('categorical_feature in param dict is overridden.')\n"
     ]
    },
    {
     "name": "stdout",
     "output_type": "stream",
     "text": [
      "Training until validation scores don't improve for 100 rounds.\n",
      "[500]\ttraining's auc: 0.999877\tvalid_1's auc: 0.971202\n",
      "[1000]\ttraining's auc: 1\tvalid_1's auc: 0.977276\n",
      "Early stopping, best iteration is:\n",
      "[1093]\ttraining's auc: 1\tvalid_1's auc: 0.977717\n",
      "5 FOLD Score:  0.9777165695191852\n",
      "Total CV:  0.9768399081875995\n",
      "Total CV2:  0.9767535225614218\n",
      "(150870, 603)\n",
      "561 ['C1', 'C10', 'C11', 'C12', 'C13', 'C14', 'C2', 'C3', 'C4', 'C6', 'C7', 'C8', 'D1', 'D10', 'D12', 'D13', 'D14', 'D15', 'D2', 'D3', 'D4', 'D5', 'D6', 'D7', 'D8', 'D9', 'DeviceInfo', 'DeviceType', 'M4', 'P_emaildomain', 'ProductCD', 'R_emaildomain', 'TransactionAmt', 'V100', 'V101', 'V102', 'V103', 'V104', 'V105', 'V106', 'V107', 'V108', 'V109', 'V110', 'V111', 'V112', 'V113', 'V114', 'V115', 'V116', 'V117', 'V118', 'V119', 'V12', 'V120', 'V121', 'V122', 'V123', 'V124', 'V125', 'V126', 'V127', 'V128', 'V129', 'V13', 'V130', 'V131', 'V132', 'V133', 'V134', 'V135', 'V136', 'V137', 'V138', 'V139', 'V14', 'V140', 'V141', 'V142', 'V143', 'V144', 'V145', 'V146', 'V147', 'V148', 'V149', 'V15', 'V150', 'V151', 'V152', 'V153', 'V154', 'V155', 'V156', 'V157', 'V158', 'V159', 'V16', 'V160', 'V161', 'V162', 'V163', 'V164', 'V165', 'V166', 'V167', 'V168', 'V169', 'V17', 'V170', 'V171', 'V172', 'V173', 'V174', 'V175', 'V176', 'V177', 'V178', 'V179', 'V18', 'V180', 'V181', 'V182', 'V183', 'V184', 'V185', 'V186', 'V187', 'V188', 'V189', 'V19', 'V190', 'V191', 'V192', 'V193', 'V194', 'V195', 'V196', 'V197', 'V198', 'V199', 'V20', 'V200', 'V201', 'V202', 'V203', 'V204', 'V205', 'V206', 'V207', 'V208', 'V209', 'V21', 'V210', 'V211', 'V212', 'V213', 'V214', 'V215', 'V216', 'V217', 'V218', 'V219', 'V22', 'V220', 'V221', 'V222', 'V223', 'V224', 'V225', 'V226', 'V227', 'V228', 'V229', 'V23', 'V230', 'V231', 'V232', 'V233', 'V234', 'V235', 'V236', 'V237', 'V238', 'V239', 'V24', 'V240', 'V241', 'V242', 'V243', 'V244', 'V245', 'V246', 'V247', 'V248', 'V249', 'V25', 'V250', 'V251', 'V252', 'V253', 'V254', 'V255', 'V256', 'V257', 'V258', 'V259', 'V26', 'V260', 'V261', 'V262', 'V263', 'V264', 'V265', 'V266', 'V267', 'V268', 'V269', 'V27', 'V270', 'V271', 'V272', 'V273', 'V274', 'V275', 'V276', 'V277', 'V278', 'V279', 'V28', 'V280', 'V281', 'V282', 'V283', 'V284', 'V285', 'V286', 'V287', 'V288', 'V289', 'V29', 'V290', 'V291', 'V292', 'V293', 'V294', 'V295', 'V296', 'V297', 'V298', 'V299', 'V30', 'V300', 'V301', 'V302', 'V303', 'V304', 'V305', 'V306', 'V307', 'V308', 'V309', 'V31', 'V310', 'V311', 'V312', 'V313', 'V314', 'V315', 'V316', 'V317', 'V318', 'V319', 'V32', 'V320', 'V321', 'V322', 'V323', 'V324', 'V325', 'V326', 'V327', 'V328', 'V329', 'V33', 'V330', 'V331', 'V332', 'V333', 'V334', 'V335', 'V336', 'V337', 'V338', 'V339', 'V34', 'V35', 'V36', 'V37', 'V38', 'V39', 'V40', 'V41', 'V42', 'V43', 'V44', 'V45', 'V46', 'V47', 'V48', 'V49', 'V50', 'V51', 'V52', 'V53', 'V54', 'V55', 'V56', 'V57', 'V58', 'V59', 'V60', 'V61', 'V62', 'V63', 'V64', 'V65', 'V66', 'V67', 'V68', 'V69', 'V70', 'V71', 'V72', 'V73', 'V74', 'V75', 'V76', 'V77', 'V78', 'V79', 'V80', 'V81', 'V82', 'V83', 'V84', 'V85', 'V86', 'V87', 'V88', 'V89', 'V90', 'V91', 'V92', 'V93', 'V94', 'V95', 'V96', 'V97', 'V98', 'V99', 'addr1', 'addr2', 'card1', 'card2', 'card3', 'card4', 'card5', 'card6', 'dist2', 'id_01', 'id_02', 'id_03', 'id_04', 'id_05', 'id_06', 'id_07', 'id_08', 'id_09', 'id_10', 'id_11', 'id_12', 'id_13', 'id_14', 'id_15', 'id_16', 'id_17', 'id_18', 'id_19', 'id_20', 'id_21', 'id_22', 'id_23', 'id_24', 'id_25', 'id_26', 'id_27', 'id_28', 'id_29', 'id_30', 'id_31', 'id_32', 'id_33', 'id_34', 'id_35', 'id_36', 'id_37', 'id_38', 'email_check', 'email_check_nan_all', 'email_check_nan_any', 'P_emaildomain_Country', 'R_emaildomain_Country', 'P_emaildomain_prefix', 'R_emaildomain_prefix', 'DeviceInfo_c', 'id_30_c', 'id_30_v', 'id_31_c', 'is_mobile_browser', 'id_31_v', 'dow', 'day', 'Transaction_hour', 'card1_fq_enc', 'card2_fq_enc', 'card3_fq_enc', 'card5_fq_enc', 'C1_fq_enc', 'C2_fq_enc', 'C3_fq_enc', 'C4_fq_enc', 'C6_fq_enc', 'C7_fq_enc', 'C8_fq_enc', 'C10_fq_enc', 'C11_fq_enc', 'C12_fq_enc', 'C13_fq_enc', 'C14_fq_enc', 'D1_fq_enc', 'D2_fq_enc', 'D3_fq_enc', 'D4_fq_enc', 'D5_fq_enc', 'D6_fq_enc', 'D7_fq_enc', 'D8_fq_enc', 'D9_fq_enc', 'addr1_fq_enc', 'addr2_fq_enc', 'dist2_fq_enc', 'P_emaildomain_fq_enc', 'R_emaildomain_fq_enc', 'id_01_fq_enc', 'id_02_fq_enc', 'id_03_fq_enc', 'id_04_fq_enc', 'id_05_fq_enc', 'id_06_fq_enc', 'id_07_fq_enc', 'id_08_fq_enc', 'id_09_fq_enc', 'id_10_fq_enc', 'id_11_fq_enc', 'id_13_fq_enc', 'id_14_fq_enc', 'id_17_fq_enc', 'id_18_fq_enc', 'id_19_fq_enc', 'id_20_fq_enc', 'id_21_fq_enc', 'id_22_fq_enc', 'id_24_fq_enc', 'id_25_fq_enc', 'id_26_fq_enc', 'id_30_fq_enc', 'id_31_fq_enc', 'id_32_fq_enc', 'id_33_fq_enc', 'DeviceInfo_fq_enc', 'DeviceInfo_c_fq_enc', 'id_30_c_fq_enc', 'id_30_v_fq_enc', 'id_31_v_fq_enc', 'card1_TransactionAmt_mean', 'card1_TransactionAmt_std', 'card2_TransactionAmt_mean', 'card2_TransactionAmt_std', 'card3_TransactionAmt_mean', 'card3_TransactionAmt_std', 'card5_TransactionAmt_mean', 'card5_TransactionAmt_std', 'uid_TransactionAmt_mean', 'uid_TransactionAmt_std', 'uid2_TransactionAmt_mean', 'uid2_TransactionAmt_std', 'uid3_TransactionAmt_mean', 'uid3_TransactionAmt_std', 'ymd_TransactionDT_count', 'ymd_TransactionAmt_sum', 'uid2_dayofweek_mean', 'uid2_dayofweek_std', 'TransactionAmt_decimal_count', 'TransactionAmt_decimal', 'account_make_date_D1', 'account_make_date_D2', 'account_make_date_D4', 'account_make_date_D8', 'account_make_date_D10', 'account_make_date_D15', 'card1_make_date_D1_productCD_Amt_mean', 'card1_make_date_D1_productCD_Amt_std', 'card1_addr1_LDA_0', 'card1_addr1_LDA_1', 'card1_addr1_LDA_2', 'card1_addr1_LDA_3', 'card1_addr1_LDA_4', 'card1_id_20_LDA_0', 'card1_id_20_LDA_1', 'card1_id_20_LDA_2', 'card1_id_20_LDA_3', 'card1_id_20_LDA_4', 'card4_DeviceInfo_c_NMF_0', 'card4_DeviceInfo_c_NMF_1', 'card4_DeviceInfo_c_NMF_2', 'card4_DeviceInfo_c_NMF_3', 'card4_DeviceInfo_c_NMF_4', 'addr1_id_32_combine', 'addr1_id_32_combine_fq_enc_combine', 'addr1_id_32_combine_TransactionAmt_mean', 'addr1_id_32_combine_TransactionAmt_std', 'addr1_id_14_combine', 'addr1_id_14_combine_fq_enc_combine', 'addr1_id_14_combine_TransactionAmt_mean', 'addr1_id_14_combine_TransactionAmt_std', 'addr1_id_19_combine', 'addr1_id_19_combine_fq_enc_combine', 'addr1_id_19_combine_TransactionAmt_mean', 'addr1_id_19_combine_TransactionAmt_std', 'card1_card2_combine', 'card1_card2_combine_fq_enc_combine', 'card1_addr1_combine', 'card1_addr1_combine_fq_enc_combine', 'card1_addr1_combine_TransactionAmt_mean', 'card1_addr1_combine_TransactionAmt_std', 'uid3_next_click', 'card1_make_date_D2_productCD_Amt_mean', 'card1_make_date_D2_productCD_Amt_std', 'card1_addr1_make_date_D1_ProductCD_Amt_mean', 'card1_addr1_make_date_D1_ProductCD_Amt_std', 'card1_id_20_make_date_D1_ProductCD_Amt_mean', 'card1_id_20_make_date_D1_ProductCD_Amt_std', 'ProductCD_Amt_expandmean', 'id_02_ProductCD_amt_mean', 'card1_make_date_D1_productCD_hour_mean', 'card1_maked1_pcd', 'card1_maked1_pcd_fq_enc_combine', 'account_make_date_D1_fq_enc_combine', 'ProductCD_target_mean', 'M4_target_mean']\n",
      "TYPE [0, 2, 1, 3] - 1 FOLD Start\n"
     ]
    },
    {
     "name": "stderr",
     "output_type": "stream",
     "text": [
      "C:\\Users\\kimym\\Anaconda3\\lib\\site-packages\\lightgbm\\basic.py:1188: UserWarning: categorical_feature in Dataset is overridden.\n",
      "New categorical_feature is ['P_emaildomain', 'R_emaildomain', 'addr1', 'addr2', 'id_13', 'id_15', 'id_30_v', 'id_31_v', 'id_33', 'id_37', 'id_38']\n",
      "  'New categorical_feature is {}'.format(sorted(list(categorical_feature))))\n",
      "C:\\Users\\kimym\\Anaconda3\\lib\\site-packages\\lightgbm\\basic.py:1188: UserWarning: categorical_feature in Dataset is overridden.\n",
      "New categorical_feature is ['P_emaildomain', 'R_emaildomain', 'addr1', 'addr2', 'id_13', 'id_15', 'id_30_v', 'id_31_v', 'id_33', 'id_37', 'id_38']\n",
      "  'New categorical_feature is {}'.format(sorted(list(categorical_feature))))\n",
      "C:\\Users\\kimym\\Anaconda3\\lib\\site-packages\\lightgbm\\basic.py:742: UserWarning: categorical_feature in param dict is overridden.\n",
      "  warnings.warn('categorical_feature in param dict is overridden.')\n"
     ]
    },
    {
     "name": "stdout",
     "output_type": "stream",
     "text": [
      "Training until validation scores don't improve for 100 rounds.\n",
      "[500]\ttraining's auc: 0.999548\tvalid_1's auc: 0.975527\n",
      "[1000]\ttraining's auc: 1\tvalid_1's auc: 0.979708\n",
      "Early stopping, best iteration is:\n",
      "[918]\ttraining's auc: 1\tvalid_1's auc: 0.979339\n",
      "1 FOLD Score:  0.9793387194685343\n",
      "TYPE [0, 2, 1, 3] - 2 FOLD Start\n"
     ]
    },
    {
     "name": "stderr",
     "output_type": "stream",
     "text": [
      "C:\\Users\\kimym\\Anaconda3\\lib\\site-packages\\lightgbm\\basic.py:1188: UserWarning: categorical_feature in Dataset is overridden.\n",
      "New categorical_feature is ['P_emaildomain', 'R_emaildomain', 'addr1', 'addr2', 'id_13', 'id_15', 'id_30_v', 'id_31_v', 'id_33', 'id_37', 'id_38']\n",
      "  'New categorical_feature is {}'.format(sorted(list(categorical_feature))))\n",
      "C:\\Users\\kimym\\Anaconda3\\lib\\site-packages\\lightgbm\\basic.py:1188: UserWarning: categorical_feature in Dataset is overridden.\n",
      "New categorical_feature is ['P_emaildomain', 'R_emaildomain', 'addr1', 'addr2', 'id_13', 'id_15', 'id_30_v', 'id_31_v', 'id_33', 'id_37', 'id_38']\n",
      "  'New categorical_feature is {}'.format(sorted(list(categorical_feature))))\n",
      "C:\\Users\\kimym\\Anaconda3\\lib\\site-packages\\lightgbm\\basic.py:742: UserWarning: categorical_feature in param dict is overridden.\n",
      "  warnings.warn('categorical_feature in param dict is overridden.')\n"
     ]
    },
    {
     "name": "stdout",
     "output_type": "stream",
     "text": [
      "Training until validation scores don't improve for 100 rounds.\n",
      "[500]\ttraining's auc: 0.999583\tvalid_1's auc: 0.981631\n",
      "[1000]\ttraining's auc: 1\tvalid_1's auc: 0.984791\n",
      "Early stopping, best iteration is:\n",
      "[923]\ttraining's auc: 1\tvalid_1's auc: 0.984515\n",
      "2 FOLD Score:  0.9845145456110732\n",
      "TYPE [0, 2, 1, 3] - 3 FOLD Start\n"
     ]
    },
    {
     "name": "stderr",
     "output_type": "stream",
     "text": [
      "C:\\Users\\kimym\\Anaconda3\\lib\\site-packages\\lightgbm\\basic.py:1188: UserWarning: categorical_feature in Dataset is overridden.\n",
      "New categorical_feature is ['P_emaildomain', 'R_emaildomain', 'addr1', 'addr2', 'id_13', 'id_15', 'id_30_v', 'id_31_v', 'id_33', 'id_37', 'id_38']\n",
      "  'New categorical_feature is {}'.format(sorted(list(categorical_feature))))\n",
      "C:\\Users\\kimym\\Anaconda3\\lib\\site-packages\\lightgbm\\basic.py:1188: UserWarning: categorical_feature in Dataset is overridden.\n",
      "New categorical_feature is ['P_emaildomain', 'R_emaildomain', 'addr1', 'addr2', 'id_13', 'id_15', 'id_30_v', 'id_31_v', 'id_33', 'id_37', 'id_38']\n",
      "  'New categorical_feature is {}'.format(sorted(list(categorical_feature))))\n",
      "C:\\Users\\kimym\\Anaconda3\\lib\\site-packages\\lightgbm\\basic.py:742: UserWarning: categorical_feature in param dict is overridden.\n",
      "  warnings.warn('categorical_feature in param dict is overridden.')\n"
     ]
    },
    {
     "name": "stdout",
     "output_type": "stream",
     "text": [
      "Training until validation scores don't improve for 100 rounds.\n",
      "[500]\ttraining's auc: 0.999582\tvalid_1's auc: 0.981267\n",
      "[1000]\ttraining's auc: 1\tvalid_1's auc: 0.984926\n",
      "Early stopping, best iteration is:\n",
      "[977]\ttraining's auc: 1\tvalid_1's auc: 0.984869\n",
      "3 FOLD Score:  0.9848690594340173\n",
      "TYPE [0, 2, 1, 3] - 4 FOLD Start\n"
     ]
    },
    {
     "name": "stderr",
     "output_type": "stream",
     "text": [
      "C:\\Users\\kimym\\Anaconda3\\lib\\site-packages\\lightgbm\\basic.py:1188: UserWarning: categorical_feature in Dataset is overridden.\n",
      "New categorical_feature is ['P_emaildomain', 'R_emaildomain', 'addr1', 'addr2', 'id_13', 'id_15', 'id_30_v', 'id_31_v', 'id_33', 'id_37', 'id_38']\n",
      "  'New categorical_feature is {}'.format(sorted(list(categorical_feature))))\n",
      "C:\\Users\\kimym\\Anaconda3\\lib\\site-packages\\lightgbm\\basic.py:1188: UserWarning: categorical_feature in Dataset is overridden.\n",
      "New categorical_feature is ['P_emaildomain', 'R_emaildomain', 'addr1', 'addr2', 'id_13', 'id_15', 'id_30_v', 'id_31_v', 'id_33', 'id_37', 'id_38']\n",
      "  'New categorical_feature is {}'.format(sorted(list(categorical_feature))))\n",
      "C:\\Users\\kimym\\Anaconda3\\lib\\site-packages\\lightgbm\\basic.py:742: UserWarning: categorical_feature in param dict is overridden.\n",
      "  warnings.warn('categorical_feature in param dict is overridden.')\n"
     ]
    },
    {
     "name": "stdout",
     "output_type": "stream",
     "text": [
      "Training until validation scores don't improve for 100 rounds.\n",
      "[500]\ttraining's auc: 0.999599\tvalid_1's auc: 0.979011\n",
      "[1000]\ttraining's auc: 1\tvalid_1's auc: 0.982775\n",
      "Early stopping, best iteration is:\n",
      "[917]\ttraining's auc: 1\tvalid_1's auc: 0.982484\n",
      "4 FOLD Score:  0.9824835981102529\n",
      "TYPE [0, 2, 1, 3] - 5 FOLD Start\n"
     ]
    },
    {
     "name": "stderr",
     "output_type": "stream",
     "text": [
      "C:\\Users\\kimym\\Anaconda3\\lib\\site-packages\\lightgbm\\basic.py:1188: UserWarning: categorical_feature in Dataset is overridden.\n",
      "New categorical_feature is ['P_emaildomain', 'R_emaildomain', 'addr1', 'addr2', 'id_13', 'id_15', 'id_30_v', 'id_31_v', 'id_33', 'id_37', 'id_38']\n",
      "  'New categorical_feature is {}'.format(sorted(list(categorical_feature))))\n",
      "C:\\Users\\kimym\\Anaconda3\\lib\\site-packages\\lightgbm\\basic.py:1188: UserWarning: categorical_feature in Dataset is overridden.\n",
      "New categorical_feature is ['P_emaildomain', 'R_emaildomain', 'addr1', 'addr2', 'id_13', 'id_15', 'id_30_v', 'id_31_v', 'id_33', 'id_37', 'id_38']\n",
      "  'New categorical_feature is {}'.format(sorted(list(categorical_feature))))\n",
      "C:\\Users\\kimym\\Anaconda3\\lib\\site-packages\\lightgbm\\basic.py:742: UserWarning: categorical_feature in param dict is overridden.\n",
      "  warnings.warn('categorical_feature in param dict is overridden.')\n"
     ]
    },
    {
     "name": "stdout",
     "output_type": "stream",
     "text": [
      "Training until validation scores don't improve for 100 rounds.\n",
      "[500]\ttraining's auc: 0.999533\tvalid_1's auc: 0.983697\n",
      "[1000]\ttraining's auc: 1\tvalid_1's auc: 0.986833\n",
      "Early stopping, best iteration is:\n",
      "[961]\ttraining's auc: 1\tvalid_1's auc: 0.986783\n",
      "5 FOLD Score:  0.9867829226455606\n",
      "Total CV:  0.9835977690538877\n",
      "Total CV2:  0.9836026973250236\n",
      "7\n",
      "(439670, 603)\n",
      "325 ['C1', 'C11', 'C12', 'C13', 'C14', 'C2', 'C5', 'C6', 'C9', 'D1', 'D10', 'D11', 'D15', 'D2', 'D3', 'D4', 'D5', 'M1', 'M2', 'M3', 'M4', 'M5', 'M6', 'M7', 'M8', 'M9', 'P_emaildomain', 'TransactionAmt', 'V1', 'V10', 'V100', 'V101', 'V102', 'V103', 'V104', 'V105', 'V106', 'V107', 'V108', 'V109', 'V11', 'V110', 'V111', 'V112', 'V113', 'V114', 'V115', 'V116', 'V117', 'V118', 'V119', 'V12', 'V120', 'V121', 'V122', 'V123', 'V124', 'V125', 'V126', 'V127', 'V128', 'V129', 'V13', 'V130', 'V131', 'V132', 'V133', 'V134', 'V135', 'V136', 'V137', 'V14', 'V15', 'V16', 'V17', 'V18', 'V19', 'V2', 'V20', 'V21', 'V22', 'V23', 'V24', 'V25', 'V26', 'V27', 'V279', 'V28', 'V280', 'V281', 'V282', 'V283', 'V284', 'V285', 'V286', 'V287', 'V288', 'V289', 'V29', 'V290', 'V291', 'V292', 'V293', 'V294', 'V295', 'V296', 'V297', 'V298', 'V299', 'V3', 'V30', 'V300', 'V301', 'V302', 'V303', 'V304', 'V305', 'V306', 'V307', 'V308', 'V309', 'V31', 'V310', 'V311', 'V312', 'V313', 'V314', 'V315', 'V316', 'V317', 'V318', 'V319', 'V32', 'V320', 'V321', 'V33', 'V34', 'V35', 'V36', 'V37', 'V38', 'V39', 'V4', 'V40', 'V41', 'V42', 'V43', 'V44', 'V45', 'V46', 'V47', 'V48', 'V49', 'V5', 'V50', 'V51', 'V52', 'V53', 'V54', 'V55', 'V56', 'V57', 'V58', 'V59', 'V6', 'V60', 'V61', 'V62', 'V63', 'V64', 'V65', 'V66', 'V67', 'V68', 'V69', 'V7', 'V70', 'V71', 'V72', 'V73', 'V74', 'V75', 'V76', 'V77', 'V78', 'V79', 'V8', 'V80', 'V81', 'V82', 'V83', 'V84', 'V85', 'V86', 'V87', 'V88', 'V89', 'V9', 'V90', 'V91', 'V92', 'V93', 'V94', 'V95', 'V96', 'V97', 'V98', 'V99', 'addr1', 'addr2', 'card1', 'card2', 'card3', 'card4', 'card5', 'card6', 'dist1', 'email_check_nan_all', 'P_emaildomain_Country', 'P_emaildomain_prefix', 'M_not_null', 'M_sum', 'collect_agree_ratio', 'dow', 'day', 'Transaction_hour', 'card1_fq_enc', 'card2_fq_enc', 'card3_fq_enc', 'card5_fq_enc', 'C1_fq_enc', 'C2_fq_enc', 'C5_fq_enc', 'C6_fq_enc', 'C9_fq_enc', 'C11_fq_enc', 'C12_fq_enc', 'C13_fq_enc', 'C14_fq_enc', 'D1_fq_enc', 'D2_fq_enc', 'D3_fq_enc', 'D4_fq_enc', 'D5_fq_enc', 'addr1_fq_enc', 'addr2_fq_enc', 'dist1_fq_enc', 'P_emaildomain_fq_enc', 'card1_TransactionAmt_mean', 'card1_TransactionAmt_std', 'card2_TransactionAmt_mean', 'card2_TransactionAmt_std', 'card3_TransactionAmt_mean', 'card3_TransactionAmt_std', 'card5_TransactionAmt_mean', 'card5_TransactionAmt_std', 'uid_TransactionAmt_mean', 'uid_TransactionAmt_std', 'uid2_TransactionAmt_mean', 'uid2_TransactionAmt_std', 'uid3_TransactionAmt_mean', 'uid3_TransactionAmt_std', 'ymd_TransactionDT_count', 'ymd_TransactionAmt_sum', 'uid2_dayofweek_mean', 'uid2_dayofweek_std', 'TransactionAmt_decimal_count', 'TransactionAmt_decimal', 'account_make_date_D1', 'account_make_date_D2', 'account_make_date_D4', 'account_make_date_D10', 'account_make_date_D15', 'card1_make_date_D1_productCD_Amt_mean', 'card1_make_date_D1_productCD_Amt_std', 'card1_addr1_LDA_0', 'card1_addr1_LDA_1', 'card1_addr1_LDA_2', 'card1_addr1_LDA_3', 'card1_addr1_LDA_4', 'card1_id_20_LDA_0', 'card1_id_20_LDA_1', 'card1_id_20_LDA_2', 'card1_id_20_LDA_3', 'card1_id_20_LDA_4', 'card4_DeviceInfo_c_NMF_0', 'card4_DeviceInfo_c_NMF_1', 'card4_DeviceInfo_c_NMF_2', 'card4_DeviceInfo_c_NMF_3', 'card4_DeviceInfo_c_NMF_4', 'addr1_id_32_combine', 'addr1_id_32_combine_fq_enc_combine', 'addr1_id_32_combine_TransactionAmt_mean', 'addr1_id_32_combine_TransactionAmt_std', 'addr1_id_14_combine', 'addr1_id_14_combine_fq_enc_combine', 'addr1_id_14_combine_TransactionAmt_mean', 'addr1_id_14_combine_TransactionAmt_std', 'addr1_id_19_combine', 'addr1_id_19_combine_fq_enc_combine', 'addr1_id_19_combine_TransactionAmt_mean', 'addr1_id_19_combine_TransactionAmt_std', 'card1_card2_combine', 'card1_card2_combine_fq_enc_combine', 'card1_addr1_combine', 'card1_addr1_combine_fq_enc_combine', 'card1_addr1_combine_TransactionAmt_mean', 'card1_addr1_combine_TransactionAmt_std', 'uid3_next_click', 'card1_make_date_D2_productCD_Amt_mean', 'card1_make_date_D2_productCD_Amt_std', 'card1_addr1_make_date_D1_ProductCD_Amt_mean', 'card1_addr1_make_date_D1_ProductCD_Amt_std', 'ProductCD_Amt_expandmean', 'card1_make_date_D1_ProductCD_dist1_mean', 'card1_make_date_D1_ProductCD_dist1_std', 'card1_addr1_make_date_D1_ProductCD_dist1_mean', 'card1_addr1_make_date_D1_ProductCD_dist1_std', 'card1_card2_make_date_D1_ProductCD_dist1_mean', 'card1_card2_make_date_D1_ProductCD_dist1_std', 'card1_make_date_D1_productCD_hour_mean', 'card1_maked1_pcd', 'card1_maked1_pcd_fq_enc_combine', 'account_make_date_D1_fq_enc_combine', 'M4_target_mean']\n",
      "TYPE [4] - 1 FOLD Start\n"
     ]
    },
    {
     "name": "stderr",
     "output_type": "stream",
     "text": [
      "C:\\Users\\kimym\\Anaconda3\\lib\\site-packages\\lightgbm\\basic.py:1188: UserWarning: categorical_feature in Dataset is overridden.\n",
      "New categorical_feature is ['P_emaildomain', 'addr1', 'addr2']\n",
      "  'New categorical_feature is {}'.format(sorted(list(categorical_feature))))\n",
      "C:\\Users\\kimym\\Anaconda3\\lib\\site-packages\\lightgbm\\basic.py:1188: UserWarning: categorical_feature in Dataset is overridden.\n",
      "New categorical_feature is ['P_emaildomain', 'addr1', 'addr2']\n",
      "  'New categorical_feature is {}'.format(sorted(list(categorical_feature))))\n",
      "C:\\Users\\kimym\\Anaconda3\\lib\\site-packages\\lightgbm\\basic.py:742: UserWarning: categorical_feature in param dict is overridden.\n",
      "  warnings.warn('categorical_feature in param dict is overridden.')\n"
     ]
    },
    {
     "name": "stdout",
     "output_type": "stream",
     "text": [
      "Training until validation scores don't improve for 100 rounds.\n",
      "[500]\ttraining's auc: 0.999894\tvalid_1's auc: 0.970789\n",
      "[1000]\ttraining's auc: 1\tvalid_1's auc: 0.975836\n",
      "Early stopping, best iteration is:\n",
      "[1034]\ttraining's auc: 1\tvalid_1's auc: 0.976026\n",
      "1 FOLD Score:  0.9760255077889007\n",
      "TYPE [4] - 2 FOLD Start\n"
     ]
    },
    {
     "name": "stderr",
     "output_type": "stream",
     "text": [
      "C:\\Users\\kimym\\Anaconda3\\lib\\site-packages\\lightgbm\\basic.py:1188: UserWarning: categorical_feature in Dataset is overridden.\n",
      "New categorical_feature is ['P_emaildomain', 'addr1', 'addr2']\n",
      "  'New categorical_feature is {}'.format(sorted(list(categorical_feature))))\n",
      "C:\\Users\\kimym\\Anaconda3\\lib\\site-packages\\lightgbm\\basic.py:1188: UserWarning: categorical_feature in Dataset is overridden.\n",
      "New categorical_feature is ['P_emaildomain', 'addr1', 'addr2']\n",
      "  'New categorical_feature is {}'.format(sorted(list(categorical_feature))))\n",
      "C:\\Users\\kimym\\Anaconda3\\lib\\site-packages\\lightgbm\\basic.py:742: UserWarning: categorical_feature in param dict is overridden.\n",
      "  warnings.warn('categorical_feature in param dict is overridden.')\n"
     ]
    },
    {
     "name": "stdout",
     "output_type": "stream",
     "text": [
      "Training until validation scores don't improve for 100 rounds.\n",
      "[500]\ttraining's auc: 0.999891\tvalid_1's auc: 0.973481\n",
      "[1000]\ttraining's auc: 1\tvalid_1's auc: 0.978954\n",
      "Early stopping, best iteration is:\n",
      "[1052]\ttraining's auc: 1\tvalid_1's auc: 0.979242\n",
      "2 FOLD Score:  0.9792417531388974\n",
      "TYPE [4] - 3 FOLD Start\n"
     ]
    },
    {
     "name": "stderr",
     "output_type": "stream",
     "text": [
      "C:\\Users\\kimym\\Anaconda3\\lib\\site-packages\\lightgbm\\basic.py:1188: UserWarning: categorical_feature in Dataset is overridden.\n",
      "New categorical_feature is ['P_emaildomain', 'addr1', 'addr2']\n",
      "  'New categorical_feature is {}'.format(sorted(list(categorical_feature))))\n",
      "C:\\Users\\kimym\\Anaconda3\\lib\\site-packages\\lightgbm\\basic.py:1188: UserWarning: categorical_feature in Dataset is overridden.\n",
      "New categorical_feature is ['P_emaildomain', 'addr1', 'addr2']\n",
      "  'New categorical_feature is {}'.format(sorted(list(categorical_feature))))\n",
      "C:\\Users\\kimym\\Anaconda3\\lib\\site-packages\\lightgbm\\basic.py:742: UserWarning: categorical_feature in param dict is overridden.\n",
      "  warnings.warn('categorical_feature in param dict is overridden.')\n"
     ]
    },
    {
     "name": "stdout",
     "output_type": "stream",
     "text": [
      "Training until validation scores don't improve for 100 rounds.\n",
      "[500]\ttraining's auc: 0.999884\tvalid_1's auc: 0.971277\n",
      "[1000]\ttraining's auc: 1\tvalid_1's auc: 0.975728\n",
      "Early stopping, best iteration is:\n",
      "[1074]\ttraining's auc: 1\tvalid_1's auc: 0.975972\n",
      "3 FOLD Score:  0.9759723030021128\n",
      "TYPE [4] - 4 FOLD Start\n"
     ]
    },
    {
     "name": "stderr",
     "output_type": "stream",
     "text": [
      "C:\\Users\\kimym\\Anaconda3\\lib\\site-packages\\lightgbm\\basic.py:1188: UserWarning: categorical_feature in Dataset is overridden.\n",
      "New categorical_feature is ['P_emaildomain', 'addr1', 'addr2']\n",
      "  'New categorical_feature is {}'.format(sorted(list(categorical_feature))))\n",
      "C:\\Users\\kimym\\Anaconda3\\lib\\site-packages\\lightgbm\\basic.py:1188: UserWarning: categorical_feature in Dataset is overridden.\n",
      "New categorical_feature is ['P_emaildomain', 'addr1', 'addr2']\n",
      "  'New categorical_feature is {}'.format(sorted(list(categorical_feature))))\n",
      "C:\\Users\\kimym\\Anaconda3\\lib\\site-packages\\lightgbm\\basic.py:742: UserWarning: categorical_feature in param dict is overridden.\n",
      "  warnings.warn('categorical_feature in param dict is overridden.')\n"
     ]
    },
    {
     "name": "stdout",
     "output_type": "stream",
     "text": [
      "Training until validation scores don't improve for 100 rounds.\n",
      "[500]\ttraining's auc: 0.999901\tvalid_1's auc: 0.970746\n",
      "[1000]\ttraining's auc: 1\tvalid_1's auc: 0.975875\n",
      "Early stopping, best iteration is:\n",
      "[1064]\ttraining's auc: 1\tvalid_1's auc: 0.976172\n",
      "4 FOLD Score:  0.9761720310122305\n",
      "TYPE [4] - 5 FOLD Start\n"
     ]
    },
    {
     "name": "stderr",
     "output_type": "stream",
     "text": [
      "C:\\Users\\kimym\\Anaconda3\\lib\\site-packages\\lightgbm\\basic.py:1188: UserWarning: categorical_feature in Dataset is overridden.\n",
      "New categorical_feature is ['P_emaildomain', 'addr1', 'addr2']\n",
      "  'New categorical_feature is {}'.format(sorted(list(categorical_feature))))\n",
      "C:\\Users\\kimym\\Anaconda3\\lib\\site-packages\\lightgbm\\basic.py:1188: UserWarning: categorical_feature in Dataset is overridden.\n",
      "New categorical_feature is ['P_emaildomain', 'addr1', 'addr2']\n",
      "  'New categorical_feature is {}'.format(sorted(list(categorical_feature))))\n",
      "C:\\Users\\kimym\\Anaconda3\\lib\\site-packages\\lightgbm\\basic.py:742: UserWarning: categorical_feature in param dict is overridden.\n",
      "  warnings.warn('categorical_feature in param dict is overridden.')\n"
     ]
    },
    {
     "name": "stdout",
     "output_type": "stream",
     "text": [
      "Training until validation scores don't improve for 100 rounds.\n",
      "[500]\ttraining's auc: 0.99987\tvalid_1's auc: 0.971343\n",
      "[1000]\ttraining's auc: 1\tvalid_1's auc: 0.977469\n",
      "Early stopping, best iteration is:\n",
      "[1085]\ttraining's auc: 1\tvalid_1's auc: 0.977896\n",
      "5 FOLD Score:  0.9778959361477333\n",
      "Total CV:  0.977061506217975\n",
      "Total CV2:  0.9770392388981924\n",
      "(150870, 603)\n",
      "561 ['C1', 'C10', 'C11', 'C12', 'C13', 'C14', 'C2', 'C3', 'C4', 'C6', 'C7', 'C8', 'D1', 'D10', 'D12', 'D13', 'D14', 'D15', 'D2', 'D3', 'D4', 'D5', 'D6', 'D7', 'D8', 'D9', 'DeviceInfo', 'DeviceType', 'M4', 'P_emaildomain', 'ProductCD', 'R_emaildomain', 'TransactionAmt', 'V100', 'V101', 'V102', 'V103', 'V104', 'V105', 'V106', 'V107', 'V108', 'V109', 'V110', 'V111', 'V112', 'V113', 'V114', 'V115', 'V116', 'V117', 'V118', 'V119', 'V12', 'V120', 'V121', 'V122', 'V123', 'V124', 'V125', 'V126', 'V127', 'V128', 'V129', 'V13', 'V130', 'V131', 'V132', 'V133', 'V134', 'V135', 'V136', 'V137', 'V138', 'V139', 'V14', 'V140', 'V141', 'V142', 'V143', 'V144', 'V145', 'V146', 'V147', 'V148', 'V149', 'V15', 'V150', 'V151', 'V152', 'V153', 'V154', 'V155', 'V156', 'V157', 'V158', 'V159', 'V16', 'V160', 'V161', 'V162', 'V163', 'V164', 'V165', 'V166', 'V167', 'V168', 'V169', 'V17', 'V170', 'V171', 'V172', 'V173', 'V174', 'V175', 'V176', 'V177', 'V178', 'V179', 'V18', 'V180', 'V181', 'V182', 'V183', 'V184', 'V185', 'V186', 'V187', 'V188', 'V189', 'V19', 'V190', 'V191', 'V192', 'V193', 'V194', 'V195', 'V196', 'V197', 'V198', 'V199', 'V20', 'V200', 'V201', 'V202', 'V203', 'V204', 'V205', 'V206', 'V207', 'V208', 'V209', 'V21', 'V210', 'V211', 'V212', 'V213', 'V214', 'V215', 'V216', 'V217', 'V218', 'V219', 'V22', 'V220', 'V221', 'V222', 'V223', 'V224', 'V225', 'V226', 'V227', 'V228', 'V229', 'V23', 'V230', 'V231', 'V232', 'V233', 'V234', 'V235', 'V236', 'V237', 'V238', 'V239', 'V24', 'V240', 'V241', 'V242', 'V243', 'V244', 'V245', 'V246', 'V247', 'V248', 'V249', 'V25', 'V250', 'V251', 'V252', 'V253', 'V254', 'V255', 'V256', 'V257', 'V258', 'V259', 'V26', 'V260', 'V261', 'V262', 'V263', 'V264', 'V265', 'V266', 'V267', 'V268', 'V269', 'V27', 'V270', 'V271', 'V272', 'V273', 'V274', 'V275', 'V276', 'V277', 'V278', 'V279', 'V28', 'V280', 'V281', 'V282', 'V283', 'V284', 'V285', 'V286', 'V287', 'V288', 'V289', 'V29', 'V290', 'V291', 'V292', 'V293', 'V294', 'V295', 'V296', 'V297', 'V298', 'V299', 'V30', 'V300', 'V301', 'V302', 'V303', 'V304', 'V305', 'V306', 'V307', 'V308', 'V309', 'V31', 'V310', 'V311', 'V312', 'V313', 'V314', 'V315', 'V316', 'V317', 'V318', 'V319', 'V32', 'V320', 'V321', 'V322', 'V323', 'V324', 'V325', 'V326', 'V327', 'V328', 'V329', 'V33', 'V330', 'V331', 'V332', 'V333', 'V334', 'V335', 'V336', 'V337', 'V338', 'V339', 'V34', 'V35', 'V36', 'V37', 'V38', 'V39', 'V40', 'V41', 'V42', 'V43', 'V44', 'V45', 'V46', 'V47', 'V48', 'V49', 'V50', 'V51', 'V52', 'V53', 'V54', 'V55', 'V56', 'V57', 'V58', 'V59', 'V60', 'V61', 'V62', 'V63', 'V64', 'V65', 'V66', 'V67', 'V68', 'V69', 'V70', 'V71', 'V72', 'V73', 'V74', 'V75', 'V76', 'V77', 'V78', 'V79', 'V80', 'V81', 'V82', 'V83', 'V84', 'V85', 'V86', 'V87', 'V88', 'V89', 'V90', 'V91', 'V92', 'V93', 'V94', 'V95', 'V96', 'V97', 'V98', 'V99', 'addr1', 'addr2', 'card1', 'card2', 'card3', 'card4', 'card5', 'card6', 'dist2', 'id_01', 'id_02', 'id_03', 'id_04', 'id_05', 'id_06', 'id_07', 'id_08', 'id_09', 'id_10', 'id_11', 'id_12', 'id_13', 'id_14', 'id_15', 'id_16', 'id_17', 'id_18', 'id_19', 'id_20', 'id_21', 'id_22', 'id_23', 'id_24', 'id_25', 'id_26', 'id_27', 'id_28', 'id_29', 'id_30', 'id_31', 'id_32', 'id_33', 'id_34', 'id_35', 'id_36', 'id_37', 'id_38', 'email_check', 'email_check_nan_all', 'email_check_nan_any', 'P_emaildomain_Country', 'R_emaildomain_Country', 'P_emaildomain_prefix', 'R_emaildomain_prefix', 'DeviceInfo_c', 'id_30_c', 'id_30_v', 'id_31_c', 'is_mobile_browser', 'id_31_v', 'dow', 'day', 'Transaction_hour', 'card1_fq_enc', 'card2_fq_enc', 'card3_fq_enc', 'card5_fq_enc', 'C1_fq_enc', 'C2_fq_enc', 'C3_fq_enc', 'C4_fq_enc', 'C6_fq_enc', 'C7_fq_enc', 'C8_fq_enc', 'C10_fq_enc', 'C11_fq_enc', 'C12_fq_enc', 'C13_fq_enc', 'C14_fq_enc', 'D1_fq_enc', 'D2_fq_enc', 'D3_fq_enc', 'D4_fq_enc', 'D5_fq_enc', 'D6_fq_enc', 'D7_fq_enc', 'D8_fq_enc', 'D9_fq_enc', 'addr1_fq_enc', 'addr2_fq_enc', 'dist2_fq_enc', 'P_emaildomain_fq_enc', 'R_emaildomain_fq_enc', 'id_01_fq_enc', 'id_02_fq_enc', 'id_03_fq_enc', 'id_04_fq_enc', 'id_05_fq_enc', 'id_06_fq_enc', 'id_07_fq_enc', 'id_08_fq_enc', 'id_09_fq_enc', 'id_10_fq_enc', 'id_11_fq_enc', 'id_13_fq_enc', 'id_14_fq_enc', 'id_17_fq_enc', 'id_18_fq_enc', 'id_19_fq_enc', 'id_20_fq_enc', 'id_21_fq_enc', 'id_22_fq_enc', 'id_24_fq_enc', 'id_25_fq_enc', 'id_26_fq_enc', 'id_30_fq_enc', 'id_31_fq_enc', 'id_32_fq_enc', 'id_33_fq_enc', 'DeviceInfo_fq_enc', 'DeviceInfo_c_fq_enc', 'id_30_c_fq_enc', 'id_30_v_fq_enc', 'id_31_v_fq_enc', 'card1_TransactionAmt_mean', 'card1_TransactionAmt_std', 'card2_TransactionAmt_mean', 'card2_TransactionAmt_std', 'card3_TransactionAmt_mean', 'card3_TransactionAmt_std', 'card5_TransactionAmt_mean', 'card5_TransactionAmt_std', 'uid_TransactionAmt_mean', 'uid_TransactionAmt_std', 'uid2_TransactionAmt_mean', 'uid2_TransactionAmt_std', 'uid3_TransactionAmt_mean', 'uid3_TransactionAmt_std', 'ymd_TransactionDT_count', 'ymd_TransactionAmt_sum', 'uid2_dayofweek_mean', 'uid2_dayofweek_std', 'TransactionAmt_decimal_count', 'TransactionAmt_decimal', 'account_make_date_D1', 'account_make_date_D2', 'account_make_date_D4', 'account_make_date_D8', 'account_make_date_D10', 'account_make_date_D15', 'card1_make_date_D1_productCD_Amt_mean', 'card1_make_date_D1_productCD_Amt_std', 'card1_addr1_LDA_0', 'card1_addr1_LDA_1', 'card1_addr1_LDA_2', 'card1_addr1_LDA_3', 'card1_addr1_LDA_4', 'card1_id_20_LDA_0', 'card1_id_20_LDA_1', 'card1_id_20_LDA_2', 'card1_id_20_LDA_3', 'card1_id_20_LDA_4', 'card4_DeviceInfo_c_NMF_0', 'card4_DeviceInfo_c_NMF_1', 'card4_DeviceInfo_c_NMF_2', 'card4_DeviceInfo_c_NMF_3', 'card4_DeviceInfo_c_NMF_4', 'addr1_id_32_combine', 'addr1_id_32_combine_fq_enc_combine', 'addr1_id_32_combine_TransactionAmt_mean', 'addr1_id_32_combine_TransactionAmt_std', 'addr1_id_14_combine', 'addr1_id_14_combine_fq_enc_combine', 'addr1_id_14_combine_TransactionAmt_mean', 'addr1_id_14_combine_TransactionAmt_std', 'addr1_id_19_combine', 'addr1_id_19_combine_fq_enc_combine', 'addr1_id_19_combine_TransactionAmt_mean', 'addr1_id_19_combine_TransactionAmt_std', 'card1_card2_combine', 'card1_card2_combine_fq_enc_combine', 'card1_addr1_combine', 'card1_addr1_combine_fq_enc_combine', 'card1_addr1_combine_TransactionAmt_mean', 'card1_addr1_combine_TransactionAmt_std', 'uid3_next_click', 'card1_make_date_D2_productCD_Amt_mean', 'card1_make_date_D2_productCD_Amt_std', 'card1_addr1_make_date_D1_ProductCD_Amt_mean', 'card1_addr1_make_date_D1_ProductCD_Amt_std', 'card1_id_20_make_date_D1_ProductCD_Amt_mean', 'card1_id_20_make_date_D1_ProductCD_Amt_std', 'ProductCD_Amt_expandmean', 'id_02_ProductCD_amt_mean', 'card1_make_date_D1_productCD_hour_mean', 'card1_maked1_pcd', 'card1_maked1_pcd_fq_enc_combine', 'account_make_date_D1_fq_enc_combine', 'ProductCD_target_mean', 'M4_target_mean']\n",
      "TYPE [0, 2, 1, 3] - 1 FOLD Start\n"
     ]
    },
    {
     "name": "stderr",
     "output_type": "stream",
     "text": [
      "C:\\Users\\kimym\\Anaconda3\\lib\\site-packages\\lightgbm\\basic.py:1188: UserWarning: categorical_feature in Dataset is overridden.\n",
      "New categorical_feature is ['P_emaildomain', 'R_emaildomain', 'addr1', 'addr2', 'id_13', 'id_15', 'id_30_v', 'id_31_v', 'id_33', 'id_37', 'id_38']\n",
      "  'New categorical_feature is {}'.format(sorted(list(categorical_feature))))\n",
      "C:\\Users\\kimym\\Anaconda3\\lib\\site-packages\\lightgbm\\basic.py:1188: UserWarning: categorical_feature in Dataset is overridden.\n",
      "New categorical_feature is ['P_emaildomain', 'R_emaildomain', 'addr1', 'addr2', 'id_13', 'id_15', 'id_30_v', 'id_31_v', 'id_33', 'id_37', 'id_38']\n",
      "  'New categorical_feature is {}'.format(sorted(list(categorical_feature))))\n",
      "C:\\Users\\kimym\\Anaconda3\\lib\\site-packages\\lightgbm\\basic.py:742: UserWarning: categorical_feature in param dict is overridden.\n",
      "  warnings.warn('categorical_feature in param dict is overridden.')\n"
     ]
    },
    {
     "name": "stdout",
     "output_type": "stream",
     "text": [
      "Training until validation scores don't improve for 100 rounds.\n",
      "[500]\ttraining's auc: 0.999553\tvalid_1's auc: 0.975833\n",
      "[1000]\ttraining's auc: 1\tvalid_1's auc: 0.979857\n",
      "Early stopping, best iteration is:\n",
      "[905]\ttraining's auc: 1\tvalid_1's auc: 0.979449\n",
      "1 FOLD Score:  0.9794487206290604\n",
      "TYPE [0, 2, 1, 3] - 2 FOLD Start\n"
     ]
    },
    {
     "name": "stderr",
     "output_type": "stream",
     "text": [
      "C:\\Users\\kimym\\Anaconda3\\lib\\site-packages\\lightgbm\\basic.py:1188: UserWarning: categorical_feature in Dataset is overridden.\n",
      "New categorical_feature is ['P_emaildomain', 'R_emaildomain', 'addr1', 'addr2', 'id_13', 'id_15', 'id_30_v', 'id_31_v', 'id_33', 'id_37', 'id_38']\n",
      "  'New categorical_feature is {}'.format(sorted(list(categorical_feature))))\n",
      "C:\\Users\\kimym\\Anaconda3\\lib\\site-packages\\lightgbm\\basic.py:1188: UserWarning: categorical_feature in Dataset is overridden.\n",
      "New categorical_feature is ['P_emaildomain', 'R_emaildomain', 'addr1', 'addr2', 'id_13', 'id_15', 'id_30_v', 'id_31_v', 'id_33', 'id_37', 'id_38']\n",
      "  'New categorical_feature is {}'.format(sorted(list(categorical_feature))))\n",
      "C:\\Users\\kimym\\Anaconda3\\lib\\site-packages\\lightgbm\\basic.py:742: UserWarning: categorical_feature in param dict is overridden.\n",
      "  warnings.warn('categorical_feature in param dict is overridden.')\n"
     ]
    },
    {
     "name": "stdout",
     "output_type": "stream",
     "text": [
      "Training until validation scores don't improve for 100 rounds.\n",
      "[500]\ttraining's auc: 0.999589\tvalid_1's auc: 0.981492\n",
      "[1000]\ttraining's auc: 1\tvalid_1's auc: 0.98462\n",
      "Early stopping, best iteration is:\n",
      "[955]\ttraining's auc: 1\tvalid_1's auc: 0.984493\n",
      "2 FOLD Score:  0.9844926736088259\n",
      "TYPE [0, 2, 1, 3] - 3 FOLD Start\n"
     ]
    },
    {
     "name": "stderr",
     "output_type": "stream",
     "text": [
      "C:\\Users\\kimym\\Anaconda3\\lib\\site-packages\\lightgbm\\basic.py:1188: UserWarning: categorical_feature in Dataset is overridden.\n",
      "New categorical_feature is ['P_emaildomain', 'R_emaildomain', 'addr1', 'addr2', 'id_13', 'id_15', 'id_30_v', 'id_31_v', 'id_33', 'id_37', 'id_38']\n",
      "  'New categorical_feature is {}'.format(sorted(list(categorical_feature))))\n",
      "C:\\Users\\kimym\\Anaconda3\\lib\\site-packages\\lightgbm\\basic.py:1188: UserWarning: categorical_feature in Dataset is overridden.\n",
      "New categorical_feature is ['P_emaildomain', 'R_emaildomain', 'addr1', 'addr2', 'id_13', 'id_15', 'id_30_v', 'id_31_v', 'id_33', 'id_37', 'id_38']\n",
      "  'New categorical_feature is {}'.format(sorted(list(categorical_feature))))\n",
      "C:\\Users\\kimym\\Anaconda3\\lib\\site-packages\\lightgbm\\basic.py:742: UserWarning: categorical_feature in param dict is overridden.\n",
      "  warnings.warn('categorical_feature in param dict is overridden.')\n"
     ]
    },
    {
     "name": "stdout",
     "output_type": "stream",
     "text": [
      "Training until validation scores don't improve for 100 rounds.\n",
      "[500]\ttraining's auc: 0.999589\tvalid_1's auc: 0.981426\n",
      "[1000]\ttraining's auc: 1\tvalid_1's auc: 0.985014\n",
      "Early stopping, best iteration is:\n",
      "[969]\ttraining's auc: 1\tvalid_1's auc: 0.984914\n",
      "3 FOLD Score:  0.9849141397195484\n",
      "TYPE [0, 2, 1, 3] - 4 FOLD Start\n"
     ]
    },
    {
     "name": "stderr",
     "output_type": "stream",
     "text": [
      "C:\\Users\\kimym\\Anaconda3\\lib\\site-packages\\lightgbm\\basic.py:1188: UserWarning: categorical_feature in Dataset is overridden.\n",
      "New categorical_feature is ['P_emaildomain', 'R_emaildomain', 'addr1', 'addr2', 'id_13', 'id_15', 'id_30_v', 'id_31_v', 'id_33', 'id_37', 'id_38']\n",
      "  'New categorical_feature is {}'.format(sorted(list(categorical_feature))))\n",
      "C:\\Users\\kimym\\Anaconda3\\lib\\site-packages\\lightgbm\\basic.py:1188: UserWarning: categorical_feature in Dataset is overridden.\n",
      "New categorical_feature is ['P_emaildomain', 'R_emaildomain', 'addr1', 'addr2', 'id_13', 'id_15', 'id_30_v', 'id_31_v', 'id_33', 'id_37', 'id_38']\n",
      "  'New categorical_feature is {}'.format(sorted(list(categorical_feature))))\n",
      "C:\\Users\\kimym\\Anaconda3\\lib\\site-packages\\lightgbm\\basic.py:742: UserWarning: categorical_feature in param dict is overridden.\n",
      "  warnings.warn('categorical_feature in param dict is overridden.')\n"
     ]
    },
    {
     "name": "stdout",
     "output_type": "stream",
     "text": [
      "Training until validation scores don't improve for 100 rounds.\n",
      "[500]\ttraining's auc: 0.999624\tvalid_1's auc: 0.978842\n",
      "[1000]\ttraining's auc: 1\tvalid_1's auc: 0.982669\n",
      "Early stopping, best iteration is:\n",
      "[924]\ttraining's auc: 1\tvalid_1's auc: 0.982372\n",
      "4 FOLD Score:  0.9823715348178391\n",
      "TYPE [0, 2, 1, 3] - 5 FOLD Start\n"
     ]
    },
    {
     "name": "stderr",
     "output_type": "stream",
     "text": [
      "C:\\Users\\kimym\\Anaconda3\\lib\\site-packages\\lightgbm\\basic.py:1188: UserWarning: categorical_feature in Dataset is overridden.\n",
      "New categorical_feature is ['P_emaildomain', 'R_emaildomain', 'addr1', 'addr2', 'id_13', 'id_15', 'id_30_v', 'id_31_v', 'id_33', 'id_37', 'id_38']\n",
      "  'New categorical_feature is {}'.format(sorted(list(categorical_feature))))\n",
      "C:\\Users\\kimym\\Anaconda3\\lib\\site-packages\\lightgbm\\basic.py:1188: UserWarning: categorical_feature in Dataset is overridden.\n",
      "New categorical_feature is ['P_emaildomain', 'R_emaildomain', 'addr1', 'addr2', 'id_13', 'id_15', 'id_30_v', 'id_31_v', 'id_33', 'id_37', 'id_38']\n",
      "  'New categorical_feature is {}'.format(sorted(list(categorical_feature))))\n",
      "C:\\Users\\kimym\\Anaconda3\\lib\\site-packages\\lightgbm\\basic.py:742: UserWarning: categorical_feature in param dict is overridden.\n",
      "  warnings.warn('categorical_feature in param dict is overridden.')\n"
     ]
    },
    {
     "name": "stdout",
     "output_type": "stream",
     "text": [
      "Training until validation scores don't improve for 100 rounds.\n",
      "[500]\ttraining's auc: 0.99953\tvalid_1's auc: 0.983529\n",
      "[1000]\ttraining's auc: 1\tvalid_1's auc: 0.986552\n",
      "Early stopping, best iteration is:\n",
      "[1007]\ttraining's auc: 1\tvalid_1's auc: 0.98657\n",
      "5 FOLD Score:  0.9865697638058073\n",
      "Total CV:  0.9835593665162163\n",
      "Total CV2:  0.9836140034553\n",
      "8\n",
      "(439670, 603)\n",
      "325 ['C1', 'C11', 'C12', 'C13', 'C14', 'C2', 'C5', 'C6', 'C9', 'D1', 'D10', 'D11', 'D15', 'D2', 'D3', 'D4', 'D5', 'M1', 'M2', 'M3', 'M4', 'M5', 'M6', 'M7', 'M8', 'M9', 'P_emaildomain', 'TransactionAmt', 'V1', 'V10', 'V100', 'V101', 'V102', 'V103', 'V104', 'V105', 'V106', 'V107', 'V108', 'V109', 'V11', 'V110', 'V111', 'V112', 'V113', 'V114', 'V115', 'V116', 'V117', 'V118', 'V119', 'V12', 'V120', 'V121', 'V122', 'V123', 'V124', 'V125', 'V126', 'V127', 'V128', 'V129', 'V13', 'V130', 'V131', 'V132', 'V133', 'V134', 'V135', 'V136', 'V137', 'V14', 'V15', 'V16', 'V17', 'V18', 'V19', 'V2', 'V20', 'V21', 'V22', 'V23', 'V24', 'V25', 'V26', 'V27', 'V279', 'V28', 'V280', 'V281', 'V282', 'V283', 'V284', 'V285', 'V286', 'V287', 'V288', 'V289', 'V29', 'V290', 'V291', 'V292', 'V293', 'V294', 'V295', 'V296', 'V297', 'V298', 'V299', 'V3', 'V30', 'V300', 'V301', 'V302', 'V303', 'V304', 'V305', 'V306', 'V307', 'V308', 'V309', 'V31', 'V310', 'V311', 'V312', 'V313', 'V314', 'V315', 'V316', 'V317', 'V318', 'V319', 'V32', 'V320', 'V321', 'V33', 'V34', 'V35', 'V36', 'V37', 'V38', 'V39', 'V4', 'V40', 'V41', 'V42', 'V43', 'V44', 'V45', 'V46', 'V47', 'V48', 'V49', 'V5', 'V50', 'V51', 'V52', 'V53', 'V54', 'V55', 'V56', 'V57', 'V58', 'V59', 'V6', 'V60', 'V61', 'V62', 'V63', 'V64', 'V65', 'V66', 'V67', 'V68', 'V69', 'V7', 'V70', 'V71', 'V72', 'V73', 'V74', 'V75', 'V76', 'V77', 'V78', 'V79', 'V8', 'V80', 'V81', 'V82', 'V83', 'V84', 'V85', 'V86', 'V87', 'V88', 'V89', 'V9', 'V90', 'V91', 'V92', 'V93', 'V94', 'V95', 'V96', 'V97', 'V98', 'V99', 'addr1', 'addr2', 'card1', 'card2', 'card3', 'card4', 'card5', 'card6', 'dist1', 'email_check_nan_all', 'P_emaildomain_Country', 'P_emaildomain_prefix', 'M_not_null', 'M_sum', 'collect_agree_ratio', 'dow', 'day', 'Transaction_hour', 'card1_fq_enc', 'card2_fq_enc', 'card3_fq_enc', 'card5_fq_enc', 'C1_fq_enc', 'C2_fq_enc', 'C5_fq_enc', 'C6_fq_enc', 'C9_fq_enc', 'C11_fq_enc', 'C12_fq_enc', 'C13_fq_enc', 'C14_fq_enc', 'D1_fq_enc', 'D2_fq_enc', 'D3_fq_enc', 'D4_fq_enc', 'D5_fq_enc', 'addr1_fq_enc', 'addr2_fq_enc', 'dist1_fq_enc', 'P_emaildomain_fq_enc', 'card1_TransactionAmt_mean', 'card1_TransactionAmt_std', 'card2_TransactionAmt_mean', 'card2_TransactionAmt_std', 'card3_TransactionAmt_mean', 'card3_TransactionAmt_std', 'card5_TransactionAmt_mean', 'card5_TransactionAmt_std', 'uid_TransactionAmt_mean', 'uid_TransactionAmt_std', 'uid2_TransactionAmt_mean', 'uid2_TransactionAmt_std', 'uid3_TransactionAmt_mean', 'uid3_TransactionAmt_std', 'ymd_TransactionDT_count', 'ymd_TransactionAmt_sum', 'uid2_dayofweek_mean', 'uid2_dayofweek_std', 'TransactionAmt_decimal_count', 'TransactionAmt_decimal', 'account_make_date_D1', 'account_make_date_D2', 'account_make_date_D4', 'account_make_date_D10', 'account_make_date_D15', 'card1_make_date_D1_productCD_Amt_mean', 'card1_make_date_D1_productCD_Amt_std', 'card1_addr1_LDA_0', 'card1_addr1_LDA_1', 'card1_addr1_LDA_2', 'card1_addr1_LDA_3', 'card1_addr1_LDA_4', 'card1_id_20_LDA_0', 'card1_id_20_LDA_1', 'card1_id_20_LDA_2', 'card1_id_20_LDA_3', 'card1_id_20_LDA_4', 'card4_DeviceInfo_c_NMF_0', 'card4_DeviceInfo_c_NMF_1', 'card4_DeviceInfo_c_NMF_2', 'card4_DeviceInfo_c_NMF_3', 'card4_DeviceInfo_c_NMF_4', 'addr1_id_32_combine', 'addr1_id_32_combine_fq_enc_combine', 'addr1_id_32_combine_TransactionAmt_mean', 'addr1_id_32_combine_TransactionAmt_std', 'addr1_id_14_combine', 'addr1_id_14_combine_fq_enc_combine', 'addr1_id_14_combine_TransactionAmt_mean', 'addr1_id_14_combine_TransactionAmt_std', 'addr1_id_19_combine', 'addr1_id_19_combine_fq_enc_combine', 'addr1_id_19_combine_TransactionAmt_mean', 'addr1_id_19_combine_TransactionAmt_std', 'card1_card2_combine', 'card1_card2_combine_fq_enc_combine', 'card1_addr1_combine', 'card1_addr1_combine_fq_enc_combine', 'card1_addr1_combine_TransactionAmt_mean', 'card1_addr1_combine_TransactionAmt_std', 'uid3_next_click', 'card1_make_date_D2_productCD_Amt_mean', 'card1_make_date_D2_productCD_Amt_std', 'card1_addr1_make_date_D1_ProductCD_Amt_mean', 'card1_addr1_make_date_D1_ProductCD_Amt_std', 'ProductCD_Amt_expandmean', 'card1_make_date_D1_ProductCD_dist1_mean', 'card1_make_date_D1_ProductCD_dist1_std', 'card1_addr1_make_date_D1_ProductCD_dist1_mean', 'card1_addr1_make_date_D1_ProductCD_dist1_std', 'card1_card2_make_date_D1_ProductCD_dist1_mean', 'card1_card2_make_date_D1_ProductCD_dist1_std', 'card1_make_date_D1_productCD_hour_mean', 'card1_maked1_pcd', 'card1_maked1_pcd_fq_enc_combine', 'account_make_date_D1_fq_enc_combine', 'M4_target_mean']\n",
      "TYPE [4] - 1 FOLD Start\n"
     ]
    },
    {
     "name": "stderr",
     "output_type": "stream",
     "text": [
      "C:\\Users\\kimym\\Anaconda3\\lib\\site-packages\\lightgbm\\basic.py:1188: UserWarning: categorical_feature in Dataset is overridden.\n",
      "New categorical_feature is ['P_emaildomain', 'addr1', 'addr2']\n",
      "  'New categorical_feature is {}'.format(sorted(list(categorical_feature))))\n",
      "C:\\Users\\kimym\\Anaconda3\\lib\\site-packages\\lightgbm\\basic.py:1188: UserWarning: categorical_feature in Dataset is overridden.\n",
      "New categorical_feature is ['P_emaildomain', 'addr1', 'addr2']\n",
      "  'New categorical_feature is {}'.format(sorted(list(categorical_feature))))\n",
      "C:\\Users\\kimym\\Anaconda3\\lib\\site-packages\\lightgbm\\basic.py:742: UserWarning: categorical_feature in param dict is overridden.\n",
      "  warnings.warn('categorical_feature in param dict is overridden.')\n"
     ]
    },
    {
     "name": "stdout",
     "output_type": "stream",
     "text": [
      "Training until validation scores don't improve for 100 rounds.\n",
      "[500]\ttraining's auc: 0.999899\tvalid_1's auc: 0.970131\n",
      "[1000]\ttraining's auc: 1\tvalid_1's auc: 0.975249\n",
      "Early stopping, best iteration is:\n",
      "[1068]\ttraining's auc: 1\tvalid_1's auc: 0.975616\n",
      "1 FOLD Score:  0.9756157352499649\n",
      "TYPE [4] - 2 FOLD Start\n"
     ]
    },
    {
     "name": "stderr",
     "output_type": "stream",
     "text": [
      "C:\\Users\\kimym\\Anaconda3\\lib\\site-packages\\lightgbm\\basic.py:1188: UserWarning: categorical_feature in Dataset is overridden.\n",
      "New categorical_feature is ['P_emaildomain', 'addr1', 'addr2']\n",
      "  'New categorical_feature is {}'.format(sorted(list(categorical_feature))))\n",
      "C:\\Users\\kimym\\Anaconda3\\lib\\site-packages\\lightgbm\\basic.py:1188: UserWarning: categorical_feature in Dataset is overridden.\n",
      "New categorical_feature is ['P_emaildomain', 'addr1', 'addr2']\n",
      "  'New categorical_feature is {}'.format(sorted(list(categorical_feature))))\n",
      "C:\\Users\\kimym\\Anaconda3\\lib\\site-packages\\lightgbm\\basic.py:742: UserWarning: categorical_feature in param dict is overridden.\n",
      "  warnings.warn('categorical_feature in param dict is overridden.')\n"
     ]
    },
    {
     "name": "stdout",
     "output_type": "stream",
     "text": [
      "Training until validation scores don't improve for 100 rounds.\n",
      "[500]\ttraining's auc: 0.999903\tvalid_1's auc: 0.973881\n",
      "[1000]\ttraining's auc: 1\tvalid_1's auc: 0.979251\n",
      "Early stopping, best iteration is:\n",
      "[990]\ttraining's auc: 1\tvalid_1's auc: 0.979157\n",
      "2 FOLD Score:  0.9791570410254857\n",
      "TYPE [4] - 3 FOLD Start\n"
     ]
    },
    {
     "name": "stderr",
     "output_type": "stream",
     "text": [
      "C:\\Users\\kimym\\Anaconda3\\lib\\site-packages\\lightgbm\\basic.py:1188: UserWarning: categorical_feature in Dataset is overridden.\n",
      "New categorical_feature is ['P_emaildomain', 'addr1', 'addr2']\n",
      "  'New categorical_feature is {}'.format(sorted(list(categorical_feature))))\n",
      "C:\\Users\\kimym\\Anaconda3\\lib\\site-packages\\lightgbm\\basic.py:1188: UserWarning: categorical_feature in Dataset is overridden.\n",
      "New categorical_feature is ['P_emaildomain', 'addr1', 'addr2']\n",
      "  'New categorical_feature is {}'.format(sorted(list(categorical_feature))))\n",
      "C:\\Users\\kimym\\Anaconda3\\lib\\site-packages\\lightgbm\\basic.py:742: UserWarning: categorical_feature in param dict is overridden.\n",
      "  warnings.warn('categorical_feature in param dict is overridden.')\n"
     ]
    },
    {
     "name": "stdout",
     "output_type": "stream",
     "text": [
      "Training until validation scores don't improve for 100 rounds.\n",
      "[500]\ttraining's auc: 0.999893\tvalid_1's auc: 0.971319\n",
      "[1000]\ttraining's auc: 1\tvalid_1's auc: 0.975974\n",
      "Early stopping, best iteration is:\n",
      "[1116]\ttraining's auc: 1\tvalid_1's auc: 0.976602\n",
      "3 FOLD Score:  0.976602230845071\n",
      "TYPE [4] - 4 FOLD Start\n"
     ]
    },
    {
     "name": "stderr",
     "output_type": "stream",
     "text": [
      "C:\\Users\\kimym\\Anaconda3\\lib\\site-packages\\lightgbm\\basic.py:1188: UserWarning: categorical_feature in Dataset is overridden.\n",
      "New categorical_feature is ['P_emaildomain', 'addr1', 'addr2']\n",
      "  'New categorical_feature is {}'.format(sorted(list(categorical_feature))))\n",
      "C:\\Users\\kimym\\Anaconda3\\lib\\site-packages\\lightgbm\\basic.py:1188: UserWarning: categorical_feature in Dataset is overridden.\n",
      "New categorical_feature is ['P_emaildomain', 'addr1', 'addr2']\n",
      "  'New categorical_feature is {}'.format(sorted(list(categorical_feature))))\n",
      "C:\\Users\\kimym\\Anaconda3\\lib\\site-packages\\lightgbm\\basic.py:742: UserWarning: categorical_feature in param dict is overridden.\n",
      "  warnings.warn('categorical_feature in param dict is overridden.')\n"
     ]
    },
    {
     "name": "stdout",
     "output_type": "stream",
     "text": [
      "Training until validation scores don't improve for 100 rounds.\n",
      "[500]\ttraining's auc: 0.999909\tvalid_1's auc: 0.970017\n",
      "[1000]\ttraining's auc: 1\tvalid_1's auc: 0.975332\n",
      "Early stopping, best iteration is:\n",
      "[1118]\ttraining's auc: 1\tvalid_1's auc: 0.975837\n",
      "4 FOLD Score:  0.9758369616338444\n",
      "TYPE [4] - 5 FOLD Start\n"
     ]
    },
    {
     "name": "stderr",
     "output_type": "stream",
     "text": [
      "C:\\Users\\kimym\\Anaconda3\\lib\\site-packages\\lightgbm\\basic.py:1188: UserWarning: categorical_feature in Dataset is overridden.\n",
      "New categorical_feature is ['P_emaildomain', 'addr1', 'addr2']\n",
      "  'New categorical_feature is {}'.format(sorted(list(categorical_feature))))\n",
      "C:\\Users\\kimym\\Anaconda3\\lib\\site-packages\\lightgbm\\basic.py:1188: UserWarning: categorical_feature in Dataset is overridden.\n",
      "New categorical_feature is ['P_emaildomain', 'addr1', 'addr2']\n",
      "  'New categorical_feature is {}'.format(sorted(list(categorical_feature))))\n",
      "C:\\Users\\kimym\\Anaconda3\\lib\\site-packages\\lightgbm\\basic.py:742: UserWarning: categorical_feature in param dict is overridden.\n",
      "  warnings.warn('categorical_feature in param dict is overridden.')\n"
     ]
    },
    {
     "name": "stdout",
     "output_type": "stream",
     "text": [
      "Training until validation scores don't improve for 100 rounds.\n",
      "[500]\ttraining's auc: 0.999874\tvalid_1's auc: 0.971578\n",
      "[1000]\ttraining's auc: 1\tvalid_1's auc: 0.977253\n",
      "Early stopping, best iteration is:\n",
      "[1081]\ttraining's auc: 1\tvalid_1's auc: 0.977716\n",
      "5 FOLD Score:  0.9777161680922287\n",
      "Total CV:  0.9769856273693189\n",
      "Total CV2:  0.9768367779478018\n",
      "(150870, 603)\n",
      "561 ['C1', 'C10', 'C11', 'C12', 'C13', 'C14', 'C2', 'C3', 'C4', 'C6', 'C7', 'C8', 'D1', 'D10', 'D12', 'D13', 'D14', 'D15', 'D2', 'D3', 'D4', 'D5', 'D6', 'D7', 'D8', 'D9', 'DeviceInfo', 'DeviceType', 'M4', 'P_emaildomain', 'ProductCD', 'R_emaildomain', 'TransactionAmt', 'V100', 'V101', 'V102', 'V103', 'V104', 'V105', 'V106', 'V107', 'V108', 'V109', 'V110', 'V111', 'V112', 'V113', 'V114', 'V115', 'V116', 'V117', 'V118', 'V119', 'V12', 'V120', 'V121', 'V122', 'V123', 'V124', 'V125', 'V126', 'V127', 'V128', 'V129', 'V13', 'V130', 'V131', 'V132', 'V133', 'V134', 'V135', 'V136', 'V137', 'V138', 'V139', 'V14', 'V140', 'V141', 'V142', 'V143', 'V144', 'V145', 'V146', 'V147', 'V148', 'V149', 'V15', 'V150', 'V151', 'V152', 'V153', 'V154', 'V155', 'V156', 'V157', 'V158', 'V159', 'V16', 'V160', 'V161', 'V162', 'V163', 'V164', 'V165', 'V166', 'V167', 'V168', 'V169', 'V17', 'V170', 'V171', 'V172', 'V173', 'V174', 'V175', 'V176', 'V177', 'V178', 'V179', 'V18', 'V180', 'V181', 'V182', 'V183', 'V184', 'V185', 'V186', 'V187', 'V188', 'V189', 'V19', 'V190', 'V191', 'V192', 'V193', 'V194', 'V195', 'V196', 'V197', 'V198', 'V199', 'V20', 'V200', 'V201', 'V202', 'V203', 'V204', 'V205', 'V206', 'V207', 'V208', 'V209', 'V21', 'V210', 'V211', 'V212', 'V213', 'V214', 'V215', 'V216', 'V217', 'V218', 'V219', 'V22', 'V220', 'V221', 'V222', 'V223', 'V224', 'V225', 'V226', 'V227', 'V228', 'V229', 'V23', 'V230', 'V231', 'V232', 'V233', 'V234', 'V235', 'V236', 'V237', 'V238', 'V239', 'V24', 'V240', 'V241', 'V242', 'V243', 'V244', 'V245', 'V246', 'V247', 'V248', 'V249', 'V25', 'V250', 'V251', 'V252', 'V253', 'V254', 'V255', 'V256', 'V257', 'V258', 'V259', 'V26', 'V260', 'V261', 'V262', 'V263', 'V264', 'V265', 'V266', 'V267', 'V268', 'V269', 'V27', 'V270', 'V271', 'V272', 'V273', 'V274', 'V275', 'V276', 'V277', 'V278', 'V279', 'V28', 'V280', 'V281', 'V282', 'V283', 'V284', 'V285', 'V286', 'V287', 'V288', 'V289', 'V29', 'V290', 'V291', 'V292', 'V293', 'V294', 'V295', 'V296', 'V297', 'V298', 'V299', 'V30', 'V300', 'V301', 'V302', 'V303', 'V304', 'V305', 'V306', 'V307', 'V308', 'V309', 'V31', 'V310', 'V311', 'V312', 'V313', 'V314', 'V315', 'V316', 'V317', 'V318', 'V319', 'V32', 'V320', 'V321', 'V322', 'V323', 'V324', 'V325', 'V326', 'V327', 'V328', 'V329', 'V33', 'V330', 'V331', 'V332', 'V333', 'V334', 'V335', 'V336', 'V337', 'V338', 'V339', 'V34', 'V35', 'V36', 'V37', 'V38', 'V39', 'V40', 'V41', 'V42', 'V43', 'V44', 'V45', 'V46', 'V47', 'V48', 'V49', 'V50', 'V51', 'V52', 'V53', 'V54', 'V55', 'V56', 'V57', 'V58', 'V59', 'V60', 'V61', 'V62', 'V63', 'V64', 'V65', 'V66', 'V67', 'V68', 'V69', 'V70', 'V71', 'V72', 'V73', 'V74', 'V75', 'V76', 'V77', 'V78', 'V79', 'V80', 'V81', 'V82', 'V83', 'V84', 'V85', 'V86', 'V87', 'V88', 'V89', 'V90', 'V91', 'V92', 'V93', 'V94', 'V95', 'V96', 'V97', 'V98', 'V99', 'addr1', 'addr2', 'card1', 'card2', 'card3', 'card4', 'card5', 'card6', 'dist2', 'id_01', 'id_02', 'id_03', 'id_04', 'id_05', 'id_06', 'id_07', 'id_08', 'id_09', 'id_10', 'id_11', 'id_12', 'id_13', 'id_14', 'id_15', 'id_16', 'id_17', 'id_18', 'id_19', 'id_20', 'id_21', 'id_22', 'id_23', 'id_24', 'id_25', 'id_26', 'id_27', 'id_28', 'id_29', 'id_30', 'id_31', 'id_32', 'id_33', 'id_34', 'id_35', 'id_36', 'id_37', 'id_38', 'email_check', 'email_check_nan_all', 'email_check_nan_any', 'P_emaildomain_Country', 'R_emaildomain_Country', 'P_emaildomain_prefix', 'R_emaildomain_prefix', 'DeviceInfo_c', 'id_30_c', 'id_30_v', 'id_31_c', 'is_mobile_browser', 'id_31_v', 'dow', 'day', 'Transaction_hour', 'card1_fq_enc', 'card2_fq_enc', 'card3_fq_enc', 'card5_fq_enc', 'C1_fq_enc', 'C2_fq_enc', 'C3_fq_enc', 'C4_fq_enc', 'C6_fq_enc', 'C7_fq_enc', 'C8_fq_enc', 'C10_fq_enc', 'C11_fq_enc', 'C12_fq_enc', 'C13_fq_enc', 'C14_fq_enc', 'D1_fq_enc', 'D2_fq_enc', 'D3_fq_enc', 'D4_fq_enc', 'D5_fq_enc', 'D6_fq_enc', 'D7_fq_enc', 'D8_fq_enc', 'D9_fq_enc', 'addr1_fq_enc', 'addr2_fq_enc', 'dist2_fq_enc', 'P_emaildomain_fq_enc', 'R_emaildomain_fq_enc', 'id_01_fq_enc', 'id_02_fq_enc', 'id_03_fq_enc', 'id_04_fq_enc', 'id_05_fq_enc', 'id_06_fq_enc', 'id_07_fq_enc', 'id_08_fq_enc', 'id_09_fq_enc', 'id_10_fq_enc', 'id_11_fq_enc', 'id_13_fq_enc', 'id_14_fq_enc', 'id_17_fq_enc', 'id_18_fq_enc', 'id_19_fq_enc', 'id_20_fq_enc', 'id_21_fq_enc', 'id_22_fq_enc', 'id_24_fq_enc', 'id_25_fq_enc', 'id_26_fq_enc', 'id_30_fq_enc', 'id_31_fq_enc', 'id_32_fq_enc', 'id_33_fq_enc', 'DeviceInfo_fq_enc', 'DeviceInfo_c_fq_enc', 'id_30_c_fq_enc', 'id_30_v_fq_enc', 'id_31_v_fq_enc', 'card1_TransactionAmt_mean', 'card1_TransactionAmt_std', 'card2_TransactionAmt_mean', 'card2_TransactionAmt_std', 'card3_TransactionAmt_mean', 'card3_TransactionAmt_std', 'card5_TransactionAmt_mean', 'card5_TransactionAmt_std', 'uid_TransactionAmt_mean', 'uid_TransactionAmt_std', 'uid2_TransactionAmt_mean', 'uid2_TransactionAmt_std', 'uid3_TransactionAmt_mean', 'uid3_TransactionAmt_std', 'ymd_TransactionDT_count', 'ymd_TransactionAmt_sum', 'uid2_dayofweek_mean', 'uid2_dayofweek_std', 'TransactionAmt_decimal_count', 'TransactionAmt_decimal', 'account_make_date_D1', 'account_make_date_D2', 'account_make_date_D4', 'account_make_date_D8', 'account_make_date_D10', 'account_make_date_D15', 'card1_make_date_D1_productCD_Amt_mean', 'card1_make_date_D1_productCD_Amt_std', 'card1_addr1_LDA_0', 'card1_addr1_LDA_1', 'card1_addr1_LDA_2', 'card1_addr1_LDA_3', 'card1_addr1_LDA_4', 'card1_id_20_LDA_0', 'card1_id_20_LDA_1', 'card1_id_20_LDA_2', 'card1_id_20_LDA_3', 'card1_id_20_LDA_4', 'card4_DeviceInfo_c_NMF_0', 'card4_DeviceInfo_c_NMF_1', 'card4_DeviceInfo_c_NMF_2', 'card4_DeviceInfo_c_NMF_3', 'card4_DeviceInfo_c_NMF_4', 'addr1_id_32_combine', 'addr1_id_32_combine_fq_enc_combine', 'addr1_id_32_combine_TransactionAmt_mean', 'addr1_id_32_combine_TransactionAmt_std', 'addr1_id_14_combine', 'addr1_id_14_combine_fq_enc_combine', 'addr1_id_14_combine_TransactionAmt_mean', 'addr1_id_14_combine_TransactionAmt_std', 'addr1_id_19_combine', 'addr1_id_19_combine_fq_enc_combine', 'addr1_id_19_combine_TransactionAmt_mean', 'addr1_id_19_combine_TransactionAmt_std', 'card1_card2_combine', 'card1_card2_combine_fq_enc_combine', 'card1_addr1_combine', 'card1_addr1_combine_fq_enc_combine', 'card1_addr1_combine_TransactionAmt_mean', 'card1_addr1_combine_TransactionAmt_std', 'uid3_next_click', 'card1_make_date_D2_productCD_Amt_mean', 'card1_make_date_D2_productCD_Amt_std', 'card1_addr1_make_date_D1_ProductCD_Amt_mean', 'card1_addr1_make_date_D1_ProductCD_Amt_std', 'card1_id_20_make_date_D1_ProductCD_Amt_mean', 'card1_id_20_make_date_D1_ProductCD_Amt_std', 'ProductCD_Amt_expandmean', 'id_02_ProductCD_amt_mean', 'card1_make_date_D1_productCD_hour_mean', 'card1_maked1_pcd', 'card1_maked1_pcd_fq_enc_combine', 'account_make_date_D1_fq_enc_combine', 'ProductCD_target_mean', 'M4_target_mean']\n",
      "TYPE [0, 2, 1, 3] - 1 FOLD Start\n"
     ]
    },
    {
     "name": "stderr",
     "output_type": "stream",
     "text": [
      "C:\\Users\\kimym\\Anaconda3\\lib\\site-packages\\lightgbm\\basic.py:1188: UserWarning: categorical_feature in Dataset is overridden.\n",
      "New categorical_feature is ['P_emaildomain', 'R_emaildomain', 'addr1', 'addr2', 'id_13', 'id_15', 'id_30_v', 'id_31_v', 'id_33', 'id_37', 'id_38']\n",
      "  'New categorical_feature is {}'.format(sorted(list(categorical_feature))))\n",
      "C:\\Users\\kimym\\Anaconda3\\lib\\site-packages\\lightgbm\\basic.py:1188: UserWarning: categorical_feature in Dataset is overridden.\n",
      "New categorical_feature is ['P_emaildomain', 'R_emaildomain', 'addr1', 'addr2', 'id_13', 'id_15', 'id_30_v', 'id_31_v', 'id_33', 'id_37', 'id_38']\n",
      "  'New categorical_feature is {}'.format(sorted(list(categorical_feature))))\n",
      "C:\\Users\\kimym\\Anaconda3\\lib\\site-packages\\lightgbm\\basic.py:742: UserWarning: categorical_feature in param dict is overridden.\n",
      "  warnings.warn('categorical_feature in param dict is overridden.')\n"
     ]
    },
    {
     "name": "stdout",
     "output_type": "stream",
     "text": [
      "Training until validation scores don't improve for 100 rounds.\n",
      "[500]\ttraining's auc: 0.999552\tvalid_1's auc: 0.975756\n",
      "[1000]\ttraining's auc: 1\tvalid_1's auc: 0.979935\n",
      "Early stopping, best iteration is:\n",
      "[944]\ttraining's auc: 1\tvalid_1's auc: 0.97966\n",
      "1 FOLD Score:  0.9796603522949205\n",
      "TYPE [0, 2, 1, 3] - 2 FOLD Start\n"
     ]
    },
    {
     "name": "stderr",
     "output_type": "stream",
     "text": [
      "C:\\Users\\kimym\\Anaconda3\\lib\\site-packages\\lightgbm\\basic.py:1188: UserWarning: categorical_feature in Dataset is overridden.\n",
      "New categorical_feature is ['P_emaildomain', 'R_emaildomain', 'addr1', 'addr2', 'id_13', 'id_15', 'id_30_v', 'id_31_v', 'id_33', 'id_37', 'id_38']\n",
      "  'New categorical_feature is {}'.format(sorted(list(categorical_feature))))\n",
      "C:\\Users\\kimym\\Anaconda3\\lib\\site-packages\\lightgbm\\basic.py:1188: UserWarning: categorical_feature in Dataset is overridden.\n",
      "New categorical_feature is ['P_emaildomain', 'R_emaildomain', 'addr1', 'addr2', 'id_13', 'id_15', 'id_30_v', 'id_31_v', 'id_33', 'id_37', 'id_38']\n",
      "  'New categorical_feature is {}'.format(sorted(list(categorical_feature))))\n",
      "C:\\Users\\kimym\\Anaconda3\\lib\\site-packages\\lightgbm\\basic.py:742: UserWarning: categorical_feature in param dict is overridden.\n",
      "  warnings.warn('categorical_feature in param dict is overridden.')\n"
     ]
    },
    {
     "name": "stdout",
     "output_type": "stream",
     "text": [
      "Training until validation scores don't improve for 100 rounds.\n",
      "[500]\ttraining's auc: 0.999583\tvalid_1's auc: 0.981504\n",
      "[1000]\ttraining's auc: 1\tvalid_1's auc: 0.984597\n",
      "Early stopping, best iteration is:\n",
      "[949]\ttraining's auc: 1\tvalid_1's auc: 0.98448\n",
      "2 FOLD Score:  0.9844796640681632\n",
      "TYPE [0, 2, 1, 3] - 3 FOLD Start\n"
     ]
    },
    {
     "name": "stderr",
     "output_type": "stream",
     "text": [
      "C:\\Users\\kimym\\Anaconda3\\lib\\site-packages\\lightgbm\\basic.py:1188: UserWarning: categorical_feature in Dataset is overridden.\n",
      "New categorical_feature is ['P_emaildomain', 'R_emaildomain', 'addr1', 'addr2', 'id_13', 'id_15', 'id_30_v', 'id_31_v', 'id_33', 'id_37', 'id_38']\n",
      "  'New categorical_feature is {}'.format(sorted(list(categorical_feature))))\n",
      "C:\\Users\\kimym\\Anaconda3\\lib\\site-packages\\lightgbm\\basic.py:1188: UserWarning: categorical_feature in Dataset is overridden.\n",
      "New categorical_feature is ['P_emaildomain', 'R_emaildomain', 'addr1', 'addr2', 'id_13', 'id_15', 'id_30_v', 'id_31_v', 'id_33', 'id_37', 'id_38']\n",
      "  'New categorical_feature is {}'.format(sorted(list(categorical_feature))))\n",
      "C:\\Users\\kimym\\Anaconda3\\lib\\site-packages\\lightgbm\\basic.py:742: UserWarning: categorical_feature in param dict is overridden.\n",
      "  warnings.warn('categorical_feature in param dict is overridden.')\n"
     ]
    },
    {
     "name": "stdout",
     "output_type": "stream",
     "text": [
      "Training until validation scores don't improve for 100 rounds.\n",
      "[500]\ttraining's auc: 0.999579\tvalid_1's auc: 0.981168\n",
      "[1000]\ttraining's auc: 1\tvalid_1's auc: 0.985066\n",
      "Early stopping, best iteration is:\n",
      "[965]\ttraining's auc: 1\tvalid_1's auc: 0.984943\n",
      "3 FOLD Score:  0.9849425702505596\n",
      "TYPE [0, 2, 1, 3] - 4 FOLD Start\n"
     ]
    },
    {
     "name": "stderr",
     "output_type": "stream",
     "text": [
      "C:\\Users\\kimym\\Anaconda3\\lib\\site-packages\\lightgbm\\basic.py:1188: UserWarning: categorical_feature in Dataset is overridden.\n",
      "New categorical_feature is ['P_emaildomain', 'R_emaildomain', 'addr1', 'addr2', 'id_13', 'id_15', 'id_30_v', 'id_31_v', 'id_33', 'id_37', 'id_38']\n",
      "  'New categorical_feature is {}'.format(sorted(list(categorical_feature))))\n",
      "C:\\Users\\kimym\\Anaconda3\\lib\\site-packages\\lightgbm\\basic.py:1188: UserWarning: categorical_feature in Dataset is overridden.\n",
      "New categorical_feature is ['P_emaildomain', 'R_emaildomain', 'addr1', 'addr2', 'id_13', 'id_15', 'id_30_v', 'id_31_v', 'id_33', 'id_37', 'id_38']\n",
      "  'New categorical_feature is {}'.format(sorted(list(categorical_feature))))\n",
      "C:\\Users\\kimym\\Anaconda3\\lib\\site-packages\\lightgbm\\basic.py:742: UserWarning: categorical_feature in param dict is overridden.\n",
      "  warnings.warn('categorical_feature in param dict is overridden.')\n"
     ]
    },
    {
     "name": "stdout",
     "output_type": "stream",
     "text": [
      "Training until validation scores don't improve for 100 rounds.\n",
      "[500]\ttraining's auc: 0.999622\tvalid_1's auc: 0.979144\n",
      "Early stopping, best iteration is:\n",
      "[899]\ttraining's auc: 1\tvalid_1's auc: 0.98211\n",
      "4 FOLD Score:  0.9821100538022073\n",
      "TYPE [0, 2, 1, 3] - 5 FOLD Start\n"
     ]
    },
    {
     "name": "stderr",
     "output_type": "stream",
     "text": [
      "C:\\Users\\kimym\\Anaconda3\\lib\\site-packages\\lightgbm\\basic.py:1188: UserWarning: categorical_feature in Dataset is overridden.\n",
      "New categorical_feature is ['P_emaildomain', 'R_emaildomain', 'addr1', 'addr2', 'id_13', 'id_15', 'id_30_v', 'id_31_v', 'id_33', 'id_37', 'id_38']\n",
      "  'New categorical_feature is {}'.format(sorted(list(categorical_feature))))\n",
      "C:\\Users\\kimym\\Anaconda3\\lib\\site-packages\\lightgbm\\basic.py:1188: UserWarning: categorical_feature in Dataset is overridden.\n",
      "New categorical_feature is ['P_emaildomain', 'R_emaildomain', 'addr1', 'addr2', 'id_13', 'id_15', 'id_30_v', 'id_31_v', 'id_33', 'id_37', 'id_38']\n",
      "  'New categorical_feature is {}'.format(sorted(list(categorical_feature))))\n",
      "C:\\Users\\kimym\\Anaconda3\\lib\\site-packages\\lightgbm\\basic.py:742: UserWarning: categorical_feature in param dict is overridden.\n",
      "  warnings.warn('categorical_feature in param dict is overridden.')\n"
     ]
    },
    {
     "name": "stdout",
     "output_type": "stream",
     "text": [
      "Training until validation scores don't improve for 100 rounds.\n",
      "[500]\ttraining's auc: 0.999542\tvalid_1's auc: 0.983454\n",
      "[1000]\ttraining's auc: 1\tvalid_1's auc: 0.986625\n",
      "Early stopping, best iteration is:\n",
      "[979]\ttraining's auc: 1\tvalid_1's auc: 0.986586\n",
      "5 FOLD Score:  0.9865858214029484\n",
      "Total CV:  0.98355569236376\n",
      "Total CV2:  0.9835596736929269\n",
      "9\n",
      "(439670, 603)\n",
      "325 ['C1', 'C11', 'C12', 'C13', 'C14', 'C2', 'C5', 'C6', 'C9', 'D1', 'D10', 'D11', 'D15', 'D2', 'D3', 'D4', 'D5', 'M1', 'M2', 'M3', 'M4', 'M5', 'M6', 'M7', 'M8', 'M9', 'P_emaildomain', 'TransactionAmt', 'V1', 'V10', 'V100', 'V101', 'V102', 'V103', 'V104', 'V105', 'V106', 'V107', 'V108', 'V109', 'V11', 'V110', 'V111', 'V112', 'V113', 'V114', 'V115', 'V116', 'V117', 'V118', 'V119', 'V12', 'V120', 'V121', 'V122', 'V123', 'V124', 'V125', 'V126', 'V127', 'V128', 'V129', 'V13', 'V130', 'V131', 'V132', 'V133', 'V134', 'V135', 'V136', 'V137', 'V14', 'V15', 'V16', 'V17', 'V18', 'V19', 'V2', 'V20', 'V21', 'V22', 'V23', 'V24', 'V25', 'V26', 'V27', 'V279', 'V28', 'V280', 'V281', 'V282', 'V283', 'V284', 'V285', 'V286', 'V287', 'V288', 'V289', 'V29', 'V290', 'V291', 'V292', 'V293', 'V294', 'V295', 'V296', 'V297', 'V298', 'V299', 'V3', 'V30', 'V300', 'V301', 'V302', 'V303', 'V304', 'V305', 'V306', 'V307', 'V308', 'V309', 'V31', 'V310', 'V311', 'V312', 'V313', 'V314', 'V315', 'V316', 'V317', 'V318', 'V319', 'V32', 'V320', 'V321', 'V33', 'V34', 'V35', 'V36', 'V37', 'V38', 'V39', 'V4', 'V40', 'V41', 'V42', 'V43', 'V44', 'V45', 'V46', 'V47', 'V48', 'V49', 'V5', 'V50', 'V51', 'V52', 'V53', 'V54', 'V55', 'V56', 'V57', 'V58', 'V59', 'V6', 'V60', 'V61', 'V62', 'V63', 'V64', 'V65', 'V66', 'V67', 'V68', 'V69', 'V7', 'V70', 'V71', 'V72', 'V73', 'V74', 'V75', 'V76', 'V77', 'V78', 'V79', 'V8', 'V80', 'V81', 'V82', 'V83', 'V84', 'V85', 'V86', 'V87', 'V88', 'V89', 'V9', 'V90', 'V91', 'V92', 'V93', 'V94', 'V95', 'V96', 'V97', 'V98', 'V99', 'addr1', 'addr2', 'card1', 'card2', 'card3', 'card4', 'card5', 'card6', 'dist1', 'email_check_nan_all', 'P_emaildomain_Country', 'P_emaildomain_prefix', 'M_not_null', 'M_sum', 'collect_agree_ratio', 'dow', 'day', 'Transaction_hour', 'card1_fq_enc', 'card2_fq_enc', 'card3_fq_enc', 'card5_fq_enc', 'C1_fq_enc', 'C2_fq_enc', 'C5_fq_enc', 'C6_fq_enc', 'C9_fq_enc', 'C11_fq_enc', 'C12_fq_enc', 'C13_fq_enc', 'C14_fq_enc', 'D1_fq_enc', 'D2_fq_enc', 'D3_fq_enc', 'D4_fq_enc', 'D5_fq_enc', 'addr1_fq_enc', 'addr2_fq_enc', 'dist1_fq_enc', 'P_emaildomain_fq_enc', 'card1_TransactionAmt_mean', 'card1_TransactionAmt_std', 'card2_TransactionAmt_mean', 'card2_TransactionAmt_std', 'card3_TransactionAmt_mean', 'card3_TransactionAmt_std', 'card5_TransactionAmt_mean', 'card5_TransactionAmt_std', 'uid_TransactionAmt_mean', 'uid_TransactionAmt_std', 'uid2_TransactionAmt_mean', 'uid2_TransactionAmt_std', 'uid3_TransactionAmt_mean', 'uid3_TransactionAmt_std', 'ymd_TransactionDT_count', 'ymd_TransactionAmt_sum', 'uid2_dayofweek_mean', 'uid2_dayofweek_std', 'TransactionAmt_decimal_count', 'TransactionAmt_decimal', 'account_make_date_D1', 'account_make_date_D2', 'account_make_date_D4', 'account_make_date_D10', 'account_make_date_D15', 'card1_make_date_D1_productCD_Amt_mean', 'card1_make_date_D1_productCD_Amt_std', 'card1_addr1_LDA_0', 'card1_addr1_LDA_1', 'card1_addr1_LDA_2', 'card1_addr1_LDA_3', 'card1_addr1_LDA_4', 'card1_id_20_LDA_0', 'card1_id_20_LDA_1', 'card1_id_20_LDA_2', 'card1_id_20_LDA_3', 'card1_id_20_LDA_4', 'card4_DeviceInfo_c_NMF_0', 'card4_DeviceInfo_c_NMF_1', 'card4_DeviceInfo_c_NMF_2', 'card4_DeviceInfo_c_NMF_3', 'card4_DeviceInfo_c_NMF_4', 'addr1_id_32_combine', 'addr1_id_32_combine_fq_enc_combine', 'addr1_id_32_combine_TransactionAmt_mean', 'addr1_id_32_combine_TransactionAmt_std', 'addr1_id_14_combine', 'addr1_id_14_combine_fq_enc_combine', 'addr1_id_14_combine_TransactionAmt_mean', 'addr1_id_14_combine_TransactionAmt_std', 'addr1_id_19_combine', 'addr1_id_19_combine_fq_enc_combine', 'addr1_id_19_combine_TransactionAmt_mean', 'addr1_id_19_combine_TransactionAmt_std', 'card1_card2_combine', 'card1_card2_combine_fq_enc_combine', 'card1_addr1_combine', 'card1_addr1_combine_fq_enc_combine', 'card1_addr1_combine_TransactionAmt_mean', 'card1_addr1_combine_TransactionAmt_std', 'uid3_next_click', 'card1_make_date_D2_productCD_Amt_mean', 'card1_make_date_D2_productCD_Amt_std', 'card1_addr1_make_date_D1_ProductCD_Amt_mean', 'card1_addr1_make_date_D1_ProductCD_Amt_std', 'ProductCD_Amt_expandmean', 'card1_make_date_D1_ProductCD_dist1_mean', 'card1_make_date_D1_ProductCD_dist1_std', 'card1_addr1_make_date_D1_ProductCD_dist1_mean', 'card1_addr1_make_date_D1_ProductCD_dist1_std', 'card1_card2_make_date_D1_ProductCD_dist1_mean', 'card1_card2_make_date_D1_ProductCD_dist1_std', 'card1_make_date_D1_productCD_hour_mean', 'card1_maked1_pcd', 'card1_maked1_pcd_fq_enc_combine', 'account_make_date_D1_fq_enc_combine', 'M4_target_mean']\n",
      "TYPE [4] - 1 FOLD Start\n"
     ]
    },
    {
     "name": "stderr",
     "output_type": "stream",
     "text": [
      "C:\\Users\\kimym\\Anaconda3\\lib\\site-packages\\lightgbm\\basic.py:1188: UserWarning: categorical_feature in Dataset is overridden.\n",
      "New categorical_feature is ['P_emaildomain', 'addr1', 'addr2']\n",
      "  'New categorical_feature is {}'.format(sorted(list(categorical_feature))))\n",
      "C:\\Users\\kimym\\Anaconda3\\lib\\site-packages\\lightgbm\\basic.py:1188: UserWarning: categorical_feature in Dataset is overridden.\n",
      "New categorical_feature is ['P_emaildomain', 'addr1', 'addr2']\n",
      "  'New categorical_feature is {}'.format(sorted(list(categorical_feature))))\n",
      "C:\\Users\\kimym\\Anaconda3\\lib\\site-packages\\lightgbm\\basic.py:742: UserWarning: categorical_feature in param dict is overridden.\n",
      "  warnings.warn('categorical_feature in param dict is overridden.')\n"
     ]
    },
    {
     "name": "stdout",
     "output_type": "stream",
     "text": [
      "Training until validation scores don't improve for 100 rounds.\n",
      "[500]\ttraining's auc: 0.999874\tvalid_1's auc: 0.970336\n",
      "[1000]\ttraining's auc: 1\tvalid_1's auc: 0.975696\n",
      "Early stopping, best iteration is:\n",
      "[1037]\ttraining's auc: 1\tvalid_1's auc: 0.975809\n",
      "1 FOLD Score:  0.9758089188169192\n",
      "TYPE [4] - 2 FOLD Start\n"
     ]
    },
    {
     "name": "stderr",
     "output_type": "stream",
     "text": [
      "C:\\Users\\kimym\\Anaconda3\\lib\\site-packages\\lightgbm\\basic.py:1188: UserWarning: categorical_feature in Dataset is overridden.\n",
      "New categorical_feature is ['P_emaildomain', 'addr1', 'addr2']\n",
      "  'New categorical_feature is {}'.format(sorted(list(categorical_feature))))\n",
      "C:\\Users\\kimym\\Anaconda3\\lib\\site-packages\\lightgbm\\basic.py:1188: UserWarning: categorical_feature in Dataset is overridden.\n",
      "New categorical_feature is ['P_emaildomain', 'addr1', 'addr2']\n",
      "  'New categorical_feature is {}'.format(sorted(list(categorical_feature))))\n",
      "C:\\Users\\kimym\\Anaconda3\\lib\\site-packages\\lightgbm\\basic.py:742: UserWarning: categorical_feature in param dict is overridden.\n",
      "  warnings.warn('categorical_feature in param dict is overridden.')\n"
     ]
    },
    {
     "name": "stdout",
     "output_type": "stream",
     "text": [
      "Training until validation scores don't improve for 100 rounds.\n",
      "[500]\ttraining's auc: 0.999889\tvalid_1's auc: 0.97379\n",
      "[1000]\ttraining's auc: 1\tvalid_1's auc: 0.979543\n",
      "Early stopping, best iteration is:\n",
      "[1034]\ttraining's auc: 1\tvalid_1's auc: 0.979659\n",
      "2 FOLD Score:  0.9796591468245803\n",
      "TYPE [4] - 3 FOLD Start\n"
     ]
    },
    {
     "name": "stderr",
     "output_type": "stream",
     "text": [
      "C:\\Users\\kimym\\Anaconda3\\lib\\site-packages\\lightgbm\\basic.py:1188: UserWarning: categorical_feature in Dataset is overridden.\n",
      "New categorical_feature is ['P_emaildomain', 'addr1', 'addr2']\n",
      "  'New categorical_feature is {}'.format(sorted(list(categorical_feature))))\n",
      "C:\\Users\\kimym\\Anaconda3\\lib\\site-packages\\lightgbm\\basic.py:1188: UserWarning: categorical_feature in Dataset is overridden.\n",
      "New categorical_feature is ['P_emaildomain', 'addr1', 'addr2']\n",
      "  'New categorical_feature is {}'.format(sorted(list(categorical_feature))))\n",
      "C:\\Users\\kimym\\Anaconda3\\lib\\site-packages\\lightgbm\\basic.py:742: UserWarning: categorical_feature in param dict is overridden.\n",
      "  warnings.warn('categorical_feature in param dict is overridden.')\n"
     ]
    },
    {
     "name": "stdout",
     "output_type": "stream",
     "text": [
      "Training until validation scores don't improve for 100 rounds.\n",
      "[500]\ttraining's auc: 0.999871\tvalid_1's auc: 0.971222\n",
      "[1000]\ttraining's auc: 1\tvalid_1's auc: 0.975866\n",
      "Early stopping, best iteration is:\n",
      "[1091]\ttraining's auc: 1\tvalid_1's auc: 0.976128\n",
      "3 FOLD Score:  0.9761278857186935\n",
      "TYPE [4] - 4 FOLD Start\n"
     ]
    },
    {
     "name": "stderr",
     "output_type": "stream",
     "text": [
      "C:\\Users\\kimym\\Anaconda3\\lib\\site-packages\\lightgbm\\basic.py:1188: UserWarning: categorical_feature in Dataset is overridden.\n",
      "New categorical_feature is ['P_emaildomain', 'addr1', 'addr2']\n",
      "  'New categorical_feature is {}'.format(sorted(list(categorical_feature))))\n",
      "C:\\Users\\kimym\\Anaconda3\\lib\\site-packages\\lightgbm\\basic.py:1188: UserWarning: categorical_feature in Dataset is overridden.\n",
      "New categorical_feature is ['P_emaildomain', 'addr1', 'addr2']\n",
      "  'New categorical_feature is {}'.format(sorted(list(categorical_feature))))\n",
      "C:\\Users\\kimym\\Anaconda3\\lib\\site-packages\\lightgbm\\basic.py:742: UserWarning: categorical_feature in param dict is overridden.\n",
      "  warnings.warn('categorical_feature in param dict is overridden.')\n"
     ]
    },
    {
     "name": "stdout",
     "output_type": "stream",
     "text": [
      "Training until validation scores don't improve for 100 rounds.\n",
      "[500]\ttraining's auc: 0.99991\tvalid_1's auc: 0.970584\n",
      "[1000]\ttraining's auc: 1\tvalid_1's auc: 0.976401\n",
      "Early stopping, best iteration is:\n",
      "[1054]\ttraining's auc: 1\tvalid_1's auc: 0.976469\n",
      "4 FOLD Score:  0.9764688243115678\n",
      "TYPE [4] - 5 FOLD Start\n"
     ]
    },
    {
     "name": "stderr",
     "output_type": "stream",
     "text": [
      "C:\\Users\\kimym\\Anaconda3\\lib\\site-packages\\lightgbm\\basic.py:1188: UserWarning: categorical_feature in Dataset is overridden.\n",
      "New categorical_feature is ['P_emaildomain', 'addr1', 'addr2']\n",
      "  'New categorical_feature is {}'.format(sorted(list(categorical_feature))))\n",
      "C:\\Users\\kimym\\Anaconda3\\lib\\site-packages\\lightgbm\\basic.py:1188: UserWarning: categorical_feature in Dataset is overridden.\n",
      "New categorical_feature is ['P_emaildomain', 'addr1', 'addr2']\n",
      "  'New categorical_feature is {}'.format(sorted(list(categorical_feature))))\n",
      "C:\\Users\\kimym\\Anaconda3\\lib\\site-packages\\lightgbm\\basic.py:742: UserWarning: categorical_feature in param dict is overridden.\n",
      "  warnings.warn('categorical_feature in param dict is overridden.')\n"
     ]
    },
    {
     "name": "stdout",
     "output_type": "stream",
     "text": [
      "Training until validation scores don't improve for 100 rounds.\n",
      "[500]\ttraining's auc: 0.999882\tvalid_1's auc: 0.971274\n",
      "[1000]\ttraining's auc: 1\tvalid_1's auc: 0.977302\n",
      "Early stopping, best iteration is:\n",
      "[1090]\ttraining's auc: 1\tvalid_1's auc: 0.977758\n",
      "5 FOLD Score:  0.9777578193762575\n",
      "Total CV:  0.9771645190096037\n",
      "Total CV2:  0.9771190932632602\n",
      "(150870, 603)\n",
      "561 ['C1', 'C10', 'C11', 'C12', 'C13', 'C14', 'C2', 'C3', 'C4', 'C6', 'C7', 'C8', 'D1', 'D10', 'D12', 'D13', 'D14', 'D15', 'D2', 'D3', 'D4', 'D5', 'D6', 'D7', 'D8', 'D9', 'DeviceInfo', 'DeviceType', 'M4', 'P_emaildomain', 'ProductCD', 'R_emaildomain', 'TransactionAmt', 'V100', 'V101', 'V102', 'V103', 'V104', 'V105', 'V106', 'V107', 'V108', 'V109', 'V110', 'V111', 'V112', 'V113', 'V114', 'V115', 'V116', 'V117', 'V118', 'V119', 'V12', 'V120', 'V121', 'V122', 'V123', 'V124', 'V125', 'V126', 'V127', 'V128', 'V129', 'V13', 'V130', 'V131', 'V132', 'V133', 'V134', 'V135', 'V136', 'V137', 'V138', 'V139', 'V14', 'V140', 'V141', 'V142', 'V143', 'V144', 'V145', 'V146', 'V147', 'V148', 'V149', 'V15', 'V150', 'V151', 'V152', 'V153', 'V154', 'V155', 'V156', 'V157', 'V158', 'V159', 'V16', 'V160', 'V161', 'V162', 'V163', 'V164', 'V165', 'V166', 'V167', 'V168', 'V169', 'V17', 'V170', 'V171', 'V172', 'V173', 'V174', 'V175', 'V176', 'V177', 'V178', 'V179', 'V18', 'V180', 'V181', 'V182', 'V183', 'V184', 'V185', 'V186', 'V187', 'V188', 'V189', 'V19', 'V190', 'V191', 'V192', 'V193', 'V194', 'V195', 'V196', 'V197', 'V198', 'V199', 'V20', 'V200', 'V201', 'V202', 'V203', 'V204', 'V205', 'V206', 'V207', 'V208', 'V209', 'V21', 'V210', 'V211', 'V212', 'V213', 'V214', 'V215', 'V216', 'V217', 'V218', 'V219', 'V22', 'V220', 'V221', 'V222', 'V223', 'V224', 'V225', 'V226', 'V227', 'V228', 'V229', 'V23', 'V230', 'V231', 'V232', 'V233', 'V234', 'V235', 'V236', 'V237', 'V238', 'V239', 'V24', 'V240', 'V241', 'V242', 'V243', 'V244', 'V245', 'V246', 'V247', 'V248', 'V249', 'V25', 'V250', 'V251', 'V252', 'V253', 'V254', 'V255', 'V256', 'V257', 'V258', 'V259', 'V26', 'V260', 'V261', 'V262', 'V263', 'V264', 'V265', 'V266', 'V267', 'V268', 'V269', 'V27', 'V270', 'V271', 'V272', 'V273', 'V274', 'V275', 'V276', 'V277', 'V278', 'V279', 'V28', 'V280', 'V281', 'V282', 'V283', 'V284', 'V285', 'V286', 'V287', 'V288', 'V289', 'V29', 'V290', 'V291', 'V292', 'V293', 'V294', 'V295', 'V296', 'V297', 'V298', 'V299', 'V30', 'V300', 'V301', 'V302', 'V303', 'V304', 'V305', 'V306', 'V307', 'V308', 'V309', 'V31', 'V310', 'V311', 'V312', 'V313', 'V314', 'V315', 'V316', 'V317', 'V318', 'V319', 'V32', 'V320', 'V321', 'V322', 'V323', 'V324', 'V325', 'V326', 'V327', 'V328', 'V329', 'V33', 'V330', 'V331', 'V332', 'V333', 'V334', 'V335', 'V336', 'V337', 'V338', 'V339', 'V34', 'V35', 'V36', 'V37', 'V38', 'V39', 'V40', 'V41', 'V42', 'V43', 'V44', 'V45', 'V46', 'V47', 'V48', 'V49', 'V50', 'V51', 'V52', 'V53', 'V54', 'V55', 'V56', 'V57', 'V58', 'V59', 'V60', 'V61', 'V62', 'V63', 'V64', 'V65', 'V66', 'V67', 'V68', 'V69', 'V70', 'V71', 'V72', 'V73', 'V74', 'V75', 'V76', 'V77', 'V78', 'V79', 'V80', 'V81', 'V82', 'V83', 'V84', 'V85', 'V86', 'V87', 'V88', 'V89', 'V90', 'V91', 'V92', 'V93', 'V94', 'V95', 'V96', 'V97', 'V98', 'V99', 'addr1', 'addr2', 'card1', 'card2', 'card3', 'card4', 'card5', 'card6', 'dist2', 'id_01', 'id_02', 'id_03', 'id_04', 'id_05', 'id_06', 'id_07', 'id_08', 'id_09', 'id_10', 'id_11', 'id_12', 'id_13', 'id_14', 'id_15', 'id_16', 'id_17', 'id_18', 'id_19', 'id_20', 'id_21', 'id_22', 'id_23', 'id_24', 'id_25', 'id_26', 'id_27', 'id_28', 'id_29', 'id_30', 'id_31', 'id_32', 'id_33', 'id_34', 'id_35', 'id_36', 'id_37', 'id_38', 'email_check', 'email_check_nan_all', 'email_check_nan_any', 'P_emaildomain_Country', 'R_emaildomain_Country', 'P_emaildomain_prefix', 'R_emaildomain_prefix', 'DeviceInfo_c', 'id_30_c', 'id_30_v', 'id_31_c', 'is_mobile_browser', 'id_31_v', 'dow', 'day', 'Transaction_hour', 'card1_fq_enc', 'card2_fq_enc', 'card3_fq_enc', 'card5_fq_enc', 'C1_fq_enc', 'C2_fq_enc', 'C3_fq_enc', 'C4_fq_enc', 'C6_fq_enc', 'C7_fq_enc', 'C8_fq_enc', 'C10_fq_enc', 'C11_fq_enc', 'C12_fq_enc', 'C13_fq_enc', 'C14_fq_enc', 'D1_fq_enc', 'D2_fq_enc', 'D3_fq_enc', 'D4_fq_enc', 'D5_fq_enc', 'D6_fq_enc', 'D7_fq_enc', 'D8_fq_enc', 'D9_fq_enc', 'addr1_fq_enc', 'addr2_fq_enc', 'dist2_fq_enc', 'P_emaildomain_fq_enc', 'R_emaildomain_fq_enc', 'id_01_fq_enc', 'id_02_fq_enc', 'id_03_fq_enc', 'id_04_fq_enc', 'id_05_fq_enc', 'id_06_fq_enc', 'id_07_fq_enc', 'id_08_fq_enc', 'id_09_fq_enc', 'id_10_fq_enc', 'id_11_fq_enc', 'id_13_fq_enc', 'id_14_fq_enc', 'id_17_fq_enc', 'id_18_fq_enc', 'id_19_fq_enc', 'id_20_fq_enc', 'id_21_fq_enc', 'id_22_fq_enc', 'id_24_fq_enc', 'id_25_fq_enc', 'id_26_fq_enc', 'id_30_fq_enc', 'id_31_fq_enc', 'id_32_fq_enc', 'id_33_fq_enc', 'DeviceInfo_fq_enc', 'DeviceInfo_c_fq_enc', 'id_30_c_fq_enc', 'id_30_v_fq_enc', 'id_31_v_fq_enc', 'card1_TransactionAmt_mean', 'card1_TransactionAmt_std', 'card2_TransactionAmt_mean', 'card2_TransactionAmt_std', 'card3_TransactionAmt_mean', 'card3_TransactionAmt_std', 'card5_TransactionAmt_mean', 'card5_TransactionAmt_std', 'uid_TransactionAmt_mean', 'uid_TransactionAmt_std', 'uid2_TransactionAmt_mean', 'uid2_TransactionAmt_std', 'uid3_TransactionAmt_mean', 'uid3_TransactionAmt_std', 'ymd_TransactionDT_count', 'ymd_TransactionAmt_sum', 'uid2_dayofweek_mean', 'uid2_dayofweek_std', 'TransactionAmt_decimal_count', 'TransactionAmt_decimal', 'account_make_date_D1', 'account_make_date_D2', 'account_make_date_D4', 'account_make_date_D8', 'account_make_date_D10', 'account_make_date_D15', 'card1_make_date_D1_productCD_Amt_mean', 'card1_make_date_D1_productCD_Amt_std', 'card1_addr1_LDA_0', 'card1_addr1_LDA_1', 'card1_addr1_LDA_2', 'card1_addr1_LDA_3', 'card1_addr1_LDA_4', 'card1_id_20_LDA_0', 'card1_id_20_LDA_1', 'card1_id_20_LDA_2', 'card1_id_20_LDA_3', 'card1_id_20_LDA_4', 'card4_DeviceInfo_c_NMF_0', 'card4_DeviceInfo_c_NMF_1', 'card4_DeviceInfo_c_NMF_2', 'card4_DeviceInfo_c_NMF_3', 'card4_DeviceInfo_c_NMF_4', 'addr1_id_32_combine', 'addr1_id_32_combine_fq_enc_combine', 'addr1_id_32_combine_TransactionAmt_mean', 'addr1_id_32_combine_TransactionAmt_std', 'addr1_id_14_combine', 'addr1_id_14_combine_fq_enc_combine', 'addr1_id_14_combine_TransactionAmt_mean', 'addr1_id_14_combine_TransactionAmt_std', 'addr1_id_19_combine', 'addr1_id_19_combine_fq_enc_combine', 'addr1_id_19_combine_TransactionAmt_mean', 'addr1_id_19_combine_TransactionAmt_std', 'card1_card2_combine', 'card1_card2_combine_fq_enc_combine', 'card1_addr1_combine', 'card1_addr1_combine_fq_enc_combine', 'card1_addr1_combine_TransactionAmt_mean', 'card1_addr1_combine_TransactionAmt_std', 'uid3_next_click', 'card1_make_date_D2_productCD_Amt_mean', 'card1_make_date_D2_productCD_Amt_std', 'card1_addr1_make_date_D1_ProductCD_Amt_mean', 'card1_addr1_make_date_D1_ProductCD_Amt_std', 'card1_id_20_make_date_D1_ProductCD_Amt_mean', 'card1_id_20_make_date_D1_ProductCD_Amt_std', 'ProductCD_Amt_expandmean', 'id_02_ProductCD_amt_mean', 'card1_make_date_D1_productCD_hour_mean', 'card1_maked1_pcd', 'card1_maked1_pcd_fq_enc_combine', 'account_make_date_D1_fq_enc_combine', 'ProductCD_target_mean', 'M4_target_mean']\n",
      "TYPE [0, 2, 1, 3] - 1 FOLD Start\n"
     ]
    },
    {
     "name": "stderr",
     "output_type": "stream",
     "text": [
      "C:\\Users\\kimym\\Anaconda3\\lib\\site-packages\\lightgbm\\basic.py:1188: UserWarning: categorical_feature in Dataset is overridden.\n",
      "New categorical_feature is ['P_emaildomain', 'R_emaildomain', 'addr1', 'addr2', 'id_13', 'id_15', 'id_30_v', 'id_31_v', 'id_33', 'id_37', 'id_38']\n",
      "  'New categorical_feature is {}'.format(sorted(list(categorical_feature))))\n",
      "C:\\Users\\kimym\\Anaconda3\\lib\\site-packages\\lightgbm\\basic.py:1188: UserWarning: categorical_feature in Dataset is overridden.\n",
      "New categorical_feature is ['P_emaildomain', 'R_emaildomain', 'addr1', 'addr2', 'id_13', 'id_15', 'id_30_v', 'id_31_v', 'id_33', 'id_37', 'id_38']\n",
      "  'New categorical_feature is {}'.format(sorted(list(categorical_feature))))\n",
      "C:\\Users\\kimym\\Anaconda3\\lib\\site-packages\\lightgbm\\basic.py:742: UserWarning: categorical_feature in param dict is overridden.\n",
      "  warnings.warn('categorical_feature in param dict is overridden.')\n"
     ]
    },
    {
     "name": "stdout",
     "output_type": "stream",
     "text": [
      "Training until validation scores don't improve for 100 rounds.\n",
      "[500]\ttraining's auc: 0.999557\tvalid_1's auc: 0.975507\n",
      "[1000]\ttraining's auc: 1\tvalid_1's auc: 0.979722\n",
      "Early stopping, best iteration is:\n",
      "[976]\ttraining's auc: 1\tvalid_1's auc: 0.979617\n",
      "1 FOLD Score:  0.9796166252209162\n",
      "TYPE [0, 2, 1, 3] - 2 FOLD Start\n"
     ]
    },
    {
     "name": "stderr",
     "output_type": "stream",
     "text": [
      "C:\\Users\\kimym\\Anaconda3\\lib\\site-packages\\lightgbm\\basic.py:1188: UserWarning: categorical_feature in Dataset is overridden.\n",
      "New categorical_feature is ['P_emaildomain', 'R_emaildomain', 'addr1', 'addr2', 'id_13', 'id_15', 'id_30_v', 'id_31_v', 'id_33', 'id_37', 'id_38']\n",
      "  'New categorical_feature is {}'.format(sorted(list(categorical_feature))))\n",
      "C:\\Users\\kimym\\Anaconda3\\lib\\site-packages\\lightgbm\\basic.py:1188: UserWarning: categorical_feature in Dataset is overridden.\n",
      "New categorical_feature is ['P_emaildomain', 'R_emaildomain', 'addr1', 'addr2', 'id_13', 'id_15', 'id_30_v', 'id_31_v', 'id_33', 'id_37', 'id_38']\n",
      "  'New categorical_feature is {}'.format(sorted(list(categorical_feature))))\n",
      "C:\\Users\\kimym\\Anaconda3\\lib\\site-packages\\lightgbm\\basic.py:742: UserWarning: categorical_feature in param dict is overridden.\n",
      "  warnings.warn('categorical_feature in param dict is overridden.')\n"
     ]
    },
    {
     "name": "stdout",
     "output_type": "stream",
     "text": [
      "Training until validation scores don't improve for 100 rounds.\n",
      "[500]\ttraining's auc: 0.999565\tvalid_1's auc: 0.981168\n",
      "[1000]\ttraining's auc: 1\tvalid_1's auc: 0.984575\n",
      "Early stopping, best iteration is:\n",
      "[935]\ttraining's auc: 1\tvalid_1's auc: 0.984395\n",
      "2 FOLD Score:  0.9843954015651231\n",
      "TYPE [0, 2, 1, 3] - 3 FOLD Start\n"
     ]
    },
    {
     "name": "stderr",
     "output_type": "stream",
     "text": [
      "C:\\Users\\kimym\\Anaconda3\\lib\\site-packages\\lightgbm\\basic.py:1188: UserWarning: categorical_feature in Dataset is overridden.\n",
      "New categorical_feature is ['P_emaildomain', 'R_emaildomain', 'addr1', 'addr2', 'id_13', 'id_15', 'id_30_v', 'id_31_v', 'id_33', 'id_37', 'id_38']\n",
      "  'New categorical_feature is {}'.format(sorted(list(categorical_feature))))\n",
      "C:\\Users\\kimym\\Anaconda3\\lib\\site-packages\\lightgbm\\basic.py:1188: UserWarning: categorical_feature in Dataset is overridden.\n",
      "New categorical_feature is ['P_emaildomain', 'R_emaildomain', 'addr1', 'addr2', 'id_13', 'id_15', 'id_30_v', 'id_31_v', 'id_33', 'id_37', 'id_38']\n",
      "  'New categorical_feature is {}'.format(sorted(list(categorical_feature))))\n",
      "C:\\Users\\kimym\\Anaconda3\\lib\\site-packages\\lightgbm\\basic.py:742: UserWarning: categorical_feature in param dict is overridden.\n",
      "  warnings.warn('categorical_feature in param dict is overridden.')\n"
     ]
    },
    {
     "name": "stdout",
     "output_type": "stream",
     "text": [
      "Training until validation scores don't improve for 100 rounds.\n",
      "[500]\ttraining's auc: 0.99958\tvalid_1's auc: 0.98122\n",
      "[1000]\ttraining's auc: 1\tvalid_1's auc: 0.984818\n",
      "Early stopping, best iteration is:\n",
      "[981]\ttraining's auc: 1\tvalid_1's auc: 0.984765\n",
      "3 FOLD Score:  0.9847653363784157\n",
      "TYPE [0, 2, 1, 3] - 4 FOLD Start\n"
     ]
    },
    {
     "name": "stderr",
     "output_type": "stream",
     "text": [
      "C:\\Users\\kimym\\Anaconda3\\lib\\site-packages\\lightgbm\\basic.py:1188: UserWarning: categorical_feature in Dataset is overridden.\n",
      "New categorical_feature is ['P_emaildomain', 'R_emaildomain', 'addr1', 'addr2', 'id_13', 'id_15', 'id_30_v', 'id_31_v', 'id_33', 'id_37', 'id_38']\n",
      "  'New categorical_feature is {}'.format(sorted(list(categorical_feature))))\n",
      "C:\\Users\\kimym\\Anaconda3\\lib\\site-packages\\lightgbm\\basic.py:1188: UserWarning: categorical_feature in Dataset is overridden.\n",
      "New categorical_feature is ['P_emaildomain', 'R_emaildomain', 'addr1', 'addr2', 'id_13', 'id_15', 'id_30_v', 'id_31_v', 'id_33', 'id_37', 'id_38']\n",
      "  'New categorical_feature is {}'.format(sorted(list(categorical_feature))))\n",
      "C:\\Users\\kimym\\Anaconda3\\lib\\site-packages\\lightgbm\\basic.py:742: UserWarning: categorical_feature in param dict is overridden.\n",
      "  warnings.warn('categorical_feature in param dict is overridden.')\n"
     ]
    },
    {
     "name": "stdout",
     "output_type": "stream",
     "text": [
      "Training until validation scores don't improve for 100 rounds.\n",
      "[500]\ttraining's auc: 0.999602\tvalid_1's auc: 0.979198\n",
      "Early stopping, best iteration is:\n",
      "[891]\ttraining's auc: 1\tvalid_1's auc: 0.982403\n",
      "4 FOLD Score:  0.9824032369334561\n",
      "TYPE [0, 2, 1, 3] - 5 FOLD Start\n"
     ]
    },
    {
     "name": "stderr",
     "output_type": "stream",
     "text": [
      "C:\\Users\\kimym\\Anaconda3\\lib\\site-packages\\lightgbm\\basic.py:1188: UserWarning: categorical_feature in Dataset is overridden.\n",
      "New categorical_feature is ['P_emaildomain', 'R_emaildomain', 'addr1', 'addr2', 'id_13', 'id_15', 'id_30_v', 'id_31_v', 'id_33', 'id_37', 'id_38']\n",
      "  'New categorical_feature is {}'.format(sorted(list(categorical_feature))))\n",
      "C:\\Users\\kimym\\Anaconda3\\lib\\site-packages\\lightgbm\\basic.py:1188: UserWarning: categorical_feature in Dataset is overridden.\n",
      "New categorical_feature is ['P_emaildomain', 'R_emaildomain', 'addr1', 'addr2', 'id_13', 'id_15', 'id_30_v', 'id_31_v', 'id_33', 'id_37', 'id_38']\n",
      "  'New categorical_feature is {}'.format(sorted(list(categorical_feature))))\n",
      "C:\\Users\\kimym\\Anaconda3\\lib\\site-packages\\lightgbm\\basic.py:742: UserWarning: categorical_feature in param dict is overridden.\n",
      "  warnings.warn('categorical_feature in param dict is overridden.')\n"
     ]
    },
    {
     "name": "stdout",
     "output_type": "stream",
     "text": [
      "Training until validation scores don't improve for 100 rounds.\n",
      "[500]\ttraining's auc: 0.999549\tvalid_1's auc: 0.983447\n",
      "[1000]\ttraining's auc: 1\tvalid_1's auc: 0.986567\n",
      "Early stopping, best iteration is:\n",
      "[972]\ttraining's auc: 1\tvalid_1's auc: 0.986501\n",
      "5 FOLD Score:  0.9865009235807427\n",
      "Total CV:  0.9835363047357308\n",
      "Total CV2:  0.9834792404775533\n"
     ]
    }
   ],
   "source": [
    "#must_del_col_list = ['DT_M','card1_addr1_maked1_pcd','card1_addr1_maked1_pcd_fq_enc_combine','C13_over_cf_sum','TransactionID','isFraud','TransactionDT','bank_type','uid','uid2','uid3','ymd','ym','is_D_max','addr1_null'] + delete_v_feature #+ M_feature\n",
    "\n",
    "debug = False\n",
    "oof_train = np.zeros(len(x_train))\n",
    "oof_test = np.zeros(len(x_test))\n",
    "NFOLD =5\n",
    "SEED = 42\n",
    "\n",
    "w_type = [x_train['ProductCD'].value_counts().index[0]]\n",
    "other_type = list(x_train['ProductCD'].value_counts().index[1:].values)\n",
    "product_type = list()\n",
    "product_type.append(w_type)\n",
    "product_type.append(other_type)\n",
    "\n",
    "for seed in range(10):\n",
    "    print(seed)\n",
    "    param['seed'] = seed\n",
    "    feature_importance_df = pd.DataFrame()\n",
    "    cv_list ={}\n",
    "    for p_type in product_type:\n",
    "        x_train_type = x_train.loc[x_train['ProductCD'].isin(p_type)]\n",
    "        y_train_type = x_train_type['isFraud']\n",
    "        x_test_type = x_test.loc[x_test['ProductCD'].isin(p_type)]\n",
    "\n",
    "        category_feature = category_feature_dict[str(p_type)].copy()\n",
    "        must_del_col_list = delete_feature_dict[str(p_type)].copy()\n",
    "        #param = org_param.copy()#lgbm_param_dict[str(p_type)]\n",
    "\n",
    "        #must_del_col_list_temp = must_del_col_list.copy()\n",
    "        #must_del_col_list_temp = must_del_col_list_temp + cat_combinefeature_dict[str(p_type)] \n",
    "        train_columns, _ = get_train_column(x_train_type, must_del_col_list)\n",
    "        print(x_train_type.shape)\n",
    "        print(len(train_columns), train_columns)\n",
    "        kfold = StratifiedKFold(n_splits=NFOLD, shuffle=True, random_state=SEED)\n",
    "        #split_groups = x_train_type['DT_M']\n",
    "        #kfold = GroupKFold(n_splits=6)\n",
    "        oof_train_type = np.zeros((x_train_type.shape[0],))\n",
    "        oof_test_type = np.zeros((x_test_type.shape[0],))\n",
    "        feature_importance_type = pd.DataFrame()\n",
    "        type_score = 0\n",
    "        for i, (train_index, cross_index) in enumerate(kfold.split(x_train_type,y_train_type),1):\n",
    "            print(f\"TYPE {p_type} - {i} FOLD Start\")\n",
    "            x_tr = x_train_type.iloc[train_index][train_columns]\n",
    "            x_cr = x_train_type.iloc[cross_index][train_columns]\n",
    "            y_tr = y_train_type.iloc[train_index]\n",
    "            y_cr = y_train_type.iloc[cross_index]\n",
    "            dtrain = lgb.Dataset(x_tr, label=y_tr, silent=True)\n",
    "            dcross = lgb.Dataset(x_cr, label=y_cr, silent=True)\n",
    "\n",
    "            clf = lgb.train(param, train_set=dtrain, num_boost_round=15000, valid_sets=[dtrain, dcross], \n",
    "                             early_stopping_rounds=100, verbose_eval=500, categorical_feature=category_feature)\n",
    "\n",
    "            oof_train_type[cross_index] = clf.predict(x_cr)\n",
    "            oof_test_type += clf.predict(x_test_type[train_columns])/NFOLD\n",
    "\n",
    "            feature_importance = pd.DataFrame()\n",
    "            feature_importance[\"Feature\"] = x_tr.columns\n",
    "            feature_importance[\"Importance\"] = clf.feature_importance()\n",
    "            feature_importance[\"FOLD\"] = i\n",
    "            feature_importance_type = pd.concat([feature_importance_type, feature_importance])\n",
    "            cv_score = roc_auc_score(y_cr, oof_train_type[cross_index])\n",
    "            type_score += cv_score / NFOLD\n",
    "            print(f\"{i} FOLD Score: \", cv_score)\n",
    "            if debug is True:\n",
    "                break\n",
    "\n",
    "        print(\"Total CV: \", type_score)\n",
    "        print(\"Total CV2: \", roc_auc_score(y_train_type, oof_train_type))\n",
    "        cv_list[str(p_type)] = roc_auc_score(y_train_type, oof_train_type)\n",
    "        oof_train[x_train_type.index] = oof_train_type\n",
    "        oof_test[x_test_type.index] = oof_test_type\n",
    "        feature_importance_type[\"TYPE\"] = str(p_type)\n",
    "        feature_importance_df = pd.concat([feature_importance_df, feature_importance_type])\n",
    "    pd.DataFrame(oof_train,columns=[f'train_seed_{seed}']).to_csv(f'../oof/goss_oof_train_seed_{seed}.csv',index=False)\n",
    "    pd.DataFrame(oof_test,columns=[f'test_seed_{seed}']).to_csv(f'../oof/goss_oof_test_seed_{seed}.csv',index=False)"
   ]
  },
  {
   "cell_type": "markdown",
   "metadata": {},
   "source": [
    "Total CV2:  0.974203181381347, Total CV2:  0.9831092711580688"
   ]
  }
 ],
 "metadata": {
  "kernelspec": {
   "display_name": "Python 3",
   "language": "python",
   "name": "python3"
  },
  "language_info": {
   "codemirror_mode": {
    "name": "ipython",
    "version": 3
   },
   "file_extension": ".py",
   "mimetype": "text/x-python",
   "name": "python",
   "nbconvert_exporter": "python",
   "pygments_lexer": "ipython3",
   "version": "3.6.8"
  },
  "latex_envs": {
   "LaTeX_envs_menu_present": true,
   "autoclose": false,
   "autocomplete": true,
   "bibliofile": "biblio.bib",
   "cite_by": "apalike",
   "current_citInitial": 1,
   "eqLabelWithNumbers": true,
   "eqNumInitial": 1,
   "hotkeys": {
    "equation": "Ctrl-E",
    "itemize": "Ctrl-I"
   },
   "labels_anchors": false,
   "latex_user_defs": false,
   "report_style_numbering": false,
   "user_envs_cfg": false
  },
  "varInspector": {
   "cols": {
    "lenName": 16,
    "lenType": 16,
    "lenVar": 40
   },
   "kernels_config": {
    "python": {
     "delete_cmd_postfix": "",
     "delete_cmd_prefix": "del ",
     "library": "var_list.py",
     "varRefreshCmd": "print(var_dic_list())"
    },
    "r": {
     "delete_cmd_postfix": ") ",
     "delete_cmd_prefix": "rm(",
     "library": "var_list.r",
     "varRefreshCmd": "cat(var_dic_list()) "
    }
   },
   "types_to_exclude": [
    "module",
    "function",
    "builtin_function_or_method",
    "instance",
    "_Feature"
   ],
   "window_display": false
  }
 },
 "nbformat": 4,
 "nbformat_minor": 2
}
